{
 "cells": [
  {
   "cell_type": "markdown",
   "id": "70af3dbf-847e-4db8-aeed-ca5b70537de1",
   "metadata": {},
   "source": [
    "# Chapter 1: Introduction"
   ]
  },
  {
   "cell_type": "markdown",
   "id": "22328350-a1e2-4230-af76-be33edf7b112",
   "metadata": {},
   "source": [
    "## Bài 1"
   ]
  },
  {
   "cell_type": "code",
   "execution_count": 7,
   "id": "191327d8-fe28-42d4-b16e-7fb706b3e842",
   "metadata": {},
   "outputs": [
    {
     "data": {
      "text/plain": [
       "3"
      ]
     },
     "execution_count": 7,
     "metadata": {},
     "output_type": "execute_result"
    }
   ],
   "source": [
    "2+1"
   ]
  },
  {
   "cell_type": "code",
   "execution_count": 2,
   "id": "47f5c180-fbab-4090-9f46-488928a6eb38",
   "metadata": {},
   "outputs": [
    {
     "name": "stdout",
     "output_type": "stream",
     "text": [
      "4\n"
     ]
    }
   ],
   "source": [
    "x = 4\n",
    "print (x)"
   ]
  },
  {
   "cell_type": "code",
   "execution_count": 4,
   "id": "7a27e662-251d-4c76-8896-15ddec655a7e",
   "metadata": {},
   "outputs": [
    {
     "name": "stdout",
     "output_type": "stream",
     "text": [
      "4\n"
     ]
    }
   ],
   "source": [
    "x = 4;\n",
    "y = x;\n",
    "print (y)"
   ]
  },
  {
   "cell_type": "code",
   "execution_count": 5,
   "id": "9617a2f7-54d1-45f7-b536-cf347526b8dd",
   "metadata": {},
   "outputs": [
    {
     "name": "stdout",
     "output_type": "stream",
     "text": [
      "0\n"
     ]
    }
   ],
   "source": [
    "y = 0;\n",
    "print (y)"
   ]
  },
  {
   "cell_type": "code",
   "execution_count": 6,
   "id": "cb27a132-2ce5-4993-b7f5-0247a27933d4",
   "metadata": {},
   "outputs": [
    {
     "name": "stdout",
     "output_type": "stream",
     "text": [
      "4\n"
     ]
    }
   ],
   "source": [
    "print (x)"
   ]
  },
  {
   "cell_type": "markdown",
   "id": "75aeaa6e-9c04-469c-9f0c-05f13406ebc1",
   "metadata": {},
   "source": [
    "## Bài 2: Import pandas"
   ]
  },
  {
   "cell_type": "code",
   "execution_count": 12,
   "id": "90a7a8e4-6951-4a08-b008-f60a7307fd55",
   "metadata": {},
   "outputs": [
    {
     "name": "stdout",
     "output_type": "stream",
     "text": [
      "0    1\n",
      "1    5\n",
      "2    4\n",
      "dtype: int64\n"
     ]
    }
   ],
   "source": [
    "import pandas as pd\n",
    "\n",
    "x = pd.Series([1, 5, 4])\n",
    "print(x)"
   ]
  },
  {
   "cell_type": "markdown",
   "id": "011806ad-e730-4b98-8a08-ccd35312527e",
   "metadata": {},
   "source": [
    "## Bài 3: Import matplotlib"
   ]
  },
  {
   "cell_type": "code",
   "execution_count": 13,
   "id": "a5135e80-1e6b-411f-abe8-891b3c063362",
   "metadata": {},
   "outputs": [
    {
     "data": {
      "text/plain": [
       "[<matplotlib.lines.Line2D at 0x7c4c6e7e4bc0>]"
      ]
     },
     "execution_count": 13,
     "metadata": {},
     "output_type": "execute_result"
    },
    {
     "data": {
      "image/png": "[encoded data removed]",
      "text/plain": [
       "<Figure size 640x480 with 1 Axes>"
      ]
     },
     "metadata": {},
     "output_type": "display_data"
    }
   ],
   "source": [
    "import matplotlib\n",
    "import matplotlib.pyplot as plt\n",
    "import numpy as np\n",
    "x = np.arange(0, 5, 0.1);\n",
    "y = np.sin(x)\n",
    "plt.plot(x, y)"
   ]
  },
  {
   "cell_type": "markdown",
   "id": "14e6205d-c017-474b-849a-ab3e724330db",
   "metadata": {},
   "source": [
    "# Chapter 2: Types of Data"
   ]
  },
  {
   "cell_type": "markdown",
   "id": "22931702-368c-435a-9c1b-f227350a9fe4",
   "metadata": {},
   "source": [
    "## 2.1. String"
   ]
  },
  {
   "cell_type": "markdown",
   "id": "4d075e22-0173-4a11-8a50-3a9112cfd46b",
   "metadata": {},
   "source": [
    "### Bài 1: Print ()"
   ]
  },
  {
   "cell_type": "code",
   "execution_count": 1,
   "id": "835b9054-9aec-42e5-a10a-9ce203269931",
   "metadata": {},
   "outputs": [
    {
     "name": "stdout",
     "output_type": "stream",
     "text": [
      "Hello World\n"
     ]
    }
   ],
   "source": [
    "x = \"Hello World\"\n",
    "print (x)"
   ]
  },
  {
   "cell_type": "code",
   "execution_count": 2,
   "id": "0096895a-55f9-48c5-bae5-c3bc13828977",
   "metadata": {},
   "outputs": [
    {
     "name": "stdout",
     "output_type": "stream",
     "text": [
      "How are you?\n"
     ]
    }
   ],
   "source": [
    "y = \"How are you?\"\n",
    "print (y)"
   ]
  },
  {
   "cell_type": "code",
   "execution_count": 3,
   "id": "69c480cb-f31a-443b-b6cf-48c1ee0eea89",
   "metadata": {},
   "outputs": [
    {
     "name": "stdout",
     "output_type": "stream",
     "text": [
      "i'm fine\n"
     ]
    }
   ],
   "source": [
    "z = \"i\\'m fine\"\n",
    "print (z)"
   ]
  },
  {
   "cell_type": "code",
   "execution_count": 5,
   "id": "8a4c81d8-6266-4c04-8355-f030d3ef7a43",
   "metadata": {},
   "outputs": [
    {
     "name": "stdout",
     "output_type": "stream",
     "text": [
      "I'm \"fine\"\n"
     ]
    }
   ],
   "source": [
    "z = \"I'm \\\"fine\\\"\"\n",
    "print (z)"
   ]
  },
  {
   "cell_type": "code",
   "execution_count": 6,
   "id": "43698561-a20d-4c18-b66c-0942b8d465d2",
   "metadata": {},
   "outputs": [
    {
     "name": "stdout",
     "output_type": "stream",
     "text": [
      "Hello, \n",
      "World\n"
     ]
    }
   ],
   "source": [
    "x = \"Hello, \\nWorld\"\n",
    "print (x)"
   ]
  },
  {
   "cell_type": "markdown",
   "id": "4c797bd5-b051-4acf-8d88-ae8357e08161",
   "metadata": {},
   "source": [
    "### Bài 2: Len()"
   ]
  },
  {
   "cell_type": "code",
   "execution_count": 7,
   "id": "26c8062c-b7be-4970-a7b9-c8143f7ce014",
   "metadata": {},
   "outputs": [
    {
     "name": "stdout",
     "output_type": "stream",
     "text": [
      "13\n"
     ]
    }
   ],
   "source": [
    "x = \"Hello World !\"\n",
    "print(len(x))"
   ]
  },
  {
   "cell_type": "code",
   "execution_count": 8,
   "id": "8f84febd-4d66-4b63-b2a4-7cfbac6116eb",
   "metadata": {},
   "outputs": [
    {
     "name": "stdout",
     "output_type": "stream",
     "text": [
      "Hello World ! 13\n"
     ]
    }
   ],
   "source": [
    "print(x, len(x))"
   ]
  },
  {
   "cell_type": "markdown",
   "id": "ce84c433-27bd-4c6b-823d-449659dee1d5",
   "metadata": {},
   "source": [
    "### Bài 3: Concatenation of Strings"
   ]
  },
  {
   "cell_type": "code",
   "execution_count": 12,
   "id": "b058622e-7d34-4758-8acc-b735f9580f99",
   "metadata": {},
   "outputs": [
    {
     "name": "stdout",
     "output_type": "stream",
     "text": [
      "Hello World\n"
     ]
    }
   ],
   "source": [
    "print(\"Hello\" + \" World\")"
   ]
  },
  {
   "cell_type": "code",
   "execution_count": 17,
   "id": "9fc3846d-0d81-4b89-8064-eecbd8a7615d",
   "metadata": {},
   "outputs": [
    {
     "name": "stdout",
     "output_type": "stream",
     "text": [
      "Go Habs Go! Go Habs Go! Go Habs Go! Woo Hoo!\n"
     ]
    }
   ],
   "source": [
    "print( 3 * \"Go Habs Go! \" + \"Woo Hoo!\")"
   ]
  },
  {
   "cell_type": "code",
   "execution_count": 18,
   "id": "dc8e9179-0bd8-4d3f-a4ba-a2a30030c844",
   "metadata": {},
   "outputs": [
    {
     "name": "stdout",
     "output_type": "stream",
     "text": [
      "You shall not pass!\n"
     ]
    }
   ],
   "source": [
    "x = (\"You shall \" \"not \" \"pass!\")\n",
    "print(x)"
   ]
  },
  {
   "cell_type": "markdown",
   "id": "23b70058-5717-4156-84f7-a3370363cfce",
   "metadata": {},
   "source": [
    "### Bài 4: Add the content of a variable"
   ]
  },
  {
   "cell_type": "code",
   "execution_count": 19,
   "id": "70eb5c07-7ff3-4069-b492-7c7b854609e5",
   "metadata": {},
   "outputs": [
    {
     "name": "stdout",
     "output_type": "stream",
     "text": [
      "I like to code in R\n"
     ]
    }
   ],
   "source": [
    "x = \"I like to code in {}\"\n",
    "langage_1 = \"R\"\n",
    "langage_2 = \"Python\"\n",
    "preference_1 = x.format(langage_1)\n",
    "print(preference_1)"
   ]
  },
  {
   "cell_type": "code",
   "execution_count": 20,
   "id": "ca5d2a7a-1eb4-4ee3-bc10-a452cb4fd773",
   "metadata": {},
   "outputs": [
    {
     "name": "stdout",
     "output_type": "stream",
     "text": [
      "I like to code in Python\n"
     ]
    }
   ],
   "source": [
    "preference_2 = x.format(langage_2)\n",
    "print(preference_2)"
   ]
  },
  {
   "cell_type": "code",
   "execution_count": 21,
   "id": "ed3f030f-31e8-43cb-8e66-e50eced78cd8",
   "metadata": {},
   "outputs": [
    {
     "name": "stdout",
     "output_type": "stream",
     "text": [
      "I like to code in R and in Python\n"
     ]
    }
   ],
   "source": [
    "x = \"I like to code in {} and in {}\"\n",
    "preference_3 = x.format(langage_1, langage_2)\n",
    "print(preference_3)"
   ]
  },
  {
   "cell_type": "markdown",
   "id": "261935e1-7518-4689-a3b9-88c3b8275486",
   "metadata": {},
   "source": [
    "### Bài 5: Indexing and Extraction"
   ]
  },
  {
   "cell_type": "code",
   "execution_count": 22,
   "id": "77dbcfe5-9889-44d0-a6ff-1ce715a6ed19",
   "metadata": {},
   "outputs": [
    {
     "name": "stdout",
     "output_type": "stream",
     "text": [
      "H\n"
     ]
    }
   ],
   "source": [
    "x = \"Hello\"\n",
    "print(x[0])"
   ]
  },
  {
   "cell_type": "code",
   "execution_count": 23,
   "id": "501f6d2d-f11e-4e14-8006-4f97ea3c7771",
   "metadata": {},
   "outputs": [
    {
     "name": "stdout",
     "output_type": "stream",
     "text": [
      "o\n"
     ]
    }
   ],
   "source": [
    "print(x[4])"
   ]
  },
  {
   "cell_type": "code",
   "execution_count": 24,
   "id": "35dba1f6-7af3-443f-89f8-19daf1e6e745",
   "metadata": {},
   "outputs": [
    {
     "name": "stdout",
     "output_type": "stream",
     "text": [
      "l\n"
     ]
    }
   ],
   "source": [
    "print(x[-2])"
   ]
  },
  {
   "cell_type": "code",
   "execution_count": 25,
   "id": "fa3c2e4c-272c-4a78-b3e5-831981605065",
   "metadata": {},
   "outputs": [
    {
     "name": "stdout",
     "output_type": "stream",
     "text": [
      "shall\n"
     ]
    }
   ],
   "source": [
    "x = \"You shall not pass!\"\n",
    "# From the fourth character (not included) to the ninth (included)\n",
    "print(x[4:9])"
   ]
  },
  {
   "cell_type": "code",
   "execution_count": 26,
   "id": "0ab345e3-1658-4f7c-828d-b5056adbd0ed",
   "metadata": {},
   "outputs": [
    {
     "name": "stdout",
     "output_type": "stream",
     "text": [
      "shall not pass!\n",
      "You shall not pass\n",
      "pass!\n"
     ]
    }
   ],
   "source": [
    "# From the 4th character (non included) to the end of the string\n",
    "print(x[4:])\n",
    "#From the beginning of the string to the penultimate (included)\n",
    "print(x[:-1])\n",
    "#From the 3rd character before the end (included) to the end\n",
    "print(x[-5:])"
   ]
  },
  {
   "cell_type": "code",
   "execution_count": 27,
   "id": "68a179a4-9178-4e68-b387-52e83e511a0d",
   "metadata": {},
   "outputs": [
    {
     "name": "stdout",
     "output_type": "stream",
     "text": [
      "sln s\n"
     ]
    }
   ],
   "source": [
    "#From the 4th character (not included),\n",
    "# to the end of the string, in steps of 3\n",
    "print(x[4::3])"
   ]
  },
  {
   "cell_type": "code",
   "execution_count": 28,
   "id": "9480b0ff-e137-44c4-a585-f0bd7b9c85e4",
   "metadata": {},
   "outputs": [
    {
     "name": "stdout",
     "output_type": "stream",
     "text": [
      "!ssap ton llahs uoY\n"
     ]
    }
   ],
   "source": [
    "print(x[::-1])"
   ]
  },
  {
   "cell_type": "markdown",
   "id": "1feadd3d-1799-4e6c-99ca-1bf2fa6728ec",
   "metadata": {},
   "source": [
    "### Bài 6: Count"
   ]
  },
  {
   "cell_type": "code",
   "execution_count": 29,
   "id": "f28accea-226c-4c34-8bb7-00e30b723638",
   "metadata": {},
   "outputs": [
    {
     "name": "stdout",
     "output_type": "stream",
     "text": [
      "3\n"
     ]
    }
   ],
   "source": [
    "x = \"le train de tes injures roule sur le rail de mon indifférence\"\n",
    "print(x.count(\"in\"))"
   ]
  },
  {
   "cell_type": "markdown",
   "id": "05fd2101-3bbb-4f98-b982-d372ddea75a4",
   "metadata": {},
   "source": [
    "### Bài 7: Lower and upper"
   ]
  },
  {
   "cell_type": "code",
   "execution_count": 2,
   "id": "bc06a463-3ff5-4e58-99bf-03564bae3cc9",
   "metadata": {},
   "outputs": [
    {
     "name": "stdout",
     "output_type": "stream",
     "text": [
      "le train de tes injures roule sur le rail de mon indifférence\n",
      "LE TRAIN DE TES INJURES ROULE SUR LE RAIL DE MON INDIFFÉRENCE\n"
     ]
    }
   ],
   "source": [
    "x = \"le train de tes injures roule sur le rail de mon indifférence\"\n",
    "print(x.lower())\n",
    "print(x.upper())"
   ]
  },
  {
   "cell_type": "markdown",
   "id": "99595790-74bf-450c-b7a6-4edfafae3505",
   "metadata": {},
   "source": [
    "### Bài 8: Find a pattern"
   ]
  },
  {
   "cell_type": "code",
   "execution_count": 3,
   "id": "a5b52f14-76f9-4e18-8b3a-4e09421c8cbb",
   "metadata": {},
   "outputs": [
    {
     "name": "stdout",
     "output_type": "stream",
     "text": [
      "6\n",
      "-1\n"
     ]
    }
   ],
   "source": [
    "print(x.find(\"in\"))\n",
    "print(x.find(\"hello\"))"
   ]
  },
  {
   "cell_type": "code",
   "execution_count": 4,
   "id": "54a32bbe-38e5-4e59-9f4b-c1c1f7f3ad37",
   "metadata": {},
   "outputs": [
    {
     "name": "stdout",
     "output_type": "stream",
     "text": [
      "16\n"
     ]
    }
   ],
   "source": [
    "print(x.find(\"in\", 7, 20))"
   ]
  },
  {
   "cell_type": "code",
   "execution_count": 5,
   "id": "9017894b-0104-45b7-a536-fbe61cfe87ee",
   "metadata": {},
   "outputs": [
    {
     "name": "stdout",
     "output_type": "stream",
     "text": [
      "49\n"
     ]
    }
   ],
   "source": [
    "print(x.find(\"in\", 20))"
   ]
  },
  {
   "cell_type": "markdown",
   "id": "998067dc-b999-434e-a2eb-0c7f7cfc497f",
   "metadata": {},
   "source": [
    "### Bài 9: Capitalize"
   ]
  },
  {
   "cell_type": "code",
   "execution_count": 6,
   "id": "58d8e9e3-6806-4aae-b273-a46a66c7c969",
   "metadata": {},
   "outputs": [
    {
     "name": "stdout",
     "output_type": "stream",
     "text": [
      "-1\n"
     ]
    }
   ],
   "source": [
    "x = \"Mademoiselle Deray, il est interdit de manger de la choucroute ici.\"\n",
    "print(x.find(\"deray\"))"
   ]
  },
  {
   "cell_type": "code",
   "execution_count": 7,
   "id": "67bc9a46-91be-465a-aecd-d241c424f1bb",
   "metadata": {},
   "outputs": [
    {
     "name": "stdout",
     "output_type": "stream",
     "text": [
      "13\n"
     ]
    }
   ],
   "source": [
    "print(x.capitalize().find(\"deray\"))"
   ]
  },
  {
   "cell_type": "markdown",
   "id": "45feecee-577d-4ef1-b1c4-2fb91dfcb71f",
   "metadata": {},
   "source": [
    "### Bài 10: Split"
   ]
  },
  {
   "cell_type": "code",
   "execution_count": 8,
   "id": "7dfa410e-94a7-441d-9366-78ee83a88a8f",
   "metadata": {},
   "outputs": [
    {
     "name": "stdout",
     "output_type": "stream",
     "text": [
      "['Mademoiselle', 'Deray,', 'il', 'est', 'interdit', 'de', 'manger', 'de', 'la', 'choucroute', 'ici.']\n"
     ]
    }
   ],
   "source": [
    "print(x.split(\" \"))"
   ]
  },
  {
   "cell_type": "code",
   "execution_count": 9,
   "id": "9df1cc2b-0284-4229-8cdd-041cf901850c",
   "metadata": {},
   "outputs": [
    {
     "name": "stdout",
     "output_type": "stream",
     "text": [
      "['Mademoiselle', 'Deray,', 'il', 'est interdit de manger de la choucroute ici.']\n"
     ]
    }
   ],
   "source": [
    "# Will return the elements matched up to the index 3\n",
    "print(x.split(\" \", 3))"
   ]
  },
  {
   "cell_type": "code",
   "execution_count": 10,
   "id": "703dec0c-09e8-4c14-8546-19daaa04d2d7",
   "metadata": {},
   "outputs": [
    {
     "name": "stdout",
     "output_type": "stream",
     "text": [
      "['\"No, I am your Father!', \"- No... No. It's not true! That's impossible!\", '- Search your feelings. You know it to be true.', '- Noooooooo! Noooo!\"']\n"
     ]
    }
   ],
   "source": [
    "x = '''\"No, I am your Father!\n",
    "- No... No. It's not true! That's impossible!\n",
    "- Search your feelings. You know it to be true.\n",
    "- Noooooooo! Noooo!\"'''\n",
    "print(x.splitlines())"
   ]
  },
  {
   "cell_type": "markdown",
   "id": "82dcc5bf-faa6-45ab-8944-5611c466e84a",
   "metadata": {},
   "source": [
    "### Bài 11: Cleaning, completion"
   ]
  },
  {
   "cell_type": "code",
   "execution_count": 11,
   "id": "9a60d076-706f-4bb5-abaa-148fc2dfcc74",
   "metadata": {},
   "outputs": [
    {
     "name": "stdout",
     "output_type": "stream",
     "text": [
      "Pardon, du sucre ?\n"
     ]
    }
   ],
   "source": [
    "x = \"\\n\\n Pardon, du sucre ? \\n \\n\"\n",
    "print(x.strip())"
   ]
  },
  {
   "cell_type": "code",
   "execution_count": 12,
   "id": "6cf8e5ea-2c28-4e56-bd18-9e59d05f1b71",
   "metadata": {},
   "outputs": [
    {
     "name": "stdout",
     "output_type": "stream",
     "text": [
      "egallic\n"
     ]
    }
   ],
   "source": [
    "x = \"www.egallic.fr\"\n",
    "print(x.strip(\"wrf.\"))"
   ]
  },
  {
   "cell_type": "markdown",
   "id": "168b2eaf-3dd6-45e2-9dcd-643db884989f",
   "metadata": {},
   "source": [
    "### Bài 12: Longitude"
   ]
  },
  {
   "cell_type": "code",
   "execution_count": 13,
   "id": "b87e2358-67c2-4a8a-935e-ca6eaf2d7c7d",
   "metadata": {},
   "outputs": [
    {
     "name": "stdout",
     "output_type": "stream",
     "text": [
      "  48.11\n"
     ]
    }
   ],
   "source": [
    "longitude = \"48.11\"\n",
    "print(longitude.rjust(7,\" \"))"
   ]
  },
  {
   "cell_type": "markdown",
   "id": "f8070832-17b7-4195-8372-4cc52cc02adf",
   "metadata": {},
   "source": [
    "### Bài 13: Replacements - replace method"
   ]
  },
  {
   "cell_type": "code",
   "execution_count": 14,
   "id": "73e33b6a-7d52-4594-901b-2b58848bb2ca",
   "metadata": {},
   "outputs": [
    {
     "name": "stdout",
     "output_type": "stream",
     "text": [
      "Ridge ! Vous, ici ? Dans votre propre salle de bain ? Quelle surprise !\n"
     ]
    }
   ],
   "source": [
    "x = \"Criquette ! Vous, ici ? Dans votre propre salle de bain ? Quelle surprise !\"\n",
    "print(x.replace(\"Criquette\", \"Ridge\"))\n"
   ]
  },
  {
   "cell_type": "code",
   "execution_count": 15,
   "id": "d524614c-0e7e-470c-8443-45ccbf75525e",
   "metadata": {},
   "outputs": [
    {
     "name": "stdout",
     "output_type": "stream",
     "text": [
      "Criquette!Vous,ici?Dansvotrepropresalledebain?Quellesurprise!\n"
     ]
    }
   ],
   "source": [
    "print(x.replace(\" \", \"\"))"
   ]
  },
  {
   "cell_type": "markdown",
   "id": "57e2b239-fac1-4c79-a4d9-022198ebc9d2",
   "metadata": {},
   "source": [
    "### Bài 14: Concatenate"
   ]
  },
  {
   "cell_type": "code",
   "execution_count": 17,
   "id": "dcf6f5f6-1117-49b4-9cdb-62b88693d69a",
   "metadata": {},
   "outputs": [
    {
     "ename": "TypeError",
     "evalue": "can only concatenate str (not \"int\") to str",
     "output_type": "error",
     "traceback": [
      "\u001b[31m---------------------------------------------------------------------------\u001b[39m",
      "\u001b[31mTypeError\u001b[39m                                 Traceback (most recent call last)",
      "\u001b[36mCell\u001b[39m\u001b[36m \u001b[39m\u001b[32mIn[17]\u001b[39m\u001b[32m, line 2\u001b[39m\n\u001b[32m      1\u001b[39m nb_followers = \u001b[32m0\u001b[39m\n\u001b[32m----> \u001b[39m\u001b[32m2\u001b[39m message = \u001b[33;43m\"\u001b[39;49m\u001b[33;43mHe has \u001b[39;49m\u001b[33;43m\"\u001b[39;49m\u001b[43m \u001b[49m\u001b[43m+\u001b[49m\u001b[43m \u001b[49m\u001b[43mnb_followers\u001b[49m + \u001b[33m\"\u001b[39m\u001b[33mfollowers.\u001b[39m\u001b[33m\"\u001b[39m\n",
      "\u001b[31mTypeError\u001b[39m: can only concatenate str (not \"int\") to str"
     ]
    }
   ],
   "source": [
    "nb_followers = 0\n",
    "message = \"He has \" + nb_followers + \"followers.\""
   ]
  },
  {
   "cell_type": "code",
   "execution_count": 18,
   "id": "e99530de-69b9-4b1d-8a58-17390a6e0cba",
   "metadata": {},
   "outputs": [
    {
     "ename": "NameError",
     "evalue": "name 'message' is not defined",
     "output_type": "error",
     "traceback": [
      "\u001b[31m---------------------------------------------------------------------------\u001b[39m",
      "\u001b[31mNameError\u001b[39m                                 Traceback (most recent call last)",
      "\u001b[36mCell\u001b[39m\u001b[36m \u001b[39m\u001b[32mIn[18]\u001b[39m\u001b[32m, line 1\u001b[39m\n\u001b[32m----> \u001b[39m\u001b[32m1\u001b[39m \u001b[38;5;28mprint\u001b[39m(\u001b[43mmessage\u001b[49m)\n",
      "\u001b[31mNameError\u001b[39m: name 'message' is not defined"
     ]
    }
   ],
   "source": [
    "print(message)"
   ]
  },
  {
   "cell_type": "markdown",
   "id": "b9e2e2d3-29a2-408c-ae65-d61cb9b9179d",
   "metadata": {},
   "source": [
    "### Bài 15: Fuction str ()"
   ]
  },
  {
   "cell_type": "code",
   "execution_count": 19,
   "id": "1e67a2de-d9b5-466e-9e40-3137fcb1ed5c",
   "metadata": {},
   "outputs": [
    {
     "name": "stdout",
     "output_type": "stream",
     "text": [
      "He has 0 followers.\n"
     ]
    }
   ],
   "source": [
    "message = \"He has \" + str(nb_followers) + \" followers.\"\n",
    "print(message)"
   ]
  },
  {
   "cell_type": "markdown",
   "id": "af1ed148-ce56-4687-9903-77316ba15978",
   "metadata": {},
   "source": [
    "## 2.2. Numerial values"
   ]
  },
  {
   "cell_type": "markdown",
   "id": "376615d8-7bf9-41c7-9c9f-340b24f2039d",
   "metadata": {},
   "source": [
    "### Bài 1: Integers"
   ]
  },
  {
   "cell_type": "code",
   "execution_count": 1,
   "id": "b4f363bd-bd9e-4f3e-bab6-e4b62ebdeec0",
   "metadata": {},
   "outputs": [
    {
     "name": "stdout",
     "output_type": "stream",
     "text": [
      "<class 'int'>\n"
     ]
    }
   ],
   "source": [
    "x = 2\n",
    "y = -2\n",
    "print(type(x))"
   ]
  },
  {
   "cell_type": "code",
   "execution_count": 2,
   "id": "f568d117-9574-492d-9130-9c7080e3f5d3",
   "metadata": {},
   "outputs": [
    {
     "name": "stdout",
     "output_type": "stream",
     "text": [
      "<class 'int'>\n"
     ]
    }
   ],
   "source": [
    "print(type(y))"
   ]
  },
  {
   "cell_type": "markdown",
   "id": "d4b893ad-11a3-4fe7-a2b8-9901c9ac0eb0",
   "metadata": {},
   "source": [
    "### Bài 2: Floating Point numbers"
   ]
  },
  {
   "cell_type": "code",
   "execution_count": 3,
   "id": "29d89419-f060-4d9a-8223-97913053b953",
   "metadata": {},
   "outputs": [
    {
     "name": "stdout",
     "output_type": "stream",
     "text": [
      "<class 'float'>\n"
     ]
    }
   ],
   "source": [
    "x = 2.0\n",
    "y = 48.15162342\n",
    "print(type(x))"
   ]
  },
  {
   "cell_type": "code",
   "execution_count": 4,
   "id": "cd754029-5dcf-4450-b76d-508677a03ce5",
   "metadata": {},
   "outputs": [
    {
     "name": "stdout",
     "output_type": "stream",
     "text": [
      "<class 'float'>\n"
     ]
    }
   ],
   "source": [
    "print(type(y))"
   ]
  },
  {
   "cell_type": "code",
   "execution_count": 5,
   "id": "37690225-24e1-49e4-b32a-f73889666cfe",
   "metadata": {},
   "outputs": [
    {
     "name": "stdout",
     "output_type": "stream",
     "text": [
      "3200000000000.0\n"
     ]
    }
   ],
   "source": [
    "x = 3.2E12\n",
    "y = 3.2e12\n",
    "print(x)"
   ]
  },
  {
   "cell_type": "code",
   "execution_count": 6,
   "id": "b7df10f3-efe1-4d09-9fae-b9d5cc064c24",
   "metadata": {},
   "outputs": [
    {
     "name": "stdout",
     "output_type": "stream",
     "text": [
      "3200000000000.0\n"
     ]
    }
   ],
   "source": [
    "print(y)"
   ]
  },
  {
   "cell_type": "code",
   "execution_count": 7,
   "id": "969d8847-8c38-4626-be14-26aa48c8d760",
   "metadata": {},
   "outputs": [
    {
     "name": "stdout",
     "output_type": "stream",
     "text": [
      "0.35\n"
     ]
    }
   ],
   "source": [
    "print(0.35)"
   ]
  },
  {
   "cell_type": "code",
   "execution_count": 8,
   "id": "5a143cc2-26e9-43ee-adc6-f2b3fa373f4e",
   "metadata": {},
   "outputs": [
    {
     "name": "stdout",
     "output_type": "stream",
     "text": [
      "0.35\n"
     ]
    }
   ],
   "source": [
    "print(.35)"
   ]
  },
  {
   "cell_type": "markdown",
   "id": "c777d3cd-b696-4213-9e22-f387f50ae77b",
   "metadata": {},
   "source": [
    "### Bài 3: Complex numbers"
   ]
  },
  {
   "cell_type": "code",
   "execution_count": 9,
   "id": "32f75ad4-1fa4-4b5c-bc4c-b7703166285e",
   "metadata": {},
   "outputs": [
    {
     "name": "stdout",
     "output_type": "stream",
     "text": [
      "(1+3j)\n"
     ]
    }
   ],
   "source": [
    "z = 1+3j\n",
    "print(z)"
   ]
  },
  {
   "cell_type": "code",
   "execution_count": 10,
   "id": "490bba50-b130-4689-a112-a44175167f86",
   "metadata": {},
   "outputs": [
    {
     "name": "stdout",
     "output_type": "stream",
     "text": [
      "<class 'complex'>\n"
     ]
    }
   ],
   "source": [
    "print(type(z))"
   ]
  },
  {
   "cell_type": "code",
   "execution_count": 11,
   "id": "b136601e-f1d9-4977-9ac1-8351a8408ed0",
   "metadata": {},
   "outputs": [
    {
     "name": "stdout",
     "output_type": "stream",
     "text": [
      "(1+3j)\n"
     ]
    }
   ],
   "source": [
    "z = complex(1, 3)\n",
    "print(z)"
   ]
  },
  {
   "cell_type": "code",
   "execution_count": 12,
   "id": "bb442c82-8808-4e0e-9be9-a8acdf60c4cc",
   "metadata": {},
   "outputs": [
    {
     "name": "stdout",
     "output_type": "stream",
     "text": [
      "<class 'complex'>\n"
     ]
    }
   ],
   "source": [
    "print(type(z))"
   ]
  },
  {
   "cell_type": "code",
   "execution_count": 13,
   "id": "e8a1e12f-3b3f-47f7-8559-71e4d6e79f17",
   "metadata": {},
   "outputs": [
    {
     "name": "stdout",
     "output_type": "stream",
     "text": [
      "(1-3j)\n"
     ]
    }
   ],
   "source": [
    "print(z.conjugate())"
   ]
  },
  {
   "cell_type": "code",
   "execution_count": 14,
   "id": "6e71e959-371b-4d97-904d-6baf15cefa53",
   "metadata": {},
   "outputs": [
    {
     "name": "stdout",
     "output_type": "stream",
     "text": [
      "1.0\n"
     ]
    }
   ],
   "source": [
    "z = complex(1, 3)\n",
    "print(z.real)"
   ]
  },
  {
   "cell_type": "code",
   "execution_count": 15,
   "id": "e4c4e808-15ac-49cd-becb-44fc8f565a67",
   "metadata": {},
   "outputs": [
    {
     "name": "stdout",
     "output_type": "stream",
     "text": [
      "3.0\n"
     ]
    }
   ],
   "source": [
    "print(z.imag)"
   ]
  },
  {
   "cell_type": "markdown",
   "id": "92e67e91-b88f-4673-a836-2f84321475bd",
   "metadata": {},
   "source": [
    "### Bài 4: Conversions to Integer"
   ]
  },
  {
   "cell_type": "code",
   "execution_count": 16,
   "id": "539e0385-30bd-4f08-b714-a986db76df83",
   "metadata": {},
   "outputs": [
    {
     "name": "stdout",
     "output_type": "stream",
     "text": [
      "<class 'int'>\n"
     ]
    }
   ],
   "source": [
    "x = \"3\"\n",
    "x_int = int(x)\n",
    "print(type(x_int))"
   ]
  },
  {
   "cell_type": "code",
   "execution_count": 17,
   "id": "eaf9bdcd-b053-48f9-bc75-47f2095b1407",
   "metadata": {},
   "outputs": [
    {
     "name": "stdout",
     "output_type": "stream",
     "text": [
      "<class 'str'>\n"
     ]
    }
   ],
   "source": [
    "print(type(x))"
   ]
  },
  {
   "cell_type": "code",
   "execution_count": 18,
   "id": "55568c7a-202f-46b3-a589-cb03e04befd6",
   "metadata": {},
   "outputs": [
    {
     "name": "stdout",
     "output_type": "stream",
     "text": [
      "3\n"
     ]
    }
   ],
   "source": [
    "x = 3.6\n",
    "x_int = int(x)\n",
    "print(x_int)"
   ]
  },
  {
   "cell_type": "markdown",
   "id": "8b9e4800-c3dd-4f32-867b-a291cb910a95",
   "metadata": {},
   "source": [
    "### Bài 5: Conversion to Floating Point Number"
   ]
  },
  {
   "cell_type": "code",
   "execution_count": 19,
   "id": "9343421d-37fc-4474-b4b0-ee8217e87a4a",
   "metadata": {},
   "outputs": [
    {
     "name": "stdout",
     "output_type": "stream",
     "text": [
      "<class 'float'>\n"
     ]
    }
   ],
   "source": [
    "x = \"3.6\"\n",
    "x_float = float(x)\n",
    "print(type(x_float))"
   ]
  },
  {
   "cell_type": "code",
   "execution_count": 20,
   "id": "cb72fe64-7b6f-47fe-89cd-0322020da7b3",
   "metadata": {},
   "outputs": [
    {
     "name": "stdout",
     "output_type": "stream",
     "text": [
      "3.0\n"
     ]
    }
   ],
   "source": [
    "x = 3\n",
    "x_float = float(x)\n",
    "print(x_float)"
   ]
  },
  {
   "cell_type": "markdown",
   "id": "f0fc5230-62fe-41a8-ac7b-4052662d3a3d",
   "metadata": {},
   "source": [
    "### Bài 6: Conversion to Complex"
   ]
  },
  {
   "cell_type": "code",
   "execution_count": 21,
   "id": "f619c526-2f45-4f17-a508-1ff0cd0f4c11",
   "metadata": {},
   "outputs": [
    {
     "name": "stdout",
     "output_type": "stream",
     "text": [
      "(2+0j)\n"
     ]
    }
   ],
   "source": [
    "x = \"2\"\n",
    "x_complex = complex(x)\n",
    "print(x_complex)"
   ]
  },
  {
   "cell_type": "code",
   "execution_count": 22,
   "id": "6af58b91-ac2a-4ddc-a232-8e1d1ca7794b",
   "metadata": {},
   "outputs": [
    {
     "name": "stdout",
     "output_type": "stream",
     "text": [
      "(2.4+0j)\n"
     ]
    }
   ],
   "source": [
    "x = 2.4\n",
    "x_complex = complex(x)\n",
    "print(x_complex)"
   ]
  },
  {
   "cell_type": "markdown",
   "id": "64720f8f-f595-4fcd-8b4d-63fede25b101",
   "metadata": {},
   "source": [
    "## 2.3. Booleans"
   ]
  },
  {
   "cell_type": "code",
   "execution_count": 23,
   "id": "d138629d-df47-4e6a-8ab5-303daca79789",
   "metadata": {},
   "outputs": [
    {
     "name": "stdout",
     "output_type": "stream",
     "text": [
      "True False\n"
     ]
    }
   ],
   "source": [
    "x = True\n",
    "y = False\n",
    "print(x, y)"
   ]
  },
  {
   "cell_type": "code",
   "execution_count": 24,
   "id": "717562d0-8303-43d6-90a4-cf709c82ecd7",
   "metadata": {},
   "outputs": [
    {
     "name": "stdout",
     "output_type": "stream",
     "text": [
      "3\n"
     ]
    }
   ],
   "source": [
    "res = True + True + False + True*True\n",
    "print(res)"
   ]
  },
  {
   "cell_type": "markdown",
   "id": "bc6ec797-d67e-46c8-9b52-ab35e53ecff0",
   "metadata": {},
   "source": [
    "## 2.4. Empty Object"
   ]
  },
  {
   "cell_type": "code",
   "execution_count": 25,
   "id": "2fab37bd-0876-47a7-a219-9d8720e38ba2",
   "metadata": {},
   "outputs": [
    {
     "name": "stdout",
     "output_type": "stream",
     "text": [
      "None\n"
     ]
    }
   ],
   "source": [
    "x = None\n",
    "print(x)"
   ]
  },
  {
   "cell_type": "code",
   "execution_count": 26,
   "id": "0ce02af4-d83f-40f7-8c6e-cb15d04ed7d7",
   "metadata": {},
   "outputs": [
    {
     "name": "stdout",
     "output_type": "stream",
     "text": [
      "<class 'NoneType'>\n"
     ]
    }
   ],
   "source": [
    "print(type(x))"
   ]
  },
  {
   "cell_type": "code",
   "execution_count": 27,
   "id": "11cd53ab-e3b3-4ffe-bb0a-313d2608bf26",
   "metadata": {},
   "outputs": [
    {
     "name": "stdout",
     "output_type": "stream",
     "text": [
      "False\n"
     ]
    }
   ],
   "source": [
    "x = 1\n",
    "y = None\n",
    "print(x is None)"
   ]
  },
  {
   "cell_type": "code",
   "execution_count": 28,
   "id": "9cb833d4-226a-45b3-b81a-95fe560bd46b",
   "metadata": {},
   "outputs": [
    {
     "name": "stdout",
     "output_type": "stream",
     "text": [
      "True\n"
     ]
    }
   ],
   "source": [
    "print(y is None)"
   ]
  },
  {
   "cell_type": "markdown",
   "id": "1e45d15b-00a8-4ad2-bb3a-b2505b8e1e90",
   "metadata": {},
   "source": [
    "## 2.5. Dates and Times"
   ]
  },
  {
   "cell_type": "markdown",
   "id": "2dd7be5e-f43a-4af3-a6dd-f6e693ce5473",
   "metadata": {},
   "source": [
    "### Bài 1: Dates"
   ]
  },
  {
   "cell_type": "code",
   "execution_count": 3,
   "id": "87e3ae0d-8bd1-4df7-9a99-4863f2c81eb4",
   "metadata": {},
   "outputs": [
    {
     "name": "stdout",
     "output_type": "stream",
     "text": [
      "2013-04-23\n"
     ]
    }
   ],
   "source": [
    "from datetime import date\n",
    "debut = date(year = 2013, month = 4, day = 23)\n",
    "print(debut)"
   ]
  },
  {
   "cell_type": "code",
   "execution_count": 30,
   "id": "c7472b0a-d10c-4dbf-98a2-07e10a8c5b77",
   "metadata": {},
   "outputs": [
    {
     "name": "stdout",
     "output_type": "stream",
     "text": [
      "<class 'datetime.date'>\n"
     ]
    }
   ],
   "source": [
    "print(type(debut))"
   ]
  },
  {
   "cell_type": "code",
   "execution_count": 31,
   "id": "ba24c740-b1ae-4771-8859-42ed4dc89dfb",
   "metadata": {},
   "outputs": [
    {
     "name": "stdout",
     "output_type": "stream",
     "text": [
      "2013\n"
     ]
    }
   ],
   "source": [
    "print(debut.year) # Extract the year"
   ]
  },
  {
   "cell_type": "code",
   "execution_count": 32,
   "id": "324e5c7c-67df-44e5-b384-eb72470ccdb0",
   "metadata": {},
   "outputs": [
    {
     "name": "stdout",
     "output_type": "stream",
     "text": [
      "4\n"
     ]
    }
   ],
   "source": [
    "print(debut.month) # Extract the month"
   ]
  },
  {
   "cell_type": "code",
   "execution_count": 33,
   "id": "57cf5e76-64ae-401a-90ae-2db435b85628",
   "metadata": {},
   "outputs": [
    {
     "name": "stdout",
     "output_type": "stream",
     "text": [
      "23\n"
     ]
    }
   ],
   "source": [
    "print(debut.day) # Extract the day"
   ]
  },
  {
   "cell_type": "markdown",
   "id": "6d043a29-cf45-4e89-845c-df638659833b",
   "metadata": {},
   "source": [
    "### Bài 2: Ctime"
   ]
  },
  {
   "cell_type": "code",
   "execution_count": 34,
   "id": "e168cbef-6be7-4edb-87f9-11302a036c56",
   "metadata": {},
   "outputs": [
    {
     "name": "stdout",
     "output_type": "stream",
     "text": [
      "Tue Apr 23 00:00:00 2013\n"
     ]
    }
   ],
   "source": [
    "print(debut.ctime())"
   ]
  },
  {
   "cell_type": "markdown",
   "id": "b678c93e-02d8-4563-8615-a1f39da8314e",
   "metadata": {},
   "source": [
    "### Bài 3: Weekday"
   ]
  },
  {
   "cell_type": "code",
   "execution_count": 35,
   "id": "6f401bdd-77c0-4ca4-8e7c-87da833d5e97",
   "metadata": {},
   "outputs": [
    {
     "name": "stdout",
     "output_type": "stream",
     "text": [
      "1\n"
     ]
    }
   ],
   "source": [
    "print(debut.weekday())"
   ]
  },
  {
   "cell_type": "markdown",
   "id": "a766f9d2-d5d0-40c2-a287-893e2a1d2899",
   "metadata": {},
   "source": [
    "### Bài 4: Isoweekday"
   ]
  },
  {
   "cell_type": "code",
   "execution_count": 36,
   "id": "bd396e1f-4eb4-46b6-8511-bbf12c8a26e3",
   "metadata": {},
   "outputs": [
    {
     "name": "stdout",
     "output_type": "stream",
     "text": [
      "2\n"
     ]
    }
   ],
   "source": [
    "print(debut.isoweekday())"
   ]
  },
  {
   "cell_type": "markdown",
   "id": "2b46681e-26a3-49d5-ae47-cb5a3873ea18",
   "metadata": {},
   "source": [
    "### Bài 5: Toordinal"
   ]
  },
  {
   "cell_type": "code",
   "execution_count": 4,
   "id": "7862fe6b-4c35-49eb-ab2e-84feedd8765f",
   "metadata": {},
   "outputs": [
    {
     "name": "stdout",
     "output_type": "stream",
     "text": [
      "734981\n"
     ]
    }
   ],
   "source": [
    "print(debut.toordinal())"
   ]
  },
  {
   "cell_type": "markdown",
   "id": "785a23e1-9c6d-4675-b1e1-17b69a807bbe",
   "metadata": {},
   "source": [
    "### Bài 6: Isoformat"
   ]
  },
  {
   "cell_type": "code",
   "execution_count": 5,
   "id": "dbd828ce-aa87-4f27-b379-be0edfb62a43",
   "metadata": {},
   "outputs": [
    {
     "name": "stdout",
     "output_type": "stream",
     "text": [
      "2013-04-23\n"
     ]
    }
   ],
   "source": [
    "print(debut.isoformat())"
   ]
  },
  {
   "cell_type": "markdown",
   "id": "a0ea94c3-6e48-4027-9c62-034d36b1bbf7",
   "metadata": {},
   "source": [
    "### Bài 7: Isocalendar"
   ]
  },
  {
   "cell_type": "code",
   "execution_count": 6,
   "id": "6ed4d2ab-6e62-4ce1-b6fd-e821b323724a",
   "metadata": {},
   "outputs": [
    {
     "name": "stdout",
     "output_type": "stream",
     "text": [
      "datetime.IsoCalendarDate(year=2013, week=17, weekday=2)\n"
     ]
    }
   ],
   "source": [
    "print(debut.isocalendar())"
   ]
  },
  {
   "cell_type": "markdown",
   "id": "6e277b1f-23b2-48e5-872b-9ff12094eb3d",
   "metadata": {},
   "source": [
    "### Bài 8: Replace"
   ]
  },
  {
   "cell_type": "code",
   "execution_count": 7,
   "id": "3644ee6b-5247-440a-85c8-7196238d96fc",
   "metadata": {},
   "outputs": [
    {
     "name": "stdout",
     "output_type": "stream",
     "text": [
      "2014-04-23 2013-05-23 2013-04-24\n"
     ]
    }
   ],
   "source": [
    "x = debut.replace(year=2014)\n",
    "y = debut.replace(month=5)\n",
    "z = debut.replace(day=24)\n",
    "print(x, y, z)"
   ]
  },
  {
   "cell_type": "code",
   "execution_count": 8,
   "id": "cbb75dbb-5f20-49d0-9caf-c9f4030e44df",
   "metadata": {},
   "outputs": [
    {
     "name": "stdout",
     "output_type": "stream",
     "text": [
      "2013-04-23\n"
     ]
    }
   ],
   "source": [
    "print(debut)"
   ]
  },
  {
   "cell_type": "code",
   "execution_count": 9,
   "id": "99a66b28-d6b1-4f9c-b756-b017c3059104",
   "metadata": {},
   "outputs": [
    {
     "name": "stdout",
     "output_type": "stream",
     "text": [
      "2013-05-24\n"
     ]
    }
   ],
   "source": [
    "x = debut.replace(day=24, month=5)\n",
    "print(x)"
   ]
  },
  {
   "cell_type": "markdown",
   "id": "0dd7c4b2-0764-435e-aa47-ef58070a8c61",
   "metadata": {},
   "source": [
    "### Bài 9: Strftime"
   ]
  },
  {
   "cell_type": "code",
   "execution_count": 10,
   "id": "be0ed625-7cb8-416e-ba82-7ffe262c8e28",
   "metadata": {},
   "outputs": [
    {
     "name": "stdout",
     "output_type": "stream",
     "text": [
      "23-04-2013\n"
     ]
    }
   ],
   "source": [
    "print(debut.strftime(\"%d-%m-%Y\"))"
   ]
  },
  {
   "cell_type": "code",
   "execution_count": 11,
   "id": "a0ef3bca-35fe-4ca3-8e07-4bdc81a24ee2",
   "metadata": {},
   "outputs": [
    {
     "name": "stdout",
     "output_type": "stream",
     "text": [
      "23/04/2013\n"
     ]
    }
   ],
   "source": [
    "print(debut.strftime(\"%d/%m/%Y\"))"
   ]
  },
  {
   "cell_type": "code",
   "execution_count": 12,
   "id": "231a5fbf-922f-4e33-ab13-d2862f627392",
   "metadata": {},
   "outputs": [
    {
     "name": "stdout",
     "output_type": "stream",
     "text": [
      "Jour : 23, Mois : 04, Annee : 2013\n"
     ]
    }
   ],
   "source": [
    "print(debut.strftime(\"Jour : %d, Mois : %m, Annee : %Y\"))"
   ]
  },
  {
   "cell_type": "markdown",
   "id": "c0e1d189-ea78-4142-85e8-f33c8aa026d9",
   "metadata": {},
   "source": [
    "### Bài 10: Time"
   ]
  },
  {
   "cell_type": "code",
   "execution_count": 1,
   "id": "23dd0eed-bff1-4af2-8bd6-358ec13c4d39",
   "metadata": {},
   "outputs": [],
   "source": [
    "from datetime import time\n",
    "moment = time(hour = 23, minute = 4, second = 59)"
   ]
  },
  {
   "cell_type": "code",
   "execution_count": 3,
   "id": "feba0647-c528-48ed-b008-3dd04bd391ac",
   "metadata": {},
   "outputs": [
    {
     "name": "stdout",
     "output_type": "stream",
     "text": [
      "23:04:59\n"
     ]
    }
   ],
   "source": [
    "print(moment)"
   ]
  },
  {
   "cell_type": "code",
   "execution_count": 4,
   "id": "d51665a9-957f-4994-b5d4-5d5d764535a0",
   "metadata": {},
   "outputs": [
    {
     "name": "stdout",
     "output_type": "stream",
     "text": [
      "<class 'datetime.time'>\n"
     ]
    }
   ],
   "source": [
    "print(type(moment))"
   ]
  },
  {
   "cell_type": "code",
   "execution_count": 5,
   "id": "581f7f54-42d5-4e11-b59c-24f8bdce150a",
   "metadata": {},
   "outputs": [
    {
     "name": "stdout",
     "output_type": "stream",
     "text": [
      "23:04:59.000230\n"
     ]
    }
   ],
   "source": [
    "moment = time(hour = 23, minute = 4, second = 59, microsecond = 230)\n",
    "print(moment)"
   ]
  },
  {
   "cell_type": "code",
   "execution_count": 6,
   "id": "021449bc-7096-4a18-b1b8-ebdaeedc8558",
   "metadata": {},
   "outputs": [
    {
     "name": "stdout",
     "output_type": "stream",
     "text": [
      "<class 'datetime.time'>\n"
     ]
    }
   ],
   "source": [
    "print(type(moment))"
   ]
  },
  {
   "cell_type": "code",
   "execution_count": 7,
   "id": "02bbba17-3b58-494b-b57f-6cf1ed9dabb5",
   "metadata": {},
   "outputs": [
    {
     "name": "stdout",
     "output_type": "stream",
     "text": [
      "23\n"
     ]
    }
   ],
   "source": [
    "print(moment.hour) # Extract the hour"
   ]
  },
  {
   "cell_type": "code",
   "execution_count": 8,
   "id": "d376c467-fd0c-4eac-bcb5-32fa8b721eb3",
   "metadata": {},
   "outputs": [
    {
     "name": "stdout",
     "output_type": "stream",
     "text": [
      "4\n"
     ]
    }
   ],
   "source": [
    "print(moment.minute) # Extract the minute"
   ]
  },
  {
   "cell_type": "code",
   "execution_count": 9,
   "id": "f1bb8792-9c53-4304-8a8b-671aa6e82b6e",
   "metadata": {},
   "outputs": [
    {
     "name": "stdout",
     "output_type": "stream",
     "text": [
      "59\n"
     ]
    }
   ],
   "source": [
    "print(moment.second) # Extract the second"
   ]
  },
  {
   "cell_type": "code",
   "execution_count": 10,
   "id": "08d3a0fe-51c8-480c-b122-e7406442812d",
   "metadata": {},
   "outputs": [
    {
     "name": "stdout",
     "output_type": "stream",
     "text": [
      "230\n"
     ]
    }
   ],
   "source": [
    "print(moment.microsecond) # Extract the microsecond"
   ]
  },
  {
   "cell_type": "markdown",
   "id": "fd8fe0bb-c938-402a-9af0-bbce0170c4ec",
   "metadata": {},
   "source": [
    "### Bài 11: Datetime"
   ]
  },
  {
   "cell_type": "code",
   "execution_count": 11,
   "id": "67148745-0f3d-4f27-af7a-1aba1d9ead48",
   "metadata": {},
   "outputs": [
    {
     "name": "stdout",
     "output_type": "stream",
     "text": [
      "2013-04-23 23:04:59\n"
     ]
    }
   ],
   "source": [
    "from datetime import datetime\n",
    "x = datetime(year = 2013, month = 4, day = 23,\n",
    "hour = 23, minute = 4, second = 59)\n",
    "print(x)"
   ]
  },
  {
   "cell_type": "code",
   "execution_count": 12,
   "id": "805871e6-0726-49bd-9d7b-36ed6b695eaf",
   "metadata": {},
   "outputs": [
    {
     "name": "stdout",
     "output_type": "stream",
     "text": [
      "<class 'datetime.datetime'>\n"
     ]
    }
   ],
   "source": [
    "print(type(x))"
   ]
  },
  {
   "cell_type": "markdown",
   "id": "5c01cbd5-76b4-4bda-bd22-d9f0a13f9789",
   "metadata": {},
   "source": [
    "### Bài 12: Today () et now ()"
   ]
  },
  {
   "cell_type": "code",
   "execution_count": 13,
   "id": "338a9b61-142f-4d68-92a2-02008c7579a7",
   "metadata": {},
   "outputs": [
    {
     "name": "stdout",
     "output_type": "stream",
     "text": [
      "2025-08-15 16:16:13.494254\n"
     ]
    }
   ],
   "source": [
    "print(x.today())"
   ]
  },
  {
   "cell_type": "code",
   "execution_count": 14,
   "id": "6d31cf87-26e8-4cd6-bd22-c12893506e53",
   "metadata": {},
   "outputs": [
    {
     "name": "stdout",
     "output_type": "stream",
     "text": [
      "2025-08-15 16:16:19.653012\n"
     ]
    }
   ],
   "source": [
    "print(datetime.today())"
   ]
  },
  {
   "cell_type": "markdown",
   "id": "e979debb-db60-439b-bfc9-2865ec145663",
   "metadata": {},
   "source": [
    "### Bài 13: Timestamp "
   ]
  },
  {
   "cell_type": "code",
   "execution_count": 15,
   "id": "91dc4dc0-f801-4378-8213-092c86f11895",
   "metadata": {},
   "outputs": [
    {
     "name": "stdout",
     "output_type": "stream",
     "text": [
      "1366758299.0\n"
     ]
    }
   ],
   "source": [
    "print(x.timestamp())"
   ]
  },
  {
   "cell_type": "markdown",
   "id": "7ccdb220-e0cc-46a2-bb65-52afa8e564a1",
   "metadata": {},
   "source": [
    "### Bài 14: Timedelta"
   ]
  },
  {
   "cell_type": "code",
   "execution_count": 16,
   "id": "d6915801-1bf8-4038-9d0e-e657bc31abbf",
   "metadata": {},
   "outputs": [
    {
     "data": {
      "text/plain": [
       "datetime.timedelta(days=1, seconds=30)"
      ]
     },
     "execution_count": 16,
     "metadata": {},
     "output_type": "execute_result"
    }
   ],
   "source": [
    "from datetime import timedelta\n",
    "duree = timedelta(days = 1, seconds = 30)\n",
    "duree"
   ]
  },
  {
   "cell_type": "code",
   "execution_count": 18,
   "id": "2ee312c6-934a-43f7-ab3c-55128bb57fa4",
   "metadata": {},
   "outputs": [
    {
     "data": {
      "text/plain": [
       "1"
      ]
     },
     "execution_count": 18,
     "metadata": {},
     "output_type": "execute_result"
    }
   ],
   "source": [
    "duree.days"
   ]
  },
  {
   "cell_type": "code",
   "execution_count": 19,
   "id": "ba5eee6f-705b-44b7-8010-d1b885e37736",
   "metadata": {},
   "outputs": [
    {
     "data": {
      "text/plain": [
       "158430.0"
      ]
     },
     "execution_count": 19,
     "metadata": {},
     "output_type": "execute_result"
    }
   ],
   "source": [
    "duree = timedelta(days = 1, seconds = 30, hours = 20)\n",
    "duree.total_seconds()"
   ]
  },
  {
   "cell_type": "markdown",
   "id": "370fcf19-f4d4-4b8e-aa87-fdeb8d5b99e5",
   "metadata": {},
   "source": [
    "### Bài 15: Time between two objects date or datetime"
   ]
  },
  {
   "cell_type": "code",
   "execution_count": 22,
   "id": "0724f415-bed7-4cdf-ba19-00102e139f41",
   "metadata": {},
   "outputs": [
    {
     "name": "stdout",
     "output_type": "stream",
     "text": [
      "<class 'datetime.timedelta'>\n"
     ]
    }
   ],
   "source": [
    "from datetime import timedelta, date\n",
    "beginning = date(2018, 1, 1)\n",
    "end = date(2018, 1, 2)\n",
    "nb_days = end-beginning\n",
    "print(type(nb_days))"
   ]
  },
  {
   "cell_type": "code",
   "execution_count": 23,
   "id": "fdeebe64-01bc-467f-8e2d-1f38cc8d5732",
   "metadata": {},
   "outputs": [
    {
     "name": "stdout",
     "output_type": "stream",
     "text": [
      "1 day, 0:00:00\n"
     ]
    }
   ],
   "source": [
    "print(nb_days)"
   ]
  },
  {
   "cell_type": "code",
   "execution_count": 24,
   "id": "b9b63a5f-2df5-4446-917e-f5c131f632de",
   "metadata": {},
   "outputs": [
    {
     "name": "stdout",
     "output_type": "stream",
     "text": [
      "<class 'datetime.timedelta'>\n"
     ]
    }
   ],
   "source": [
    "beginning = datetime(2018, 1, 1, 12, 26, 30, 230)\n",
    "end = datetime(2018, 1, 2, 11, 14, 31)\n",
    "duration = end-beginning\n",
    "print(type(duration))"
   ]
  },
  {
   "cell_type": "code",
   "execution_count": 25,
   "id": "856349af-85e5-415c-873a-b9610e8b6336",
   "metadata": {},
   "outputs": [
    {
     "name": "stdout",
     "output_type": "stream",
     "text": [
      "22:48:00.999770\n"
     ]
    }
   ],
   "source": [
    "print(duration)"
   ]
  },
  {
   "cell_type": "code",
   "execution_count": 26,
   "id": "e681b2d1-804a-4c03-97e8-0e337ab70b02",
   "metadata": {},
   "outputs": [
    {
     "data": {
      "text/plain": [
       "datetime.timedelta(days=1)"
      ]
     },
     "execution_count": 26,
     "metadata": {},
     "output_type": "execute_result"
    }
   ],
   "source": [
    "beginning = date(2021, 2,28)\n",
    "end = date(2021, 3, 1)\n",
    "duration = end - beginning\n",
    "duration"
   ]
  },
  {
   "cell_type": "code",
   "execution_count": 27,
   "id": "3497d341-cab5-4a01-af92-0fa5468ecbe1",
   "metadata": {},
   "outputs": [
    {
     "data": {
      "text/plain": [
       "datetime.timedelta(days=2)"
      ]
     },
     "execution_count": 27,
     "metadata": {},
     "output_type": "execute_result"
    }
   ],
   "source": [
    "beginning_leap = date(2020, 2,28)\n",
    "end_leap = date(2020, 3, 1)\n",
    "beginning_leap = end_leap - beginning_leap\n",
    "beginning_leap"
   ]
  },
  {
   "cell_type": "code",
   "execution_count": 28,
   "id": "2d297a75-3feb-400d-9f5d-7ab463c68529",
   "metadata": {},
   "outputs": [
    {
     "name": "stdout",
     "output_type": "stream",
     "text": [
      "2019-01-01 00:00:00\n"
     ]
    }
   ],
   "source": [
    "debut = datetime(2018, 12, 31, 23, 59, 59)\n",
    "print(debut + timedelta(seconds = 1))"
   ]
  },
  {
   "cell_type": "code",
   "execution_count": null,
   "id": "8bbd31cb-ce4b-4aed-bccc-3fb651a74c5a",
   "metadata": {},
   "outputs": [],
   "source": [
    "2"
   ]
  },
  {
   "cell_type": "markdown",
   "id": "90b22095-672b-4730-bc4c-2869425797c3",
   "metadata": {},
   "source": [
    "# Chapter 3: Structures"
   ]
  },
  {
   "cell_type": "markdown",
   "id": "da25f22c-9f32-42b2-9cee-e7b52dd87439",
   "metadata": {},
   "source": [
    "## 3.1. Lists"
   ]
  },
  {
   "cell_type": "markdown",
   "id": "0b598e4f-2626-4c7d-b1cd-e2383feb715a",
   "metadata": {},
   "source": [
    "### Bài 1: Introduction of list"
   ]
  },
  {
   "cell_type": "code",
   "execution_count": 29,
   "id": "563c7ab5-8bc5-40d8-b50d-80eb4cfe77b0",
   "metadata": {},
   "outputs": [
    {
     "name": "stdout",
     "output_type": "stream",
     "text": [
      "['Pascaline', 'Gauthier', 'Xuan', 'Jimmy']\n"
     ]
    }
   ],
   "source": [
    "x = [\"Pascaline\", \"Gauthier\", \"Xuan\", \"Jimmy\"]\n",
    "print(x)"
   ]
  },
  {
   "cell_type": "code",
   "execution_count": 30,
   "id": "426e83b7-19ac-4a04-a334-8f2e22dde099",
   "metadata": {},
   "outputs": [
    {
     "name": "stdout",
     "output_type": "stream",
     "text": [
      "[1, 2, 3, 4, 5]\n"
     ]
    }
   ],
   "source": [
    "y = [1, 2, 3, 4, 5]\n",
    "print(y)"
   ]
  },
  {
   "cell_type": "code",
   "execution_count": 31,
   "id": "e5cb0e3d-2621-4efa-ba5c-a370a864e7fa",
   "metadata": {},
   "outputs": [
    {
     "name": "stdout",
     "output_type": "stream",
     "text": [
      "['Piketty', 'Thomas', 1971]\n"
     ]
    }
   ],
   "source": [
    "z = [\"Piketty\", \"Thomas\", 1971]\n",
    "print(z)"
   ]
  },
  {
   "cell_type": "code",
   "execution_count": 32,
   "id": "45e515c8-41a2-4524-a8a2-701325586899",
   "metadata": {},
   "outputs": [
    {
     "name": "stdout",
     "output_type": "stream",
     "text": [
      "[['aaa', 'bbb'], ['Anne', 'Bob', 'Irma', 'John']]\n"
     ]
    }
   ],
   "source": [
    "tweets = [\"aaa\", \"bbb\"]\n",
    "followers = [\"Anne\", \"Bob\", \"Irma\", \"John\"]\n",
    "compte = [tweets, followers]\n",
    "print(compte)"
   ]
  },
  {
   "cell_type": "markdown",
   "id": "b00e8abd-1daa-4310-ae65-c80409c3a08a",
   "metadata": {},
   "source": [
    "### Bài 2: Extraction of the Elements"
   ]
  },
  {
   "cell_type": "code",
   "execution_count": 33,
   "id": "80ea97cb-c4ae-4271-a765-b9082526fb09",
   "metadata": {},
   "outputs": [
    {
     "name": "stdout",
     "output_type": "stream",
     "text": [
      "Pascaline\n"
     ]
    }
   ],
   "source": [
    "print(x[0]) # The first element of x"
   ]
  },
  {
   "cell_type": "code",
   "execution_count": 34,
   "id": "99068c09-8e23-4a9e-8b02-06e91a27b7f0",
   "metadata": {},
   "outputs": [
    {
     "name": "stdout",
     "output_type": "stream",
     "text": [
      "Gauthier\n"
     ]
    }
   ],
   "source": [
    "print(x[1]) # The second element of x"
   ]
  },
  {
   "cell_type": "code",
   "execution_count": 35,
   "id": "67311e1e-49ee-4e04-91f8-f87b7597f359",
   "metadata": {},
   "outputs": [
    {
     "name": "stdout",
     "output_type": "stream",
     "text": [
      "Jimmy\n"
     ]
    }
   ],
   "source": [
    "print(x[-1]) # The last element of x"
   ]
  },
  {
   "cell_type": "code",
   "execution_count": 36,
   "id": "622a17a7-317e-45fb-8da9-df83eccef00c",
   "metadata": {},
   "outputs": [
    {
     "name": "stdout",
     "output_type": "stream",
     "text": [
      "Xuan\n"
     ]
    }
   ],
   "source": [
    "print(x[-2]) # The penultimate element of x"
   ]
  },
  {
   "cell_type": "code",
   "execution_count": 37,
   "id": "67e3cec1-5a86-4560-a2b4-d86288c03acd",
   "metadata": {},
   "outputs": [
    {
     "name": "stdout",
     "output_type": "stream",
     "text": [
      "['Gauthier']\n"
     ]
    }
   ],
   "source": [
    "print(x[1:2]) # The first and second elements of x"
   ]
  },
  {
   "cell_type": "code",
   "execution_count": 38,
   "id": "f2004400-cbc4-4e12-a2ab-48ce0f93b4c3",
   "metadata": {},
   "outputs": [
    {
     "name": "stdout",
     "output_type": "stream",
     "text": [
      "['Xuan', 'Jimmy']\n"
     ]
    }
   ],
   "source": [
    "print(x[2:]) # From the second element (not included) to the end of x"
   ]
  },
  {
   "cell_type": "code",
   "execution_count": 39,
   "id": "18e2a037-a0b2-4ba0-81c0-c9dbbe247093",
   "metadata": {},
   "outputs": [
    {
     "name": "stdout",
     "output_type": "stream",
     "text": [
      "['Pascaline', 'Gauthier']\n"
     ]
    }
   ],
   "source": [
    "print(x[:-2]) # From the first to the penultimate (not included)"
   ]
  },
  {
   "cell_type": "code",
   "execution_count": 40,
   "id": "0707f245-651e-4da7-9982-454f24cb0e4c",
   "metadata": {},
   "outputs": [
    {
     "name": "stdout",
     "output_type": "stream",
     "text": [
      "['Pascaline', 'Xuan']\n"
     ]
    }
   ],
   "source": [
    "print(x[::2]) # Every other element"
   ]
  },
  {
   "cell_type": "code",
   "execution_count": 41,
   "id": "b35f5f71-b64c-4b90-b8ad-4c10892f62eb",
   "metadata": {},
   "outputs": [],
   "source": [
    "tweets = [\"aaa\", \"bbb\"]\n",
    "followers = [\"Anne\", \"Bob\", \"Irma\", \"John\"]\n",
    "conuts = [tweets, followers]\n",
    "res = conuts[1][3] # The 4th item of the 2nd item on the list counts"
   ]
  },
  {
   "cell_type": "code",
   "execution_count": 42,
   "id": "1f2b3acd-86cc-45e2-8935-48caa503ccb2",
   "metadata": {},
   "outputs": [
    {
     "name": "stdout",
     "output_type": "stream",
     "text": [
      "2\n"
     ]
    }
   ],
   "source": [
    "print(len(conuts))"
   ]
  },
  {
   "cell_type": "code",
   "execution_count": 43,
   "id": "e81f17d2-3a1b-4a84-bc73-7aa683db6e47",
   "metadata": {},
   "outputs": [
    {
     "name": "stdout",
     "output_type": "stream",
     "text": [
      "4\n"
     ]
    }
   ],
   "source": [
    "print(len(conuts[1]))"
   ]
  },
  {
   "cell_type": "markdown",
   "id": "a4effe20-b261-4817-a491-addcd23b7a48",
   "metadata": {},
   "source": [
    "### Bài 3: Modification - Replacement"
   ]
  },
  {
   "cell_type": "code",
   "execution_count": 44,
   "id": "97deb477-4431-4724-abd7-4bf2d625dc7e",
   "metadata": {},
   "outputs": [
    {
     "name": "stdout",
     "output_type": "stream",
     "text": [
      "[1, 3, 5, 7, 9]\n"
     ]
    }
   ],
   "source": [
    "x = [1, 3, 5, 6, 9]\n",
    "x[3] = 7 # Replacing the 4th element\n",
    "print(x)"
   ]
  },
  {
   "cell_type": "markdown",
   "id": "9f3993c8-1c2a-4f6e-bc63-eef28916a609",
   "metadata": {},
   "source": [
    "### Bài 4: Modification - Adding Elements"
   ]
  },
  {
   "cell_type": "code",
   "execution_count": 45,
   "id": "280193e2-fe69-465b-be8a-ca633132c9ae",
   "metadata": {},
   "outputs": [
    {
     "name": "stdout",
     "output_type": "stream",
     "text": [
      "[1, 3, 5, 7, 9, 11]\n"
     ]
    }
   ],
   "source": [
    "x.append(11) # Add value 11 at the end of the list\n",
    "print(x)"
   ]
  },
  {
   "cell_type": "code",
   "execution_count": 46,
   "id": "15ebb642-3dd4-4a2e-88bc-1409e03e7db6",
   "metadata": {},
   "outputs": [
    {
     "name": "stdout",
     "output_type": "stream",
     "text": [
      "[1, 3, 5, 7, 9, 11, 13, 15]\n"
     ]
    }
   ],
   "source": [
    "y = [13, 15]\n",
    "x.extend(y)\n",
    "print(x)"
   ]
  },
  {
   "cell_type": "markdown",
   "id": "32e170f0-2a00-4e99-a62b-15b08e09bcc7",
   "metadata": {},
   "source": [
    "### Bài 5: Modification - Deleting Elements"
   ]
  },
  {
   "cell_type": "code",
   "execution_count": 47,
   "id": "5e9f2e4f-eb73-4c92-81ad-9a48c005138f",
   "metadata": {},
   "outputs": [
    {
     "name": "stdout",
     "output_type": "stream",
     "text": [
      "[1, 5, 7, 9, 11, 13, 15]\n"
     ]
    }
   ],
   "source": [
    "x.remove(3) # Remove the fourth element\n",
    "print(x)"
   ]
  },
  {
   "cell_type": "code",
   "execution_count": 48,
   "id": "da7af0b8-81b7-4c2a-9792-43ab5fd5a6fd",
   "metadata": {},
   "outputs": [
    {
     "name": "stdout",
     "output_type": "stream",
     "text": [
      "[1, 3, 5, 9]\n"
     ]
    }
   ],
   "source": [
    "x = [1, 3, 5, 6, 9]\n",
    "del x[3] # Remove the fourth element\n",
    "print(x)"
   ]
  },
  {
   "cell_type": "markdown",
   "id": "6ae39d4f-72e6-4b9d-8c7b-c3f88114a9c0",
   "metadata": {},
   "source": [
    "### Bài 6: Modification - Multiple assignments"
   ]
  },
  {
   "cell_type": "code",
   "execution_count": 49,
   "id": "b9e53a9f-612b-46e9-ace0-c3115a7c3ac4",
   "metadata": {},
   "outputs": [
    {
     "name": "stdout",
     "output_type": "stream",
     "text": [
      "[1, 3, 5, 7, 9]\n"
     ]
    }
   ],
   "source": [
    "x = [1, 3, 5, 6, 10]\n",
    "x[3:5] = [7, 9] # Replaces 4th and 5th values\n",
    "print(x)"
   ]
  },
  {
   "cell_type": "code",
   "execution_count": 50,
   "id": "c45b07c0-461a-446b-9a9e-4c51215340ca",
   "metadata": {},
   "outputs": [
    {
     "name": "stdout",
     "output_type": "stream",
     "text": [
      "[1, 2, 'a', 'b', 'c', 'd', 4, 5]\n"
     ]
    }
   ],
   "source": [
    "x = [1, 2, 3, 4, 5]\n",
    "x[2:3] = ['a', 'b', 'c', 'd'] # Replaces the 3rd value\n",
    "print(x)"
   ]
  },
  {
   "cell_type": "code",
   "execution_count": 51,
   "id": "36dedc98-fd33-4348-898c-0e5a437367c6",
   "metadata": {},
   "outputs": [
    {
     "name": "stdout",
     "output_type": "stream",
     "text": [
      "[1, 2, 3]\n"
     ]
    }
   ],
   "source": [
    "x = [1, 2, 3, 4, 5]\n",
    "x[3:5] = [] # Removes the 4th and 5th values\n",
    "print(x)\n"
   ]
  },
  {
   "cell_type": "markdown",
   "id": "e3f36661-3010-44df-a21f-61661843f7d0",
   "metadata": {},
   "source": [
    "### Bài 7: Verifying if a Value is Present"
   ]
  },
  {
   "cell_type": "code",
   "execution_count": null,
   "id": "ebd5fe30-09ee-4ecf-a114-119f18622464",
   "metadata": {},
   "outputs": [
    {
     "name": "stdout",
     "output_type": "stream",
     "text": [
      "True\n"
     ]
    }
   ],
   "source": [
    "x = [1, 2, 3, 4, 5]\n",
    "print(1 in x)"
   ]
  },
  {
   "cell_type": "markdown",
   "id": "114036c7-75b7-4b21-88da-21989d57f8b8",
   "metadata": {},
   "source": [
    "### Bài 8:  Copy of List"
   ]
  },
  {
   "cell_type": "code",
   "execution_count": 1,
   "id": "f8b31ed0-4b87-4cbd-b993-3e95ca3a0b14",
   "metadata": {},
   "outputs": [
    {
     "name": "stdout",
     "output_type": "stream",
     "text": [
      "[0, 2, 3]\n"
     ]
    }
   ],
   "source": [
    "x = [1, 2, 3]\n",
    "y = x\n",
    "y[0] = 0\n",
    "print(y)"
   ]
  },
  {
   "cell_type": "code",
   "execution_count": 2,
   "id": "61943823",
   "metadata": {},
   "outputs": [
    {
     "name": "stdout",
     "output_type": "stream",
     "text": [
      "[0, 2, 3]\n"
     ]
    }
   ],
   "source": [
    "print(x)"
   ]
  },
  {
   "cell_type": "code",
   "execution_count": 3,
   "id": "944c6604-2fcc-4506-9956-ea0ec9159430",
   "metadata": {},
   "outputs": [
    {
     "name": "stdout",
     "output_type": "stream",
     "text": [
      "x :  [1, 2, 3]\n"
     ]
    }
   ],
   "source": [
    "x = [1, 2, 3]\n",
    "y = list(x)\n",
    "y[0] = 0\n",
    "print(\"x : \", x)"
   ]
  },
  {
   "cell_type": "code",
   "execution_count": 4,
   "id": "a0986bf2-20bf-4b62-9c21-054e9792ad0b",
   "metadata": {},
   "outputs": [
    {
     "name": "stdout",
     "output_type": "stream",
     "text": [
      "y :  [0, 2, 3]\n"
     ]
    }
   ],
   "source": [
    "print(\"y : \", y)"
   ]
  },
  {
   "cell_type": "code",
   "execution_count": 5,
   "id": "5e56b525-5306-4563-897e-559fb4db5448",
   "metadata": {},
   "outputs": [
    {
     "name": "stdout",
     "output_type": "stream",
     "text": [
      "x :  [1, 2, 3, 4]\n"
     ]
    }
   ],
   "source": [
    "x = [1, 2, 3, 4]     # Tạo list x gồm 4 phần tử: [1, 2, 3, 4]\n",
    "\n",
    "y = x[:2]            # Tạo list y bằng cách lấy 2 phần tử đầu của x (từ index 0 đến 1), \n",
    "                     # nên y = [1, 2]. Đây là một bản sao (copy nông), \n",
    "                     # KHÔNG liên kết trực tiếp với list x.\n",
    "\n",
    "y[0] = 0             # Thay đổi phần tử đầu tiên của y (từ 1 thành 0), \n",
    "                     # nên y trở thành [0, 2]. \n",
    "                     # Vì y là bản sao, x KHÔNG bị thay đổi.\n",
    "\n",
    "print(\"x : \", x)     # In ra list x. Kết quả vẫn là [1, 2, 3, 4]\n"
   ]
  },
  {
   "cell_type": "code",
   "execution_count": 6,
   "id": "b4dbc53a-00cb-4aeb-88c7-5e27f3c1ac01",
   "metadata": {},
   "outputs": [
    {
     "name": "stdout",
     "output_type": "stream",
     "text": [
      "y :  [0, 2]\n"
     ]
    }
   ],
   "source": [
    "print(\"y : \", y)"
   ]
  },
  {
   "cell_type": "markdown",
   "id": "506f4f64-2c20-4203-9b1a-0cb0b2b1c9af",
   "metadata": {},
   "source": [
    "### Bài 9: Sorting"
   ]
  },
  {
   "cell_type": "code",
   "execution_count": 7,
   "id": "f235f713-a4aa-4f29-b8a0-136f63a596f2",
   "metadata": {},
   "outputs": [
    {
     "name": "stdout",
     "output_type": "stream",
     "text": [
      "[1, 2, 3, 4]\n"
     ]
    }
   ],
   "source": [
    "x = [2, 1, 4, 3]   # Tạo list x gồm các phần tử: [2, 1, 4, 3]\n",
    "\n",
    "x.sort()           # Sắp xếp list x tại chỗ (in-place) theo thứ tự tăng dần.\n",
    "                   # Sau lệnh này, x sẽ trở thành [1, 2, 3, 4]\n",
    "\n",
    "print(x)           # In ra list sau khi sắp xếp: [1, 2, 3, 4]\n"
   ]
  },
  {
   "cell_type": "code",
   "execution_count": 8,
   "id": "f136d20b-b34b-4304-80cc-1eb56c80bda4",
   "metadata": {},
   "outputs": [
    {
     "name": "stdout",
     "output_type": "stream",
     "text": [
      "['a', 'a', 'b', 'c']\n"
     ]
    }
   ],
   "source": [
    "x = [\"c\", \"b\", \"a\", \"a\"]   # Tạo list x gồm 4 chuỗi: [\"c\", \"b\", \"a\", \"a\"]\n",
    "\n",
    "x.sort()                   # Sắp xếp list x tại chỗ (in-place) theo thứ tự bảng chữ cái (tăng dần).\n",
    "                           # Thứ tự so sánh là theo mã ASCII: \"a\" < \"b\" < \"c\"\n",
    "                           # Nên x trở thành [\"a\", \"a\", \"b\", \"c\"]\n",
    "\n",
    "print(x)                   # In ra list sau khi sắp xếp: [\"a\", \"a\", \"b\", \"c\"]\n"
   ]
  },
  {
   "cell_type": "code",
   "execution_count": 9,
   "id": "4f2cd99c-0d28-493a-81db-18906809aff4",
   "metadata": {},
   "outputs": [
    {
     "name": "stdout",
     "output_type": "stream",
     "text": [
      "['a', 'aa', 'aa', 'aaaaa']\n"
     ]
    }
   ],
   "source": [
    "x = [\"aa\", \"a\", \"aaaaa\", \"aa\"]   # Tạo list x gồm 4 chuỗi: [\"aa\", \"a\", \"aaaaa\", \"aa\"]\n",
    "\n",
    "x.sort(key=len)                  # Sắp xếp list theo độ dài chuỗi (dùng hàm len làm \"key\").\n",
    "                                 # len(\"aa\") = 2\n",
    "                                 # len(\"a\") = 1\n",
    "                                 # len(\"aaaaa\") = 5\n",
    "                                 # len(\"aa\") = 2\n",
    "                                 # Thứ tự tăng dần theo độ dài: \"a\" (1) < \"aa\" (2) < \"aa\" (2) < \"aaaaa\" (5)\n",
    "                                 # Kết quả: [\"a\", \"aa\", \"aa\", \"aaaaa\"]\n",
    "\n",
    "print(x)                         # In ra list sau khi sắp xếp: [\"a\", \"aa\", \"aa\", \"aaaaa\"]\n"
   ]
  },
  {
   "cell_type": "markdown",
   "id": "63e58090-4fe4-42ea-a5df-ba0d69af938c",
   "metadata": {},
   "source": [
    "## 3.2. Tuples"
   ]
  },
  {
   "cell_type": "markdown",
   "id": "29d0ded5-bc2f-4c0f-b9c8-a94f6c9e2e5e",
   "metadata": {},
   "source": [
    "### Bài 1: Extraction of the Elements"
   ]
  },
  {
   "cell_type": "code",
   "execution_count": 11,
   "id": "5b824741-090b-44c7-bc89-242084775cdb",
   "metadata": {},
   "outputs": [
    {
     "name": "stdout",
     "output_type": "stream",
     "text": [
      "(1, 4, 9, 16, 25)\n"
     ]
    }
   ],
   "source": [
    "x = 1, 4, 9, 16, 25    # Gán x là một tuple (bộ giá trị), gồm 5 phần tử: (1, 4, 9, 16, 25)\n",
    "\n",
    "print(x)               # In ra tuple x"
   ]
  },
  {
   "cell_type": "code",
   "execution_count": 12,
   "id": "544811ab-ed7c-4853-8944-e4c2396c98aa",
   "metadata": {},
   "outputs": [
    {
     "name": "stdout",
     "output_type": "stream",
     "text": [
      "1\n"
     ]
    }
   ],
   "source": [
    "print(x[0])"
   ]
  },
  {
   "cell_type": "markdown",
   "id": "7fed5806-57c2-40d1-826d-4240e53b896d",
   "metadata": {},
   "source": [
    "### Bài 2: Modification"
   ]
  },
  {
   "cell_type": "code",
   "execution_count": 13,
   "id": "18d556e1-3490-44b1-b447-c1fab9dc8ccc",
   "metadata": {},
   "outputs": [
    {
     "name": "stdout",
     "output_type": "stream",
     "text": [
      "((1, 4, 9, 16), (1, 8, 26, 64))\n"
     ]
    }
   ],
   "source": [
    "x = ((1, 4, 9, 16), (1, 8, 26, 64))   # Tạo một tuple gồm 2 phần tử.\n",
    "                                      # Mỗi phần tử lại là một tuple con:\n",
    "                                      # (1, 4, 9, 16) và (1, 8, 26, 64)\n",
    "\n",
    "print(x)                              # In ra tuple x"
   ]
  },
  {
   "cell_type": "markdown",
   "id": "e15e7c83-bcc0-491c-9ef4-8d647b26b014",
   "metadata": {},
   "source": [
    "## 3.3. Sets"
   ]
  },
  {
   "cell_type": "code",
   "execution_count": 7,
   "id": "77f1aca3-ce31-47bc-a0a5-3d415475fb2e",
   "metadata": {},
   "outputs": [
    {
     "name": "stdout",
     "output_type": "stream",
     "text": [
      "{'Aix-en-Provence', 'Nice', 'Marseille', 'Rennes'}\n"
     ]
    }
   ],
   "source": [
    "new_set = set({\"Marseille\", \"Aix-en-Provence\", \"Nice\", \"Rennes\"})  \n",
    "# Tạo một tập hợp (set) gồm 4 phần tử chuỗi: \"Marseille\", \"Aix-en-Provence\", \"Nice\", \"Rennes\".\n",
    "# Trong Python, set là một cấu trúc dữ liệu:\n",
    "#  - KHÔNG lưu trữ phần tử trùng lặp\n",
    "#  - KHÔNG đảm bảo thứ tự (các phần tử có thể in ra lộn xộn)\n",
    "\n",
    "print(new_set)  \n",
    "# In ra tập hợp new_set"
   ]
  },
  {
   "cell_type": "code",
   "execution_count": 13,
   "id": "53cb2c60-c80e-4cbc-8f0c-875172891f7a",
   "metadata": {},
   "outputs": [
    {
     "name": "stdout",
     "output_type": "stream",
     "text": [
      "{'Aix-en-Provence', 'Nice', 'Marseille', 'Rennes'}\n"
     ]
    }
   ],
   "source": [
    "new_set = {\"Marseille\", \"Aix-en-Provence\", \"Nice\", \"Rennes\"}  \n",
    "# Tạo một tập hợp (set) trực tiếp bằng dấu ngoặc nhọn { }.\n",
    "# Set chứa 4 phần tử chuỗi: \"Marseille\", \"Aix-en-Provence\", \"Nice\", \"Rennes\".\n",
    "# Đặc điểm của set:\n",
    "#   - Không có phần tử trùng lặp\n",
    "#   - Không đảm bảo thứ tự khi in ra (có thể thay đổi mỗi lần chạy)\n",
    "\n",
    "print(new_set)  \n",
    "# In ra set vừa tạo"
   ]
  },
  {
   "cell_type": "code",
   "execution_count": 14,
   "id": "828262bc-c9ab-4aa1-b675-366e7de00526",
   "metadata": {},
   "outputs": [
    {
     "data": {
      "text/plain": [
       "dict"
      ]
     },
     "execution_count": 14,
     "metadata": {},
     "output_type": "execute_result"
    }
   ],
   "source": [
    "empty_set = {}        # Tạo một cặp ngoặc nhọn rỗng.\n",
    "                      # Nhưng trong Python, {} mặc định được hiểu là dictionary (dict), KHÔNG phải set.\n",
    "\n",
    "type(empty_set)       # Hàm type() trả về kiểu dữ liệu của biến."
   ]
  },
  {
   "cell_type": "code",
   "execution_count": 15,
   "id": "ef864419-fe8b-4c6c-a4c4-9ab49ab9141a",
   "metadata": {},
   "outputs": [
    {
     "name": "stdout",
     "output_type": "stream",
     "text": [
      "<class 'set'>\n"
     ]
    }
   ],
   "source": [
    "empty_set = set()       # Tạo một set rỗng bằng hàm set().\n",
    "                        # Đây là cách duy nhất để tạo set rỗng trong Python,\n",
    "                        # vì {} mặc định sẽ tạo ra dict (từ điển).\n",
    "\n",
    "print(type(empty_set))  # Kiểm tra kiểu dữ liệu của biến empty_set"
   ]
  },
  {
   "cell_type": "code",
   "execution_count": 16,
   "id": "6ac84cb9-9d78-4ac1-85a2-3483d87c9dd8",
   "metadata": {},
   "outputs": [
    {
     "name": "stdout",
     "output_type": "stream",
     "text": [
      "{'Aix-en-Provence', 'Nice', 'Marseille', 'Rennes'}\n"
     ]
    }
   ],
   "source": [
    "new_set = set({\"Marseille\", \"Aix-en-Provence\", \"Nice\", \"Marseille\", \"Rennes\"})  \n",
    "# Tạo một set từ tập hợp gồm nhiều chuỗi.\n",
    "# Có 2 lần xuất hiện \"Marseille\", nhưng set KHÔNG cho phép phần tử trùng lặp.\n",
    "# Do đó, \"Marseille\" chỉ được giữ lại 1 lần trong set.\n",
    "\n",
    "print(new_set)  \n",
    "# In ra set. Thứ tự in ra có thể khác nhau vì set không sắp xếp phần tử."
   ]
  },
  {
   "cell_type": "code",
   "execution_count": 11,
   "id": "4f1df29b-94e8-4708-82d7-25198c295e2e",
   "metadata": {},
   "outputs": [
    {
     "name": "stdout",
     "output_type": "stream",
     "text": [
      "4\n"
     ]
    }
   ],
   "source": [
    "print(len(new_set))"
   ]
  },
  {
   "cell_type": "markdown",
   "id": "84f832b8-5550-45f8-9038-930165c91037",
   "metadata": {},
   "source": [
    "### Bài 2: Modification - Adding Elements"
   ]
  },
  {
   "cell_type": "code",
   "execution_count": 17,
   "id": "b5ee342f-aea4-46b4-888c-b6aefd2dd365",
   "metadata": {},
   "outputs": [
    {
     "name": "stdout",
     "output_type": "stream",
     "text": [
      "{'Nice', 'Marseille', 'Toulon', 'Aix-en-Provence', 'Rennes'}\n"
     ]
    }
   ],
   "source": [
    "new_set.add(\"Toulon\")   # Thêm một phần tử mới \"Toulon\" vào set new_set.\n",
    "                        # Nếu \"Toulon\" chưa có trong set thì nó sẽ được thêm vào.\n",
    "                        # Nếu đã tồn tại rồi thì set KHÔNG thay đổi (vì set không có phần tử trùng).\n",
    "\n",
    "print(new_set)          # In ra set sau khi thêm phần tử."
   ]
  },
  {
   "cell_type": "code",
   "execution_count": 18,
   "id": "68b028c0-af23-4728-88b1-a42152d6a3e5",
   "metadata": {},
   "outputs": [
    {
     "name": "stdout",
     "output_type": "stream",
     "text": [
      "{'Nice', 'Marseille', 'Toulon', 'Aix-en-Provence', 'Rennes'}\n"
     ]
    }
   ],
   "source": [
    "new_set.add(\"Toulon\")   # Thêm phần tử \"Toulon\" vào set new_set.\n",
    "                        # Nếu \"Toulon\" chưa có, nó sẽ được thêm.\n",
    "                        # Nếu \"Toulon\" đã tồn tại trong set, thì set KHÔNG thay đổi\n",
    "                        # (vì set không chứa phần tử trùng lặp).\n",
    "\n",
    "print(new_set)          # In ra set sau khi thêm phần tử."
   ]
  },
  {
   "cell_type": "markdown",
   "id": "5f5bb2a4-bbb9-48c1-9a9d-ab33ff31ec68",
   "metadata": {},
   "source": [
    "### Bài 3: Modification - Deletion"
   ]
  },
  {
   "cell_type": "code",
   "execution_count": 19,
   "id": "ec81f9a2-f1f8-4619-8355-53699a0ec1cd",
   "metadata": {},
   "outputs": [
    {
     "name": "stdout",
     "output_type": "stream",
     "text": [
      "{'Nice', 'Marseille', 'Aix-en-Provence', 'Rennes'}\n"
     ]
    }
   ],
   "source": [
    "new_set.remove(\"Toulon\")   # Xóa phần tử \"Toulon\" ra khỏi set new_set.\n",
    "                           # Nếu \"Toulon\" có trong set → nó sẽ bị xóa.\n",
    "                           # Nếu \"Toulon\" KHÔNG có trong set → sẽ gây ra lỗi KeyError.\n",
    "\n",
    "print(new_set)             # In ra set sau khi xóa \"Toulon\"."
   ]
  },
  {
   "cell_type": "code",
   "execution_count": 20,
   "id": "4779dd83-7aa6-45a3-8b7d-9e124d53c8d2",
   "metadata": {},
   "outputs": [
    {
     "ename": "KeyError",
     "evalue": "'Toulon'",
     "output_type": "error",
     "traceback": [
      "\u001b[31m---------------------------------------------------------------------------\u001b[39m",
      "\u001b[31mKeyError\u001b[39m                                  Traceback (most recent call last)",
      "\u001b[36mCell\u001b[39m\u001b[36m \u001b[39m\u001b[32mIn[20]\u001b[39m\u001b[32m, line 1\u001b[39m\n\u001b[32m----> \u001b[39m\u001b[32m1\u001b[39m \u001b[43mnew_set\u001b[49m\u001b[43m.\u001b[49m\u001b[43mremove\u001b[49m\u001b[43m(\u001b[49m\u001b[33;43m\"\u001b[39;49m\u001b[33;43mToulon\u001b[39;49m\u001b[33;43m\"\u001b[39;49m\u001b[43m)\u001b[49m   \u001b[38;5;66;03m# Xóa phần tử \"Toulon\" khỏi set new_set.\u001b[39;00m\n\u001b[32m      2\u001b[39m                            \u001b[38;5;66;03m# Nếu \"Toulon\" tồn tại → nó sẽ bị xóa thành công.\u001b[39;00m\n\u001b[32m      3\u001b[39m                            \u001b[38;5;66;03m# Nếu \"Toulon\" KHÔNG tồn tại → Python sẽ báo lỗi KeyError.\u001b[39;00m\n",
      "\u001b[31mKeyError\u001b[39m: 'Toulon'"
     ]
    }
   ],
   "source": [
    "new_set.remove(\"Toulon\")   # Xóa phần tử \"Toulon\" khỏi set new_set.\n",
    "                           # Nếu \"Toulon\" tồn tại → nó sẽ bị xóa thành công.\n",
    "                           # Nếu \"Toulon\" KHÔNG tồn tại → Python sẽ báo lỗi KeyError."
   ]
  },
  {
   "cell_type": "code",
   "execution_count": 21,
   "id": "923cb7b1-0c35-4fcf-be75-61bd5a1d8062",
   "metadata": {},
   "outputs": [
    {
     "name": "stdout",
     "output_type": "stream",
     "text": [
      "{'Nice', 'Marseille', 'Aix-en-Provence', 'Rennes'}\n"
     ]
    }
   ],
   "source": [
    "print(new_set)"
   ]
  },
  {
   "cell_type": "markdown",
   "id": "238bd4c4-ce1f-4f6c-8104-8cfa453e0c78",
   "metadata": {},
   "source": [
    "### Bài 4: Belonging test"
   ]
  },
  {
   "cell_type": "code",
   "execution_count": 22,
   "id": "8149df7c-c608-4eb8-a1f6-96e657d4dcf9",
   "metadata": {},
   "outputs": [
    {
     "name": "stdout",
     "output_type": "stream",
     "text": [
      "True\n"
     ]
    }
   ],
   "source": [
    "print(\"Marseille\" in new_set)  \n",
    "# Toán tử `in` dùng để kiểm tra xem một phần tử có tồn tại trong set hay không.\n",
    "# Nếu \"Marseille\" có trong new_set → trả về True\n",
    "# Nếu không có → trả về False"
   ]
  },
  {
   "cell_type": "code",
   "execution_count": 23,
   "id": "846b1618-c97e-429e-97f6-6bb0cba6c2fc",
   "metadata": {},
   "outputs": [
    {
     "name": "stdout",
     "output_type": "stream",
     "text": [
      "False\n"
     ]
    }
   ],
   "source": [
    "print(\"Paris\" in new_set)  \n",
    "# Kiểm tra xem chuỗi \"Paris\" có nằm trong set new_set hay không.\n",
    "# Nếu có → in ra True\n",
    "# Nếu không có → in ra False"
   ]
  },
  {
   "cell_type": "markdown",
   "id": "c79364b5-aac2-46f2-be7e-789e6db89c17",
   "metadata": {},
   "source": [
    "### Bài 5: Copying a Set"
   ]
  },
  {
   "cell_type": "code",
   "execution_count": 24,
   "id": "35d77495-3634-4190-9969-e703d0a6de1f",
   "metadata": {},
   "outputs": [
    {
     "name": "stdout",
     "output_type": "stream",
     "text": [
      "y :  {'Aix-en-Provence', 'Nice', 'Marseille', 'Toulon'}\n"
     ]
    }
   ],
   "source": [
    "new_set = set({\"Marseille\", \"Aix-en-Provence\", \"Nice\"})  \n",
    "# Tạo một set gồm 3 phần tử: {\"Marseille\", \"Aix-en-Provence\", \"Nice\"}\n",
    "\n",
    "y = new_set.copy()     \n",
    "# Tạo một bản sao (copy) của new_set và gán cho y.\n",
    "# Lúc này y = {\"Marseille\", \"Aix-en-Provence\", \"Nice\"} nhưng là một đối tượng riêng biệt.\n",
    "\n",
    "y.add(\"Toulon\")        \n",
    "# Thêm phần tử \"Toulon\" vào set y.\n",
    "# Vì là set riêng nên chỉ y thay đổi, new_set vẫn giữ nguyên.\n",
    "\n",
    "print(\"y : \", y)       \n",
    "# In ra set y sau khi thêm \"Toulon\".\n"
   ]
  },
  {
   "cell_type": "code",
   "execution_count": 25,
   "id": "12d4ee14-0b5f-4049-b703-e01dd416b506",
   "metadata": {},
   "outputs": [
    {
     "name": "stdout",
     "output_type": "stream",
     "text": [
      "set :  {'Aix-en-Provence', 'Nice', 'Marseille'}\n"
     ]
    }
   ],
   "source": [
    "print(\"set : \", new_set)"
   ]
  },
  {
   "cell_type": "markdown",
   "id": "191a9562-d923-4129-b89d-cd91927f1cdf",
   "metadata": {},
   "source": [
    "### Bài 6: Conversion to a List"
   ]
  },
  {
   "cell_type": "code",
   "execution_count": 27,
   "id": "936cdbbf-abc4-4abb-936e-cbe1ee564efd",
   "metadata": {},
   "outputs": [
    {
     "name": "stdout",
     "output_type": "stream",
     "text": [
      "['Marseille', 'Aix-en-Provence', 'Marseille', 'Marseille']\n"
     ]
    }
   ],
   "source": [
    "my_list = [\"Marseille\", \"Aix-en-Provence\", \"Marseille\", \"Marseille\"]  \n",
    "# Tạo một list gồm 4 phần tử, trong đó \"Marseille\" xuất hiện 3 lần.\n",
    "\n",
    "print(my_list)  \n",
    "# In ra toàn bộ list theo đúng thứ tự và giữ nguyên các phần tử trùng lặp."
   ]
  },
  {
   "cell_type": "code",
   "execution_count": 28,
   "id": "affe329d-4743-44df-b286-eb47a644b19b",
   "metadata": {},
   "outputs": [
    {
     "name": "stdout",
     "output_type": "stream",
     "text": [
      "{'Aix-en-Provence', 'Marseille'}\n"
     ]
    }
   ],
   "source": [
    "my_set = set(my_list)    \n",
    "# Chuyển list my_list thành set.\n",
    "# Vì set KHÔNG cho phép phần tử trùng lặp,\n",
    "# nên các giá trị \"Marseille\" lặp lại sẽ bị loại bỏ, chỉ giữ 1 lần.\n",
    "\n",
    "print(my_set)            \n",
    "# In ra set. Thứ tự phần tử trong set là không cố định."
   ]
  },
  {
   "cell_type": "code",
   "execution_count": 29,
   "id": "f6e6a04c-ed7f-4b73-95c8-63e0f93d72bf",
   "metadata": {},
   "outputs": [
    {
     "name": "stdout",
     "output_type": "stream",
     "text": [
      "['Aix-en-Provence', 'Marseille']\n"
     ]
    }
   ],
   "source": [
    "my_new_list = list(my_set)  \n",
    "# Chuyển set my_set thành list.\n",
    "# Vì set không có thứ tự, nên khi chuyển thành list,\n",
    "# thứ tự phần tử có thể khác nhau mỗi lần chạy.\n",
    "\n",
    "print(my_new_list)       \n",
    "# In ra list mới sau khi chuyển đổi."
   ]
  },
  {
   "cell_type": "markdown",
   "id": "47b279f7-2024-4c84-97af-77df81ac42a8",
   "metadata": {},
   "source": [
    "## 3.4. Dictionaries"
   ]
  },
  {
   "cell_type": "markdown",
   "id": "2a85c022-d5a0-4f33-81f0-bf7c628cc430",
   "metadata": {},
   "source": [
    "### Bài 1: Extraction of the Elements"
   ]
  },
  {
   "cell_type": "code",
   "execution_count": 3,
   "id": "79579827-5901-4df7-81f7-f62ffeccacb1",
   "metadata": {},
   "outputs": [
    {
     "name": "stdout",
     "output_type": "stream",
     "text": [
      "<class 'dict'>\n"
     ]
    }
   ],
   "source": [
    "empty_dict = {}          # Tạo một cặp ngoặc nhọn rỗng.\n",
    "                         # Trong Python, {} mặc định được hiểu là dictionary (dict), \n",
    "                         # KHÔNG phải set.\n",
    "\n",
    "print(type(empty_dict))  # Kiểm tra kiểu dữ liệu của empty_dict"
   ]
  },
  {
   "cell_type": "code",
   "execution_count": 4,
   "id": "606b9288-d6f0-457c-970f-169b39952ffe",
   "metadata": {},
   "outputs": [
    {
     "name": "stdout",
     "output_type": "stream",
     "text": [
      "{'nom': 'Kyrie', 'prenom': 'John', 'naissance': 1992, 'equipes': ['Cleveland', 'Boston']}\n"
     ]
    }
   ],
   "source": [
    "my_dict = { \n",
    "    \"nom\": \"Kyrie\",                  # key \"nom\" có giá trị là chuỗi \"Kyrie\"\n",
    "    \"prenom\": \"John\",                # key \"prenom\" có giá trị là chuỗi \"John\"\n",
    "    \"naissance\": 1992,               # key \"naissance\" có giá trị là số 1992\n",
    "    \"equipes\": [\"Cleveland\", \"Boston\"]  # key \"equipes\" có giá trị là một list gồm 2 chuỗi\n",
    "}\n",
    "\n",
    "print(my_dict)   # In ra toàn bộ dictionary"
   ]
  },
  {
   "cell_type": "code",
   "execution_count": 4,
   "id": "7343ed65-5db3-48fb-a587-8ff549db8e29",
   "metadata": {},
   "outputs": [
    {
     "name": "stdout",
     "output_type": "stream",
     "text": [
      "{'Julien-Yacine': 'Data-scientist', 'Sonia': 'Director'}\n"
     ]
    }
   ],
   "source": [
    "x = dict([\n",
    "    (\"Julien-Yacine\", \"Data-scientist\"),  # cặp key:value → \"Julien-Yacine\":\"Data-scientist\"\n",
    "    (\"Sonia\", \"Director\")                 # cặp key:value → \"Sonia\":\"Director\"\n",
    "])\n",
    "# Hàm dict() tạo dictionary từ một list chứa các tuple (key, value)\n",
    "\n",
    "print(x)   # In ra dictionary x"
   ]
  },
  {
   "cell_type": "code",
   "execution_count": 5,
   "id": "3b5a65f9-25d4-4aa1-8750-b565cd6d5590",
   "metadata": {},
   "outputs": [
    {
     "name": "stdout",
     "output_type": "stream",
     "text": [
      "John\n"
     ]
    }
   ],
   "source": [
    "print(my_dict[\"prenom\"])  \n",
    "# Truy cập vào giá trị của key \"prenom\" trong dictionary my_dict.\n",
    "# Nếu key tồn tại → in ra giá trị tương ứng.\n",
    "# Nếu key KHÔNG tồn tại → Python sẽ báo lỗi KeyError."
   ]
  },
  {
   "cell_type": "code",
   "execution_count": 5,
   "id": "58c8ce8e-ada5-409e-95c5-0276eefc8b74",
   "metadata": {},
   "outputs": [
    {
     "name": "stdout",
     "output_type": "stream",
     "text": [
      "['Cleveland', 'Boston']\n"
     ]
    }
   ],
   "source": [
    "print(my_dict[\"equipes\"])"
   ]
  },
  {
   "cell_type": "code",
   "execution_count": 7,
   "id": "b8ba50d9-a045-4579-b8d9-120e31813f3b",
   "metadata": {},
   "outputs": [
    {
     "ename": "KeyError",
     "evalue": "'age'",
     "output_type": "error",
     "traceback": [
      "\u001b[31m---------------------------------------------------------------------------\u001b[39m",
      "\u001b[31mKeyError\u001b[39m                                  Traceback (most recent call last)",
      "\u001b[36mCell\u001b[39m\u001b[36m \u001b[39m\u001b[32mIn[7]\u001b[39m\u001b[32m, line 1\u001b[39m\n\u001b[32m----> \u001b[39m\u001b[32m1\u001b[39m \u001b[38;5;28mprint\u001b[39m(\u001b[43mmy_dict\u001b[49m\u001b[43m[\u001b[49m\u001b[33;43m\"\u001b[39;49m\u001b[33;43mage\u001b[39;49m\u001b[33;43m\"\u001b[39;49m\u001b[43m]\u001b[49m)  \n\u001b[32m      2\u001b[39m \u001b[38;5;66;03m# Cố gắng truy cập vào giá trị có key \"age\" trong dictionary my_dict.\u001b[39;00m\n\u001b[32m      3\u001b[39m \u001b[38;5;66;03m# Tuy nhiên, trong my_dict KHÔNG có key nào tên \"age\".\u001b[39;00m\n\u001b[32m      4\u001b[39m \u001b[38;5;66;03m# Vì vậy Python sẽ báo lỗi KeyError.\u001b[39;00m\n",
      "\u001b[31mKeyError\u001b[39m: 'age'"
     ]
    }
   ],
   "source": [
    "print(my_dict[\"age\"])  \n",
    "# Cố gắng truy cập vào giá trị có key \"age\" trong dictionary my_dict.\n",
    "# Tuy nhiên, trong my_dict KHÔNG có key nào tên \"age\".\n",
    "# Vì vậy Python sẽ báo lỗi KeyError."
   ]
  },
  {
   "cell_type": "code",
   "execution_count": 8,
   "id": "b7f1daab-0cc0-487f-b3c9-80a5010c0f8b",
   "metadata": {},
   "outputs": [
    {
     "name": "stdout",
     "output_type": "stream",
     "text": [
      "True\n"
     ]
    }
   ],
   "source": [
    "print(\"prenom\" in my_dict)  \n",
    "# Toán tử `in` khi dùng với dict sẽ kiểm tra xem key có tồn tại trong dictionary hay không.\n",
    "# Ở đây, nó kiểm tra xem key \"prenom\" có trong my_dict không.\n"
   ]
  },
  {
   "cell_type": "code",
   "execution_count": 9,
   "id": "465d6d94-5735-4bc7-b004-62e9e004500e",
   "metadata": {},
   "outputs": [
    {
     "name": "stdout",
     "output_type": "stream",
     "text": [
      "False\n"
     ]
    }
   ],
   "source": [
    "print(\"age\" in my_dict)  \n",
    "# Kiểm tra xem key \"age\" có tồn tại trong dictionary my_dict hay không.\n",
    "# Toán tử `in` chỉ kiểm tra key, KHÔNG kiểm tra value."
   ]
  },
  {
   "cell_type": "code",
   "execution_count": 10,
   "id": "4147d28c-9bd1-4621-a9c0-4e2da514603e",
   "metadata": {},
   "outputs": [
    {
     "name": "stdout",
     "output_type": "stream",
     "text": [
      "John\n"
     ]
    }
   ],
   "source": [
    "print(my_dict.get(\"prenom\"))  \n",
    "# Hàm .get(\"key\") dùng để lấy giá trị của key trong dictionary.\n",
    "# Nếu key tồn tại → trả về value tương ứng.\n",
    "# Nếu key KHÔNG tồn tại → trả về None (hoặc giá trị mặc định nếu có truyền thêm)."
   ]
  },
  {
   "cell_type": "code",
   "execution_count": 11,
   "id": "5f637d3f-bb0e-48d4-8ebc-36acf2da0014",
   "metadata": {},
   "outputs": [
    {
     "name": "stdout",
     "output_type": "stream",
     "text": [
      "None\n"
     ]
    }
   ],
   "source": [
    "print(my_dict.get(\"age\"))  \n",
    "# Dùng phương thức .get(\"key\") để lấy giá trị theo key trong dictionary.\n",
    "# Ở đây key \"age\" KHÔNG tồn tại trong my_dict.\n",
    "# Khi key không tồn tại:\n",
    "#   - .get() sẽ trả về None (mặc định)\n",
    "#   - Không báo lỗi như khi dùng my_dict[\"age\"]."
   ]
  },
  {
   "cell_type": "markdown",
   "id": "3b3fb0ab-c79e-40ec-8156-b2aabfdf2c51",
   "metadata": {},
   "source": [
    "### Bài 2: Keys and values"
   ]
  },
  {
   "cell_type": "code",
   "execution_count": 6,
   "id": "4722d35b-e3e2-4434-bccf-3f64495d7a4e",
   "metadata": {},
   "outputs": [
    {
     "name": "stdout",
     "output_type": "stream",
     "text": [
      "dict_keys(['nom', 'prenom', 'naissance', 'equipes'])\n"
     ]
    }
   ],
   "source": [
    "the_keys = my_dict.keys()  \n",
    "# .keys() trả về một đối tượng \"dict_keys\"\n",
    "# chứa tất cả các key trong dictionary my_dict.\n",
    "\n",
    "print(the_keys)  \n",
    "# In ra toàn bộ các key của dictionary."
   ]
  },
  {
   "cell_type": "code",
   "execution_count": 13,
   "id": "571a7d21-cd52-4d9c-8060-2a3c9e057f94",
   "metadata": {},
   "outputs": [
    {
     "name": "stdout",
     "output_type": "stream",
     "text": [
      "<class 'dict_keys'>\n"
     ]
    }
   ],
   "source": [
    "print(type(the_keys))  \n",
    "# Hàm type() trả về kiểu dữ liệu của đối tượng the_keys.\n",
    "# Vì the_keys = my_dict.keys(), nên nó thuộc kiểu \"dict_keys\".\n"
   ]
  },
  {
   "cell_type": "code",
   "execution_count": 14,
   "id": "435bf658-d855-4fb8-b513-a46ae1b7ab8a",
   "metadata": {},
   "outputs": [
    {
     "name": "stdout",
     "output_type": "stream",
     "text": [
      "['nom', 'prenom', 'naissance', 'equipes']\n"
     ]
    }
   ],
   "source": [
    "the_keys_list = list(the_keys)  \n",
    "# Chuyển đổi đối tượng dict_keys (the_keys) thành một list thông thường.\n",
    "\n",
    "print(the_keys_list)  \n",
    "# In ra danh sách các key dưới dạng list."
   ]
  },
  {
   "cell_type": "code",
   "execution_count": 12,
   "id": "043f51cf-adfb-4752-a916-ec6915c4c1d3",
   "metadata": {},
   "outputs": [
    {
     "name": "stdout",
     "output_type": "stream",
     "text": [
      "dict_values(['Kyrie', 'John', 1992, ['Cleveland', 'Boston']])\n"
     ]
    }
   ],
   "source": [
    "the_values = my_dict.values()  \n",
    "# .values() trả về một đối tượng \"dict_values\"\n",
    "# chứa tất cả các giá trị (values) trong dictionary my_dict.\n",
    "\n",
    "print(the_values)  \n",
    "# In ra toàn bộ giá trị của dictionary."
   ]
  },
  {
   "cell_type": "code",
   "execution_count": 16,
   "id": "f465e506-cbe5-4885-9382-e3471f6c171f",
   "metadata": {},
   "outputs": [
    {
     "name": "stdout",
     "output_type": "stream",
     "text": [
      "<class 'dict_values'>\n"
     ]
    }
   ],
   "source": [
    "print(type(the_values))"
   ]
  },
  {
   "cell_type": "code",
   "execution_count": 7,
   "id": "1222d2ea-3e8f-4d54-b05e-2abfb9f538dc",
   "metadata": {},
   "outputs": [
    {
     "name": "stdout",
     "output_type": "stream",
     "text": [
      "dict_items([('nom', 'Kyrie'), ('prenom', 'John'), ('naissance', 1992), ('equipes', ['Cleveland', 'Boston'])])\n"
     ]
    }
   ],
   "source": [
    "the_items = my_dict.items()  \n",
    "# .items() trả về một đối tượng \"dict_items\"\n",
    "# chứa các cặp (key, value) trong dictionary dưới dạng tuple.\n",
    "\n",
    "print(the_items)  \n",
    "# In ra toàn bộ các cặp (key, value)."
   ]
  },
  {
   "cell_type": "code",
   "execution_count": 8,
   "id": "e0f0f216-4263-400f-8b62-d4c2acdaf74a",
   "metadata": {},
   "outputs": [
    {
     "name": "stdout",
     "output_type": "stream",
     "text": [
      "<class 'dict_items'>\n"
     ]
    }
   ],
   "source": [
    "print(type(the_items))  \n",
    "# Kiểm tra kiểu dữ liệu của the_items"
   ]
  },
  {
   "cell_type": "markdown",
   "id": "70dc45f0-1a14-4732-95fa-3d5202cd50a7",
   "metadata": {},
   "source": [
    "### Bài 3: Search for belonging"
   ]
  },
  {
   "cell_type": "code",
   "execution_count": 9,
   "id": "cb0f7e15-f7a5-4c67-b408-1574d5d1aa7c",
   "metadata": {},
   "outputs": [
    {
     "name": "stdout",
     "output_type": "stream",
     "text": [
      "False\n"
     ]
    }
   ],
   "source": [
    "print(\"age\" in the_keys)  \n",
    "# Kiểm tra xem \"age\" có nằm trong danh sách các keys của dictionary không."
   ]
  },
  {
   "cell_type": "code",
   "execution_count": 10,
   "id": "21523ecb-43e9-4838-b2c7-711b2253373b",
   "metadata": {},
   "outputs": [
    {
     "name": "stdout",
     "output_type": "stream",
     "text": [
      "True\n"
     ]
    }
   ],
   "source": [
    "print(\"nom\" in the_keys)\n",
    "# Kiểm tra xem \"nom\" có nằm trong danh sách các keys của dictionary không."
   ]
  },
  {
   "cell_type": "code",
   "execution_count": 13,
   "id": "0ac2b256-5e57-42f1-b457-8e8ad17e5cfd",
   "metadata": {},
   "outputs": [
    {
     "name": "stdout",
     "output_type": "stream",
     "text": [
      "True\n"
     ]
    }
   ],
   "source": [
    "print(['Cleveland', 'Boston'] in the_values)\n",
    "# Kiểm tra xem danh sách ['Cleveland', 'Boston'] có nằm trong tập các values của dictionary không."
   ]
  },
  {
   "cell_type": "markdown",
   "id": "7238f1f0-bf06-4ac5-adc1-630f506e4619",
   "metadata": {},
   "source": [
    "### Bài 4: Modification - Replacement"
   ]
  },
  {
   "cell_type": "code",
   "execution_count": 17,
   "id": "2f6c7234-98b2-4c22-a7ae-0fc95fd410c5",
   "metadata": {},
   "outputs": [
    {
     "name": "stdout",
     "output_type": "stream",
     "text": [
      "{'nom': 'Kyrie', 'prenom': 'John', 'naissance': 1992, 'equipes': ['Montclair Kimberley Academy', 'Cleveland Cavaliers', 'Boston Celtics'], 'taille_cm': 191}\n"
     ]
    }
   ],
   "source": [
    "my_dict[\"equipes\"] = [\"Montclair Kimberley Academy\", \"Cleveland Cavaliers\", \"Boston Celtics\"]  # Gán lại giá trị cho key \"equipes\" trong dictionary my_dict, giá trị mới là một danh sách gồm 3 đội bóng/trường học\n",
    "\n",
    "print(my_dict)  # In toàn bộ dictionary sau khi đã cập nhật giá trị"
   ]
  },
  {
   "cell_type": "markdown",
   "id": "daa7c844-67c2-449f-aa0f-d79c74c2b7a8",
   "metadata": {},
   "source": [
    "### Bài 5: Modification - Adding Elements"
   ]
  },
  {
   "cell_type": "code",
   "execution_count": 18,
   "id": "4de90491-8979-4b50-b669-e5cbf9f1ff82",
   "metadata": {},
   "outputs": [
    {
     "name": "stdout",
     "output_type": "stream",
     "text": [
      "{'nom': 'Kyrie', 'prenom': 'John', 'naissance': 1992, 'equipes': ['Montclair Kimberley Academy', 'Cleveland Cavaliers', 'Boston Celtics'], 'taille_cm': 191}\n"
     ]
    }
   ],
   "source": [
    "my_dict[\"taille_cm\"] = 191  # Thêm key \"taille_cm\" vào dictionary my_dict với giá trị là 191 (chiều cao tính bằng cm)\n",
    "\n",
    "print(my_dict)  # In toàn bộ dictionary sau khi đã thêm key mới"
   ]
  },
  {
   "cell_type": "code",
   "execution_count": 19,
   "id": "b4049cdc-663b-4369-af92-11448cdce2d4",
   "metadata": {},
   "outputs": [
    {
     "name": "stdout",
     "output_type": "stream",
     "text": [
      "{'masse_kg': 88, 'debut_nba': 2011}\n"
     ]
    }
   ],
   "source": [
    "second_dict = {\"masse_kg\": 88, \"debut_nba\": 2011}  # Tạo dictionary second_dict với 2 cặp key-value: \"masse_kg\" = 88, \"debut_nba\" = 2011\n",
    "\n",
    "print(second_dict)  # In toàn bộ dictionary second_dict ra màn hình"
   ]
  },
  {
   "cell_type": "code",
   "execution_count": 20,
   "id": "4d6d3eed-b4e7-4e94-af57-578f5e1f762e",
   "metadata": {},
   "outputs": [
    {
     "name": "stdout",
     "output_type": "stream",
     "text": [
      "{'nom': 'Kyrie', 'prenom': 'John', 'naissance': 1992, 'equipes': ['Montclair Kimberley Academy', 'Cleveland Cavaliers', 'Boston Celtics'], 'taille_cm': 191, 'masse_kg': 88, 'debut_nba': 2011}\n"
     ]
    }
   ],
   "source": [
    "my_dict.update(second_dict)  # Dùng phương thức update() để thêm tất cả các cặp key-value từ second_dict vào my_dict\n",
    "\n",
    "print(my_dict)  # In toàn bộ dictionary my_dict sau khi đã được cập nhật thêm dữ liệu từ second_dict"
   ]
  },
  {
   "cell_type": "code",
   "execution_count": 21,
   "id": "19b40ca2-b7d7-4dc6-9cb5-c963ea32e45b",
   "metadata": {},
   "outputs": [
    {
     "name": "stdout",
     "output_type": "stream",
     "text": [
      "{'masse_kg': 88, 'debut_nba': 2011, 'poste': 'PG'}\n"
     ]
    }
   ],
   "source": [
    "second_dict[\"poste\"] = \"PG\"  # Thêm key \"poste\" vào dictionary second_dict với giá trị là \"PG\" (Point Guard - vị trí hậu vệ dẫn bóng)\n",
    "\n",
    "print(second_dict)  # In toàn bộ dictionary second_dict sau khi đã thêm key mới"
   ]
  },
  {
   "cell_type": "code",
   "execution_count": 22,
   "id": "d6500daa-9030-4d7d-b26d-bacb46720382",
   "metadata": {},
   "outputs": [
    {
     "name": "stdout",
     "output_type": "stream",
     "text": [
      "{'nom': 'Kyrie', 'prenom': 'John', 'naissance': 1992, 'equipes': ['Montclair Kimberley Academy', 'Cleveland Cavaliers', 'Boston Celtics'], 'taille_cm': 191, 'masse_kg': 88, 'debut_nba': 2011}\n"
     ]
    }
   ],
   "source": [
    "print(my_dict)  # In toàn bộ dictionary my_dict hiện tại (sau khi đã được cập nhật/gộp thêm các cặp key-value từ second_dict)"
   ]
  },
  {
   "cell_type": "markdown",
   "id": "d3ee4f27-9aa8-4de2-b650-b7dfcfe8a301",
   "metadata": {},
   "source": [
    "### Bài 6: Modification - Deleting elements"
   ]
  },
  {
   "cell_type": "code",
   "execution_count": 23,
   "id": "b72ee92e-7643-44a1-a2b4-fbb8b34edd07",
   "metadata": {},
   "outputs": [
    {
     "name": "stdout",
     "output_type": "stream",
     "text": [
      "{'nom': 'Kyrie', 'prenom': 'John', 'naissance': 1992, 'equipes': ['Montclair Kimberley Academy', 'Cleveland Cavaliers', 'Boston Celtics'], 'taille_cm': 191, 'masse_kg': 88}\n"
     ]
    }
   ],
   "source": [
    "del my_dict[\"debut_nba\"]  # Xóa phần tử có key là \"debut_nba\" trong dictionary my_dict\n",
    "print(my_dict)  # In toàn bộ dictionary sau khi xóa key \"debut_nba\""
   ]
  },
  {
   "cell_type": "code",
   "execution_count": 24,
   "id": "57e2ced4-48a4-4727-ac31-15b237212dca",
   "metadata": {},
   "outputs": [
    {
     "name": "stdout",
     "output_type": "stream",
     "text": [
      "{'nom': 'Kyrie', 'prenom': 'John', 'naissance': 1992, 'equipes': ['Montclair Kimberley Academy', 'Cleveland Cavaliers', 'Boston Celtics'], 'taille_cm': 191}\n"
     ]
    }
   ],
   "source": [
    "res = my_dict.pop(\"masse_kg\")  # Lấy ra và đồng thời xóa phần tử có key \"masse_kg\" trong my_dict. \n",
    "                               # Giá trị bị xóa sẽ được gán vào biến res.\n",
    "print(my_dict)  # In ra dictionary sau khi đã xóa key \"masse_kg\""
   ]
  },
  {
   "cell_type": "markdown",
   "id": "14cc001c-76b4-4f2e-b72b-3862008ca9bc",
   "metadata": {},
   "source": [
    "### Bài 7: Copy of a Dictionary"
   ]
  },
  {
   "cell_type": "code",
   "execution_count": 25,
   "id": "5a728ef5-f6c3-4611-95f5-80dfde61ba80",
   "metadata": {},
   "outputs": [
    {
     "name": "stdout",
     "output_type": "stream",
     "text": [
      "d:  {'Marseille': 13, 'Rennes': 35}\n"
     ]
    }
   ],
   "source": [
    "d = {\"Marseille\": 13, \"Rennes\" : 35}  # Tạo dictionary d với 2 cặp key-value\n",
    "d2 = d.copy()  # Tạo một bản sao (copy) của dictionary d và gán vào d2\n",
    "d2[\"Paris\"] = 75  # Thêm một cặp key-value mới vào dictionary d2 (không ảnh hưởng đến d gốc)\n",
    "print(\"d: \", d)  # In ra dictionary d để kiểm tra, d vẫn giữ nguyên như ba"
   ]
  },
  {
   "cell_type": "code",
   "execution_count": 26,
   "id": "8561d531-6baf-438b-8727-9af04e10e611",
   "metadata": {},
   "outputs": [
    {
     "name": "stdout",
     "output_type": "stream",
     "text": [
      "d2:  {'Marseille': 13, 'Rennes': 35, 'Paris': 75}\n"
     ]
    }
   ],
   "source": [
    "print(\"d2: \", d2)  # In ra dictionary d2, lúc này đã có thêm key \"Paris\" với giá trị 75"
   ]
  },
  {
   "cell_type": "markdown",
   "id": "565e2f6c-5501-47f5-97e8-ea11b990517c",
   "metadata": {},
   "source": [
    "# Chapter 4: Operators"
   ]
  },
  {
   "cell_type": "markdown",
   "id": "bd4daeef-4851-40c6-9125-90065f3fc623",
   "metadata": {},
   "source": [
    "## 4.1. Arithmetic operators"
   ]
  },
  {
   "cell_type": "markdown",
   "id": "89a62496-5b36-4aac-8bf8-891b08084466",
   "metadata": {},
   "source": [
    "### Bài 1: Addition"
   ]
  },
  {
   "cell_type": "code",
   "execution_count": 27,
   "id": "a146af3e-ce0e-4d91-8710-d31381101d9d",
   "metadata": {},
   "outputs": [
    {
     "name": "stdout",
     "output_type": "stream",
     "text": [
      "2\n"
     ]
    }
   ],
   "source": [
    "print(1+1) # Addition"
   ]
  },
  {
   "cell_type": "markdown",
   "id": "a75325d0-765b-48e2-a73e-7182690cdb9a",
   "metadata": {},
   "source": [
    "### Bài 2: Subtraction"
   ]
  },
  {
   "cell_type": "code",
   "execution_count": 28,
   "id": "6bb190ee-82d1-42cc-8781-bd6a4dca39af",
   "metadata": {},
   "outputs": [
    {
     "name": "stdout",
     "output_type": "stream",
     "text": [
      "0\n"
     ]
    }
   ],
   "source": [
    "print(1-1) # Subtraction"
   ]
  },
  {
   "cell_type": "code",
   "execution_count": 29,
   "id": "ca5114cf-3834-4f85-990a-612464c17726",
   "metadata": {},
   "outputs": [
    {
     "name": "stdout",
     "output_type": "stream",
     "text": [
      "1\n"
     ]
    }
   ],
   "source": [
    "print (3-2)"
   ]
  },
  {
   "cell_type": "markdown",
   "id": "d944dfaf-8d1b-456e-ad80-d9c1f2157558",
   "metadata": {},
   "source": [
    "### Bài 3: Multiplication"
   ]
  },
  {
   "cell_type": "code",
   "execution_count": 30,
   "id": "e41624fb-9b1d-43e9-9056-5a0f76f1c276",
   "metadata": {},
   "outputs": [
    {
     "name": "stdout",
     "output_type": "stream",
     "text": [
      "4\n"
     ]
    }
   ],
   "source": [
    "print(2*2) # Multiplication"
   ]
  },
  {
   "cell_type": "code",
   "execution_count": 31,
   "id": "d95e13a4-ee52-4156-8f70-cf6c2789ab2f",
   "metadata": {},
   "outputs": [
    {
     "name": "stdout",
     "output_type": "stream",
     "text": [
      "400\n"
     ]
    }
   ],
   "source": [
    "print (50*8)"
   ]
  },
  {
   "cell_type": "markdown",
   "id": "79fe88ad-9193-40a7-b9af-9d48170dcd6c",
   "metadata": {},
   "source": [
    "### Bài 4: Division"
   ]
  },
  {
   "cell_type": "code",
   "execution_count": 32,
   "id": "a4a6763e-d945-423f-99b3-b5f2bb0b5c21",
   "metadata": {},
   "outputs": [
    {
     "name": "stdout",
     "output_type": "stream",
     "text": [
      "1.5\n"
     ]
    }
   ],
   "source": [
    "print(3/2) # Division"
   ]
  },
  {
   "cell_type": "code",
   "execution_count": 33,
   "id": "9d006be4-1217-4501-bf49-e1ee60a38ac2",
   "metadata": {},
   "outputs": [
    {
     "name": "stdout",
     "output_type": "stream",
     "text": [
      "2.6666666666666665\n"
     ]
    }
   ],
   "source": [
    "print (8/3)"
   ]
  },
  {
   "cell_type": "code",
   "execution_count": 34,
   "id": "31f925a7-e924-4379-ab79-0eeb76a973c0",
   "metadata": {},
   "outputs": [
    {
     "name": "stdout",
     "output_type": "stream",
     "text": [
      "1\n"
     ]
    }
   ],
   "source": [
    "print(3//2) # Euclidean division"
   ]
  },
  {
   "cell_type": "code",
   "execution_count": 36,
   "id": "620ebea6-bcb7-4e02-bef9-4d501a724533",
   "metadata": {},
   "outputs": [
    {
     "name": "stdout",
     "output_type": "stream",
     "text": [
      "2\n"
     ]
    }
   ],
   "source": [
    "print (8//3)"
   ]
  },
  {
   "cell_type": "markdown",
   "id": "c763f288-c8d6-4ff7-9277-a75139fa6049",
   "metadata": {},
   "source": [
    "### Bài 5: Modulo"
   ]
  },
  {
   "cell_type": "code",
   "execution_count": 37,
   "id": "4dbb0386-8d3e-4b0f-8e7a-ad118ff7e633",
   "metadata": {},
   "outputs": [
    {
     "name": "stdout",
     "output_type": "stream",
     "text": [
      "2\n"
     ]
    }
   ],
   "source": [
    "print(12%10) # Modulo # lấy phần dư của phép chia 12/10"
   ]
  },
  {
   "cell_type": "code",
   "execution_count": 38,
   "id": "c697a8ac-4224-4eab-886c-551defa7c858",
   "metadata": {},
   "outputs": [
    {
     "name": "stdout",
     "output_type": "stream",
     "text": [
      "4\n"
     ]
    }
   ],
   "source": [
    "print (28%6) # lấy phần dư của phép chia 28/6"
   ]
  },
  {
   "cell_type": "markdown",
   "id": "09a2c420-f5ce-446d-b003-315b322cd718",
   "metadata": {},
   "source": [
    "### Bài 6: Power"
   ]
  },
  {
   "cell_type": "code",
   "execution_count": 39,
   "id": "69c5844b-fd8a-4592-82cc-457bbe86e4ce",
   "metadata": {},
   "outputs": [
    {
     "name": "stdout",
     "output_type": "stream",
     "text": [
      "8\n"
     ]
    }
   ],
   "source": [
    "print(2**3) # 2^3"
   ]
  },
  {
   "cell_type": "code",
   "execution_count": 40,
   "id": "cd2482c2-78ea-46f3-b5c7-a78715b9a4cc",
   "metadata": {},
   "outputs": [
    {
     "name": "stdout",
     "output_type": "stream",
     "text": [
      "1024\n"
     ]
    }
   ],
   "source": [
    "print (4**5) # 4^5"
   ]
  },
  {
   "cell_type": "markdown",
   "id": "8dad716b-b137-4c14-a415-72917d7d0a88",
   "metadata": {},
   "source": [
    "### Bài 7: Order"
   ]
  },
  {
   "cell_type": "code",
   "execution_count": 1,
   "id": "a85d6e46-06af-4a2e-9589-ff651bbecf31",
   "metadata": {},
   "outputs": [
    {
     "name": "stdout",
     "output_type": "stream",
     "text": [
      "5\n"
     ]
    }
   ],
   "source": [
    "print(2*2+1)"
   ]
  },
  {
   "cell_type": "code",
   "execution_count": 2,
   "id": "93c712b7-188f-4983-b720-874ee7c7fb94",
   "metadata": {},
   "outputs": [
    {
     "name": "stdout",
     "output_type": "stream",
     "text": [
      "6\n"
     ]
    }
   ],
   "source": [
    "print(2*(2+1))  # Tính toán biểu thức: 2 nhân với (2 + 1) = 2 * 3 = 6"
   ]
  },
  {
   "cell_type": "markdown",
   "id": "c7f55ac1-4f6f-43fa-b68a-38f95fe1e1b8",
   "metadata": {},
   "source": [
    "### Bài 8: Mathematical Operators on Strings"
   ]
  },
  {
   "cell_type": "code",
   "execution_count": 4,
   "id": "fd144bfc-7320-400e-9927-fc76c7ee5756",
   "metadata": {},
   "outputs": [
    {
     "name": "stdout",
     "output_type": "stream",
     "text": [
      "eurodollar\n"
     ]
    }
   ],
   "source": [
    "a = \"euro\"     # Gán chuỗi \"euro\" cho biến a\n",
    "b = \"dollar\"   # Gán chuỗi \"dollar\" cho biến b\n",
    "print(a+b)     # Nối 2 chuỗi lại với nhau → \"eurodollar\""
   ]
  },
  {
   "cell_type": "code",
   "execution_count": 5,
   "id": "88fd1270-d83b-4a00-91be-220f522e8e9d",
   "metadata": {},
   "outputs": [
    {
     "name": "stdout",
     "output_type": "stream",
     "text": [
      "euroeuro\n"
     ]
    }
   ],
   "source": [
    "a = \"euro\"   # Gán chuỗi \"euro\" cho biến a\n",
    "print(2*a)   # Nhân chuỗi với 2 → lặp lại chuỗi 2 lần"
   ]
  },
  {
   "cell_type": "markdown",
   "id": "6c86df4a-aea0-4e7e-b257-fa6d1e782d97",
   "metadata": {},
   "source": [
    "### Bài 9: Mathematical Operators on Lists or tuples"
   ]
  },
  {
   "cell_type": "code",
   "execution_count": 6,
   "id": "ab78abe4-32a8-4d56-8c82-6fc594ad1a10",
   "metadata": {},
   "outputs": [
    {
     "name": "stdout",
     "output_type": "stream",
     "text": [
      "[1, 'apple', 5, 7, 9, 11]\n"
     ]
    }
   ],
   "source": [
    "l_1 = [1, \"apple\", 5, 7]   # Tạo list l_1 gồm số và chuỗi\n",
    "l_2 = [9, 11]              # Tạo list l_2 gồm 2 số\n",
    "print(l_1 + l_2)           # Dùng toán tử + để nối hai list"
   ]
  },
  {
   "cell_type": "code",
   "execution_count": 7,
   "id": "58c63467-7e12-4541-bc55-765f5c5b10a1",
   "metadata": {},
   "outputs": [
    {
     "name": "stdout",
     "output_type": "stream",
     "text": [
      "(1, 'apple', 5, 7, 9, 11)\n"
     ]
    }
   ],
   "source": [
    "t_1 = (1, \"apple\", 5, 7)   # Tạo tuple t_1\n",
    "t_2 = (9, 11)              # Tạo tuple t_2\n",
    "print(t_1 + t_2)           # Dùng toán tử + để nối hai tuple"
   ]
  },
  {
   "cell_type": "code",
   "execution_count": 8,
   "id": "aa35163f-7869-4a13-b606-c2642c45d8c8",
   "metadata": {},
   "outputs": [
    {
     "name": "stdout",
     "output_type": "stream",
     "text": [
      "[1, 'apple', 5, 7, 1, 'apple', 5, 7, 1, 'apple', 5, 7]\n"
     ]
    }
   ],
   "source": [
    "l_1 = [1, \"apple\", 5, 7]   # Tạo list l_1\n",
    "print(3 * l_1)             # Lặp lại list 3 lần"
   ]
  },
  {
   "cell_type": "code",
   "execution_count": 9,
   "id": "b7458d09-e3af-4f4f-9675-b884ff8ea2cd",
   "metadata": {},
   "outputs": [
    {
     "name": "stdout",
     "output_type": "stream",
     "text": [
      "(1, 'apple', 5, 7, 1, 'apple', 5, 7, 1, 'apple', 5, 7)\n"
     ]
    }
   ],
   "source": [
    "t_1 = (1, \"apple\", 5, 7)   # Tạo tuple t_1\n",
    "print(3 * t_1)             # Lặp lại tuple 3 lần"
   ]
  },
  {
   "cell_type": "markdown",
   "id": "252ba544-edf3-435b-b49f-99a509e4ca49",
   "metadata": {},
   "source": [
    "## 4.2. Comparison Operators"
   ]
  },
  {
   "cell_type": "markdown",
   "id": "5b7a20fe-a848-420e-b4fe-4fe654301fc6",
   "metadata": {},
   "source": [
    "### Bài 1: Equality, Inequality"
   ]
  },
  {
   "cell_type": "code",
   "execution_count": 10,
   "id": "809cb1e4-ac34-40bf-acad-3f2b2efa29de",
   "metadata": {},
   "outputs": [
    {
     "name": "stdout",
     "output_type": "stream",
     "text": [
      "False\n"
     ]
    }
   ],
   "source": [
    "a = \"Hello\"    # Gán chuỗi \"Hello\" cho biến a\n",
    "b = \"World\"    # Gán chuỗi \"World\" cho biến b\n",
    "c = \"World\"    # Gán chuỗi \"World\" cho biến c\n",
    "\n",
    "print(a == c)  # So sánh giá trị của a và c"
   ]
  },
  {
   "cell_type": "code",
   "execution_count": 11,
   "id": "21e6f1fa-9628-422c-93b3-2e9906c8ac8e",
   "metadata": {},
   "outputs": [
    {
     "name": "stdout",
     "output_type": "stream",
     "text": [
      "True\n"
     ]
    }
   ],
   "source": [
    "b = \"World\"    # Gán chuỗi \"World\" cho biến b\n",
    "c = \"World\"    # Gán chuỗi \"World\" cho biến c\n",
    "\n",
    "print(b == c)  # So sánh giá trị của b và c"
   ]
  },
  {
   "cell_type": "code",
   "execution_count": 12,
   "id": "5f62bb23-db13-49fd-a66f-2b5b9b2b6f2a",
   "metadata": {},
   "outputs": [
    {
     "name": "stdout",
     "output_type": "stream",
     "text": [
      "False\n"
     ]
    }
   ],
   "source": [
    "x = [1,2,3]   # Tạo list x\n",
    "y = [1,2,3]   # Tạo list y (cùng giá trị với x nhưng là đối tượng khác trong bộ nhớ)\n",
    "z = [1,3,4]   # Tạo list z\n",
    "\n",
    "print(x != y) # So sánh x và y về giá trị, kiểm tra khác nhau hay không"
   ]
  },
  {
   "cell_type": "code",
   "execution_count": 13,
   "id": "90ccac2e-1b05-4acd-88d6-600c5588aadf",
   "metadata": {},
   "outputs": [
    {
     "name": "stdout",
     "output_type": "stream",
     "text": [
      "True\n"
     ]
    }
   ],
   "source": [
    "print(x != z) # So sánh x và z về giá trị, kiểm tra khác nhau hay không"
   ]
  },
  {
   "cell_type": "markdown",
   "id": "41b54250-76a6-4fde-889d-476184664d9d",
   "metadata": {},
   "source": [
    "### Bài 2: Inferiority and Superiority, Strict or Broad"
   ]
  },
  {
   "cell_type": "code",
   "execution_count": 14,
   "id": "b3ecb2e0-9a6d-44f0-b315-e78f50c6cb0a",
   "metadata": {},
   "outputs": [
    {
     "name": "stdout",
     "output_type": "stream",
     "text": [
      "False\n"
     ]
    }
   ],
   "source": [
    "x = 1   # Gán x bằng 1\n",
    "y = 1   # Gán y bằng 1\n",
    "z = 2   # Gán z bằng 2\n",
    "\n",
    "print(x < y)  # Kiểm tra x có nhỏ hơn y không"
   ]
  },
  {
   "cell_type": "code",
   "execution_count": 15,
   "id": "0412ef1c-e283-4c47-a16a-fce309cc7084",
   "metadata": {},
   "outputs": [
    {
     "name": "stdout",
     "output_type": "stream",
     "text": [
      "True\n"
     ]
    }
   ],
   "source": [
    "print(x <= y) # Kiểm tra x có nhỏ hơn hoặc bằng y không"
   ]
  },
  {
   "cell_type": "code",
   "execution_count": 16,
   "id": "4b5be5a1-e5e7-418d-9b53-77fbac8d52dc",
   "metadata": {},
   "outputs": [
    {
     "name": "stdout",
     "output_type": "stream",
     "text": [
      "False\n"
     ]
    }
   ],
   "source": [
    "print(x > z) # Kiểm tra x có lớn hơn z không"
   ]
  },
  {
   "cell_type": "code",
   "execution_count": 17,
   "id": "d2d31179-45c2-450a-a933-3d45741dfdc9",
   "metadata": {},
   "outputs": [
    {
     "name": "stdout",
     "output_type": "stream",
     "text": [
      "False\n"
     ]
    }
   ],
   "source": [
    "print(x >= z) # Kiểm tra x có lớn hơn hoặc bằng z không"
   ]
  },
  {
   "cell_type": "code",
   "execution_count": 19,
   "id": "82d6ba8f-ec34-4586-b0d7-a011421b65b3",
   "metadata": {},
   "outputs": [
    {
     "name": "stdout",
     "output_type": "stream",
     "text": [
      "True\n"
     ]
    }
   ],
   "source": [
    "m_1 = \"eat\"        # Chuỗi \"eat\"\n",
    "m_2 = \"eating\"     # Chuỗi \"eating\"\n",
    "m_3 = \"drinking\"   # Chuỗi \"drinking\"\n",
    "\n",
    "print(m_1 < m_2)   # So sánh chuỗi \"eat\" có nhỏ hơn \"eating\" không?"
   ]
  },
  {
   "cell_type": "code",
   "execution_count": 20,
   "id": "f25b2ff7-ec32-48e6-b4ce-4488cd6a42df",
   "metadata": {},
   "outputs": [
    {
     "name": "stdout",
     "output_type": "stream",
     "text": [
      "False\n"
     ]
    }
   ],
   "source": [
    "print(m_3 > m_1) # drinking after eat?"
   ]
  },
  {
   "cell_type": "code",
   "execution_count": 21,
   "id": "140aa269-020d-4798-9e25-24fa739f9859",
   "metadata": {},
   "outputs": [
    {
     "name": "stdout",
     "output_type": "stream",
     "text": [
      "True\n"
     ]
    }
   ],
   "source": [
    "x = [1, 3, 5, 7]\n",
    "y = [9, 11]\n",
    "\n",
    "# So sánh x < y nghĩa là so sánh từng phần tử theo thứ tự\n",
    "# Bước 1: So sánh phần tử đầu tiên: 1 (trong x) với 9 (trong y)\n",
    "# Vì 1 < 9 nên Python kết luận luôn x < y\n",
    "# Không cần so sánh các phần tử tiếp theo\n",
    "print(x < y)  # True\n"
   ]
  },
  {
   "cell_type": "code",
   "execution_count": 22,
   "id": "4b297c40-2b28-4779-9235-109eeeffb1c8",
   "metadata": {},
   "outputs": [
    {
     "name": "stdout",
     "output_type": "stream",
     "text": [
      "False\n"
     ]
    }
   ],
   "source": [
    "x = [10, 3, 5, 7]   # Danh sách x\n",
    "y = [9, 11]         # Danh sách y\n",
    "\n",
    "# Khi so sánh list trong Python, nó cũng dùng \"so sánh từ điển\" (lexicographic order),\n",
    "# tức là so sánh từng phần tử theo thứ tự từ trái qua phải.\n",
    "\n",
    "# Bước 1: So sánh phần tử đầu tiên\n",
    "# 10 trong x và 9 trong y\n",
    "# => 10 > 9, nên Python dừng luôn ở đây.\n",
    "# Không cần so sánh các phần tử tiếp theo.\n",
    "\n",
    "print(x < y)   # False"
   ]
  },
  {
   "cell_type": "code",
   "execution_count": 23,
   "id": "a323f12d-7be4-45a4-84de-56f0f5a5f409",
   "metadata": {},
   "outputs": [
    {
     "name": "stdout",
     "output_type": "stream",
     "text": [
      "True\n"
     ]
    }
   ],
   "source": [
    "x = [10, 3, 5, 7]   # Danh sách x\n",
    "y = [10, 11]        # Danh sách y\n",
    "\n",
    "# Khi so sánh list, Python so sánh từng phần tử từ trái sang phải.\n",
    "\n",
    "# Bước 1: So sánh phần tử đầu tiên\n",
    "# x[0] = 10, y[0] = 10\n",
    "# => Bằng nhau, chuyển sang phần tử tiếp theo.\n",
    "\n",
    "# Bước 2: So sánh phần tử thứ hai\n",
    "# x[1] = 3, y[1] = 11\n",
    "# => 3 < 11, vậy Python kết luận luôn x < y.\n",
    "# (Không cần xét các phần tử còn lại)\n",
    "\n",
    "print(x < y)  #true"
   ]
  },
  {
   "cell_type": "code",
   "execution_count": 24,
   "id": "67a746f6-7adb-4031-82f8-a40b0ddd54ba",
   "metadata": {},
   "outputs": [
    {
     "name": "stdout",
     "output_type": "stream",
     "text": [
      "False\n"
     ]
    }
   ],
   "source": [
    "x = [10, 12, 5, 7]   # Danh sách x\n",
    "y = [10, 11]         # Danh sách y\n",
    "\n",
    "# Python so sánh list theo thứ tự từng phần tử (giống từ điển).\n",
    "# Bắt đầu từ phần tử đầu tiên:\n",
    "\n",
    "# Bước 1: So sánh x[0] và y[0]\n",
    "# x[0] = 10, y[0] = 10\n",
    "# => Bằng nhau → chuyển sang phần tử tiếp theo.\n",
    "\n",
    "# Bước 2: So sánh x[1] và y[1]\n",
    "# x[1] = 12, y[1] = 11\n",
    "# => 12 > 11, nên Python kết luận x > y.\n",
    "# (Dừng luôn, không xét các phần tử còn lại)\n",
    "\n",
    "print(x < y)   # False"
   ]
  },
  {
   "cell_type": "markdown",
   "id": "68d777f1-a13f-424e-bdc1-e023b606d4ec",
   "metadata": {},
   "source": [
    "### Bài 3: Inclusion and exclusion"
   ]
  },
  {
   "cell_type": "code",
   "execution_count": 25,
   "id": "f3439dc8-23a8-46d5-a1a2-5a2708fb0c10",
   "metadata": {},
   "outputs": [
    {
     "name": "stdout",
     "output_type": "stream",
     "text": [
      "True\n"
     ]
    }
   ],
   "source": [
    "print(3 in [1, 2, 3])   # Kiểm tra xem giá trị 3 có nằm trong list [1, 2, 3] hay không\n",
    "                        # Toán tử \"in\" trả về True nếu phần tử tồn tại trong list, ngược lại False\n",
    "                        # Ở đây 3 có trong list [1, 2, 3] → Kết quả là True"
   ]
  },
  {
   "cell_type": "code",
   "execution_count": 26,
   "id": "a718822a-d418-4014-90da-d68bdd64bd4c",
   "metadata": {},
   "outputs": [
    {
     "name": "stdout",
     "output_type": "stream",
     "text": [
      "True\n"
     ]
    }
   ],
   "source": [
    "print(4 not in [1, 2, 3])   # Kiểm tra xem giá trị 4 có KHÔNG nằm trong list [1, 2, 3] hay không\n",
    "                            # Toán tử \"not in\" trả về True nếu phần tử KHÔNG tồn tại trong list\n",
    "                            # Ở đây 4 không có trong list [1, 2, 3] → Kết quả là True"
   ]
  },
  {
   "cell_type": "code",
   "execution_count": 27,
   "id": "10d00371-c9a6-4ad8-b107-a1a48dae5e0e",
   "metadata": {},
   "outputs": [
    {
     "name": "stdout",
     "output_type": "stream",
     "text": [
      "False\n"
     ]
    }
   ],
   "source": [
    "print(4 not in [1, 2, 3, 4])   # Kiểm tra xem giá trị 4 có KHÔNG nằm trong list [1, 2, 3, 4] hay không\n",
    "                               # Trong list [1, 2, 3, 4] đã có phần tử 4\n",
    "                               # Vì 4 CÓ trong list → điều kiện \"not in\" sai → trả về False"
   ]
  },
  {
   "cell_type": "code",
   "execution_count": 28,
   "id": "d0edf9ad-8e77-492f-bc0a-47bb9cf71038",
   "metadata": {},
   "outputs": [
    {
     "data": {
      "text/plain": [
       "True"
      ]
     },
     "execution_count": 28,
     "metadata": {},
     "output_type": "execute_result"
    }
   ],
   "source": [
    "dictionnaire = {\"nom\": \"Rockwell\", \"prenom\": \"Criquette\"}   # Tạo một dictionary có 2 cặp key-value: \"nom\" và \"prenom\"\n",
    "\n",
    "\"age\" not in dictionnaire.keys()   # Kiểm tra xem key \"age\" có KHÔNG nằm trong danh sách các keys của dictionary hay không\n",
    "                                   # Các keys hiện tại là [\"nom\", \"prenom\"]\n",
    "                                   # \"age"
   ]
  },
  {
   "cell_type": "markdown",
   "id": "c7e61e3a-2af8-4a6b-9614-70e0c36b8b25",
   "metadata": {},
   "source": [
    "## 4.3. Logical operators"
   ]
  },
  {
   "cell_type": "markdown",
   "id": "32bd6d7d-429f-42bc-9af6-37441d493941",
   "metadata": {},
   "source": [
    "### Bài 1: And logical"
   ]
  },
  {
   "cell_type": "code",
   "execution_count": 29,
   "id": "598d7334-582f-403e-bedf-2c555cdcfbce",
   "metadata": {},
   "outputs": [
    {
     "name": "stdout",
     "output_type": "stream",
     "text": [
      "True\n"
     ]
    }
   ],
   "source": [
    "x = True     # Gán giá trị True cho biến x\n",
    "y = True     # Gán giá trị True cho biến y\n",
    "\n",
    "print(x and y)   # Toán tử logic \"and\": chỉ trả về True khi CẢ x và y đều là True\n",
    "                 # Ở đây x = True và y = True → điều kiện đúng → kết quả True"
   ]
  },
  {
   "cell_type": "code",
   "execution_count": 30,
   "id": "30593704-1606-4600-958d-727b28e6b26d",
   "metadata": {},
   "outputs": [
    {
     "name": "stdout",
     "output_type": "stream",
     "text": [
      "False\n"
     ]
    }
   ],
   "source": [
    "x = True      # Gán giá trị True cho biến x\n",
    "y = False     # Gán giá trị False cho biến y\n",
    "\n",
    "print(x and y)   # Toán tử logic \"and\": chỉ trả về True khi cả x và y đều True\n",
    "                 # Ở đây x = True nhưng y = False → điều kiện sai → kết quả False"
   ]
  },
  {
   "cell_type": "code",
   "execution_count": 31,
   "id": "3090947c-e8ac-4e48-a59d-7ba8aa08806a",
   "metadata": {},
   "outputs": [
    {
     "name": "stdout",
     "output_type": "stream",
     "text": [
      "False\n"
     ]
    }
   ],
   "source": [
    "y = False         # Biến y có giá trị False\n",
    "\n",
    "print(y and y)    # Toán tử logic \"and\": chỉ trả về True khi cả 2 vế đều True\n",
    "                  # Ở đây: y = False và y = False → False and False → False"
   ]
  },
  {
   "cell_type": "code",
   "execution_count": 32,
   "id": "55b0a1b1-e3bd-4b1c-8a7a-7ab580b50438",
   "metadata": {},
   "outputs": [
    {
     "name": "stdout",
     "output_type": "stream",
     "text": [
      "None\n"
     ]
    }
   ],
   "source": [
    "x = True     # Biến x có giá trị True\n",
    "y = False    # Biến y có giá trị False\n",
    "z = None     # Biến z có giá trị None (đại diện cho \"không có giá trị\")\n",
    "\n",
    "# Toán tử \"and\" trong Python: \n",
    "# - Nếu vế đầu tiên là False → trả về ngay giá trị đó.\n",
    "# - Nếu vế đầu tiên là True → trả về giá trị của vế thứ hai.\n",
    "\n",
    "print(x and z)    # Ở đây: x = True → nên kết quả sẽ là vế thứ hai (z)\n",
    "                  # z = None → nên in ra None"
   ]
  },
  {
   "cell_type": "code",
   "execution_count": 33,
   "id": "9bdc1761-2a83-4c7f-9048-146df15ba1a8",
   "metadata": {},
   "outputs": [
    {
     "name": "stdout",
     "output_type": "stream",
     "text": [
      "False\n"
     ]
    }
   ],
   "source": [
    "x = True     # Biến x có giá trị True\n",
    "y = False    # Biến y có giá trị False\n",
    "z = None     # Biến z có giá trị None\n",
    "\n",
    "# Quy tắc \"and\":\n",
    "# - Nếu vế trái là False → trả về ngay vế trái (không cần kiểm tra vế phải).\n",
    "# - Nếu vế trái là True → trả về vế phải.\n",
    "\n",
    "print(y and z)   # y = False, nên Python trả về ngay False (không qua"
   ]
  },
  {
   "cell_type": "code",
   "execution_count": 34,
   "id": "d63bc508-3573-4ad6-ab5e-a0a7e258efc8",
   "metadata": {},
   "outputs": [
    {
     "name": "stdout",
     "output_type": "stream",
     "text": [
      "None\n"
     ]
    }
   ],
   "source": [
    "x = True     # Biến x có giá trị True\n",
    "y = False    # Biến y có giá trị False\n",
    "z = None     # Biến z có giá trị None\n",
    "\n",
    "# Quy tắc \"and\":\n",
    "# - Nếu vế trái là False (hoặc giá trị \"falsy\" như None, 0, \"\", []) \n",
    "#   → trả về ngay vế trái.\n",
    "# - Nếu vế trái là True → trả về vế phải.\n",
    "\n",
    "print(z and z)   # z = None (một giá trị \"falsy\"), \n",
    "                 # nên Python trả về ngay vế trái là None."
   ]
  },
  {
   "cell_type": "markdown",
   "id": "9e08864e-b7fa-44af-a9f1-a396168ff5e8",
   "metadata": {},
   "source": [
    "### Bài 2: Logical OR"
   ]
  },
  {
   "cell_type": "code",
   "execution_count": 3,
   "id": "cf68eb83-bbc3-490a-8595-e752ae656d93",
   "metadata": {},
   "outputs": [
    {
     "name": "stdout",
     "output_type": "stream",
     "text": [
      "True\n"
     ]
    }
   ],
   "source": [
    "x = True    # Biến x có giá trị True\n",
    "y = False   # Biến y có giá trị False\n",
    "\n",
    "# Quy tắc \"or\":\n",
    "# - Nếu vế trái là True (hoặc một giá trị \"truthy\") → trả về ngay vế trái.\n",
    "# - Nếu vế trái là False → trả về vế phải.\n",
    "\n",
    "print(x or y)   # vế trái = True, nên Python trả về luôn True mà không xét vế phải."
   ]
  },
  {
   "cell_type": "code",
   "execution_count": 4,
   "id": "65ebf6e0-b9bb-4706-9d02-44903a0d1df3",
   "metadata": {},
   "outputs": [
    {
     "name": "stdout",
     "output_type": "stream",
     "text": [
      "False\n"
     ]
    }
   ],
   "source": [
    "x = False   # Biến x có giá trị False\n",
    "y = False   # Biến y có giá trị False\n",
    "\n",
    "# Quy tắc \"or\":\n",
    "# - Nếu vế trái là True → trả về vế trái\n",
    "# - Nếu vế trái là False → trả về vế phải\n",
    "\n",
    "print(x or y)   # x = False, nên Python trả về vế phải y\n",
    "                 # y = False → kết quả là False\n"
   ]
  },
  {
   "cell_type": "code",
   "execution_count": 6,
   "id": "4520c3c5-2582-4fcd-8a8d-d96c7d73d33d",
   "metadata": {},
   "outputs": [
    {
     "name": "stdout",
     "output_type": "stream",
     "text": [
      "True\n"
     ]
    }
   ],
   "source": [
    "x = True\n",
    "y = False\n",
    "z = None\n",
    "print(x or z)"
   ]
  },
  {
   "cell_type": "code",
   "execution_count": 7,
   "id": "9a97fca6-49ce-42e9-84fd-424dede73b1b",
   "metadata": {},
   "outputs": [
    {
     "name": "stdout",
     "output_type": "stream",
     "text": [
      "None\n"
     ]
    }
   ],
   "source": [
    "print(y or z) # y = False, nên Python trả về vế phải z\n",
    "              # z = None -> kết quả là None"
   ]
  },
  {
   "cell_type": "code",
   "execution_count": null,
   "id": "e263cc2f-ce75-4e3e-81df-851d4128e743",
   "metadata": {},
   "outputs": [],
   "source": [
    "z = None   # Biến z có giá trị None (một giá trị \"falsy\")\n",
    "\n",
    "# Quy tắc \"or\":\n",
    "# - Nếu vế trái là True (hoặc giá trị \"truthy\") → trả về vế trái ngay lập tức\n",
    "# - Nếu vế trái là False (hoặc giá trị \"falsy\") → trả về vế phải\n",
    "\n",
    "print(z or z)   # vế trái = None (falsy), Python trả về vế phải = None"
   ]
  },
  {
   "cell_type": "markdown",
   "id": "ce794fac-d90f-449c-9c89-4e3114bb6ba4",
   "metadata": {},
   "source": [
    "### Bài 3: Logical Not"
   ]
  },
  {
   "cell_type": "code",
   "execution_count": 9,
   "id": "d1c76a87-b2e4-49aa-afa4-04c972cd3e3f",
   "metadata": {},
   "outputs": [
    {
     "name": "stdout",
     "output_type": "stream",
     "text": [
      "False\n"
     ]
    }
   ],
   "source": [
    "x = True    # Biến x có giá trị True\n",
    "y = False   # Biến y có giá trị False\n",
    "\n",
    "print(not x)   # Toán tử logic \"not\" đảo ngược giá trị boolean\n",
    "                # x = True → not x = False"
   ]
  },
  {
   "cell_type": "code",
   "execution_count": 10,
   "id": "a3001986-e4a0-4aba-9a1a-82111121207e",
   "metadata": {},
   "outputs": [
    {
     "name": "stdout",
     "output_type": "stream",
     "text": [
      "True\n"
     ]
    }
   ],
   "source": [
    "x = True    # Biến x có giá trị True\n",
    "y = False   # Biến y có giá trị False\n",
    "\n",
    "print(not y)   # Toán tử logic \"not\" đảo ngược giá trị boolean\n",
    "                # y = False → not y = True"
   ]
  },
  {
   "cell_type": "code",
   "execution_count": 11,
   "id": "0a76ea88-acdd-4c61-9326-ab77af493734",
   "metadata": {},
   "outputs": [
    {
     "data": {
      "text/plain": [
       "True"
      ]
     },
     "execution_count": 11,
     "metadata": {},
     "output_type": "execute_result"
    }
   ],
   "source": [
    "x = None    # Biến x có giá trị None (một giá trị \"falsy\" trong Python)\n",
    "\n",
    "not x       # Toán tử logic \"not\" đảo ngược giá trị boolean\n",
    "            # None được coi là False trong ngữ cảnh boolean\n",
    "            # not False → True"
   ]
  },
  {
   "cell_type": "markdown",
   "id": "eb8fc2e8-73ae-40a6-be68-77985f23d07e",
   "metadata": {},
   "source": [
    "# Chapter 5. Loading and Saving Data"
   ]
  },
  {
   "cell_type": "code",
   "execution_count": 12,
   "id": "a7c95d5b-94e4-435d-a607-f78f5e80f24f",
   "metadata": {},
   "outputs": [
    {
     "name": "stdout",
     "output_type": "stream",
     "text": [
      "/workspaces/ueh25-ktlt-eco\n"
     ]
    }
   ],
   "source": [
    "import os                 # Nhập module os để thao tác với hệ điều hành\n",
    "\n",
    "cwd = os.getcwd()         # Gọi hàm getcwd() trong module os để lấy đường dẫn thư mục làm việc hiện tại (current working directory)\n",
    "print(cwd)                # In ra đường dẫn thư mục hiện tại"
   ]
  },
  {
   "cell_type": "markdown",
   "id": "1e510402-c621-438e-830a-e955c0e0eee4",
   "metadata": {},
   "source": [
    "## 5.1. Load Data"
   ]
  },
  {
   "cell_type": "markdown",
   "id": "12c7c355-febb-4597-9267-07623af48ad2",
   "metadata": {},
   "source": [
    "### Bài 1: Fichiers textes"
   ]
  },
  {
   "cell_type": "code",
   "execution_count": 3,
   "id": "26a9f0f7-8f2c-4ec1-bce9-33531c9f4472",
   "metadata": {},
   "outputs": [
    {
     "name": "stdout",
     "output_type": "stream",
     "text": [
      "b\"Bonjour, je suis un fichier au format txt.\\nJe contiens plusieurs lignes, l'id\\xc3\\xa9e \\xc3\\xa9tant de montrer comment fonctionne l'importation d'un tel fichier dans Python.\\nTrois lignes devraient suffir.\"\n"
     ]
    }
   ],
   "source": [
    "import urllib\n",
    "from urllib.request import urlopen\n",
    "url = \"http://egallic.fr/Enseignement/Python/fichiers_exemples/fichier_texte.txt\"\n",
    "with urllib.request.urlopen(url) as my_file:\n",
    "    data = my_file.read()\n",
    "print(data)"
   ]
  },
  {
   "cell_type": "code",
   "execution_count": 8,
   "id": "7e9cd92b-ff83-40af-9276-7d20bbb0b2ae",
   "metadata": {},
   "outputs": [
    {
     "name": "stdout",
     "output_type": "stream",
     "text": [
      "Bonjour, je suis un fichier au format txt.\n",
      "Je contiens plusieurs lignes, l'idée étant de montrer comment fonctionne l'importation d'un tel fichier dans Python.\n",
      "Trois lignes devraient suffir.\n"
     ]
    }
   ],
   "source": [
    "path = \"fichier_texte.txt\"\n",
    "my_file = open(path, mode=\"r\", encoding=\"utf-8\")\n",
    "print(my_file.read())"
   ]
  },
  {
   "cell_type": "code",
   "execution_count": 10,
   "id": "66a93354-2e98-451a-b4f5-f4bbae33854c",
   "metadata": {},
   "outputs": [
    {
     "name": "stdout",
     "output_type": "stream",
     "text": [
      "Bonjour, je suis un fichier au format txt.\n",
      "Je contiens plusieurs lignes, l'idée étant de montrer comment fonctionne l'importation d'un tel fichier dans Python.\n",
      "Trois lignes devraient suffir.\n"
     ]
    }
   ],
   "source": [
    "# Mở file ở chế độ đọc (read-only, mặc định)\n",
    "# 'with' đảm bảo file sẽ tự động đóng sau khi khối lệnh kết thúc\n",
    "with open(path, \"r\", encoding=\"utf-8\") as mon_fichier:\n",
    "    # Đọc dữ liệu từ file và gán vào biến 'data'\n",
    "    data = mon_fichier.read()\n",
    "\n",
    "# In dữ liệu đã đọc\n",
    "print(data)"
   ]
  },
  {
   "cell_type": "code",
   "execution_count": 13,
   "id": "d0a8e3dc-4a19-46c6-b858-1606cc91e2c0",
   "metadata": {},
   "outputs": [
    {
     "name": "stdout",
     "output_type": "stream",
     "text": [
      "['Bonjour, je suis un fichier au format txt.\\n', \"Je contiens plusieurs lignes, l'idée étant de montrer comment fonctionne l'importation d'un tel fichier dans Python.\\n\", 'Trois lignes devraient suffir.']\n"
     ]
    }
   ],
   "source": [
    "# Opening in read-only mode (default)\n",
    "path = \"fichier_texte.txt\"\n",
    "\n",
    "with open(path, \"r\", encoding=\"utf-8\") as my_file:\n",
    "    # Use a list comprehension to read each line from the file\n",
    "    data = [x for x in my_file]\n",
    "    \n",
    "print(data)"
   ]
  },
  {
   "cell_type": "code",
   "execution_count": 18,
   "id": "a37ee58f-4999-46d2-babd-c7b7f1700e53",
   "metadata": {},
   "outputs": [
    {
     "name": "stdout",
     "output_type": "stream",
     "text": [
      "['Bonjour, je suis un fichier au format txt.', \"Je contiens plusieurs lignes, l'idée étant de montrer comment fonctionne l'importation d'un tel fichier dans Python.\", 'Trois lignes devraient suffir.']\n"
     ]
    }
   ],
   "source": [
    "with open(path, \"r\", encoding=\"utf-8\") as my_file:\n",
    "# open(path, \"r\")         : mở file ở đường dẫn 'path' để đọc\n",
    "# with ... as my_file      : đảm bảo file sẽ tự động đóng khi thoát khối lệnh\n",
    "# my_file                  : đối tượng file, đại diện cho file đang mở\n",
    "\n",
    "    data = [x.strip() for x in my_file]\n",
    "# Đây là list comprehension:\n",
    "# - Duyệt từng dòng x trong file my_file\n",
    "# - Dùng x.strip() để loại bỏ khoảng trắng hoặc ký tự xuống dòng ở đầu/cuối\n",
    "# - Lưu tất cả dòng đã xử lý vào list data\n",
    "\n",
    "print(data)\n",
    "# In ra list chứa các dòng trong file sau khi loại bỏ khoảng trắng"
   ]
  },
  {
   "cell_type": "code",
   "execution_count": 19,
   "id": "215a5de7-498b-4da1-b125-a2a124e8d824",
   "metadata": {},
   "outputs": [
    {
     "name": "stdout",
     "output_type": "stream",
     "text": [
      "['Bonjour, je suis un fichier au format txt.\\n', \"Je contiens plusieurs lignes, l'idée étant de montrer comment fonctionne l'importation d'un tel fichier dans Python.\\n\", 'Trois lignes devraient suffir.']\n"
     ]
    }
   ],
   "source": [
    "with open(path, \"r\") as my_file:\n",
    "# open(path, \"r\")       : mở file tại đường dẫn 'path' để đọc\n",
    "# with ... as my_file    : đảm bảo file sẽ tự động đóng khi thoát khối lệnh\n",
    "# my_file                : đối tượng file, dùng để thao tác với file\n",
    "\n",
    "    data = my_file.readlines()\n",
    "# Đọc tất cả các dòng của file và lưu vào list\n",
    "# Mỗi phần tử của list là một dòng, bao gồm ký tự xuống dòng '\\n' nếu có\n",
    "\n",
    "print(data)\n",
    "# In ra list các dòng trong file\n"
   ]
  },
  {
   "cell_type": "markdown",
   "id": "fd78e014-f88a-4c30-ac5f-0856378e587a",
   "metadata": {},
   "source": [
    "### Bài 2: Import from the Internet"
   ]
  },
  {
   "cell_type": "code",
   "execution_count": 20,
   "id": "a45d7a39-e438-480d-89da-30f4992ee924",
   "metadata": {},
   "outputs": [
    {
     "name": "stdout",
     "output_type": "stream",
     "text": [
      "b\"Bonjour, je suis un fichier au format txt.\\nJe contiens plusieurs lignes, l'id\\xc3\\xa9e \\xc3\\xa9tant de montrer comment fonctionne l'importation d'un tel fichier dans Python.\\nTrois lignes devraient suffir.\"\n"
     ]
    }
   ],
   "source": [
    "import urllib                       # Nhập module urllib để làm việc với URL\n",
    "from urllib.request import urlopen   # Nhập hàm urlopen để mở URL\n",
    "\n",
    "url = \"http://egallic.fr/Enseignement/Python/fichiers_exemples/fichier_texte.txt\"\n",
    "\n",
    "# Mở URL và đọc dữ liệu\n",
    "with urllib.request.urlopen(url) as my_file:  \n",
    "    data = my_file.read()           # Đọc toàn bộ nội dung từ URL dưới dạng bytes\n",
    "\n",
    "print(data)                         # In dữ liệu đã đọc ra (dạng bytes)"
   ]
  },
  {
   "cell_type": "code",
   "execution_count": 21,
   "id": "4b0b9255-6995-4d53-965f-d8eec849391a",
   "metadata": {},
   "outputs": [
    {
     "name": "stdout",
     "output_type": "stream",
     "text": [
      "Bonjour, je suis un fichier au format txt.\n",
      "Je contiens plusieurs lignes, l'idée étant de montrer comment fonctionne l'importation d'un tel fichier dans Python.\n",
      "Trois lignes devraient suffir.\n"
     ]
    }
   ],
   "source": [
    "# data là dữ liệu dạng bytes khi đọc từ URL\n",
    "# decode() chuyển dữ liệu bytes sang chuỗi (str) theo mã hóa mặc định UTF-8\n",
    "print(data.decode())   # In nội dung file dưới dạng chuỗi"
   ]
  },
  {
   "cell_type": "markdown",
   "id": "ac16d19b-aeb6-4939-b079-11da3851895c",
   "metadata": {},
   "source": [
    "### Bài 3: CSV Files"
   ]
  },
  {
   "cell_type": "code",
   "execution_count": 30,
   "id": "973287d4-b842-4389-a273-31ef27d66c8a",
   "metadata": {},
   "outputs": [
    {
     "name": "stdout",
     "output_type": "stream",
     "text": [
      "[['101', 'Performance Ski Only', '30', '20'], ['102', 'Snowboard', '30', '20'], ['103', 'Boots', '8', '5'], ['104', 'Poles', '7', '5'], ['105', 'Helmet', '7', '5'], ['106', 'Snowshoes', '10', '8'], ['107', 'Tobaggan', '40', '30'], ['108', 'Sled', '20', '15'], ['109', 'Tube', '8', '5']]\n"
     ]
    }
   ],
   "source": [
    "import csv   # Nhập module csv để làm việc với file CSV\n",
    "\n",
    "# Mở file CSV ở chế độ đọc (mặc định là 'r')\n",
    "with open('Accessories.csv') as my_file:\n",
    "    # Tạo đối tượng reader để đọc file CSV\n",
    "    # delimiter=',' : phân tách các cột bằng dấu phẩy\n",
    "    # quotechar='\"' : ký tự dùng để bao quanh dữ liệu có dấu phẩy\n",
    "    my_file_reader = csv.reader(my_file, delimiter=',', quotechar='\"')\n",
    "    \n",
    "    # List comprehension: đọc từng dòng trong CSV và lưu vào list\n",
    "    data = [x for x in my_file_reader]\n",
    "\n",
    "# In toàn bộ\n",
    "print(data)"
   ]
  },
  {
   "cell_type": "code",
   "execution_count": 33,
   "id": "cc3c2e8a-687e-406c-998e-33544d57d42e",
   "metadata": {},
   "outputs": [
    {
     "name": "stdout",
     "output_type": "stream",
     "text": [
      "[['nom', 'prénom', 'équipe'], ['Irving', ' \"Kyrie\"', ' \"Celtics\"'], ['James', ' \"Lebron\"', ' \"Lakers\"', ''], ['Curry', ' \"Stephen\"', ' \"Golden State Warriors\"']]\n"
     ]
    }
   ],
   "source": [
    "import csv   # Nhập module csv để làm việc với file CSV\n",
    "\n",
    "# Mở file CSV ở chế độ đọc (mặc định là 'r')\n",
    "with open('fichier_csv.csv') as my_file:\n",
    "    # Tạo đối tượng reader để đọc file CSV\n",
    "    # delimiter=',' : phân tách các cột bằng dấu phẩy\n",
    "    # quotechar='\"' : ký tự dùng để bao quanh dữ liệu có dấu phẩy\n",
    "    my_file_reader = csv.reader(my_file, delimiter=',', quotechar='\"')\n",
    "    \n",
    "    # List comprehension: đọc từng dòng trong CSV và lưu vào list\n",
    "    data = [x for x in my_file_reader]\n",
    "\n",
    "# In toàn bộ\n",
    "print(data)"
   ]
  },
  {
   "cell_type": "code",
   "execution_count": 29,
   "id": "695509ab-a0a6-40f7-8dcf-69337f884d6e",
   "metadata": {},
   "outputs": [
    {
     "name": "stdout",
     "output_type": "stream",
     "text": [
      "[{'101': '102', 'Performance Ski Only': 'Snowboard', '30': '30', '20': '20'}, {'101': '103', 'Performance Ski Only': 'Boots', '30': '8', '20': '5'}, {'101': '104', 'Performance Ski Only': 'Poles', '30': '7', '20': '5'}, {'101': '105', 'Performance Ski Only': 'Helmet', '30': '7', '20': '5'}, {'101': '106', 'Performance Ski Only': 'Snowshoes', '30': '10', '20': '8'}, {'101': '107', 'Performance Ski Only': 'Tobaggan', '30': '40', '20': '30'}, {'101': '108', 'Performance Ski Only': 'Sled', '30': '20', '20': '15'}, {'101': '109', 'Performance Ski Only': 'Tube', '30': '8', '20': '5'}]\n"
     ]
    }
   ],
   "source": [
    "import csv\n",
    "path = \"Accessories.csv\"\n",
    "with open(path) as my_file:\n",
    "    my_file_csv = csv.DictReader(my_file)\n",
    "    data = [ligne for ligne in my_file_csv]\n",
    "print(data)"
   ]
  },
  {
   "cell_type": "code",
   "execution_count": 31,
   "id": "a70d95bc-e8f8-41da-9fb3-dca8f12fb014",
   "metadata": {},
   "outputs": [
    {
     "name": "stdout",
     "output_type": "stream",
     "text": [
      "[['nom', 'prénom', 'équipe'], ['Irving', ' \"Kyrie\"', ' \"Celtics\"'], ['James', ' \"Lebron\"', ' \"Lakers\"', ''], ['Curry', ' \"Stephen\"', ' \"Golden State Warriors\"']]\n"
     ]
    }
   ],
   "source": [
    "import csv\n",
    "import urllib.request\n",
    "import codecs\n",
    "\n",
    "url = \"http://egallic.fr/Enseignement/Python/fichiers_exemples/fichier_csv.csv\"\n",
    "\n",
    "# Mở URL và đọc dữ liệu CSV trực tiếp từ Internet\n",
    "with urllib.request.urlopen(url) as my_file:\n",
    "    # codecs.iterdecode chuyển bytes từ URL sang chuỗi UTF-8\n",
    "    # csv.reader đọc dữ liệu CSV từ iterator của chuỗi\n",
    "    my_file_csv = csv.reader(codecs.iterdecode(my_file, 'utf-8'))\n",
    "    \n",
    "    # List comprehension: lưu tất cả dòng CSV vào list\n",
    "    data = [ligne for ligne in my_file_csv]\n",
    "\n",
    "# In dữ liệu CSV dưới dạng list các dòng\n",
    "print(data)"
   ]
  },
  {
   "cell_type": "markdown",
   "id": "62ce456a-c565-4bc3-937f-7e43b626ea01",
   "metadata": {},
   "source": [
    "### Bài 4: JSON Files"
   ]
  },
  {
   "cell_type": "code",
   "execution_count": 1,
   "id": "95f7117f-a0c5-4e98-a389-1f0d2a6ce0fd",
   "metadata": {},
   "outputs": [
    {
     "name": "stdout",
     "output_type": "stream",
     "text": [
      "{'created_at': 'Wed Sep 26 07:38:05 +0000 2018', 'id': 11, 'text': 'Un tweet !', 'user_mentions': [{'screen_name': 'nom_twittos1', 'id': 111}, {'screen_name': 'nom_twittos2', 'id': 112}], 'loc': [{'long': 5.3698}, {'lat': 43.2965}]}\n"
     ]
    }
   ],
   "source": [
    "import urllib\n",
    "from urllib.request import urlopen   # Nhập hàm urlopen để mở URL\n",
    "\n",
    "url = \"http://egallic.fr/Enseignement/Python/fichiers_exemples/tweets.json\"\n",
    "\n",
    "# Mở URL và đọc dữ liệu JSON trực tiếp từ Internet\n",
    "with urllib.request.urlopen(url) as my_file:\n",
    "    # my_file là đối tượng file dạng bytes từ URL\n",
    "    # Bạn có thể đọc toàn bộ dữ liệu bằng my_file.read()\n",
    "    data_bytes = my_file.read()   # Đọc toàn bộ nội dung URL dưới dạng bytes\n",
    "\n",
    "    # Chuyển bytes sang chuỗi (str) để có thể xử lý JSON\n",
    "    data_str = data_bytes.decode('utf-8')\n",
    "\n",
    "    # Chuyển chuỗi JSON thành đối tượng Python (list hoặc dict)\n",
    "    import json\n",
    "    data = json.loads(data_str)\n",
    "\n",
    "# In dữ liệu JSON đã chuyển thành Python\n",
    "print(data)"
   ]
  },
  {
   "cell_type": "markdown",
   "id": "f4baaa6d-b7b1-495a-a818-da0be0cd467d",
   "metadata": {},
   "source": [
    "## 5.2. Exporting Data"
   ]
  },
  {
   "cell_type": "markdown",
   "id": "2bb3fb8b-60a3-4466-bd77-6b53f008fab5",
   "metadata": {},
   "source": [
    "### Bài 1: Text Files"
   ]
  },
  {
   "cell_type": "code",
   "execution_count": 2,
   "id": "04f54758-8104-42f3-a90a-77998c9d1560",
   "metadata": {},
   "outputs": [
    {
     "data": {
      "text/plain": [
       "\"['pomme', 1, 3]\""
      ]
     },
     "execution_count": 2,
     "metadata": {},
     "output_type": "execute_result"
    }
   ],
   "source": [
    "x = [\"pomme\", 1, 3]   # Tạo một list gồm 3 phần tử: một chuỗi và hai số nguyên\n",
    "\n",
    "str(x)                 # Chuyển list x thành chuỗi (string)\n",
    "                       # Kết quả là: \"['pomme', 1, 3]\" (chuỗi thể hiện danh sách)"
   ]
  },
  {
   "cell_type": "code",
   "execution_count": 3,
   "id": "f22792f4-368a-40c7-9919-d712f5d93656",
   "metadata": {},
   "outputs": [
    {
     "data": {
      "text/plain": [
       "\"'Fromage, tu veux du fromage ?\\\\n'\""
      ]
     },
     "execution_count": 3,
     "metadata": {},
     "output_type": "execute_result"
    }
   ],
   "source": [
    "y = \"Fromage, tu veux du fromage ?\\n\"  # Chuỗi kết thúc bằng ký tự xuống dòng '\\n'\n",
    "\n",
    "repr(y)                                 \n",
    "# Hàm repr() trả về **chuỗi biểu diễn chính xác** của đối tượng Python\n",
    "# Ở đây, repr(y) sẽ hiển thị ký tự đặc biệt '\\n' thay vì xuống dòng thật\n",
    "# Kết quả: \"'Fromage, tu veux du fromage ?\\\\n'\""
   ]
  },
  {
   "cell_type": "code",
   "execution_count": 7,
   "id": "51882254-9a98-4ccf-bbe8-a5cee36fe625",
   "metadata": {},
   "outputs": [],
   "source": [
    "z = {\n",
    "    \"name\": \"Kyrie\",\n",
    "    \"surname\": \"Irving\",\n",
    "    \"date_of_birth\": 1992,\n",
    "    \"teams\": [\"Cleveland\", \"Boston\", \"Nets\"]\n",
    "} # Tạo dictionary chứa thông tin cầu thủ\n",
    "\n",
    "path = \"file.txt\" # Đường dẫn file muốn ghi dữ liệu\n",
    "\n",
    "# Mở file ở chế độ ghi (write, 'w'); nếu file tồn tại sẽ bị ghi đè\n",
    "with open(path, \"w\", encoding=\"utf-8\") as my_file:\n",
    "    # Lặp qua từng cặp key-value trong từ điển và ghi vào file\n",
    "    for key, value in z.items():\n",
    "        my_file.write(f\"{key}: {value}\\n\")"
   ]
  },
  {
   "cell_type": "code",
   "execution_count": 11,
   "id": "826cbb54-5887-4d04-b347-ea1210132916",
   "metadata": {},
   "outputs": [
    {
     "name": "stdout",
     "output_type": "stream",
     "text": [
      "{'created_at': 'Wed Sep 26 07:38:05 +0000 2018', 'id': 11, 'text': 'Un tweet !', 'user_mentions': [{'screen_name': 'nom_twittos1', 'id': 111}, {'screen_name': 'nom_twittos2', 'id': 112}], 'loc': [{'long': 5.3698}, {'lat': 43.2965}]}\n"
     ]
    }
   ],
   "source": [
    "path = \"file.txt\"  # Đường dẫn file sẽ được tạo hoặc ghi\n",
    "\n",
    "with open(path, mode = \"w\", encoding=\"utf-8\") as my_file:   # Mở file ở chế độ ghi (write)\n",
    "                                         # Nếu file đã tồn tại, nội dung cũ sẽ bị xóa\n",
    "                                         # 'with' đảm bảo file tự động đóng sau khi thoát khối lệnh\n",
    "    my_file.write(\"Characteristics of Kyrie Irving\\n\")  \n",
    "    # Ghi một chuỗi vào file, bao gồm ký tự xuống dòng '\\n'\n",
    "\n",
    "    my_file.writelines(repr(z))          \n",
    "    # Ghi **chuỗi biểu diễn** (representation) của dictionary z vào file\n",
    "    # repr(z) trả về chuỗi dạng: \n",
    "    # \"{'name': 'Kyrie', 'surname': 'Irving', 'date_of_birth': 1992, 'teams': ['Cleveland', 'Boston', 'Nets']}\"\n",
    "    # writelines() thường nhận **danh sách các chuỗi**, nhưng nếu là chuỗi đơn thì sẽ ghi từng ký tự\n",
    "  "
   ]
  },
  {
   "cell_type": "code",
   "execution_count": 13,
   "id": "6026aa5e-ed71-470e-97f0-987d624d7e9c",
   "metadata": {},
   "outputs": [],
   "source": [
    "with open(path, mode=\"a\") as my_file:  \n",
    "    # Mở file ở chế độ **append** ('a'), nghĩa là thêm dữ liệu vào cuối file\n",
    "    # Nếu file chưa tồn tại, Python sẽ tạo mới file\n",
    "    # 'with' đảm bảo file tự động đóng sau khi thoát khối lệnh\n",
    "\n",
    "    my_file.writelines(\"\\nAnother line\\n\")  \n",
    "    # Ghi chuỗi \"\\nAnother line\\n\" vào file\n",
    "    # '\\n' đầu tiên xuống dòng trước khi ghi, '\\n' cuối cùng xuống dòng sau khi ghi\n",
    "    # writelines() nhận chuỗi đơn cũng được, nhưng sẽ ghi từng ký tự liên tiếp"
   ]
  },
  {
   "cell_type": "code",
   "execution_count": 14,
   "id": "aad61dd3-eb65-497e-8409-18c28e172ac5",
   "metadata": {},
   "outputs": [
    {
     "ename": "FileExistsError",
     "evalue": "[Errno 17] File exists: 'file.txt'",
     "output_type": "error",
     "traceback": [
      "\u001b[31m---------------------------------------------------------------------------\u001b[39m",
      "\u001b[31mFileExistsError\u001b[39m                           Traceback (most recent call last)",
      "\u001b[36mCell\u001b[39m\u001b[36m \u001b[39m\u001b[32mIn[14]\u001b[39m\u001b[32m, line 1\u001b[39m\n\u001b[32m----> \u001b[39m\u001b[32m1\u001b[39m \u001b[38;5;28;01mwith\u001b[39;00m \u001b[38;5;28;43mopen\u001b[39;49m\u001b[43m(\u001b[49m\u001b[43mpath\u001b[49m\u001b[43m,\u001b[49m\u001b[43m \u001b[49m\u001b[43mmode\u001b[49m\u001b[43m=\u001b[49m\u001b[33;43m\"\u001b[39;49m\u001b[33;43mx\u001b[39;49m\u001b[33;43m\"\u001b[39;49m\u001b[43m)\u001b[49m \u001b[38;5;28;01mas\u001b[39;00m my_file:\n\u001b[32m      2\u001b[39m     \u001b[38;5;66;03m# Mở file ở chế độ **exclusive creation** ('x')\u001b[39;00m\n\u001b[32m      3\u001b[39m     \u001b[38;5;66;03m# Python sẽ tạo file mới và mở để ghi\u001b[39;00m\n\u001b[32m      4\u001b[39m     \u001b[38;5;66;03m# Nếu file đã tồn tại → sẽ **báo lỗi FileExistsError**\u001b[39;00m\n\u001b[32m      5\u001b[39m     \u001b[38;5;66;03m# 'with' đảm bảo file tự động đóng sau khi thoát khối lệnh\u001b[39;00m\n\u001b[32m      7\u001b[39m     my_file.writelines(\u001b[33m\"\u001b[39m\u001b[33mA new line that will not be added\u001b[39m\u001b[38;5;130;01m\\n\u001b[39;00m\u001b[33m\"\u001b[39m)\n\u001b[32m      8\u001b[39m     \u001b[38;5;66;03m# Ghi chuỗi vào file nếu file mới được tạo thành công\u001b[39;00m\n",
      "\u001b[36mFile \u001b[39m\u001b[32m~/.local/lib/python3.12/site-packages/IPython/core/interactiveshell.py:343\u001b[39m, in \u001b[36m_modified_open\u001b[39m\u001b[34m(file, *args, **kwargs)\u001b[39m\n\u001b[32m    336\u001b[39m \u001b[38;5;28;01mif\u001b[39;00m file \u001b[38;5;129;01min\u001b[39;00m {\u001b[32m0\u001b[39m, \u001b[32m1\u001b[39m, \u001b[32m2\u001b[39m}:\n\u001b[32m    337\u001b[39m     \u001b[38;5;28;01mraise\u001b[39;00m \u001b[38;5;167;01mValueError\u001b[39;00m(\n\u001b[32m    338\u001b[39m         \u001b[33mf\u001b[39m\u001b[33m\"\u001b[39m\u001b[33mIPython won\u001b[39m\u001b[33m'\u001b[39m\u001b[33mt let you open fd=\u001b[39m\u001b[38;5;132;01m{\u001b[39;00mfile\u001b[38;5;132;01m}\u001b[39;00m\u001b[33m by default \u001b[39m\u001b[33m\"\u001b[39m\n\u001b[32m    339\u001b[39m         \u001b[33m\"\u001b[39m\u001b[33mas it is likely to crash IPython. If you know what you are doing, \u001b[39m\u001b[33m\"\u001b[39m\n\u001b[32m    340\u001b[39m         \u001b[33m\"\u001b[39m\u001b[33myou can use builtins\u001b[39m\u001b[33m'\u001b[39m\u001b[33m open.\u001b[39m\u001b[33m\"\u001b[39m\n\u001b[32m    341\u001b[39m     )\n\u001b[32m--> \u001b[39m\u001b[32m343\u001b[39m \u001b[38;5;28;01mreturn\u001b[39;00m \u001b[43mio_open\u001b[49m\u001b[43m(\u001b[49m\u001b[43mfile\u001b[49m\u001b[43m,\u001b[49m\u001b[43m \u001b[49m\u001b[43m*\u001b[49m\u001b[43margs\u001b[49m\u001b[43m,\u001b[49m\u001b[43m \u001b[49m\u001b[43m*\u001b[49m\u001b[43m*\u001b[49m\u001b[43mkwargs\u001b[49m\u001b[43m)\u001b[49m\n",
      "\u001b[31mFileExistsError\u001b[39m: [Errno 17] File exists: 'file.txt'"
     ]
    }
   ],
   "source": [
    "with open(path, mode=\"x\") as my_file:\n",
    "    # Mở file ở chế độ **exclusive creation** ('x')\n",
    "    # Python sẽ tạo file mới và mở để ghi\n",
    "    # Nếu file đã tồn tại → sẽ **báo lỗi FileExistsError**\n",
    "    # 'with' đảm bảo file tự động đóng sau khi thoát khối lệnh\n",
    "\n",
    "    my_file.writelines(\"A new line that will not be added\\n\")\n",
    "    # Ghi chuỗi vào file nếu file mới được tạo thành công"
   ]
  },
  {
   "cell_type": "markdown",
   "id": "5fbced1a-64ac-40c6-935f-23c1c97a9931",
   "metadata": {},
   "source": [
    "### Bài 2: CSV Files"
   ]
  },
  {
   "cell_type": "code",
   "execution_count": 17,
   "id": "6e0a5d80-f1e4-4f6f-bdf3-55203459fdf1",
   "metadata": {},
   "outputs": [],
   "source": [
    "import csv           # Nhập module csv để làm việc với file CSV\n",
    "\n",
    "path = \"ffile_export.csv\"  \n",
    "# Đặt tên file CSV mà bạn muốn tạo hoặc ghi dữ liệu\n",
    "# File sẽ được tạo trong thư mục hiện tại nếu không có đường dẫn đầy đủ"
   ]
  },
  {
   "cell_type": "code",
   "execution_count": 18,
   "id": "858086e7-cca4-4f00-9a13-0ee2c6272058",
   "metadata": {},
   "outputs": [],
   "source": [
    "with open(path, mode='w') as my_file:\n",
    "    # Mở file CSV ở chế độ ghi (write)\n",
    "    # Nếu file đã tồn tại, nội dung cũ sẽ bị xóa\n",
    "    # 'with' đảm bảo file tự động đóng sau khi thoát khối lệnh\n",
    "\n",
    "    my_file_write = csv.writer(\n",
    "        my_file,                  # File object để ghi dữ liệu\n",
    "        delimiter=',',            # Phân tách các cột bằng dấu phẩy\n",
    "        quotechar='\"',            # Ký tự dùng để bao quanh dữ liệu có dấu phẩy\n",
    "        quoting=csv.QUOTE_MINIMAL # Chỉ đặt dấu nháy nếu cần\n",
    "    )\n",
    "\n",
    "    # Ghi tiêu đề cột vào file CSV\n",
    "    my_file_write.writerow(['Country', 'Year', 'Quarter', 'GR_PIB'])\n",
    "\n",
    "    # Ghi các dòng dữ liệu\n",
    "    my_file_write.writerow(['France', '2017', 'Q4', 0.7])\n",
    "    my_file_write.writerow(['France', '2018', 'Q1', 0.2])"
   ]
  },
  {
   "cell_type": "markdown",
   "id": "67bba5c7-7c8b-4f4d-aa26-51bcb3a5799e",
   "metadata": {},
   "source": [
    "### Bài 3: JSON Files"
   ]
  },
  {
   "cell_type": "code",
   "execution_count": 19,
   "id": "899af800-9ce3-43f7-b8d6-065840733ca3",
   "metadata": {},
   "outputs": [
    {
     "name": "stdout",
     "output_type": "stream",
     "text": [
      "x_json:  [1, \"apple\", [\"seed\", \"red\"]]\n"
     ]
    }
   ],
   "source": [
    "import json  # Nhập module json để làm việc với JSON\n",
    "\n",
    "x = [1, \"apple\", [\"seed\", \"red\"]]  \n",
    "# Tạo list gồm số nguyên, chuỗi và một list lồng nhau\n",
    "\n",
    "y = { \n",
    "    \"name\": \"Kyrie\", \n",
    "    \"surname\": \"John\", \n",
    "    \"year_of_birth\": 1992, \n",
    "    \"teams\": [\"Cleveland\", \"Boston\", \"Nets\"] \n",
    "}  \n",
    "# Tạo dictionary chứa thông tin cá nhân\n",
    "\n",
    "x_json = json.dumps(x)  \n",
    "# Chuyển list x thành **chuỗi JSON**\n",
    "# Kết quả là một chuỗi (str) hợp lệ theo chuẩn JSON\n",
    "\n",
    "y_json = json.dumps(y)  \n",
    "# Chuyển dictionary y thành **chuỗi JSON**\n",
    "\n",
    "print(\"x_json: \", x_json)  \n",
    "# In chuỗi JSON của x\n",
    "# Kết quả sẽ giố"
   ]
  },
  {
   "cell_type": "code",
   "execution_count": 20,
   "id": "23f39d3b-106c-470e-9379-bb49733670d4",
   "metadata": {},
   "outputs": [
    {
     "name": "stdout",
     "output_type": "stream",
     "text": [
      "y_json:  {\"name\": \"Kyrie\", \"surname\": \"John\", \"year_of_birth\": 1992, \"teams\": [\"Cleveland\", \"Boston\", \"Nets\"]}\n"
     ]
    }
   ],
   "source": [
    "print(\"y_json: \", y_json)  \n",
    "# In chuỗi JSON của dictionary y\n",
    "# Kết quả sẽ là một chuỗi hợp lệ JSON, ví dụ:\n",
    "# {\"name\": \"Kyrie\", \"surname\": \"John\", \"year_of_birth\": 1992, \"teams\": [\"Cleveland\", \"Boston\", \"Nets\"]}"
   ]
  },
  {
   "cell_type": "code",
   "execution_count": 21,
   "id": "d3b14ec5-6352-498d-a894-8ed4a36ea43e",
   "metadata": {},
   "outputs": [
    {
     "name": "stdout",
     "output_type": "stream",
     "text": [
      "x_json:  [1, \"apple\", [\"seed\", \"red\"]]\n"
     ]
    }
   ],
   "source": [
    "x_json = json.dumps(x, ensure_ascii=False)  \n",
    "# Chuyển list x thành chuỗi JSON\n",
    "# ensure_ascii=False cho phép giữ nguyên các ký tự Unicode (không escape thành \\uXXXX)\n",
    "\n",
    "y_json = json.dumps(y, ensure_ascii=False)  \n",
    "# Chuyển dictionary y thành chuỗi JSON\n",
    "# Các ký tự Unicode trong dữ liệu sẽ được giữ nguyên\n",
    "\n",
    "print(\"x_json: \", x_json)  \n",
    "# In chuỗi JSON của x\n",
    "# Ví dụ kết quả: [1, \"apple\", [\"seed\", \"red\"]]"
   ]
  },
  {
   "cell_type": "code",
   "execution_count": 22,
   "id": "b0796854-8099-497c-8736-960be784ba0e",
   "metadata": {},
   "outputs": [
    {
     "name": "stdout",
     "output_type": "stream",
     "text": [
      "y_json:  {\"name\": \"Kyrie\", \"surname\": \"John\", \"year_of_birth\": 1992, \"teams\": [\"Cleveland\", \"Boston\", \"Nets\"]}\n"
     ]
    }
   ],
   "source": [
    "print(\"y_json: \", y_json)  \n",
    "# In chuỗi JSON của dictionary y\n",
    "# Với ensure_ascii=False, các ký tự Unicode trong y sẽ được giữ nguyên, không bị escape\n",
    "# Ví dụ kết quả:\n",
    "# {\"name\": \"Kyrie\", \"surname\": \"John\", \"year_of_birth\": 1992, \"teams\": [\"Cleveland\", \"Boston\", \"Nets\"]}"
   ]
  },
  {
   "cell_type": "code",
   "execution_count": 36,
   "id": "dffce145-c6a1-4e29-8f1a-f1d7e6275d80",
   "metadata": {},
   "outputs": [],
   "source": [
    "path = \"export_json.json\"\n",
    "with open(path, 'w') as f:\n",
    "    json.dump(json.dumps(x, ensure_ascii=False), f)\n",
    "    f.write('\\n')\n",
    "    json.dump(json.dumps(y, ensure_ascii=False), f)"
   ]
  },
  {
   "cell_type": "code",
   "execution_count": 37,
   "id": "3b534daf-0deb-4cc2-bafc-fc03660f63a0",
   "metadata": {},
   "outputs": [
    {
     "name": "stdout",
     "output_type": "stream",
     "text": [
      "['[1, 2, 3]', '{\"key\": \"value\"}']\n"
     ]
    }
   ],
   "source": [
    "path = \"export_json.json\"\n",
    "\n",
    "# Mở file với chế độ đọc và mã hóa UTF-8\n",
    "# Lỗi ban đầu: bạn đã mở file ở chế độ \"r\" nhưng không chỉ định encoding.\n",
    "# Bạn nên thêm encoding=\"utf-8\" vào đây.\n",
    "with open(path, \"r\", encoding=\"utf-8\") as f:\n",
    "    data = []\n",
    "    for line in f:\n",
    "        # Xóa tham số encoding khỏi hàm json.loads()\n",
    "        # Hàm này chỉ chấp nhận chuỗi đã được giải mã (string)\n",
    "        # Nếu dòng trống, bạn có thể bỏ qua để tránh lỗi JSON\n",
    "        if line.strip(): \n",
    "            data.append(json.loads(line))\n",
    "            \n",
    "print(data)"
   ]
  },
  {
   "cell_type": "markdown",
   "id": "28cd9666-c4c0-4e8b-8362-593909b9fa69",
   "metadata": {},
   "source": [
    "# Chapter 6: Conditions"
   ]
  },
  {
   "cell_type": "markdown",
   "id": "390f10d0-2a32-4606-9531-f8049c3ad97e",
   "metadata": {},
   "source": [
    "## 6.1. Conditional if Instructions"
   ]
  },
  {
   "cell_type": "code",
   "execution_count": 1,
   "id": "10f162ce-4ab3-483e-b738-6efc34055e72",
   "metadata": {},
   "outputs": [
    {
     "name": "stdout",
     "output_type": "stream",
     "text": [
      "Hello\n"
     ]
    }
   ],
   "source": [
    "x = 2               # Gán giá trị 2 cho biến x\n",
    "\n",
    "if x == 2:          # Kiểm tra điều kiện: nếu x bằng 2\n",
    "    print(\"Hello\")  # Nếu đúng, in \"Hello\""
   ]
  },
  {
   "cell_type": "code",
   "execution_count": 4,
   "id": "e322f10f-0939-433a-9409-571af786a74e",
   "metadata": {},
   "outputs": [],
   "source": [
    "x = 3               # Gán giá trị 3 cho biến x\n",
    "\n",
    "if x == 2:          # Kiểm tra điều kiện: nếu x bằng 2\n",
    "    print(\"Hello\")  # Nếu đúng, in \"Hello\""
   ]
  },
  {
   "cell_type": "code",
   "execution_count": 5,
   "id": "bf7dab58-0efa-476d-b66d-c8785d5fbe2e",
   "metadata": {},
   "outputs": [
    {
     "name": "stdout",
     "output_type": "stream",
     "text": [
      "Hello, x vaut : 2\n"
     ]
    }
   ],
   "source": [
    "x = 2                       # Gán giá trị 2 cho biến x\n",
    "\n",
    "if x == 2:                  # Kiểm tra điều kiện: nếu x bằng 2\n",
    "    y = \"Hello\"             # Nếu đúng, gán chuỗi \"Hello\" cho biến y\n",
    "    print(y + \", x vaut : \" + str(x))  \n",
    "    # In ra chuỗi kết hợp y và giá trị của x\n",
    "    # str(x) chuyển số nguyên x thành chuỗi để nối với chuỗi khác"
   ]
  },
  {
   "cell_type": "markdown",
   "id": "d6a0a9b9-fa7b-435b-94fe-c10c8a982ab5",
   "metadata": {},
   "source": [
    "## 6.2. If-else Conditional Instructions"
   ]
  },
  {
   "cell_type": "code",
   "execution_count": 8,
   "id": "07bd7e80-9cf8-4bcc-a47b-2b63afef425c",
   "metadata": {},
   "outputs": [
    {
     "name": "stdout",
     "output_type": "stream",
     "text": [
      "It is cold out there\n"
     ]
    }
   ],
   "source": [
    "temperature = 26        # Gán giá trị nhiệt độ hiện tại\n",
    "heat = \"\"               # Khởi tạo biến heat rỗng\n",
    "\n",
    "if temperature > 28:    # Kiểm tra nếu nhiệt độ lớn hơn 28\n",
    "    heat = \"hot\"        # Gán \"hot\" cho biến heat nếu điều kiện đúng\n",
    "else:                   # Ngược lại (nhiệt độ <= 28)\n",
    "    heat = \"cold\"       # Gán \"cold\" cho biến heat\n",
    "\n",
    "print(\"It is \" + heat + \" out there\")  \n",
    "# In r"
   ]
  },
  {
   "cell_type": "code",
   "execution_count": 12,
   "id": "88f21caa-b5af-4f2e-b354-82ee5c589a8c",
   "metadata": {},
   "outputs": [
    {
     "name": "stdout",
     "output_type": "stream",
     "text": [
      "It is hot out there\n"
     ]
    }
   ],
   "source": [
    "temperature = 32        # Gán giá trị nhiệt độ hiện tại\n",
    "heat = \"\"               # Khởi tạo biến heat rỗng\n",
    "\n",
    "if temperature > 28:    # Kiểm tra nếu nhiệt độ lớn hơn 28\n",
    "    heat = \"hot\"        # Gán \"hot\" cho biến heat nếu điều kiện đúng\n",
    "else:                   # Ngược lại (nhiệt độ <= 28)\n",
    "    heat = \"cold\"       # Gán \"cold\" cho biến h\n",
    "print(\"It is \" + heat + \" out there\") #in ra câu mô tả trạng thái thời tiết"
   ]
  },
  {
   "cell_type": "markdown",
   "id": "a9812a22-0aed-4274-9951-c1007307ea39",
   "metadata": {},
   "source": [
    "## 6.3. If - elif Conditional Intructions"
   ]
  },
  {
   "cell_type": "code",
   "execution_count": 13,
   "id": "b6450dc4-8604-4746-8970-2894ad99f0a8",
   "metadata": {},
   "outputs": [
    {
     "name": "stdout",
     "output_type": "stream",
     "text": [
      "It is very cold out there\n"
     ]
    }
   ],
   "source": [
    "temperature = -4        # Gán giá trị nhiệt độ hiện tại\n",
    "heat = \"\"               # Khởi tạo biến heat rỗng\n",
    "\n",
    "if temperature > 28:    # Nếu nhiệt độ lớn hơn 28\n",
    "    heat = \"hot\"        # Gán \"hot\" cho heat\n",
    "elif temperature <= 28 and temperature > 15:  \n",
    "    # Nếu nhiệt độ từ 16 đến 28\n",
    "    heat = \"not too hot\"  \n",
    "elif temperature <= 15 and temperature > 0:  \n",
    "    # Nếu nhiệt độ từ 1 đến 15\n",
    "    heat = \"cold\"\n",
    "else:                   # Nếu nhiệt độ <= 0\n",
    "    heat = \"very cold\"\n",
    "\n",
    "print(\"It is \" + heat + \" out there\")  \n",
    "# In ra câu mô tả trạng thái thời tiết"
   ]
  },
  {
   "cell_type": "markdown",
   "id": "03477573-98ba-4ca1-8a16-d525c57d971b",
   "metadata": {},
   "source": [
    "# Chapter 7: Loops"
   ]
  },
  {
   "cell_type": "markdown",
   "id": "0efc8140-3c5d-44ac-bf57-79bd3dd8c094",
   "metadata": {},
   "source": [
    "## 7.1. Loops with while"
   ]
  },
  {
   "cell_type": "code",
   "execution_count": 14,
   "id": "df325b15-d4d8-4a12-bb63-ff1e54fa1425",
   "metadata": {},
   "outputs": [
    {
     "name": "stdout",
     "output_type": "stream",
     "text": [
      "33.333333333333336\n",
      "11.111111111111112\n",
      "3.703703703703704\n",
      "1.234567901234568\n"
     ]
    }
   ],
   "source": [
    "x = 100                  # Gán giá trị ban đầu 100 cho x\n",
    "\n",
    "while x / 3 > 1:         # Lặp lại khi x chia 3 còn lớn hơn 1\n",
    "    print(x / 3)         # In kết quả x/3 mỗi vòng lặp\n",
    "    x = x / 3            # Cập nhật x bằng x chia 3"
   ]
  },
  {
   "cell_type": "code",
   "execution_count": 16,
   "id": "7c749528-3c6a-443e-8230-84d0c829f4eb",
   "metadata": {},
   "outputs": [
    {
     "name": "stdout",
     "output_type": "stream",
     "text": [
      "False\n"
     ]
    }
   ],
   "source": [
    "print(x/3>1) # so sánh kết quả x/3 có lớn hơn 1 không?"
   ]
  },
  {
   "cell_type": "code",
   "execution_count": 17,
   "id": "375ef4de-eedb-468c-9ccb-7a1c1acd99f9",
   "metadata": {},
   "outputs": [
    {
     "name": "stdout",
     "output_type": "stream",
     "text": [
      "0.41152263374485604\n"
     ]
    }
   ],
   "source": [
    "print(x/3) # in kết quả x/3"
   ]
  },
  {
   "cell_type": "markdown",
   "id": "090cc0af-9f77-4a1f-95af-3fd90c021c7d",
   "metadata": {},
   "source": [
    "## 7.2. Loops with for"
   ]
  },
  {
   "cell_type": "code",
   "execution_count": 18,
   "id": "b116b96c-b120-435f-955f-5845c9be07f3",
   "metadata": {},
   "outputs": [
    {
     "name": "stdout",
     "output_type": "stream",
     "text": [
      "[0, 1, 2, 3]\n"
     ]
    }
   ],
   "source": [
    "print(list(range(0, 4)))  \n",
    "# range(0, 4) tạo một dãy số nguyên từ 0 đến 3 (4 không bao gồm)\n",
    "# list(...) chuyển dãy số này thành một list\n",
    "# Kết quả in ra: [0, 1, 2, 3]"
   ]
  },
  {
   "cell_type": "code",
   "execution_count": 19,
   "id": "44721ca8-3053-4628-98d5-5fcfae85b38e",
   "metadata": {},
   "outputs": [
    {
     "name": "stdout",
     "output_type": "stream",
     "text": [
      "[0, 1, 2, 3]\n"
     ]
    }
   ],
   "source": [
    "print(list(range(4)))  \n",
    "# range(4) tạo một dãy số nguyên từ 0 đến 3 (mặc định start=0)\n",
    "# list(...) chuyển dãy số này thành một list\n",
    "# Kết quả in ra: [0, 1, 2, 3]"
   ]
  },
  {
   "cell_type": "code",
   "execution_count": 20,
   "id": "e06fcfe7-8a3e-4a20-aafa-180216b2a421",
   "metadata": {},
   "outputs": [
    {
     "name": "stdout",
     "output_type": "stream",
     "text": [
      "[2, 3, 4, 5, 6, 7, 8, 9]\n"
     ]
    }
   ],
   "source": [
    "print(list(range(2, 10)))  \n",
    "# range(2, 10) tạo một dãy số nguyên từ 2 đến 9 (10 không bao gồm)\n",
    "# list(...) chuyển dãy số này thành một list\n",
    "# Kết quả in ra: [2, 3, 4, 5, 6, 7, 8, 9]"
   ]
  },
  {
   "cell_type": "code",
   "execution_count": 1,
   "id": "3885a33a-65eb-489e-81ca-d875f710735f",
   "metadata": {},
   "outputs": [
    {
     "name": "stdout",
     "output_type": "stream",
     "text": [
      "The squared value of 0 is 0\n",
      "The squared value of 1 is 1\n",
      "The squared value of 2 is 4\n",
      "The squared value of 3 is 9\n",
      "The squared value of 4 is 16\n",
      "The squared value of 5 is 25\n",
      "The squared value of 6 is 36\n",
      "The squared value of 7 is 49\n",
      "The squared value of 8 is 64\n",
      "The squared value of 9 is 81\n",
      "The squared value of 10 is 100\n"
     ]
    }
   ],
   "source": [
    "message = \"The squared value of {} is {}\"  # Chuỗi mẫu để in số và bình phương của nó\n",
    "n = 10                                     # Giá trị lớn nhất muốn tính bình phương\n",
    "\n",
    "for i in range(0, n+1):                    # Lặp từ 0 đến n (bao gồm n)\n",
    "    print(message.format(i, i**2))         # Thay thế {} bằng i và i**2, sau đó in ra"
   ]
  },
  {
   "cell_type": "code",
   "execution_count": 2,
   "id": "8feccde1-e5ad-4ccf-83f3-ee3b1fd07c0f",
   "metadata": {},
   "outputs": [
    {
     "name": "stdout",
     "output_type": "stream",
     "text": [
      "[0, 1, 4, 9, 16, 25, 36, 49, 64, 81, 100]\n"
     ]
    }
   ],
   "source": [
    "n = 10                       # Giá trị lớn nhất muốn tính bình phương\n",
    "n_squares = []               # Tạo list rỗng để lưu bình phương\n",
    "\n",
    "for i in range(0, n+1):      # Lặp từ 0 đến n (bao gồm n)\n",
    "    n_squares.append(i**2)   # Thêm bình phương của i vào list\n",
    "\n",
    "print(n_squares)             # In danh sách các bình phương"
   ]
  },
  {
   "cell_type": "code",
   "execution_count": 23,
   "id": "4f16b913-6694-4252-a948-f8a49b2be12c",
   "metadata": {},
   "outputs": [
    {
     "name": "stdout",
     "output_type": "stream",
     "text": [
      "The squared value of 0 is 0\n",
      "The squared value of 1 is 1\n",
      "The squared value of 2 is 4\n",
      "The squared value of 8 is 64\n",
      "The squared value of 9 is 81\n",
      "The squared value of 10 is 100\n"
     ]
    }
   ],
   "source": [
    "message = \"The squared value of {} is {}\"  # Chuỗi mẫu để in số và bình phương của nó\n",
    "\n",
    "for i in [0, 1, 2, 8, 9, 10]:             # Lặp qua danh sách các số cụ thể\n",
    "    print(message.format(i, i**2))        # Thay {} bằng i và i**2, sau đó in ra"
   ]
  },
  {
   "cell_type": "code",
   "execution_count": 3,
   "id": "fe11e65a-55e6-416d-b241-bc95e24d748e",
   "metadata": {},
   "outputs": [
    {
     "name": "stdout",
     "output_type": "stream",
     "text": [
      "There is(are) 9 letter(s) in the name: Pascaline\n",
      "There is(are) 8 letter(s) in the name: Gauthier\n",
      "There is(are) 4 letter(s) in the name: Xuan\n",
      "There is(are) 5 letter(s) in the name: Jimmy\n"
     ]
    }
   ],
   "source": [
    "message = \"There is(are) {} letter(s) in the name: {}\"  \n",
    "# Chuỗi mẫu, {} thứ nhất sẽ chứa số chữ cái, {} thứ hai chứa tên\n",
    "\n",
    "for first_name in [\"Pascaline\", \"Gauthier\", \"Xuan\", \"Jimmy\"]:  \n",
    "    # Lặp qua danh sách các tên\n",
    "    print(message.format(len(first_name), first_name))  \n",
    "    # len(first_name) tính số chữ cái trong tên\n",
    "    # message.format(...) thay {} bằng số chữ cái và tên, sau đó in ra"
   ]
  },
  {
   "cell_type": "code",
   "execution_count": 25,
   "id": "6a4a8ea8-4adf-4909-9a4e-6ce3e4d64ab3",
   "metadata": {},
   "outputs": [
    {
     "name": "stdout",
     "output_type": "stream",
     "text": [
      "i equals 0 and j equals 0\n",
      "i equals 0 and j equals 1\n",
      "i equals 0 and j equals 2\n",
      "i equals 1 and j equals 0\n",
      "i equals 1 and j equals 1\n",
      "i equals 1 and j equals 2\n",
      "i equals 2 and j equals 0\n",
      "i equals 2 and j equals 1\n",
      "i equals 2 and j equals 2\n"
     ]
    }
   ],
   "source": [
    "message = \"i equals {} and j equals {}\"  # Chuỗi mẫu để in giá trị của i và j\n",
    "\n",
    "for i in range(0, 3):                   # Vòng lặp bên ngoài: i từ 0 đến 2\n",
    "    for j in range(0, 3):               # Vòng lặp bên trong: j từ 0 đến 2\n",
    "        print(message.format(i, j))     # In giá trị i và j"
   ]
  },
  {
   "cell_type": "code",
   "execution_count": 13,
   "id": "257e3d41-c38c-4d8e-a8a4-deb1d2a2135f",
   "metadata": {},
   "outputs": [
    {
     "name": "stdout",
     "output_type": "stream",
     "text": [
      "New value for j: 15\n",
      "New value for j: 20\n",
      "New value for j: 25\n",
      "New value for j: 30\n"
     ]
    }
   ],
   "source": [
    "message = \"New value for j: {}\"  # Chuỗi mẫu để in giá trị của j\n",
    "\n",
    "j = 10                          # Khởi tạo giá trị ban đầu cho j\n",
    "\n",
    "for i in range(0, 4):           # Lặp 4 lần: i từ 0 đến 3\n",
    "    j += 5                       # Mỗi vòng lặp, tăng j thêm 5\n",
    "    print(message.format(j))     # In giá trị mới của j"
   ]
  },
  {
   "cell_type": "markdown",
   "id": "44200608-4684-4dee-a83b-cc8684773a3a",
   "metadata": {},
   "source": [
    "# Chapter 8: Functions"
   ]
  },
  {
   "cell_type": "markdown",
   "id": "9eb6e9ad-d33a-4da5-b18e-360630725d56",
   "metadata": {},
   "source": [
    "## 8.1. Definition"
   ]
  },
  {
   "cell_type": "code",
   "execution_count": 5,
   "id": "c71d801e-53cf-4e25-b893-54d1a9223327",
   "metadata": {},
   "outputs": [
    {
     "name": "stdout",
     "output_type": "stream",
     "text": [
      "4\n"
     ]
    }
   ],
   "source": [
    "def square(x):\n",
    "   return x**2\n",
    "print(square(2))\n"
   ]
  },
  {
   "cell_type": "code",
   "execution_count": 7,
   "id": "6dfca0c9-2ff4-4ea9-b37d-2667dcfa6b46",
   "metadata": {},
   "outputs": [
    {
     "name": "stdout",
     "output_type": "stream",
     "text": [
      "9\n"
     ]
    }
   ],
   "source": [
    "print(square(-3))"
   ]
  },
  {
   "cell_type": "markdown",
   "id": "8322a607-5158-4ff9-a147-ae844b7504bf",
   "metadata": {},
   "source": [
    "### Bài 1: Adding a Description"
   ]
  },
  {
   "cell_type": "code",
   "execution_count": 12,
   "id": "f01f8999-1649-4f47-a269-22385b783950",
   "metadata": {},
   "outputs": [
    {
     "name": "stdout",
     "output_type": "stream",
     "text": [
      "16\n"
     ]
    }
   ],
   "source": [
    "def square(x):\n",
    "   \"\"\"returns the squared value of x\"\"\"\n",
    "   return x**2\n",
    "print(square(-4))"
   ]
  },
  {
   "cell_type": "markdown",
   "id": "e04c0ba7-8c79-4e6c-b69d-12529b0a48cd",
   "metadata": {},
   "source": [
    "### Bài 2: Arguments of a Function - Example"
   ]
  },
  {
   "cell_type": "code",
   "execution_count": 16,
   "id": "dd6a9251-6d5b-4ead-808a-df6db3a61327",
   "metadata": {},
   "outputs": [
    {
     "name": "stdout",
     "output_type": "stream",
     "text": [
      "Kết quả sản xuất (ví dụ 1): 12.311444133449164\n",
      "Kết quả sản xuất (ví dụ 2): 67.62433378062414\n",
      "Kết quả sản xuất (ví dụ 3): 5.000000000000001\n"
     ]
    }
   ],
   "source": [
    "def production(l, k, m):  \n",
    "    \"\"\"\n",
    "    Returns the value of the production according to\n",
    "    labour, capital and materials\n",
    "    Keyword arguments:\n",
    "    l -- labour (float)\n",
    "    k -- capital (float)\n",
    "    m -- materials (float)\n",
    "    \"\"\"\n",
    "    # Hàm production nhận 3 tham số: l (lao động), k (vốn), m (nguyên liệu)\n",
    "    # Công thức sử dụng hàm Cobb-Douglas: l^0.3 * k^0.5 * m^0.2\n",
    "    return l**0.3 * k**0.5 * m**0.2 #Y(L,K,M)\n",
    "# Ví dụ 1: 10 đơn vị lao động, 20 đơn vị vốn, 5 đơn vị nguyên liệu\n",
    "result1 = production(10, 20, 5)\n",
    "print(\"Kết quả sản xuất (ví dụ 1):\", result1)  # in ra kết quả\n",
    "\n",
    "# Ví dụ 2: 50 lao động, 100 vốn, 40 nguyên liệu\n",
    "result2 = production(50, 100, 40)\n",
    "print(\"Kết quả sản xuất (ví dụ 2):\", result2)\n",
    "\n",
    "# Ví dụ 3: 5 lao động, 5 vốn, 5 nguyên liệu\n",
    "result3 = production(5, 5, 5)\n",
    "print(\"Kết quả sản xuất (ví dụ 3):\", result3)"
   ]
  },
  {
   "cell_type": "markdown",
   "id": "61bdae3b-a90d-45ee-96fa-7df007a7eb04",
   "metadata": {},
   "source": [
    "### Bài 3: Call without argument names"
   ]
  },
  {
   "cell_type": "code",
   "execution_count": 17,
   "id": "72e0b6bf-30b8-4607-ae42-a47996816e58",
   "metadata": {},
   "outputs": [
    {
     "name": "stdout",
     "output_type": "stream",
     "text": [
      "46.289449781254994\n"
     ]
    }
   ],
   "source": [
    "def production(l, k, m):  # Định nghĩa hàm production với 3 tham số: lao động (l), vốn (k), vật liệu (m)\n",
    "    return l**0.3 * k**0.5 * m**0.2  # Trả về giá trị sản lượng theo công thức Cobb-Douglas: l^0.3 * k^0.5 * m^0.2\n",
    "\n",
    "prod_val = production(60, 42, 40)  # Gọi hàm với l=60, k=42, m=40 và lưu kết quả vào biến prod_val\n",
    "print(prod_val)  # In ra giá trị sản lượng tính được (≈ 46.28)"
   ]
  },
  {
   "cell_type": "markdown",
   "id": "ec1d6d03-7f95-4847-8a54-b56101eaf053",
   "metadata": {},
   "source": [
    "### Bài 4: Positional Arguments, Arguments by Keywords"
   ]
  },
  {
   "cell_type": "code",
   "execution_count": 18,
   "id": "66d740ae-8267-4cac-a243-b25cb9c71a44",
   "metadata": {},
   "outputs": [],
   "source": [
    "def production_2(l, m, k=42):  # Định nghĩa hàm production_2 với 3 tham số: l (lao động), m (nguyên liệu), k (vốn, mặc định = 42)\n",
    "    \"\"\"\n",
    "    Returns the value of the production according to\n",
    "    labour, capital and materials\n",
    "    Keyword arguments:\n",
    "    l -- labour (float)\n",
    "    m -- materials (float)\n",
    "    k -- capital (float) (default 42)\n",
    "    \"\"\"\n",
    "    return l**0.3 * k**0.5 * m**0.2  # Tính giá trị sản xuất theo công thức Cobb-Douglas: l^0.3 * k^0.5 * m^0.2"
   ]
  },
  {
   "cell_type": "code",
   "execution_count": 19,
   "id": "cb1d1a5c-3ac9-407e-89d6-24fe9ce38b95",
   "metadata": {},
   "outputs": [],
   "source": [
    "# By naming all argument, by ommitting k\n",
    "prod_val_1 = production_2(l = 42, m = 40)  \n",
    "# Gọi hàm với l = 42, m = 40, còn k không truyền => dùng giá trị mặc định k = 42\n",
    "\n",
    "# By naming all argument and specifying k\n",
    "prod_val_2 = production_2(l = 42, m = 40, k = 42)  \n",
    "# Gọi hàm với l = 42, m = 40, k = 42 (đầy đủ tất cả tham số, giống kết quả trên)\n",
    "\n",
    "# By naming only the argument k\n",
    "prod_val_3 = production_2(42, 40, k = 42)  \n",
    "# Gọi hàm theo thứ tự vị trí: l = 42, m = 40, và chỉ đặt tên k = 42 (kết quả cũng giống trên)\n",
    "\n",
    "# Without naming any argument\n",
    "prod_val_4 = production_2(42, 40, 42)  \n",
    "# Gọi hàm hoàn toàn theo vị trí: l = 42, m = 40, k = 42"
   ]
  },
  {
   "cell_type": "code",
   "execution_count": 20,
   "id": "ae57c359-d30e-4c13-95d1-5878219fb36a",
   "metadata": {},
   "outputs": [
    {
     "name": "stdout",
     "output_type": "stream",
     "text": [
      "[41.59215573604822, 41.59215573604822, 41.59215573604822, 41.59215573604822]\n"
     ]
    }
   ],
   "source": [
    "res = [prod_val_1, prod_val_2, prod_val_3, prod_val_4]  \n",
    "# Tạo một list chứa 4 kết quả đã tính ở trên\n",
    "\n",
    "print(res)  \n",
    "# In ra toàn bộ list các giá trị"
   ]
  },
  {
   "cell_type": "code",
   "execution_count": 21,
   "id": "d7ff24a4-540b-4486-ab1b-5217e9c378ad",
   "metadata": {},
   "outputs": [
    {
     "name": "stdout",
     "output_type": "stream",
     "text": [
      "[41.16765711449734, 41.59215573604822, 41.59215573604822, 41.59215573604822]\n"
     ]
    }
   ],
   "source": [
    "def production_3(a, l, m = 40, k=42):\n",
    "    \"\"\"\n",
    "    Returns the value of the production according to\n",
    "    labour, capital and materials\n",
    "    Keyword arguments:\n",
    "    a -- total factor productivity (float)\n",
    "    l -- labour (float)\n",
    "    m -- materials (float) (default 40)\n",
    "    k -- capital (float) (default 42)\n",
    "    \"\"\"\n",
    "    return a * l**0.3 * k**0.5 * m**(0.2)\n",
    "    # Hàm trả về giá trị sản xuất với công thức:\n",
    "    # a × l^0.3 × k^0.5 × m^0.2\n",
    "\n",
    "# Gọi hàm với a=1, l=42, m=38 (k lấy mặc định 42)\n",
    "prod_val_1 = production_3(1, 42, m = 38)\n",
    "\n",
    "# Gọi hàm với a=1, l=42 (m và k lấy mặc định lần lượt là 40 và 42)\n",
    "prod_val_2 = production_3(a = 1, l = 42)\n",
    "\n",
    "# Gọi hàm với l=42, a=1 (thứ tự không quan trọng vì đã đặt tên biến)\n",
    "prod_val_3 = production_3(l = 42, a = 1)\n",
    "\n",
    "# Gọi hàm với m=40, l=42, a=1 (k lấy mặc định 42)\n",
    "prod_val_4 = production_3(m = 40, l = 42, a = 1)\n",
    "\n",
    "# Tạo danh sách chứa 4 kết quả ở trên\n",
    "res = [prod_val_1, prod_val_2, prod_val_3, prod_val_4]\n",
    "\n",
    "# In danh sách kết quả\n",
    "print(res)"
   ]
  },
  {
   "cell_type": "markdown",
   "id": "2236f425-6ba8-43e0-9283-832d70f28faa",
   "metadata": {},
   "source": [
    "### Bài 5: Function as an Argument to Another Function"
   ]
  },
  {
   "cell_type": "code",
   "execution_count": 22,
   "id": "eae5d9be-0089-42a9-b1ee-70bbf2072d52",
   "metadata": {},
   "outputs": [
    {
     "name": "stdout",
     "output_type": "stream",
     "text": [
      "16\n"
     ]
    }
   ],
   "source": [
    "def square(x):\n",
    "    \"\"\"Returns the squared value of x\"\"\"\n",
    "    return x**2\n",
    "    # Hàm square nhận vào x và trả về bình phương của x\n",
    "\n",
    "def apply_fun_to_4(fun):\n",
    "    \"\"\"Applies the function `fun` to 4\"\"\"\n",
    "    return fun(4)\n",
    "    # Hàm apply_fun_to_4 nhận vào một hàm (fun)\n",
    "    # rồi áp dụng hàm đó cho giá trị 4\n",
    "\n",
    "print(apply_fun_to_4(square))\n",
    "# Truyền hàm square vào apply_fun_to_4\n",
    "# Tức là apply_fun_to_4(square) sẽ tính square(4) = 4**2 = 16\n",
    "# Kết quả in ra: 16"
   ]
  },
  {
   "cell_type": "markdown",
   "id": "4f2d2b0d-e263-4706-91b7-85cec289e39d",
   "metadata": {},
   "source": [
    "## 8.2. Scope of a Function"
   ]
  },
  {
   "cell_type": "code",
   "execution_count": 8,
   "id": "6aa28d8e-b661-45cd-8ce1-6fed1a3645a8",
   "metadata": {},
   "outputs": [],
   "source": [
    "def f(x):  \n",
    "    # Định nghĩa hàm f nhận 1 tham số x\n",
    "\n",
    "    value = 2  \n",
    "    # Gán biến value = 2 (biến cục bộ trong hàm)\n",
    "\n",
    "    new_value = 3  \n",
    "    # Gán biến new_value = 3 (biến cục bộ trong hàm)\n",
    "\n",
    "    print(\"value equals: \", value)  \n",
    "    # In ra giá trị của value → \"value equals: 2\"\n",
    "\n",
    "    print(\"new_value equals: \", new_value)  \n",
    "    # In ra giá trị của new_value → \"new_value equals: 3\"\n",
    "\n",
    "    return x + value  \n",
    "    # Hàm trả về giá trị x + 2"
   ]
  },
  {
   "cell_type": "code",
   "execution_count": 12,
   "id": "2036ad1b-b121-4d5f-ad67-59d3c6befc17",
   "metadata": {},
   "outputs": [
    {
     "name": "stdout",
     "output_type": "stream",
     "text": [
      "value equals:  2\n",
      "new_value equals:  3\n"
     ]
    },
    {
     "ename": "TypeError",
     "evalue": "cannot unpack non-iterable int object",
     "output_type": "error",
     "traceback": [
      "\u001b[31m---------------------------------------------------------------------------\u001b[39m",
      "\u001b[31mTypeError\u001b[39m                                 Traceback (most recent call last)",
      "\u001b[36mCell\u001b[39m\u001b[36m \u001b[39m\u001b[32mIn[12]\u001b[39m\u001b[32m, line 1\u001b[39m\n\u001b[32m----> \u001b[39m\u001b[32m1\u001b[39m res, value, new_value = f(\u001b[32m3\u001b[39m)  \n\u001b[32m      2\u001b[39m \u001b[38;5;66;03m# Gọi hàm f với x = 3, gán kết quả trả về\u001b[39;00m\n",
      "\u001b[31mTypeError\u001b[39m: cannot unpack non-iterable int object"
     ]
    }
   ],
   "source": [
    "res = f(3)  \n",
    "# Gọi hàm f với x = 3"
   ]
  },
  {
   "cell_type": "code",
   "execution_count": 13,
   "id": "92ccc348-7b6b-417e-be17-79e6284a253d",
   "metadata": {},
   "outputs": [
    {
     "name": "stdout",
     "output_type": "stream",
     "text": [
      "value equals:  2\n",
      "new_value equals:  3\n",
      "value equals:  2\n"
     ]
    }
   ],
   "source": [
    "def f(x):\n",
    "    value = 2\n",
    "    new_value = 3\n",
    "    print(\"value equals: \", value)\n",
    "    print(\"new_value equals: \", new_value)\n",
    "    return x + value, value, new_value  # trả thêm cả value và new_value\n",
    "\n",
    "res, value, new_value = f(3)  # gán kết quả trả về\n",
    "print(\"value equals: \", value)  # giờ in được vì đã gán ngoài hàm"
   ]
  },
  {
   "cell_type": "code",
   "execution_count": 14,
   "id": "1f55d122-ecd6-49f3-b70c-b6d01c56cbbd",
   "metadata": {},
   "outputs": [
    {
     "name": "stdout",
     "output_type": "stream",
     "text": [
      "new_value equals:  3\n"
     ]
    }
   ],
   "source": [
    "print(\"new_value equals: \", new_value)"
   ]
  },
  {
   "cell_type": "code",
   "execution_count": 15,
   "id": "aa148aff-ff92-4ba3-b3bf-d17d90f09b6f",
   "metadata": {},
   "outputs": [
    {
     "name": "stdout",
     "output_type": "stream",
     "text": [
      "3\n"
     ]
    }
   ],
   "source": [
    "value = 1              # Khai báo biến toàn cục (global variable) có giá trị = 1\n",
    "\n",
    "def f(x):              # Định nghĩa hàm f với tham số đầu vào x\n",
    "    return x + value   # Trả về kết quả x + value (sử dụng biến toàn cục value)\n",
    "\n",
    "print(f(2))            # Gọi hàm f(2) → kết quả = 2 + 1 = 3, rồi in ra"
   ]
  },
  {
   "cell_type": "code",
   "execution_count": 17,
   "id": "eb4ab125-73aa-4277-8cc3-5f311b5a3c27",
   "metadata": {},
   "outputs": [
    {
     "name": "stdout",
     "output_type": "stream",
     "text": [
      "4\n"
     ]
    }
   ],
   "source": [
    "# Biến value ở ngoài cùng (global scope)\n",
    "value = 1\n",
    "\n",
    "def f():                # Định nghĩa hàm f()\n",
    "    value = 2           # Biến value trong f() (local của f)\n",
    "\n",
    "    def g(x):           # Định nghĩa hàm g() bên trong f()\n",
    "        return x + value  # g() không có value riêng,\n",
    "                          # nên Python sẽ tìm ở scope gần nhất → value = 2 trong f()\n",
    "\n",
    "    return g(2)         # Gọi g(2) → trả về 2 + 2 = 4\n",
    "\n",
    "print(f())              # In kết quả hàm f()"
   ]
  },
  {
   "cell_type": "code",
   "execution_count": 18,
   "id": "0fdfdfd4-6662-4905-b749-17af150166da",
   "metadata": {},
   "outputs": [
    {
     "name": "stdout",
     "output_type": "stream",
     "text": [
      "3\n"
     ]
    }
   ],
   "source": [
    "# Biến value được định nghĩa ở môi trường toàn cục (global scope)\n",
    "value = 1\n",
    "\n",
    "def f():                   # Định nghĩa hàm f()\n",
    "    def g(x):              # Định nghĩa hàm g() bên trong f()\n",
    "        return x + value   # g() không có value,\n",
    "                           # f() cũng không có value,\n",
    "                           # Python sẽ tìm ở global → value = 1\n",
    "    return g(2)            # Gọi g(2) → 2 + 1 = 3\n",
    "print(f())"
   ]
  },
  {
   "cell_type": "code",
   "execution_count": 19,
   "id": "588027e8-1a80-451c-abae-8bd0735b05d5",
   "metadata": {},
   "outputs": [
    {
     "name": "stdout",
     "output_type": "stream",
     "text": [
      "4\n"
     ]
    }
   ],
   "source": [
    "def f(x):          # Định nghĩa hàm f với tham số x\n",
    "    global y       # Khai báo rằng y sẽ là biến toàn cục (global variable)\n",
    "    y = x + 1      # Gán giá trị cho y = x + 1 (y thuộc global scope)\n",
    "\n",
    "f(3)               # Gọi hàm f với x = 3 → y = 3 + 1 = 4\n",
    "print(y)           # In giá trị của y → 4"
   ]
  },
  {
   "cell_type": "markdown",
   "id": "e890e9d4-0be8-44e4-b9ca-893e1eca2860",
   "metadata": {},
   "source": [
    "## 8.3. Lambda Functions"
   ]
  },
  {
   "cell_type": "code",
   "execution_count": 20,
   "id": "39da099e-112e-4653-8a12-28068894772e",
   "metadata": {},
   "outputs": [
    {
     "name": "stdout",
     "output_type": "stream",
     "text": [
      "16\n"
     ]
    }
   ],
   "source": [
    "def square(x):       # Định nghĩa hàm square, trả về bình phương của x\n",
    "    return x**2      # x mũ 2 (x bình phương)\n",
    "\n",
    "square_2 = lambda x: x**2   # Định nghĩa hàm tương tự bằng lambda (hàm ẩn danh)\n",
    "\n",
    "print(square_2(4))   # Gọi hàm square_2 với x = 4 → 4**2 = 16\n"
   ]
  },
  {
   "cell_type": "code",
   "execution_count": 21,
   "id": "35243505-f282-4652-a842-062524784966",
   "metadata": {},
   "outputs": [
    {
     "name": "stdout",
     "output_type": "stream",
     "text": [
      "40.987803063838406\n"
     ]
    }
   ],
   "source": [
    "def production(l, k, m):  \n",
    "    \"\"\"  \n",
    "    Returns the value of the production according to  \n",
    "    labour, capital and materials.  \n",
    "\n",
    "    Keyword arguments:  \n",
    "    l -- labour (float)  \n",
    "    k -- capital (float)  \n",
    "    m -- materials (float)  \n",
    "    \"\"\"  \n",
    "    return l**0.3 * k**0.5 * m**(0.2)   # Công thức sản xuất: l^0.3 * k^0.5 * m^0.2  \n",
    "\n",
    "# Định nghĩa một hàm tương tự production nhưng viết ngắn gọn bằng lambda\n",
    "production_2 = lambda l, k, m : l**0.3 * k**0.5 * m**(0.2)  \n",
    "\n",
    "# Gọi hàm production với l=42, k=40, m=42 và in kết quả\n",
    "print(production(42, 40, 42))  "
   ]
  },
  {
   "cell_type": "code",
   "execution_count": 22,
   "id": "1ef99753-afb7-4b5a-bfbc-b9a54937fdb0",
   "metadata": {},
   "outputs": [
    {
     "name": "stdout",
     "output_type": "stream",
     "text": [
      "40.987803063838406\n"
     ]
    }
   ],
   "source": [
    "print(production_2(42, 40, 42))"
   ]
  },
  {
   "cell_type": "markdown",
   "id": "67417c4a-8425-481e-b4f6-b8c0c28483ce",
   "metadata": {},
   "source": [
    "## 8.4. Returning Several Values"
   ]
  },
  {
   "cell_type": "code",
   "execution_count": 24,
   "id": "06615db5-78df-4b7c-9468-c1c9d8cac742",
   "metadata": {},
   "outputs": [
    {
     "name": "stdout",
     "output_type": "stream",
     "text": [
      "{'mean': 3.9, 'std_dev': 2.8460498941515415}\n"
     ]
    }
   ],
   "source": [
    "import statistics   # Import module statistics để tính toán các số liệu thống kê\n",
    "\n",
    "def desc_stats(x):\n",
    "    \"\"\"Returns the mean and standard deviation of `x`\"\"\"\n",
    "    return {\n",
    "        \"mean\": statistics.mean(x),      # Tính giá trị trung bình (mean) của danh sách x\n",
    "        \"std_dev\": statistics.stdev(x)   # Tính độ lệch chuẩn (standard deviation) của x\n",
    "    }\n",
    "\n",
    "x = [1,3,2,6,4,1,8,9,3,2]   # Tạo danh sách dữ liệu gồm 10 số nguyên\n",
    "res = desc_stats(x)         # Gọi hàm desc_stats để tính mean và std_dev của x\n",
    "print(res)                  # In ra kết quả dưới dạng dictionary"
   ]
  },
  {
   "cell_type": "code",
   "execution_count": 25,
   "id": "3939b97b-85a9-4c0e-b0c8-b2e708597eba",
   "metadata": {},
   "outputs": [
    {
     "name": "stdout",
     "output_type": "stream",
     "text": [
      "The average value equals 3.9 and the standard deviation is 2.8460498941515415\n"
     ]
    }
   ],
   "source": [
    "message = \"The average value equals {} and the standard deviation is {}\"  \n",
    "# Tạo một chuỗi (string) với 2 dấu {} là placeholder để chèn giá trị sau này\n",
    "\n",
    "print(message.format(res[\"mean\"], res[\"std_dev\"]))  \n",
    "# Dùng phương thức .format() để thay thế {} trong message:\n",
    "# {} thứ nhất -> res[\"mean\"]  (giá trị trung bình)\n",
    "# {} thứ hai  -> res[\"std_dev\"] (độ lệch chuẩn)\n",
    "# Sau đó in ra chuỗi đã hoàn chỉnh"
   ]
  },
  {
   "cell_type": "markdown",
   "id": "20fbd6dc-eb06-4cd2-958c-0600336cd0c3",
   "metadata": {},
   "source": [
    "# Chapter 9: Introduction to Numpy"
   ]
  },
  {
   "cell_type": "markdown",
   "id": "0a8810fd-b5a7-4a74-a36a-a7c205994198",
   "metadata": {},
   "source": [
    "## 9.1. Arrays"
   ]
  },
  {
   "cell_type": "markdown",
   "id": "4aae721c-3adc-4fc8-bb29-95bcf37923a4",
   "metadata": {},
   "source": [
    "### Bài 1: Example"
   ]
  },
  {
   "cell_type": "code",
   "execution_count": 2,
   "id": "fc16cc8c-bf9b-486e-a8af-0caa325d7785",
   "metadata": {},
   "outputs": [
    {
     "name": "stdout",
     "output_type": "stream",
     "text": [
      "9078.487730565143\n"
     ]
    }
   ],
   "source": [
    "from random import random  \n",
    "# Import hàm random() để sinh số thực ngẫu nhiên trong khoảng [0,1)\n",
    "\n",
    "from operator import truediv  \n",
    "# Import hàm truediv (phép chia thật, tương đương với toán tử /)\n",
    "\n",
    "l1 = [random() for i in range(1000)]  \n",
    "# Tạo list l1 gồm 1000 số thực ngẫu nhiên trong [0,1)\n",
    "\n",
    "l2 = [random() for i in range(1000)]  \n",
    "# Tạo list l2 gồm 1000 số thực ngẫu nhiên trong [0,1)\n",
    "\n",
    "# %timeit s = sum(map(truediv, l1, l2))  \n",
    "# Đây là magic command của Jupyter Notebook (không chạy được trong file .py bình thường).\n",
    "# Nó sẽ chạy câu lệnh nhiều lần để đo thời gian trung bình thực hiện.\n",
    "# Câu lệnh được đo thời gian là:\n",
    "#   s = sum(map(truediv, l1, l2))\n",
    "# map(truediv, l1, l2) -> tạo ra từng giá trị l1[i] / l2[i]\n",
    "# sum(...) -> tính tổng của tất cả các kết quả chia\n",
    "s = sum(map(truediv, l1, l2))\n",
    "print(s)"
   ]
  },
  {
   "cell_type": "code",
   "execution_count": 3,
   "id": "e3f942f0-3fa3-46f8-b1ee-f994cc7fec32",
   "metadata": {},
   "outputs": [],
   "source": [
    "import numpy as np  \n",
    "# Import thư viện numpy để làm việc với mảng (array)\n",
    "\n",
    "a1 = np.array(l1)  \n",
    "# Chuyển list l1 thành numpy array a1\n",
    "\n",
    "a2 = np.array(l2)  \n",
    "# Chuyển list l2 thành numpy array a2\n",
    "\n",
    "# %timeit s = np.sum(a1/a2)\n",
    "# Đây cũng là magic command của Jupyter Notebook.\n",
    "# Nó đo thời gian chạy của phép tính:\n",
    "#   s = np.sum(a1 / a2)\n",
    "# Trong đó:\n",
    "#   a1 / a2 -> chia từng phần tử của a1 cho phần tử tương ứng trong a2\n",
    "#   np.sum(...) -> tính tổng các giá trị sau khi chia\n"
   ]
  },
  {
   "cell_type": "markdown",
   "id": "cc26abc4-fa17-41b2-ab1b-d39b69869e15",
   "metadata": {},
   "source": [
    "### Bài 2: Creation - Examples"
   ]
  },
  {
   "cell_type": "code",
   "execution_count": 4,
   "id": "8279360d-0f19-4238-b63b-dfd64da71d88",
   "metadata": {},
   "outputs": [
    {
     "name": "stdout",
     "output_type": "stream",
     "text": [
      "[1 2 4]\n"
     ]
    }
   ],
   "source": [
    "list = [1,2,4]\n",
    "table = np.array(list)\n",
    "print(table)"
   ]
  },
  {
   "cell_type": "code",
   "execution_count": 5,
   "id": "6fa721bc-2186-4332-9614-082b29bc5b87",
   "metadata": {},
   "outputs": [
    {
     "name": "stdout",
     "output_type": "stream",
     "text": [
      "<class 'numpy.ndarray'>\n"
     ]
    }
   ],
   "source": [
    "print(type(table))        # in kiểu dữ liệu của table"
   ]
  },
  {
   "cell_type": "code",
   "execution_count": 6,
   "id": "7a1ed7e0-1f31-4575-a648-2f96afa32c54",
   "metadata": {},
   "outputs": [
    {
     "name": "stdout",
     "output_type": "stream",
     "text": [
      "[[1 2 3]\n",
      " [4 5 6]]\n"
     ]
    }
   ],
   "source": [
    "import numpy as np   # nạp thư viện numpy\n",
    "\n",
    "list_2 = [ [1,2,3], [4,5,6] ]   # list 2 chiều trong Python\n",
    "table_2 = np.array(list_2)      # chuyển thành numpy array\n",
    "print(table_2)                  # in ra mảng"
   ]
  },
  {
   "cell_type": "code",
   "execution_count": 7,
   "id": "4519e954-f1c7-4164-b2c5-50bc5324666c",
   "metadata": {},
   "outputs": [
    {
     "name": "stdout",
     "output_type": "stream",
     "text": [
      "<class 'numpy.ndarray'>\n"
     ]
    }
   ],
   "source": [
    "print(type(table_2)) # in kiểu dữ liệu của table 2"
   ]
  },
  {
   "cell_type": "code",
   "execution_count": 8,
   "id": "8d61efdb-a42c-4209-ba14-b79662d6cef8",
   "metadata": {},
   "outputs": [
    {
     "name": "stdout",
     "output_type": "stream",
     "text": [
      "[1 2 3]\n"
     ]
    }
   ],
   "source": [
    "import numpy as np   # nạp thư viện numpy\n",
    "\n",
    "tup = (1, 2, 3)      # tạo một tuple\n",
    "table = np.array(tup) # chuyển tuple thành numpy array\n",
    "print(table)          # in ra mảng"
   ]
  },
  {
   "cell_type": "code",
   "execution_count": 9,
   "id": "d149849b-5c75-4652-bc5f-e54617496a56",
   "metadata": {},
   "outputs": [
    {
     "name": "stdout",
     "output_type": "stream",
     "text": [
      "<class 'numpy.ndarray'>\n"
     ]
    }
   ],
   "source": [
    "print(type(table)) # in kiểu dữ liệu của table"
   ]
  },
  {
   "cell_type": "code",
   "execution_count": 10,
   "id": "357e594e-91ee-41e7-8d53-99753abb58ca",
   "metadata": {},
   "outputs": [
    {
     "name": "stdout",
     "output_type": "stream",
     "text": [
      "[[3 2]\n",
      " [5 1]\n",
      " [6 5]]\n"
     ]
    }
   ],
   "source": [
    "table = np.array([3, 2, 5, 1, 6, 5])  # tạo mảng 1 chiều có 6 phần tử\n",
    "table.shape = (3, 2)                  # đổi shape thành ma trận 3 hàng 2 cột\n",
    "print(table)                          # in ra"
   ]
  },
  {
   "cell_type": "markdown",
   "id": "5999f2ba-3561-4e27-8121-de72cb8708c1",
   "metadata": {},
   "source": [
    "### Bài 3: Some Functions Generating array Objects"
   ]
  },
  {
   "cell_type": "code",
   "execution_count": 16,
   "id": "9f29f890-da0e-4c81-932c-2fc8be837661",
   "metadata": {},
   "outputs": [
    {
     "name": "stdout",
     "output_type": "stream",
     "text": [
      "[0. 0. 0. 0.]\n"
     ]
    }
   ],
   "source": [
    "import numpy as np\n",
    "print( np.zeros(4) )   ## tạo 1 mảng 1 chiều gồm 4 phần tử, tất cả đều bằng 0.0 (kiểu float mặc định)"
   ]
  },
  {
   "cell_type": "code",
   "execution_count": 2,
   "id": "7c1527cd-fd72-499d-b3f3-2fd158fbec3a",
   "metadata": {},
   "outputs": [
    {
     "name": "stdout",
     "output_type": "stream",
     "text": [
      "[0 0 0 0]\n"
     ]
    }
   ],
   "source": [
    "import numpy as np                  # nhập thư viện numpy với bí danh np\n",
    "\n",
    "print( np.zeros(4, dtype=\"int\") )   \n",
    "# np.zeros(4, dtype=\"int\") tạo ra một mảng (array) 1 chiều có 4 phần tử\n",
    "# tất cả các phần tử đều bằng 0\n",
    "# dtype=\"int\" chỉ định kiểu dữ liệu là số nguyên (int) thay vì mặc định là float\n",
    "# Kết quả in ra: [0 0 0 0]"
   ]
  },
  {
   "cell_type": "code",
   "execution_count": 3,
   "id": "1c6faac2-467b-4ab1-8ed0-0f22ce086548",
   "metadata": {},
   "outputs": [
    {
     "name": "stdout",
     "output_type": "stream",
     "text": [
      "[0 0 0 0] int64\n"
     ]
    }
   ],
   "source": [
    "import numpy as np                   # nạp thư viện numpy\n",
    "\n",
    "x = np.zeros(4, dtype=\"int\")         # tạo mảng 1 chiều có 4 phần tử, tất cả bằng 0, kiểu dữ liệu int\n",
    "print(x, x.dtype)                    \n",
    "# in ra mảng x và kiểu dữ liệu của nó"
   ]
  },
  {
   "cell_type": "code",
   "execution_count": 4,
   "id": "4f2ad0ef-f872-4e28-9724-e5f37aa2f868",
   "metadata": {},
   "outputs": [
    {
     "name": "stdout",
     "output_type": "stream",
     "text": [
      "[0 0 0 0] int64\n"
     ]
    }
   ],
   "source": [
    "y = x.astype(\"float\")          # chuyển mảng x sang kiểu float và gán cho y\n",
    "print(x, x.dtype)              # in ra mảng x và kiểu dữ liệu của x"
   ]
  },
  {
   "cell_type": "code",
   "execution_count": 5,
   "id": "1a337aa2-214c-4a5d-8d3e-fcd30e4f8e66",
   "metadata": {},
   "outputs": [
    {
     "name": "stdout",
     "output_type": "stream",
     "text": [
      "[0. 0. 0. 0.] float64\n"
     ]
    }
   ],
   "source": [
    "print(y, y.dtype)              # in ra mảng y và kiểu dữ liệu của y"
   ]
  },
  {
   "cell_type": "code",
   "execution_count": 6,
   "id": "ba9e085e-ba56-4f3d-8806-1ac88c4d4197",
   "metadata": {},
   "outputs": [
    {
     "name": "stdout",
     "output_type": "stream",
     "text": [
      "[[0. 0. 0.]\n",
      " [0. 0. 0.]]\n"
     ]
    }
   ],
   "source": [
    "# tạo một mảng 2 chiều kích thước (2,3) toàn số 0, mặc định kiểu dữ liệu float\n",
    "print(np.zeros((2, 3)))"
   ]
  },
  {
   "cell_type": "code",
   "execution_count": 7,
   "id": "a8510b55-ba92-4985-a19e-c7ea987a0237",
   "metadata": {},
   "outputs": [
    {
     "name": "stdout",
     "output_type": "stream",
     "text": [
      "[[[0. 0. 0. 0.]\n",
      "  [0. 0. 0. 0.]\n",
      "  [0. 0. 0. 0.]]\n",
      "\n",
      " [[0. 0. 0. 0.]\n",
      "  [0. 0. 0. 0.]\n",
      "  [0. 0. 0. 0.]]]\n"
     ]
    }
   ],
   "source": [
    "# tạo một mảng 3 chiều kích thước (2,3,4) toàn số 0, mặc định kiểu float\n",
    "print(np.zeros((2, 3, 4)))\n"
   ]
  },
  {
   "cell_type": "code",
   "execution_count": 8,
   "id": "743b174b-3a64-4920-92ac-b20af941113a",
   "metadata": {},
   "outputs": [
    {
     "name": "stdout",
     "output_type": "stream",
     "text": [
      "[[0 0 0]\n",
      " [0 0 0]]\n"
     ]
    }
   ],
   "source": [
    "# tạo một mảng 2 chiều (ma trận 2x3) kiểu số nguyên (int),\n",
    "# nhưng KHÔNG khởi tạo giá trị (các phần tử sẽ chứa \"rác\" từ bộ nhớ)\n",
    "print(np.empty((2, 3), dtype=\"int\"))"
   ]
  },
  {
   "cell_type": "code",
   "execution_count": 9,
   "id": "49272892-80ae-4df9-b92d-71b494e19252",
   "metadata": {},
   "outputs": [
    {
     "name": "stdout",
     "output_type": "stream",
     "text": [
      "[[1. 1. 1.]\n",
      " [1. 1. 1.]]\n"
     ]
    }
   ],
   "source": [
    "# tạo một mảng 2 chiều (ma trận 2x3) với kiểu dữ liệu float,\n",
    "# trong đó tất cả các phần tử đều được gán giá trị 1.0\n",
    "print(np.ones((2, 3), dtype=\"float\"))"
   ]
  },
  {
   "cell_type": "code",
   "execution_count": 10,
   "id": "85f78995-ddb0-4ed1-8a51-9a88bdaba93f",
   "metadata": {},
   "outputs": [
    {
     "name": "stdout",
     "output_type": "stream",
     "text": [
      "[[10. 10. 10.]\n",
      " [10. 10. 10.]]\n"
     ]
    }
   ],
   "source": [
    "print(np.full((2, 3), 10, dtype=\"float\"))  # tạo mảng 2 hàng 3 cột, kiểu float, tất cả phần tử = 10.0"
   ]
  },
  {
   "cell_type": "code",
   "execution_count": 11,
   "id": "e442bda2-8a98-4904-99eb-107811f7e5f4",
   "metadata": {},
   "outputs": [
    {
     "name": "stdout",
     "output_type": "stream",
     "text": [
      "[[inf inf inf]\n",
      " [inf inf inf]]\n"
     ]
    }
   ],
   "source": [
    "print(np.full((2, 3), np.inf))  # tạo mảng 2 hàng 3 cột, mỗi phần tử đều là giá trị vô cùng dương (infinity)"
   ]
  },
  {
   "cell_type": "code",
   "execution_count": 12,
   "id": "af89ca57-a057-43e9-99ab-094c0426d21a",
   "metadata": {},
   "outputs": [
    {
     "name": "stdout",
     "output_type": "stream",
     "text": [
      "[[1 0]\n",
      " [0 1]]\n"
     ]
    }
   ],
   "source": [
    "print(np.eye(2, dtype=\"int64\"))  # tạo ma trận đơn vị kích thước 2x2, với kiểu dữ liệu int64"
   ]
  },
  {
   "cell_type": "code",
   "execution_count": 13,
   "id": "dd0300c2-678b-4afc-917b-92cbc5325ec7",
   "metadata": {},
   "outputs": [
    {
     "name": "stdout",
     "output_type": "stream",
     "text": [
      "[[0. 0. 0.]\n",
      " [1. 0. 0.]\n",
      " [0. 1. 0.]]\n"
     ]
    }
   ],
   "source": [
    "print(np.eye(3, k=-1))  # tạo ma trận đơn vị 3x3 nhưng dịch đường chéo chính xuống 1 hàng (k = -1)"
   ]
  },
  {
   "cell_type": "code",
   "execution_count": 14,
   "id": "0c898ca8-72ec-489f-b64a-ea38ce4847c8",
   "metadata": {},
   "outputs": [
    {
     "name": "stdout",
     "output_type": "stream",
     "text": [
      "[[1 0 0]\n",
      " [0 1 0]\n",
      " [0 0 1]]\n"
     ]
    }
   ],
   "source": [
    "print(np.identity(3, dtype=\"int\"))  # tạo ma trận đơn vị 3x3 với kiểu dữ liệu int"
   ]
  },
  {
   "cell_type": "code",
   "execution_count": 15,
   "id": "ba7131cd-f112-4ad7-928a-765a9a026b2f",
   "metadata": {},
   "outputs": [
    {
     "name": "stdout",
     "output_type": "stream",
     "text": [
      "[0 1 2 3 4]\n"
     ]
    }
   ],
   "source": [
    "print(np.arange(5))  # tạo mảng từ 0 đến 4 (5 phần tử, bước mặc định = 1)"
   ]
  },
  {
   "cell_type": "code",
   "execution_count": 16,
   "id": "d2e66408-e314-4dcf-b678-071593905fcc",
   "metadata": {},
   "outputs": [
    {
     "name": "stdout",
     "output_type": "stream",
     "text": [
      "[2 3 4]\n"
     ]
    }
   ],
   "source": [
    "print(np.arange(2, 5))  # tạo mảng từ 2 đến 4 (bắt đầu = 2, kết thúc < 5, bước mặc định = 1)"
   ]
  },
  {
   "cell_type": "code",
   "execution_count": 17,
   "id": "8a75b55a-b621-4910-a600-7859ea452e2c",
   "metadata": {},
   "outputs": [
    {
     "name": "stdout",
     "output_type": "stream",
     "text": [
      "[2 4 6 8]\n"
     ]
    }
   ],
   "source": [
    "print(np.arange(2, 10, 2))  # tạo mảng từ 2 đến 8 (bắt đầu = 2, kết thúc < 10, bước = 2)"
   ]
  },
  {
   "cell_type": "markdown",
   "id": "1c49b4ae-79c6-460f-81f1-ccaa36f94343",
   "metadata": {},
   "source": [
    "### Bài 4: Dimensions"
   ]
  },
  {
   "cell_type": "code",
   "execution_count": 19,
   "id": "6d8d2cf3-deb1-45fc-ae88-39df57a94a4d",
   "metadata": {},
   "outputs": [
    {
     "name": "stdout",
     "output_type": "stream",
     "text": [
      "ndim tableau : 2\n"
     ]
    }
   ],
   "source": [
    "import numpy as np\n",
    "table = np.array([[1, 2, 3], [4, 5, 6]]) \n",
    "print(\"ndim tableau :\", table.ndim) #in ra số chiều (ndim) của mảng/table 'table'"
   ]
  },
  {
   "cell_type": "code",
   "execution_count": 21,
   "id": "6f296858-80c6-4b9e-b1be-34d256b01843",
   "metadata": {},
   "outputs": [
    {
     "name": "stdout",
     "output_type": "stream",
     "text": [
      "ndim table_2 :  2\n"
     ]
    }
   ],
   "source": [
    "# Tạo một mảng NumPy 2 chiều và gán cho biến table_2\n",
    "table_2 = np.array([[10, 20], [30, 40], [50, 60]]) \n",
    "print(\"ndim table_2 : \", table_2.ndim)  # In ra số chiều (ndim) của mảng/table 'table_2'"
   ]
  },
  {
   "cell_type": "code",
   "execution_count": 22,
   "id": "6f804e96-26b0-453d-a25d-08a3490732c4",
   "metadata": {},
   "outputs": [
    {
     "name": "stdout",
     "output_type": "stream",
     "text": [
      "size table :  6\n"
     ]
    }
   ],
   "source": [
    "print(\"size table : \", table.size)  # In ra tổng số phần tử trong mảng/table 'table'"
   ]
  },
  {
   "cell_type": "code",
   "execution_count": 23,
   "id": "4c7568b8-b89e-4e00-934f-4dc3da4fb5c9",
   "metadata": {},
   "outputs": [
    {
     "name": "stdout",
     "output_type": "stream",
     "text": [
      "size table_2:  6\n"
     ]
    }
   ],
   "source": [
    "print(\"size table_2: \", table_2.size)  # In ra tổng số phần tử trong mảng/table 'table_2'"
   ]
  },
  {
   "cell_type": "code",
   "execution_count": 24,
   "id": "e8f48833-ae00-4f5b-862e-bae261af1715",
   "metadata": {},
   "outputs": [
    {
     "name": "stdout",
     "output_type": "stream",
     "text": [
      "np.size(table): 6\n"
     ]
    }
   ],
   "source": [
    "print(\"np.size(table):\", np.size(table))  # In ra tổng số phần tử của mảng 'table' bằng hàm np.size()"
   ]
  },
  {
   "cell_type": "code",
   "execution_count": 25,
   "id": "22578635-3725-4e9c-ac97-5237e449c3b2",
   "metadata": {},
   "outputs": [
    {
     "name": "stdout",
     "output_type": "stream",
     "text": [
      "size table:  (2, 3)\n"
     ]
    }
   ],
   "source": [
    "print(\"size table: \", table.shape)  # In ra kích thước (shape) của mảng/table 'table'"
   ]
  },
  {
   "cell_type": "code",
   "execution_count": 26,
   "id": "3eec38bf-fcc7-4b3d-984c-a99d700e435a",
   "metadata": {},
   "outputs": [
    {
     "name": "stdout",
     "output_type": "stream",
     "text": [
      "size table_2:  (3, 2)\n"
     ]
    }
   ],
   "source": [
    "print(\"size table_2: \", table_2.shape)  # In ra kích thước (shape) của mảng/table 'table_2'"
   ]
  },
  {
   "cell_type": "markdown",
   "id": "68321377-3759-47eb-880d-b9d0171adebb",
   "metadata": {},
   "source": [
    "### Bài 5: Extracting elements from an array"
   ]
  },
  {
   "cell_type": "code",
   "execution_count": 3,
   "id": "19183b7b-48e1-437b-9762-51eb1851c7e8",
   "metadata": {},
   "outputs": [
    {
     "name": "stdout",
     "output_type": "stream",
     "text": [
      "table_0[0] : 1 (type : <class 'numpy.int64'>)\n"
     ]
    }
   ],
   "source": [
    "import numpy as np\n",
    "# Tạo một mảng 1 chiều từ 1 đến 12\n",
    "table_1 = np.arange(1, 13)  \n",
    "\n",
    "# Tạo một danh sách 2 chiều và chuyển thành mảng NumPy 2 chiều\n",
    "table_2 = [[1, 2, 3], [4, 5, 6], [7, 8, 9], [10, 11, 12]]\n",
    "table_2 = np.array(table_2)  \n",
    "\n",
    "# Chuỗi mẫu để in ra giá trị và kiểu dữ liệu\n",
    "message = \"table_{}[0] : {} (type : {})\"\n",
    "\n",
    "# In ra phần tử đầu tiên (index 0) của table_1 và kiểu dữ liệu của nó\n",
    "print(message.format(0, table_1[0], type(table_1[0])))  \n",
    "# Kết quả: table_0[0] : 1 (type : <class 'numpy.int64'>)"
   ]
  },
  {
   "cell_type": "code",
   "execution_count": 4,
   "id": "a07fe7e1-9d29-46bf-9ec9-22450a7d4e63",
   "metadata": {},
   "outputs": [
    {
     "name": "stdout",
     "output_type": "stream",
     "text": [
      "table_1[0] : [1 2 3] (type : <class 'numpy.ndarray'>)\n"
     ]
    }
   ],
   "source": [
    "# In ra hàng đầu tiên (index 0) của table_2, cùng với kiểu dữ liệu của hàng đó\n",
    "print(message.format(1, table_2[0], type(table_2[0])))  \n",
    "# Kết quả sẽ giống dạng: table_1[0] : [1 2 3] (type : <class 'numpy.ndarray'>)"
   ]
  },
  {
   "cell_type": "code",
   "execution_count": 5,
   "id": "ae4b2acf-782a-461f-8109-5bc8a4db7b36",
   "metadata": {},
   "outputs": [
    {
     "name": "stdout",
     "output_type": "stream",
     "text": [
      "table_1[-1] :  12\n"
     ]
    }
   ],
   "source": [
    "print(\"table_1[-1] : \", table_1[-1])  # Lấy và in ra phần tử cuối cùng của mảng table_1"
   ]
  },
  {
   "cell_type": "code",
   "execution_count": 6,
   "id": "477103cb-daf5-430b-8964-36e878476010",
   "metadata": {},
   "outputs": [
    {
     "name": "stdout",
     "output_type": "stream",
     "text": [
      "table_2[-1] :  [10 11 12]\n"
     ]
    }
   ],
   "source": [
    "print(\"table_2[-1] : \", table_2[-1])  # Lấy và in ra hàng cuối cùng của mảng 2 chiều table_2"
   ]
  },
  {
   "cell_type": "code",
   "execution_count": 7,
   "id": "7e7b2ff7-3887-4774-89df-4bbca20ab55d",
   "metadata": {},
   "outputs": [
    {
     "name": "stdout",
     "output_type": "stream",
     "text": [
      "Slice Table 1 : \n",
      " [3 4]\n"
     ]
    }
   ],
   "source": [
    "# Lấy các phần tử từ chỉ số 2 (bao gồm) đến chỉ số 4 (không bao gồm) của mảng table_1\n",
    "print(\"Slice Table 1 : \\n\", table_1[2:4])  \n",
    "# Kết quả sẽ in ra các phần tử table_1[2] và table_1[3]"
   ]
  },
  {
   "cell_type": "code",
   "execution_count": 8,
   "id": "5a5a780a-a20c-4eeb-8fe9-9afb310373de",
   "metadata": {},
   "outputs": [
    {
     "name": "stdout",
     "output_type": "stream",
     "text": [
      "Slice Table 2 : \n",
      " [[ 7  8  9]\n",
      " [10 11 12]]\n"
     ]
    }
   ],
   "source": [
    "# Lấy các hàng từ chỉ số 2 (bao gồm) đến chỉ số 4 (không bao gồm) của mảng 2 chiều table_2\n",
    "print(\"Slice Table 2 : \\n\", table_2[2:4])  \n",
    "# Kết quả sẽ in ra table_2[2] và table_2[3]\n"
   ]
  },
  {
   "cell_type": "code",
   "execution_count": 9,
   "id": "01d301f1-28b5-4211-9164-53d19194a8a8",
   "metadata": {},
   "outputs": [
    {
     "name": "stdout",
     "output_type": "stream",
     "text": [
      "7\n"
     ]
    }
   ],
   "source": [
    "# Truy xuất phần tử đầu tiên (index 0) của hàng thứ 3 (index 2) trong mảng 2 chiều table_2\n",
    "print(table_2[2][0])  \n",
    "# Kết quả: 7 (nếu table_2 = [[1,2,3],[4,5,6],[7,8,9],[10,11,12]])"
   ]
  },
  {
   "cell_type": "code",
   "execution_count": 10,
   "id": "a5d7546d-ab64-47b7-8eb6-a252c500d37c",
   "metadata": {},
   "outputs": [
    {
     "name": "stdout",
     "output_type": "stream",
     "text": [
      "7\n"
     ]
    }
   ],
   "source": [
    "# Truy xuất phần tử đầu tiên (index 0) của hàng thứ 3 (index 2) trong mảng 2 chiều table_2 bằng cú pháp NumPy\n",
    "print(table_2[2,0])  \n",
    "# Kết quả: 7 (nếu table_2 = [[1,2,3],[4,5,6],[7,8,9],[10,11,12]])"
   ]
  },
  {
   "cell_type": "code",
   "execution_count": 11,
   "id": "de0227b8-16ae-483d-a256-20e3c1866426",
   "metadata": {},
   "outputs": [
    {
     "name": "stdout",
     "output_type": "stream",
     "text": [
      "Second column: \n",
      " [[ 2]\n",
      " [ 5]\n",
      " [ 8]\n",
      " [11]]\n"
     ]
    }
   ],
   "source": [
    "# Truy xuất toàn bộ hàng (:) và chỉ cột thứ 2 (index 1) của mảng 2 chiều table_2\n",
    "print(\"Second column: \\n\", table_2[:, [1]])  "
   ]
  },
  {
   "cell_type": "code",
   "execution_count": 12,
   "id": "01285a45-73c9-42cc-ae78-7b4dcb8d1618",
   "metadata": {},
   "outputs": [
    {
     "name": "stdout",
     "output_type": "stream",
     "text": [
      "Second and third columns: \n",
      " [[ 2  3]\n",
      " [ 5  6]\n",
      " [ 8  9]\n",
      " [11 12]]\n"
     ]
    }
   ],
   "source": [
    "# Truy xuất toàn bộ hàng (:) và chỉ cột thứ 2 (index 1) và cột thứ 3 (index 2) của mảng 2 chiều table_2\n",
    "print(\"Second and third columns: \\n\", table_2[:, [1,2]])  "
   ]
  },
  {
   "cell_type": "code",
   "execution_count": 13,
   "id": "3badf42d-e894-41dc-a0f8-84fd4784d11f",
   "metadata": {},
   "outputs": [
    {
     "name": "stdout",
     "output_type": "stream",
     "text": [
      "2nd and 4th elements: \n",
      " [[ 4  5  6]\n",
      " [10 11 12]]\n"
     ]
    }
   ],
   "source": [
    "# Lấy hàng thứ 2 (index 1) và hàng thứ 4 (index 3) của mảng 2 chiều table_2\n",
    "print(\"2nd and 4th elements: \\n\", table_2[[1,3]])  "
   ]
  },
  {
   "cell_type": "markdown",
   "id": "80d6fc89-e313-4d02-b5f8-ce6aa01e261d",
   "metadata": {},
   "source": [
    "### Bài 6: Extraction Using Boolean"
   ]
  },
  {
   "cell_type": "code",
   "execution_count": 2,
   "id": "3ab67fb7-48b2-4902-8497-957f90bd9803",
   "metadata": {},
   "outputs": [
    {
     "name": "stdout",
     "output_type": "stream",
     "text": [
      "[0 2 1 4]\n"
     ]
    }
   ],
   "source": [
    "import numpy as np\n",
    "\n",
    "# Tạo mảng 1 chiều table\n",
    "table = np.array([0, 3, 2, 5, 1, 4])\n",
    "\n",
    "# Lọc các phần tử của table theo một mảng Boolean\n",
    "res = table[[True, False, True, False, True, True]]\n",
    "\n",
    "# In kết quả\n",
    "print(res)  \n",
    "# Kết quả: [0 2 1 4]"
   ]
  },
  {
   "cell_type": "code",
   "execution_count": 15,
   "id": "9a229800-814a-4e26-8236-43606b27cf07",
   "metadata": {},
   "outputs": [
    {
     "name": "stdout",
     "output_type": "stream",
     "text": [
      "[ True False  True False False  True]\n"
     ]
    }
   ],
   "source": [
    "# Tạo mảng 1 chiều table\n",
    "table = np.array([0, 3, 2, 5, 1, 4])\n",
    "\n",
    "# Tạo mask Boolean: kiểm tra phần tử chẵn (chia hết cho 2)\n",
    "mask = table % 2 == 0  \n",
    "\n",
    "# In mảng mask\n",
    "print(mask)  \n",
    "# Kết quả: [ True False  True False False  True ]\n"
   ]
  },
  {
   "cell_type": "code",
   "execution_count": 16,
   "id": "c1935b54-9aac-42aa-88c6-ee044b9e68c5",
   "metadata": {},
   "outputs": [
    {
     "name": "stdout",
     "output_type": "stream",
     "text": [
      "<class 'numpy.ndarray'>\n"
     ]
    }
   ],
   "source": [
    "# In kiểu dữ liệu của biến mask\n",
    "print(type(mask))  \n",
    "# Kết quả: <class 'numpy.ndarray'>"
   ]
  },
  {
   "cell_type": "markdown",
   "id": "413d819c-41a1-45ee-a05c-e3453462a0b4",
   "metadata": {},
   "source": [
    "### Bài 7: Modification"
   ]
  },
  {
   "cell_type": "code",
   "execution_count": 17,
   "id": "642b55b7-605b-4090-bbc9-6ad105e45aa3",
   "metadata": {},
   "outputs": [
    {
     "name": "stdout",
     "output_type": "stream",
     "text": [
      "[[11 22 33]\n",
      " [ 4  5  6]\n",
      " [ 7  8  9]\n",
      " [10 11 12]]\n"
     ]
    }
   ],
   "source": [
    "# Tạo mảng 2 chiều 4x3\n",
    "table = np.array([[1, 2, 3],\n",
    "                  [4, 5, 6],\n",
    "                  [7, 8, 9],\n",
    "                  [10, 11, 12]])\n",
    "\n",
    "# Gán lại hàng đầu tiên (index 0) với các giá trị mới\n",
    "table[0] = [11, 22, 33]\n",
    "\n",
    "# In mảng table sau khi thay đổi\n",
    "print(table)"
   ]
  },
  {
   "cell_type": "code",
   "execution_count": 18,
   "id": "01f2059c-370f-4a9d-9cbd-6fa6d9fbdc81",
   "metadata": {},
   "outputs": [
    {
     "name": "stdout",
     "output_type": "stream",
     "text": [
      "[[100 100 100]\n",
      " [  4   5   6]\n",
      " [  7   8   9]\n",
      " [ 10  11  12]]\n"
     ]
    }
   ],
   "source": [
    "# Gán giá trị 100 cho toàn bộ hàng đầu tiên (index 0) của mảng 2 chiều table\n",
    "table[0] = 100\n",
    "\n",
    "# In mảng table sau khi thay đổi\n",
    "print(table)"
   ]
  },
  {
   "cell_type": "code",
   "execution_count": 7,
   "id": "da8691f5-f3e0-432c-9ae5-95479c43ce15",
   "metadata": {},
   "outputs": [
    {
     "name": "stdout",
     "output_type": "stream",
     "text": [
      "t_1 :  [1 3 5]\n"
     ]
    }
   ],
   "source": [
    "t_1 = np.array([1,3,5])\n",
    "print(\"t_1 : \", t_1)"
   ]
  },
  {
   "cell_type": "code",
   "execution_count": 4,
   "id": "003568f9-edea-459b-95bf-89295a60e9b0",
   "metadata": {},
   "outputs": [
    {
     "name": "stdout",
     "output_type": "stream",
     "text": [
      "t_1 after the insertion:  [1 3 5 1]\n"
     ]
    }
   ],
   "source": [
    "t_1 = np.append(t_1, 1)\n",
    "print(\"t_1 after the insertion: \", t_1)"
   ]
  },
  {
   "cell_type": "code",
   "execution_count": 3,
   "id": "5f619b5b-9ad2-46b5-acb6-f7714779929f",
   "metadata": {},
   "outputs": [
    {
     "name": "stdout",
     "output_type": "stream",
     "text": [
      "t_2 : \n",
      " [[1 2 3]\n",
      " [5 6 7]]\n"
     ]
    }
   ],
   "source": [
    "t_2 = np.array([[1,2,3], [5,6,7]])\n",
    "print(\"t_2 : \\n\", t_2)"
   ]
  },
  {
   "cell_type": "code",
   "execution_count": 4,
   "id": "eba012d5-85b5-492d-b746-74e015b3f467",
   "metadata": {},
   "outputs": [
    {
     "name": "stdout",
     "output_type": "stream",
     "text": [
      "t_2 after the insertion: \n",
      " [[1 2 3 4]\n",
      " [5 6 7 8]]\n"
     ]
    }
   ],
   "source": [
    "add_col_t_2 = np.array([[4], [8]])\n",
    "t_2 = np.append(t_2,add_col_t_2, axis = 1)\n",
    "print(\"t_2 after the insertion: \\n\", t_2)"
   ]
  },
  {
   "cell_type": "code",
   "execution_count": 5,
   "id": "a79a0e46-3df8-4556-a967-756abb42c80e",
   "metadata": {},
   "outputs": [
    {
     "name": "stdout",
     "output_type": "stream",
     "text": [
      "t_2 après ajout ligne : \n",
      " [[ 1  2  3  4]\n",
      " [ 5  6  7  8]\n",
      " [10 11 12 13]]\n"
     ]
    }
   ],
   "source": [
    "ajout_ligne_t_2 = np.array([10, 11, 12, 13])\n",
    "t_2 = np.vstack([t_2,ajout_ligne_t_2])\n",
    "print(\"t_2 après ajout ligne : \\n\", t_2)"
   ]
  },
  {
   "cell_type": "markdown",
   "id": "c8efdee7-ee4e-434f-b89f-744219da4b01",
   "metadata": {},
   "source": [
    "### 9.1.4.2 Deleting / Removing Elements"
   ]
  },
  {
   "cell_type": "code",
   "execution_count": 8,
   "id": "2f92dd76-c1ec-4a96-a092-e15abe2b6363",
   "metadata": {},
   "outputs": [
    {
     "name": "stdout",
     "output_type": "stream",
     "text": [
      "t_1 :  [1 3 5]\n"
     ]
    }
   ],
   "source": [
    "print(\"t_1 : \", t_1)\n",
    "# Remove the last element"
   ]
  },
  {
   "cell_type": "code",
   "execution_count": 9,
   "id": "69ae7958-7529-4b8b-892a-4a0879010085",
   "metadata": {},
   "outputs": [
    {
     "data": {
      "text/plain": [
       "array([1, 3])"
      ]
     },
     "execution_count": 9,
     "metadata": {},
     "output_type": "execute_result"
    }
   ],
   "source": [
    "np.delete(t_1, (-1))"
   ]
  },
  {
   "cell_type": "code",
   "execution_count": 10,
   "id": "7d2ad690-d172-4bbd-8bc9-cd591c32a2c4",
   "metadata": {},
   "outputs": [
    {
     "name": "stdout",
     "output_type": "stream",
     "text": [
      "t_1 :  [1 3 5]\n"
     ]
    }
   ],
   "source": [
    "print(\"t_1 : \", t_1)\n",
    "# Remove the first and second elements:"
   ]
  },
  {
   "cell_type": "code",
   "execution_count": 11,
   "id": "85c0784e-a501-478d-a270-6b64d98a76c9",
   "metadata": {},
   "outputs": [
    {
     "name": "stdout",
     "output_type": "stream",
     "text": [
      "[3]\n"
     ]
    }
   ],
   "source": [
    "t_1 = np.delete(t_1, ([0, 2]))\n",
    "print(t_1)\n"
   ]
  },
  {
   "cell_type": "code",
   "execution_count": 12,
   "id": "750ff9e8-ce8f-4e71-a0ea-d862232f88c8",
   "metadata": {},
   "outputs": [
    {
     "name": "stdout",
     "output_type": "stream",
     "text": [
      "t_2 :  [[ 1  2  3  4]\n",
      " [ 5  6  7  8]\n",
      " [10 11 12 13]]\n"
     ]
    }
   ],
   "source": [
    "print(\"t_2 : \", t_2)\n",
    "# Remove the last column:"
   ]
  },
  {
   "cell_type": "code",
   "execution_count": 13,
   "id": "b16c7475-6151-417c-b807-a12470c891d4",
   "metadata": {},
   "outputs": [
    {
     "data": {
      "text/plain": [
       "array([[ 2,  3,  4],\n",
       "       [ 6,  7,  8],\n",
       "       [11, 12, 13]])"
      ]
     },
     "execution_count": 13,
     "metadata": {},
     "output_type": "execute_result"
    }
   ],
   "source": [
    "np.delete(t_2, (0), axis=1)"
   ]
  },
  {
   "cell_type": "code",
   "execution_count": 14,
   "id": "7947df18-cda1-40c2-a7be-b85206a4ab0e",
   "metadata": {},
   "outputs": [
    {
     "name": "stdout",
     "output_type": "stream",
     "text": [
      "t_2 :  [[ 1  2  3  4]\n",
      " [ 5  6  7  8]\n",
      " [10 11 12 13]]\n"
     ]
    }
   ],
   "source": [
    "print(\"t_2 : \", t_2)\n",
    "# Remove the first and third columns:"
   ]
  },
  {
   "cell_type": "code",
   "execution_count": 15,
   "id": "591259b3-a749-4113-a464-b3e66d272fdb",
   "metadata": {},
   "outputs": [
    {
     "data": {
      "text/plain": [
       "array([[ 2,  4],\n",
       "       [ 6,  8],\n",
       "       [11, 13]])"
      ]
     },
     "execution_count": 15,
     "metadata": {},
     "output_type": "execute_result"
    }
   ],
   "source": [
    "np.delete(t_2, ([0,2]), axis=1)"
   ]
  },
  {
   "cell_type": "code",
   "execution_count": 16,
   "id": "1cdf25d2-a52c-4a97-8cb0-b82af60b7658",
   "metadata": {},
   "outputs": [
    {
     "name": "stdout",
     "output_type": "stream",
     "text": [
      "t_2 :  [[ 1  2  3  4]\n",
      " [ 5  6  7  8]\n",
      " [10 11 12 13]]\n"
     ]
    }
   ],
   "source": [
    "print(\"t_2 : \", t_2)\n",
    "# Remove the first line:"
   ]
  },
  {
   "cell_type": "code",
   "execution_count": 17,
   "id": "99d11fda-aa0c-45ae-bf62-32d1093895a5",
   "metadata": {},
   "outputs": [
    {
     "data": {
      "text/plain": [
       "array([[ 5,  6,  7,  8],\n",
       "       [10, 11, 12, 13]])"
      ]
     },
     "execution_count": 17,
     "metadata": {},
     "output_type": "execute_result"
    }
   ],
   "source": [
    "np.delete(t_2, (0), axis=0)"
   ]
  },
  {
   "cell_type": "code",
   "execution_count": 18,
   "id": "b50ef135-aefe-4ffc-a6d3-d976bd293f36",
   "metadata": {},
   "outputs": [
    {
     "name": "stdout",
     "output_type": "stream",
     "text": [
      "t_2 :  [[ 1  2  3  4]\n",
      " [ 5  6  7  8]\n",
      " [10 11 12 13]]\n"
     ]
    }
   ],
   "source": [
    "print(\"t_2 : \", t_2)\n",
    "# Remove the first and third lines:"
   ]
  },
  {
   "cell_type": "code",
   "execution_count": 20,
   "id": "d61d4d91-4c24-4ac9-9dd3-542825893336",
   "metadata": {},
   "outputs": [
    {
     "data": {
      "text/plain": [
       "array([[5, 6, 7, 8]])"
      ]
     },
     "execution_count": 20,
     "metadata": {},
     "output_type": "execute_result"
    }
   ],
   "source": [
    "np.delete(t_2, ([0,2]), axis=0)"
   ]
  },
  {
   "cell_type": "markdown",
   "id": "276ea664-38a7-453e-863b-1950e0c25f39",
   "metadata": {},
   "source": [
    "## 9.1.5 Copy of an Array"
   ]
  },
  {
   "cell_type": "code",
   "execution_count": 2,
   "id": "2ba0abd4-3039-4c64-bef2-0aaf695a97b4",
   "metadata": {},
   "outputs": [],
   "source": [
    "import numpy as np\n",
    "table_1 = np.array([1, 2, 3])\n",
    "table_2 = table_1"
   ]
  },
  {
   "cell_type": "code",
   "execution_count": 22,
   "id": "1ef4eb8d-d472-48c0-b36e-73b55f5fafa1",
   "metadata": {},
   "outputs": [
    {
     "name": "stdout",
     "output_type": "stream",
     "text": [
      "Table 1: \n",
      " [0 2 3]\n"
     ]
    }
   ],
   "source": [
    "table_2[0] = 0\n",
    "print(\"Table 1: \\n\", table_1)"
   ]
  },
  {
   "cell_type": "code",
   "execution_count": 23,
   "id": "37d31644-a264-4c1b-806e-64b3df34a11e",
   "metadata": {},
   "outputs": [
    {
     "name": "stdout",
     "output_type": "stream",
     "text": [
      "Table 2: \n",
      " [0 2 3]\n"
     ]
    }
   ],
   "source": [
    "print(\"Table 2: \\n\", table_2)"
   ]
  },
  {
   "cell_type": "code",
   "execution_count": 24,
   "id": "0a26c79f-5b86-41eb-b2bf-14ed7710b53b",
   "metadata": {},
   "outputs": [
    {
     "name": "stdout",
     "output_type": "stream",
     "text": [
      "table_1 :  [1 2 3]\n"
     ]
    }
   ],
   "source": [
    "table_1 = np.array([1, 2, 3])\n",
    "table_2 = np.array(table_1)\n",
    "table_2[0] = 0\n",
    "print(\"table_1 : \", table_1)"
   ]
  },
  {
   "cell_type": "code",
   "execution_count": 4,
   "id": "f35105eb-a860-4738-9182-1245b1bdc71e",
   "metadata": {},
   "outputs": [
    {
     "name": "stdout",
     "output_type": "stream",
     "text": [
      "table_2 :  [0 2 3]\n"
     ]
    }
   ],
   "source": [
    "print(\"table_2 : \", table_2)"
   ]
  },
  {
   "cell_type": "code",
   "execution_count": 5,
   "id": "73128658-6abe-4a8f-9d14-f2a6c6c40df2",
   "metadata": {},
   "outputs": [
    {
     "name": "stdout",
     "output_type": "stream",
     "text": [
      "table_1 :  [1 2 3]\n"
     ]
    }
   ],
   "source": [
    "table_1 = np.array([1, 2, 3])\n",
    "table_2 = table_1.copy()\n",
    "table_2[0] = 0\n",
    "print(\"table_1 : \", table_1)"
   ]
  },
  {
   "cell_type": "code",
   "execution_count": 6,
   "id": "cbeee06f-8e93-4509-a83f-8d6d20c49eaa",
   "metadata": {},
   "outputs": [
    {
     "name": "stdout",
     "output_type": "stream",
     "text": [
      "table_2 :  [0 2 3]\n"
     ]
    }
   ],
   "source": [
    "print(\"table_2 : \", table_2)"
   ]
  },
  {
   "cell_type": "markdown",
   "id": "81f364b2-8e24-4cb5-8b33-bf69b134451c",
   "metadata": {},
   "source": [
    "### 9.1.6 Sorting"
   ]
  },
  {
   "cell_type": "code",
   "execution_count": 7,
   "id": "d722b84c-8d18-4bcc-8af6-471d2690c3eb",
   "metadata": {},
   "outputs": [
    {
     "name": "stdout",
     "output_type": "stream",
     "text": [
      "Sorted Table:  [1 2 3 5 5 6]\n"
     ]
    }
   ],
   "source": [
    "table = np.array([3, 2, 5, 1, 6, 5])\n",
    "print(\"Sorted Table: \", np.sort(table))"
   ]
  },
  {
   "cell_type": "code",
   "execution_count": 8,
   "id": "82369d65-1726-4428-ade0-2b50bf84e04c",
   "metadata": {},
   "outputs": [
    {
     "name": "stdout",
     "output_type": "stream",
     "text": [
      "Table:  [3 2 5 1 6 5]\n"
     ]
    }
   ],
   "source": [
    "print(\"Table: \", table)\n"
   ]
  },
  {
   "cell_type": "code",
   "execution_count": 9,
   "id": "89ea4825-5022-46ff-9054-eb04daaf0bf8",
   "metadata": {},
   "outputs": [
    {
     "name": "stdout",
     "output_type": "stream",
     "text": [
      "The array was modified:  [1 2 3 5 5 6]\n"
     ]
    }
   ],
   "source": [
    "table = np.array([3, 2, 5, 1, 6, 5])\n",
    "table.sort()\n",
    "print(\"The array was modified: \", table)"
   ]
  },
  {
   "cell_type": "markdown",
   "id": "1cd55560-16db-4b88-ad86-724723b72f12",
   "metadata": {},
   "source": [
    "### 9.1.7. Transposition"
   ]
  },
  {
   "cell_type": "code",
   "execution_count": 10,
   "id": "62939da8-ecdc-406b-8dbe-e3874f5d2936",
   "metadata": {},
   "outputs": [
    {
     "name": "stdout",
     "output_type": "stream",
     "text": [
      "Array: \n",
      " [[3 2]\n",
      " [5 1]\n",
      " [6 5]]\n"
     ]
    }
   ],
   "source": [
    "table = np.array([3, 2, 5, 1, 6, 5])\n",
    "table.shape = (3,2)\n",
    "print(\"Array: \\n\", table)"
   ]
  },
  {
   "cell_type": "code",
   "execution_count": 11,
   "id": "d4a8cbfc-b380-4e4b-9f05-d6fc5137580d",
   "metadata": {},
   "outputs": [
    {
     "name": "stdout",
     "output_type": "stream",
     "text": [
      "Transposed Array: \n",
      " [[3 5 6]\n",
      " [2 1 5]]\n"
     ]
    }
   ],
   "source": [
    "print(\"Transposed Array: \\n\", table.T)"
   ]
  },
  {
   "cell_type": "code",
   "execution_count": 12,
   "id": "e32f0ecc-3750-4bfe-95fb-afafdb860d07",
   "metadata": {},
   "outputs": [
    {
     "name": "stdout",
     "output_type": "stream",
     "text": [
      "[[3 5 6]\n",
      " [2 1 5]]\n"
     ]
    }
   ],
   "source": [
    "print(np.transpose(table))"
   ]
  },
  {
   "cell_type": "code",
   "execution_count": 13,
   "id": "48091659-a7dc-4372-9945-ea809f2df694",
   "metadata": {},
   "outputs": [
    {
     "name": "stdout",
     "output_type": "stream",
     "text": [
      "Array: \n",
      " [[99  2]\n",
      " [ 5  1]\n",
      " [ 6  5]]\n"
     ]
    }
   ],
   "source": [
    "table_transpose = np.transpose(table)\n",
    "table_transpose[0,0] = 99\n",
    "print(\"Array: \\n\", table)"
   ]
  },
  {
   "cell_type": "code",
   "execution_count": 14,
   "id": "ee955d3e-9909-4bc3-9d49-d552156da4b4",
   "metadata": {},
   "outputs": [
    {
     "name": "stdout",
     "output_type": "stream",
     "text": [
      "Transpose of the Array: \n",
      " [[99  5  6]\n",
      " [ 2  1  5]]\n"
     ]
    }
   ],
   "source": [
    "print(\"Transpose of the Array: \\n\", table_transpose)\n"
   ]
  },
  {
   "cell_type": "code",
   "execution_count": 15,
   "id": "1d625484-7005-4b29-b3e0-e2b8ba0bead8",
   "metadata": {},
   "outputs": [
    {
     "name": "stdout",
     "output_type": "stream",
     "text": [
      "table:  None\n"
     ]
    }
   ],
   "source": [
    "print(\"table: \", table.base)"
   ]
  },
  {
   "cell_type": "code",
   "execution_count": 16,
   "id": "1bd58f84-4eda-4063-9ca7-de57e1ea654c",
   "metadata": {},
   "outputs": [
    {
     "name": "stdout",
     "output_type": "stream",
     "text": [
      "table_transpose :  [[99  2]\n",
      " [ 5  1]\n",
      " [ 6  5]]\n"
     ]
    }
   ],
   "source": [
    "print(\"table_transpose : \", table_transpose.base)"
   ]
  },
  {
   "cell_type": "markdown",
   "id": "5e11ce81-562f-4d1e-b200-3bcb64dcd48b",
   "metadata": {},
   "source": [
    "### 9.1.8. Operations on Arrays"
   ]
  },
  {
   "cell_type": "markdown",
   "id": "41ee8f2f-d587-47d2-9274-203f2901ed97",
   "metadata": {},
   "source": [
    "### 9.1.8.1. (+) and (-) operators"
   ]
  },
  {
   "cell_type": "code",
   "execution_count": 17,
   "id": "8261e92b-4fc5-465f-ad82-8db33c4ae7a5",
   "metadata": {},
   "outputs": [],
   "source": [
    "t_1 = np.array([1, 2, 3, 4])\n",
    "t_2 = np.array([5, 6, 7, 8])\n",
    "t_3 = np.array([[1, 2, 3, 4], [5, 6, 7, 8], [9, 10, 11, 12]])"
   ]
  },
  {
   "cell_type": "code",
   "execution_count": 18,
   "id": "82b30261-b5a9-476b-96ad-1e6bb5323f30",
   "metadata": {},
   "outputs": [
    {
     "data": {
      "text/plain": [
       "array([ 6,  8, 10, 12])"
      ]
     },
     "execution_count": 18,
     "metadata": {},
     "output_type": "execute_result"
    }
   ],
   "source": [
    "t_4 = np.array([[13, 14, 15, 16], [17, 18, 19, 20], [21, 22, 23, 24]])\n",
    "t_1 + t_2\n"
   ]
  },
  {
   "cell_type": "code",
   "execution_count": 19,
   "id": "02fe5649-dee3-40b7-a7a3-2399cd6e95bc",
   "metadata": {},
   "outputs": [
    {
     "data": {
      "text/plain": [
       "array([[14, 16, 18, 20],\n",
       "       [22, 24, 26, 28],\n",
       "       [30, 32, 34, 36]])"
      ]
     },
     "execution_count": 19,
     "metadata": {},
     "output_type": "execute_result"
    }
   ],
   "source": [
    "t_3 + t_4"
   ]
  },
  {
   "cell_type": "code",
   "execution_count": 20,
   "id": "3b7d48f7-e5d6-4ef5-880c-060f2967aae6",
   "metadata": {},
   "outputs": [
    {
     "data": {
      "text/plain": [
       "array([-4, -4, -4, -4])"
      ]
     },
     "execution_count": 20,
     "metadata": {},
     "output_type": "execute_result"
    }
   ],
   "source": [
    "t_1 - t_2"
   ]
  },
  {
   "cell_type": "code",
   "execution_count": 21,
   "id": "79e648c8-31ad-434e-b7f8-f1e2e6e13d94",
   "metadata": {},
   "outputs": [
    {
     "name": "stdout",
     "output_type": "stream",
     "text": [
      "t_1 + 3 : \n",
      " [4 5 6 7]\n"
     ]
    }
   ],
   "source": [
    "print(\"t_1 + 3 : \\n\", t_1 + 3)"
   ]
  },
  {
   "cell_type": "code",
   "execution_count": 22,
   "id": "74fc5801-053b-4500-9c26-1d000733f066",
   "metadata": {},
   "outputs": [
    {
     "name": "stdout",
     "output_type": "stream",
     "text": [
      "t_1 + 3. : \n",
      " [4. 5. 6. 7.]\n"
     ]
    }
   ],
   "source": [
    "print(\"t_1 + 3. : \\n\", t_1 + 3.)"
   ]
  },
  {
   "cell_type": "code",
   "execution_count": 23,
   "id": "b84cc742-c2c5-4197-940e-0042ccb9d6c8",
   "metadata": {},
   "outputs": [
    {
     "name": "stdout",
     "output_type": "stream",
     "text": [
      "t_3 + 3 : \n",
      " [[ 4  5  6  7]\n",
      " [ 8  9 10 11]\n",
      " [12 13 14 15]]\n"
     ]
    }
   ],
   "source": [
    "print(\"t_3 + 3 : \\n\", t_3 + 3)"
   ]
  },
  {
   "cell_type": "code",
   "execution_count": 24,
   "id": "2296da80-3fd2-4229-8a39-3643a60f60d0",
   "metadata": {},
   "outputs": [
    {
     "name": "stdout",
     "output_type": "stream",
     "text": [
      "t_3 - 3 : \n",
      " [[-2 -1  0  1]\n",
      " [ 2  3  4  5]\n",
      " [ 6  7  8  9]]\n"
     ]
    }
   ],
   "source": [
    "print(\"t_3 - 3 : \\n\", t_3 - 3)"
   ]
  },
  {
   "cell_type": "markdown",
   "id": "165a9e8e-1d97-4042-9ad0-98524f1c0fa0",
   "metadata": {},
   "source": [
    "#### 9.1.8.2. (*) and / Operators"
   ]
  },
  {
   "cell_type": "code",
   "execution_count": 25,
   "id": "23c7c177-0f7b-4900-ac8f-41081f28f41a",
   "metadata": {},
   "outputs": [
    {
     "data": {
      "text/plain": [
       "array([ 5, 12, 21, 32])"
      ]
     },
     "execution_count": 25,
     "metadata": {},
     "output_type": "execute_result"
    }
   ],
   "source": [
    "t_1 * t_2\n"
   ]
  },
  {
   "cell_type": "code",
   "execution_count": 26,
   "id": "9be35768-7ecf-4d44-8793-9eff7ec729d2",
   "metadata": {},
   "outputs": [
    {
     "data": {
      "text/plain": [
       "array([[ 13,  28,  45,  64],\n",
       "       [ 85, 108, 133, 160],\n",
       "       [189, 220, 253, 288]])"
      ]
     },
     "execution_count": 26,
     "metadata": {},
     "output_type": "execute_result"
    }
   ],
   "source": [
    "t_3 * t_4\n"
   ]
  },
  {
   "cell_type": "code",
   "execution_count": 27,
   "id": "4ebaf7a8-0498-4732-b4e4-cfc67f8817e4",
   "metadata": {},
   "outputs": [
    {
     "data": {
      "text/plain": [
       "array([[0.07692308, 0.14285714, 0.2       , 0.25      ],\n",
       "       [0.29411765, 0.33333333, 0.36842105, 0.4       ],\n",
       "       [0.42857143, 0.45454545, 0.47826087, 0.5       ]])"
      ]
     },
     "execution_count": 27,
     "metadata": {},
     "output_type": "execute_result"
    }
   ],
   "source": [
    "t_3 / t_4\n"
   ]
  },
  {
   "cell_type": "code",
   "execution_count": 28,
   "id": "16d533f5-6f77-4a9a-8f85-c538488f502b",
   "metadata": {},
   "outputs": [
    {
     "name": "stdout",
     "output_type": "stream",
     "text": [
      "t_1 * 3 : \n",
      " [ 3  6  9 12]\n"
     ]
    }
   ],
   "source": [
    "print(\"t_1 * 3 : \\n\", t_1 * 3)"
   ]
  },
  {
   "cell_type": "code",
   "execution_count": 29,
   "id": "3a50b90a-02cc-4866-ad74-a7a0bafff0e6",
   "metadata": {},
   "outputs": [
    {
     "name": "stdout",
     "output_type": "stream",
     "text": [
      "t_1 / 3 : \n",
      " [0.33333333 0.66666667 1.         1.33333333]\n"
     ]
    }
   ],
   "source": [
    "print(\"t_1 / 3 : \\n\", t_1 / 3)"
   ]
  },
  {
   "cell_type": "markdown",
   "id": "9dbc28d9-e0af-47f0-ab33-ef9c5d36eed8",
   "metadata": {},
   "source": [
    "#### 9.1.8.3. Power"
   ]
  },
  {
   "cell_type": "code",
   "execution_count": 30,
   "id": "b2dd89f1-c389-4749-a704-75e1098c6e78",
   "metadata": {},
   "outputs": [
    {
     "name": "stdout",
     "output_type": "stream",
     "text": [
      "t_1 ** 3 : \n",
      " [ 1  8 27 64]\n"
     ]
    }
   ],
   "source": [
    "print(\"t_1 ** 3 : \\n\", t_1 ** 3)"
   ]
  },
  {
   "cell_type": "markdown",
   "id": "b4ca2c10-d530-4679-9e7a-4e87d9c5f007",
   "metadata": {},
   "source": [
    "#### 9.1.8.4. Operations on Matrices"
   ]
  },
  {
   "cell_type": "code",
   "execution_count": 31,
   "id": "8164e09c-4135-480d-a1d4-ec2b1c6dce06",
   "metadata": {},
   "outputs": [
    {
     "data": {
      "text/plain": [
       "array([[150, 190, 230],\n",
       "       [382, 486, 590],\n",
       "       [614, 782, 950]])"
      ]
     },
     "execution_count": 31,
     "metadata": {},
     "output_type": "execute_result"
    }
   ],
   "source": [
    "np.dot(t_3, t_4.T)"
   ]
  },
  {
   "cell_type": "code",
   "execution_count": 32,
   "id": "87a207f0-9fa9-421c-9133-a0d082d310f0",
   "metadata": {},
   "outputs": [
    {
     "ename": "ValueError",
     "evalue": "shapes (3,4) and (3,4) not aligned: 4 (dim 1) != 3 (dim 0)",
     "output_type": "error",
     "traceback": [
      "\u001b[31m---------------------------------------------------------------------------\u001b[39m",
      "\u001b[31mValueError\u001b[39m                                Traceback (most recent call last)",
      "\u001b[36mCell\u001b[39m\u001b[36m \u001b[39m\u001b[32mIn[32]\u001b[39m\u001b[32m, line 1\u001b[39m\n\u001b[32m----> \u001b[39m\u001b[32m1\u001b[39m \u001b[43mnp\u001b[49m\u001b[43m.\u001b[49m\u001b[43mdot\u001b[49m\u001b[43m(\u001b[49m\u001b[43mt_3\u001b[49m\u001b[43m,\u001b[49m\u001b[43m \u001b[49m\u001b[43mt_4\u001b[49m\u001b[43m)\u001b[49m\n",
      "\u001b[31mValueError\u001b[39m: shapes (3,4) and (3,4) not aligned: 4 (dim 1) != 3 (dim 0)"
     ]
    }
   ],
   "source": [
    "np.dot(t_3, t_4)"
   ]
  },
  {
   "cell_type": "code",
   "execution_count": 33,
   "id": "77c02b59-899a-4a74-9b6f-475a5a527fc1",
   "metadata": {},
   "outputs": [
    {
     "data": {
      "text/plain": [
       "array([[150, 190, 230],\n",
       "       [382, 486, 590],\n",
       "       [614, 782, 950]])"
      ]
     },
     "execution_count": 33,
     "metadata": {},
     "output_type": "execute_result"
    }
   ],
   "source": [
    "t_3 @ t_4.T\n"
   ]
  },
  {
   "cell_type": "code",
   "execution_count": 34,
   "id": "b5acd107-3c51-4ea1-bda0-6389f35d4d46",
   "metadata": {},
   "outputs": [
    {
     "data": {
      "text/plain": [
       "array([ 30,  70, 110])"
      ]
     },
     "execution_count": 34,
     "metadata": {},
     "output_type": "execute_result"
    }
   ],
   "source": [
    "np.dot(t_1, t_3.T)"
   ]
  },
  {
   "cell_type": "markdown",
   "id": "b9d3f6c0-c7da-4383-850f-2de821fb3cda",
   "metadata": {},
   "source": [
    "### 9.1.9. Logical Operators"
   ]
  },
  {
   "cell_type": "code",
   "execution_count": 35,
   "id": "5d055424-3e6c-4624-9d45-ecc178656cbc",
   "metadata": {},
   "outputs": [
    {
     "name": "stdout",
     "output_type": "stream",
     "text": [
      "mask: \n",
      " [[False  True False False]\n",
      " [False  True False False]\n",
      " [False False False  True]]\n"
     ]
    }
   ],
   "source": [
    "t = np.array([[1, 10, 3, 24], [9, 12, 40, 2], [0, 7, 2, 14]])\n",
    "mask = np.logical_and(t <= 20, t >= 10)\n",
    "print(\"mask: \\n\", mask)"
   ]
  },
  {
   "cell_type": "code",
   "execution_count": 36,
   "id": "fa5db0cc-14f3-48ad-a538-9ed11c89d862",
   "metadata": {},
   "outputs": [
    {
     "name": "stdout",
     "output_type": "stream",
     "text": [
      "the elements of t between 10 and 20: \n",
      " [10 12 14]\n"
     ]
    }
   ],
   "source": [
    "print(\"the elements of t between 10 and 20: \\n\",\n",
    "t[mask])"
   ]
  },
  {
   "cell_type": "markdown",
   "id": "715f2bc5-f939-4442-86d6-f87e0e1d6173",
   "metadata": {},
   "source": [
    "### 9.1.10. Some Constants"
   ]
  },
  {
   "cell_type": "code",
   "execution_count": 37,
   "id": "a8d01205-ca6a-4da5-8a31-bdd5119dd59d",
   "metadata": {},
   "outputs": [
    {
     "name": "stdout",
     "output_type": "stream",
     "text": [
      "Addition :  nan\n"
     ]
    }
   ],
   "source": [
    "print(\"Addition : \", np.nan + 1)"
   ]
  },
  {
   "cell_type": "code",
   "execution_count": 38,
   "id": "8ffecc76-7a2c-402e-824e-25b69fb23be3",
   "metadata": {},
   "outputs": [
    {
     "name": "stdout",
     "output_type": "stream",
     "text": [
      "Substraction :  nan\n"
     ]
    }
   ],
   "source": [
    "print(\"Substraction : \", np.nan - 1)"
   ]
  },
  {
   "cell_type": "code",
   "execution_count": 39,
   "id": "ff936205-928b-4055-a95c-53768ea9b955",
   "metadata": {},
   "outputs": [
    {
     "name": "stdout",
     "output_type": "stream",
     "text": [
      "Multiplication :  nan\n"
     ]
    }
   ],
   "source": [
    "print(\"Multiplication : \", np.nan + 1)"
   ]
  },
  {
   "cell_type": "code",
   "execution_count": 40,
   "id": "667b8d71-9641-4ac9-aea2-e97c051c7e8a",
   "metadata": {},
   "outputs": [
    {
     "name": "stdout",
     "output_type": "stream",
     "text": [
      "Division :  nan\n"
     ]
    }
   ],
   "source": [
    "print(\"Division : \", np.nan / 1)"
   ]
  },
  {
   "cell_type": "markdown",
   "id": "b2603e13-51da-478c-a809-6e326777d2b4",
   "metadata": {},
   "source": [
    "### 9.1.11. Universal functions"
   ]
  },
  {
   "cell_type": "code",
   "execution_count": 41,
   "id": "11df3622-e7ba-4e70-a1fc-6bf400f092da",
   "metadata": {},
   "outputs": [
    {
     "data": {
      "text/plain": [
       "array([[0.        , 0.69314718, 1.09861229, 1.38629436],\n",
       "       [1.60943791, 1.79175947, 1.94591015, 2.07944154],\n",
       "       [2.19722458, 2.30258509, 2.39789527, 2.48490665]])"
      ]
     },
     "execution_count": 41,
     "metadata": {},
     "output_type": "execute_result"
    }
   ],
   "source": [
    "t_1 = np.array([[1, 2, 3, 4], [5, 6, 7, 8], [9, 10, 11, 12]])\n",
    "t_2 = np.array([[13, 14, 15, 16], [17, 18, 19, 20], [21, 22, 23, 24]])\n",
    "np.log(t_1) # Natural Logarithm"
   ]
  },
  {
   "cell_type": "code",
   "execution_count": 42,
   "id": "f540a6a9-984c-4430-885e-b4da3683c111",
   "metadata": {},
   "outputs": [
    {
     "data": {
      "text/plain": [
       "array([[-12, -12, -12, -12],\n",
       "       [-12, -12, -12, -12],\n",
       "       [-12, -12, -12, -12]])"
      ]
     },
     "execution_count": 42,
     "metadata": {},
     "output_type": "execute_result"
    }
   ],
   "source": [
    "np.subtract(t_1, t_2) # Substraction of the elements of `t_1` by those of `t_2`"
   ]
  },
  {
   "cell_type": "markdown",
   "id": "0f978041-4205-41f7-aab0-0cebc795e208",
   "metadata": {},
   "source": [
    "### 9.1.12. Mathematical and Statistical Methods and Functions"
   ]
  },
  {
   "cell_type": "code",
   "execution_count": 43,
   "id": "53542f04-142d-4797-80fa-1cd31dbd254c",
   "metadata": {},
   "outputs": [
    {
     "name": "stdout",
     "output_type": "stream",
     "text": [
      "t_1 : \n",
      " [[ 1  2  3  4]\n",
      " [-1  6  7  8]\n",
      " [ 9 -1 11 12]]\n"
     ]
    }
   ],
   "source": [
    "t_1 = np.array([[1, 2, 3, 4], [-1, 6, 7, 8], [9, -1, 11, 12]])\n",
    "print(\"t_1 : \\n\", t_1)"
   ]
  },
  {
   "cell_type": "code",
   "execution_count": 44,
   "id": "b0d3ed58-e56a-4819-bbb4-2eec9003fbf8",
   "metadata": {},
   "outputs": [
    {
     "name": "stdout",
     "output_type": "stream",
     "text": [
      "Sum of the elements:  61\n"
     ]
    }
   ],
   "source": [
    "print(\"Sum of the elements: \", t_1.sum())"
   ]
  },
  {
   "cell_type": "code",
   "execution_count": 45,
   "id": "3263fce5-7f83-4089-8f38-cbf7c84ca575",
   "metadata": {},
   "outputs": [
    {
     "name": "stdout",
     "output_type": "stream",
     "text": [
      "Sum per column:  [ 9  7 21 24]\n"
     ]
    }
   ],
   "source": [
    "print(\"Sum per column: \", t_1.sum(axis=0))"
   ]
  },
  {
   "cell_type": "code",
   "execution_count": 46,
   "id": "f876ca4b-68ca-48bf-aabf-157886c6b44d",
   "metadata": {},
   "outputs": [
    {
     "name": "stdout",
     "output_type": "stream",
     "text": [
      "Sum per row:  [10 20 31]\n"
     ]
    }
   ],
   "source": [
    "print(\"Sum per row: \", t_1.sum(axis=1))"
   ]
  },
  {
   "cell_type": "code",
   "execution_count": 47,
   "id": "a91a0657-32ad-41a6-a601-80215ee8a1aa",
   "metadata": {},
   "outputs": [
    {
     "name": "stdout",
     "output_type": "stream",
     "text": [
      "t_1 : \n",
      " [[ 1  2  3  4]\n",
      " [-1  6  7  8]\n",
      " [ 9 -1 11 12]]\n"
     ]
    }
   ],
   "source": [
    "t_1 = np.array([[1, 2, 3, 4], [-1, 6, 7, 8], [9, -1, 11, 12]])\n",
    "print(\"t_1 : \\n\", t_1)"
   ]
  },
  {
   "cell_type": "code",
   "execution_count": 1,
   "id": "5ea1f0fc-7a0e-4081-93f7-56a41fdcbe25",
   "metadata": {},
   "outputs": [
    {
     "name": "stdout",
     "output_type": "stream",
     "text": [
      "Sum:  nan\n"
     ]
    }
   ],
   "source": [
    "import numpy as np\n",
    "t_1 = np.array([[1, 2, np.nan, 4], [-1, 6, 7, 8], [9, -1, 11, 12]])\n",
    "print(\"Sum: \", np.sum(t_1))"
   ]
  },
  {
   "cell_type": "markdown",
   "id": "edb441f5-eb35-4e82-9dd1-ef16aed922b4",
   "metadata": {},
   "source": [
    "## 9.2. Generation of Pseudo-random Numbers"
   ]
  },
  {
   "cell_type": "code",
   "execution_count": 2,
   "id": "bc5bcc97-1a66-4d9a-a202-cd874d106e72",
   "metadata": {},
   "outputs": [
    {
     "name": "stdout",
     "output_type": "stream",
     "text": [
      "[ 0.2543732  -1.96160664 -0.50211558  0.47941651 -0.84509846  0.42928865\n",
      " -0.01959896 -0.05671283  0.47481997 -0.8890693 ]\n"
     ]
    }
   ],
   "source": [
    "x = np.random.normal(size=10)\n",
    "print(x)"
   ]
  },
  {
   "cell_type": "code",
   "execution_count": 3,
   "id": "3ac24d6a-fcb9-4ec5-b00c-d37b8eaede1e",
   "metadata": {},
   "outputs": [
    {
     "name": "stdout",
     "output_type": "stream",
     "text": [
      "[[ 9.62679548e-01 -1.54314860e-02 -8.00053500e-01  3.97539602e-01]\n",
      " [-9.18398763e-01  1.07503308e+00 -5.02807659e-01  7.86647309e-01]\n",
      " [ 9.11955833e-01  1.33568542e+00  1.33577209e+00  3.59297708e-01]\n",
      " [ 6.67442482e-01  1.03502906e+00 -3.68737337e-01  1.16966698e+00]\n",
      " [ 1.48700935e+00  2.93444352e-01 -1.47731760e+00  8.61696537e-01]\n",
      " [-8.24162796e-02  7.29656344e-01 -1.47477404e+00 -1.01097527e-01]\n",
      " [-1.06132669e+00  2.35131652e-01  1.03189914e+00  1.18207819e-02]\n",
      " [ 3.86157256e-01  1.89460090e-01 -3.36838012e-01 -2.22934605e+00]\n",
      " [-4.04567809e-01 -2.21342860e-03 -1.62371609e+00 -8.12795213e-01]\n",
      " [ 8.99011786e-01  3.64060787e-02  2.63758947e-01 -1.74918353e+00]]\n"
     ]
    }
   ],
   "source": [
    "x = np.random.randn(10, 4)\n",
    "print(x)"
   ]
  },
  {
   "cell_type": "code",
   "execution_count": 4,
   "id": "87a4ff32-0ca8-4a5e-82ee-be13a549bc81",
   "metadata": {},
   "outputs": [
    {
     "name": "stdout",
     "output_type": "stream",
     "text": [
      "[ 0.47143516 -1.19097569  1.43270697 -0.3126519  -0.72058873  0.88716294\n",
      "  0.85958841 -0.6365235   0.01569637 -2.24268495]\n"
     ]
    }
   ],
   "source": [
    "np.random.seed(1234)\n",
    "x = np.random.normal(size=10)\n",
    "print(x)"
   ]
  },
  {
   "cell_type": "code",
   "execution_count": 5,
   "id": "91e58ba3-9874-4b69-992c-58f0a6152a63",
   "metadata": {},
   "outputs": [
    {
     "name": "stdout",
     "output_type": "stream",
     "text": [
      "[ 0.47143516 -1.19097569  1.43270697 -0.3126519  -0.72058873  0.88716294\n",
      "  0.85958841 -0.6365235   0.01569637 -2.24268495]\n"
     ]
    }
   ],
   "source": [
    "np.random.seed(1234)\n",
    "x = np.random.normal(size=10)\n",
    "print(x)"
   ]
  },
  {
   "cell_type": "code",
   "execution_count": 6,
   "id": "aa57af44-9b22-4661-b2f5-9f2203d25b4f",
   "metadata": {},
   "outputs": [
    {
     "name": "stdout",
     "output_type": "stream",
     "text": [
      "8.914369396699438\n"
     ]
    }
   ],
   "source": [
    "from numpy.random import RandomState\n",
    "rs = RandomState(123)\n",
    "x = rs.normal(10)\n",
    "print(x)"
   ]
  },
  {
   "cell_type": "code",
   "execution_count": 7,
   "id": "9270d703-321b-46ac-bde1-cc54f3a9c8bd",
   "metadata": {},
   "outputs": [
    {
     "name": "stdout",
     "output_type": "stream",
     "text": [
      "x :  [0 1 2 3 4 5 6 7 8 9]\n"
     ]
    }
   ],
   "source": [
    "x = np.arange(10)\n",
    "y = np.random.permutation(x)\n",
    "print(\"x : \", x)"
   ]
  },
  {
   "cell_type": "code",
   "execution_count": 8,
   "id": "e1bf2795-136b-45db-91f2-f6372e294dd9",
   "metadata": {},
   "outputs": [
    {
     "name": "stdout",
     "output_type": "stream",
     "text": [
      "y :  [9 7 4 3 8 2 6 1 0 5]\n"
     ]
    }
   ],
   "source": [
    "print(\"y : \", y)"
   ]
  },
  {
   "cell_type": "code",
   "execution_count": 9,
   "id": "b4673b1c-a02e-4922-88ce-d4be870c4440",
   "metadata": {},
   "outputs": [
    {
     "name": "stdout",
     "output_type": "stream",
     "text": [
      "x avant permutation :  [0 1 2 3 4 5 6 7 8 9]\n"
     ]
    }
   ],
   "source": [
    "x = np.arange(10)\n",
    "print(\"x avant permutation : \", x)"
   ]
  },
  {
   "cell_type": "code",
   "execution_count": 10,
   "id": "b2701fa3-b2f7-4683-a15b-0a0fa55eb5ed",
   "metadata": {},
   "outputs": [
    {
     "data": {
      "text/plain": [
       "array([7, 5, 4, 1, 0, 8, 3, 9, 6, 2])"
      ]
     },
     "execution_count": 10,
     "metadata": {},
     "output_type": "execute_result"
    }
   ],
   "source": [
    "np.random.permutation(x)"
   ]
  },
  {
   "cell_type": "markdown",
   "id": "efafe6d9-7b7f-45a2-8754-602c47be7099",
   "metadata": {},
   "source": [
    "# Chapter 10: Data manipulation with pandas"
   ]
  },
  {
   "cell_type": "markdown",
   "id": "42a98b4b-3f42-4cab-bb86-d86815339d02",
   "metadata": {},
   "source": [
    "## 10.1. Structures"
   ]
  },
  {
   "cell_type": "markdown",
   "id": "bb9eb46c-6b52-4401-a372-609fb341f2fa",
   "metadata": {},
   "source": [
    "### 10.1.1. Series"
   ]
  },
  {
   "cell_type": "markdown",
   "id": "3eb9ff95-9d65-4dc5-96ab-52b4539fc738",
   "metadata": {},
   "source": [
    "#### 10.1.1.1. Creating series from a list"
   ]
  },
  {
   "cell_type": "code",
   "execution_count": 12,
   "id": "24c32f8c-fe46-4abf-8376-c9075d03b05c",
   "metadata": {},
   "outputs": [
    {
     "name": "stdout",
     "output_type": "stream",
     "text": [
      "0    1.0\n",
      "1    4.0\n",
      "2   -1.0\n",
      "3    NaN\n",
      "4    0.5\n",
      "5    1.0\n",
      "dtype: float64\n"
     ]
    }
   ],
   "source": [
    "import pandas as pd\n",
    "s = pd.Series([1, 4, -1, np.nan, .5, 1])\n",
    "print(s)"
   ]
  },
  {
   "cell_type": "code",
   "execution_count": 13,
   "id": "d825e984-6a9f-43a2-89b1-72f6f60e7ba6",
   "metadata": {},
   "outputs": [
    {
     "name": "stdout",
     "output_type": "stream",
     "text": [
      "values of s:  [ 1.   4.  -1.   nan  0.5  1. ]\n"
     ]
    }
   ],
   "source": [
    "print(\"values of s: \", s.values)"
   ]
  },
  {
   "cell_type": "code",
   "execution_count": 14,
   "id": "1bd7b664-33df-4f02-b8b9-c8101f63b8f7",
   "metadata": {},
   "outputs": [
    {
     "name": "stdout",
     "output_type": "stream",
     "text": [
      "type of values of s:  <class 'numpy.ndarray'>\n"
     ]
    }
   ],
   "source": [
    "print(\"type of values of s: \", type(s.values))"
   ]
  },
  {
   "cell_type": "code",
   "execution_count": 15,
   "id": "5cb73c09-cf86-4180-ba8e-c7b5c83d7716",
   "metadata": {},
   "outputs": [
    {
     "name": "stdout",
     "output_type": "stream",
     "text": [
      "index of s:  RangeIndex(start=0, stop=6, step=1)\n"
     ]
    }
   ],
   "source": [
    "print(\"index of s: \", s.index)"
   ]
  },
  {
   "cell_type": "code",
   "execution_count": 16,
   "id": "c94bf514-0f77-47c3-9552-eec7f427c571",
   "metadata": {},
   "outputs": [
    {
     "name": "stdout",
     "output_type": "stream",
     "text": [
      "type of the index of s:  <class 'pandas.core.indexes.range.RangeIndex'>\n"
     ]
    }
   ],
   "source": [
    "print(\"type of the index of s: \", type(s.index))"
   ]
  },
  {
   "cell_type": "code",
   "execution_count": 18,
   "id": "160dda56-d5ae-44de-836d-330d4ef969b2",
   "metadata": {},
   "outputs": [
    {
     "name": "stdout",
     "output_type": "stream",
     "text": [
      "name of the Serie: name_index , name of the index: None\n"
     ]
    }
   ],
   "source": [
    "s.name = \"my_serie\"\n",
    "s.name = \"name_index\"\n",
    "print(\"name of the Serie: {} , name of the index: {}\".format(s.name, s.index.name))"
   ]
  },
  {
   "cell_type": "code",
   "execution_count": 19,
   "id": "e84d70d1-e4bc-4704-a7ca-a198d6cbe64d",
   "metadata": {},
   "outputs": [
    {
     "name": "stdout",
     "output_type": "stream",
     "text": [
      "Serie s: \n",
      " 0    1.0\n",
      "1    4.0\n",
      "2   -1.0\n",
      "3    NaN\n",
      "4    0.5\n",
      "5    1.0\n",
      "Name: name_index, dtype: float64\n"
     ]
    }
   ],
   "source": [
    "print(\"Serie s: \\n\", s)"
   ]
  },
  {
   "cell_type": "markdown",
   "id": "df201ae4-b173-4250-8628-5e78db137df3",
   "metadata": {},
   "source": [
    "#### 10.1.1.2. Definition of the index"
   ]
  },
  {
   "cell_type": "code",
   "execution_count": 20,
   "id": "b4abfe4f-2fe2-4249-9589-016fe96582f1",
   "metadata": {},
   "outputs": [
    {
     "name": "stdout",
     "output_type": "stream",
     "text": [
      "o    1.0\n",
      "d    4.0\n",
      "i   -1.0\n",
      "l    NaN\n",
      "dtype: float64\n"
     ]
    }
   ],
   "source": [
    "s = pd.Series([1, 4, -1, np.nan],\n",
    "index = [\"o\", \"d\", \"i\", \"l\"])\n",
    "print(s)"
   ]
  },
  {
   "cell_type": "code",
   "execution_count": 21,
   "id": "b4d50d95-53c3-4569-8f51-d36aa7bc7c23",
   "metadata": {},
   "outputs": [
    {
     "name": "stdout",
     "output_type": "stream",
     "text": [
      "4     1.0\n",
      "40    4.0\n",
      "2    -1.0\n",
      "3     NaN\n",
      "dtype: float64\n"
     ]
    }
   ],
   "source": [
    "s = pd.Series([1, 4, -1, np.nan],\n",
    "index = [4, 40, 2, 3])\n",
    "print(s)"
   ]
  },
  {
   "cell_type": "code",
   "execution_count": 22,
   "id": "5290e55a-602a-4d24-a8f2-51f91b759528",
   "metadata": {},
   "outputs": [
    {
     "name": "stdout",
     "output_type": "stream",
     "text": [
      "Série s : \n",
      " o    1.0\n",
      "d    4.0\n",
      "i   -1.0\n",
      "l    NaN\n",
      "dtype: float64\n"
     ]
    }
   ],
   "source": [
    "s.index = [\"o\", \"d\", \"i\", \"l\"]\n",
    "print(\"Série s : \\n\", s)"
   ]
  },
  {
   "cell_type": "markdown",
   "id": "5b616ae3-4973-4b99-9237-56414d6cf11b",
   "metadata": {},
   "source": [
    "#### 10.1.1.3 Creation of Special Series"
   ]
  },
  {
   "cell_type": "code",
   "execution_count": 2,
   "id": "1f95c7b3-0c84-4439-b240-517657d3b741",
   "metadata": {},
   "outputs": [
    {
     "name": "stdout",
     "output_type": "stream",
     "text": [
      "0    5\n",
      "1    5\n",
      "2    5\n",
      "3    5\n",
      "dtype: int64\n"
     ]
    }
   ],
   "source": [
    "import pandas as pd\n",
    "import numpy as np\n",
    "s = pd.Series(5, index = [np.arange(4)])\n",
    "print(s)\n"
   ]
  },
  {
   "cell_type": "code",
   "execution_count": 3,
   "id": "bb60f14b-c2d2-4183-9ea0-60539f859d6f",
   "metadata": {},
   "outputs": [
    {
     "name": "stdout",
     "output_type": "stream",
     "text": [
      "King                    Arthur\n",
      "Knight_Round_Table    Percival\n",
      "Druid                   Merlin\n",
      "dtype: object\n"
     ]
    }
   ],
   "source": [
    "dictionary = {\"King\": \"Arthur\",\n",
    "\"Knight_Round_Table\": \"Percival\",\n",
    "\"Druid\": \"Merlin\"}\n",
    "s = pd.Series(dictionary)\n",
    "print(s)"
   ]
  },
  {
   "cell_type": "markdown",
   "id": "04aa6798-8b90-4a6e-a319-d324a10d3ae0",
   "metadata": {},
   "source": [
    "### 10.1.2 Dataframes"
   ]
  },
  {
   "cell_type": "markdown",
   "id": "ab55d029-15a6-4105-bf88-3c40e38c9426",
   "metadata": {},
   "source": [
    "#### 10.1.2.1 Creating Dataframes from a Dictionary"
   ]
  },
  {
   "cell_type": "code",
   "execution_count": 5,
   "id": "e92bb847-7e86-44a6-a54e-ea8cff85f652",
   "metadata": {},
   "outputs": [
    {
     "name": "stdout",
     "output_type": "stream",
     "text": [
      "    height  weight\n",
      "0       58     115\n",
      "1       59     117\n",
      "2       60     120\n",
      "3       61     123\n",
      "4       62     126\n",
      "5       63     129\n",
      "6       64     132\n",
      "7       65     135\n",
      "8       66     139\n",
      "9       67     142\n",
      "10      68     146\n",
      "11      69     150\n",
      "12      70     154\n",
      "13      71     159\n",
      "14      72     164\n"
     ]
    }
   ],
   "source": [
    "dict = {\"height\" :\n",
    "[58, 59, 60, 61, 62,\n",
    "63, 64, 65, 66, 67,\n",
    "68, 69, 70, 71, 72],\n",
    "\"weight\":\n",
    "[115, 117, 120, 123, 126,\n",
    "129, 132, 135, 139, 142,\n",
    "146, 150, 154, 159, 164]\n",
    "}\n",
    "df = pd.DataFrame(dict)\n",
    "print(df)\n"
   ]
  },
  {
   "cell_type": "code",
   "execution_count": 6,
   "id": "d9cc11c5-6beb-40b6-9ac0-32fa44b67f00",
   "metadata": {},
   "outputs": [
    {
     "name": "stdout",
     "output_type": "stream",
     "text": [
      "Index(['height', 'weight'], dtype='object')\n"
     ]
    }
   ],
   "source": [
    "print(df.columns)"
   ]
  },
  {
   "cell_type": "code",
   "execution_count": 7,
   "id": "755fe5d0-4feb-438d-92ba-c49e3315f73c",
   "metadata": {},
   "outputs": [
    {
     "data": {
      "text/html": [
       "<div>\n",
       "<style scoped>\n",
       "    .dataframe tbody tr th:only-of-type {\n",
       "        vertical-align: middle;\n",
       "    }\n",
       "\n",
       "    .dataframe tbody tr th {\n",
       "        vertical-align: top;\n",
       "    }\n",
       "\n",
       "    .dataframe thead th {\n",
       "        text-align: right;\n",
       "    }\n",
       "</style>\n",
       "<table border=\"1\" class=\"dataframe\">\n",
       "  <thead>\n",
       "    <tr style=\"text-align: right;\">\n",
       "      <th></th>\n",
       "      <th>height</th>\n",
       "      <th>weight</th>\n",
       "    </tr>\n",
       "  </thead>\n",
       "  <tbody>\n",
       "    <tr>\n",
       "      <th>0</th>\n",
       "      <td>58</td>\n",
       "      <td>115</td>\n",
       "    </tr>\n",
       "    <tr>\n",
       "      <th>1</th>\n",
       "      <td>59</td>\n",
       "      <td>117</td>\n",
       "    </tr>\n",
       "  </tbody>\n",
       "</table>\n",
       "</div>"
      ],
      "text/plain": [
       "   height  weight\n",
       "0      58     115\n",
       "1      59     117"
      ]
     },
     "execution_count": 7,
     "metadata": {},
     "output_type": "execute_result"
    }
   ],
   "source": [
    "df.head(2)"
   ]
  },
  {
   "cell_type": "code",
   "execution_count": 8,
   "id": "ef22c19b-299c-4735-afdf-218d42fc49b1",
   "metadata": {},
   "outputs": [
    {
     "name": "stdout",
     "output_type": "stream",
     "text": [
      "   weight\n",
      "0     115\n",
      "1     117\n"
     ]
    }
   ],
   "source": [
    "df = pd.DataFrame(dict, columns = [\"weight\"])\n",
    "print(df.head(2))\n"
   ]
  },
  {
   "cell_type": "code",
   "execution_count": 9,
   "id": "160aece0-16ce-4b84-a493-320f70cb9cd9",
   "metadata": {},
   "outputs": [
    {
     "name": "stdout",
     "output_type": "stream",
     "text": [
      "   weight  height\n",
      "0     115      58\n",
      "1     117      59\n"
     ]
    }
   ],
   "source": [
    "df = pd.DataFrame(dict, columns = [\"weight\", \"height\"])\n",
    "print(df.head(2))"
   ]
  },
  {
   "cell_type": "code",
   "execution_count": 10,
   "id": "e5945ac4-7cd0-4051-a085-abfdf4b6fcef",
   "metadata": {},
   "outputs": [
    {
     "name": "stdout",
     "output_type": "stream",
     "text": [
      "   weight  height  age\n",
      "0     115      58  NaN\n",
      "1     117      59  NaN\n"
     ]
    }
   ],
   "source": [
    "df = pd.DataFrame(dict, columns = [\"weight\", \"height\", \"age\"])\n",
    "print(df.head(2))"
   ]
  },
  {
   "cell_type": "markdown",
   "id": "f600b8da-7b88-4173-aaf8-f3a514632444",
   "metadata": {},
   "source": [
    "#### 10.1.2.2 Creating Dataframes from Series"
   ]
  },
  {
   "cell_type": "code",
   "execution_count": 11,
   "id": "951fafbe-5311-44b7-9747-1f5ee688491b",
   "metadata": {},
   "outputs": [
    {
     "name": "stdout",
     "output_type": "stream",
     "text": [
      "   name_variable\n",
      "o            1.0\n",
      "d            4.0\n",
      "i           -1.0\n",
      "l            NaN\n"
     ]
    }
   ],
   "source": [
    "s = pd.Series([1, 4, -1, np.nan], index = [\"o\", \"d\", \"i\", \"l\"])\n",
    "s.name = \"name_variable\"\n",
    "df = pd.DataFrame(s, columns = [\"name_variable\"])\n",
    "print(df)"
   ]
  },
  {
   "cell_type": "code",
   "execution_count": 12,
   "id": "5f50d5ad-71e4-494e-b350-deb46a7385e8",
   "metadata": {},
   "outputs": [
    {
     "name": "stdout",
     "output_type": "stream",
     "text": [
      "     0\n",
      "o  1.0\n",
      "d  4.0\n",
      "i -1.0\n",
      "l  NaN\n"
     ]
    }
   ],
   "source": [
    "s = pd.Series([1, 4, -1, np.nan], index = [\"o\", \"d\", \"i\", \"l\"])\n",
    "df = pd.DataFrame(s)\n",
    "print(df)"
   ]
  },
  {
   "cell_type": "code",
   "execution_count": 13,
   "id": "1f3f5a59-392e-46b5-bfb4-7d443ba1db2b",
   "metadata": {},
   "outputs": [
    {
     "name": "stdout",
     "output_type": "stream",
     "text": [
      "None\n"
     ]
    }
   ],
   "source": [
    "print(df.columns.name)\n"
   ]
  },
  {
   "cell_type": "markdown",
   "id": "9468615e-e8a6-44a3-a033-5ced5d9d7f5a",
   "metadata": {},
   "source": [
    "#### 10.1.2.3 Creating Dataframes from a Dictionary List"
   ]
  },
  {
   "cell_type": "code",
   "execution_count": null,
   "id": "fa502dbe-85b0-461c-a018-d06bf03f96fc",
   "metadata": {},
   "outputs": [],
   "source": []
  }
 ],
 "metadata": {
  "kernelspec": {
   "display_name": "Python 3 (ipykernel)",
   "language": "python",
   "name": "python3"
  },
  "language_info": {
   "codemirror_mode": {
    "name": "ipython",
    "version": 3
   },
   "file_extension": ".py",
   "mimetype": "text/x-python",
   "name": "python",
   "nbconvert_exporter": "python",
   "pygments_lexer": "ipython3",
   "version": "3.12.1"
  }
 },
 "nbformat": 4,
 "nbformat_minor": 5
}
