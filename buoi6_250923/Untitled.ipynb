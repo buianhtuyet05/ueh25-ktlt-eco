{
 "cells": [
  {
   "cell_type": "markdown",
   "id": "2054dead-be0e-46ef-8720-44ffed3c47b6",
   "metadata": {},
   "source": [
    "# Tutorial 7a: Feature Construction"
   ]
  },
  {
   "cell_type": "markdown",
   "id": "4988771c-89d3-4367-bcb0-b1ab0b18914e",
   "metadata": {},
   "source": [
    "## transformers\n",
    "These tasks are done using transformers\n",
    "\n",
    "sklearn's \"transformer\" is used for this, the main methods being:\n",
    "\n",
    "transformer.fit()\n",
    "transformer.transform()\n",
    "transformer.fit_transform()\n",
    "Note that the analysis and fitting(training) is based only on the train dataset. After that, the learned transformations are applied to the test data."
   ]
  },
  {
   "cell_type": "code",
   "execution_count": 5,
   "id": "7abb58f5-69d5-4cf6-9b6a-9956584ab006",
   "metadata": {},
   "outputs": [],
   "source": [
    "import pandas as pd\n",
    "import matplotlib.pyplot as plt\n",
    "import seaborn as sns\n",
    "import numpy as np"
   ]
  },
  {
   "cell_type": "markdown",
   "id": "216fa9b7-0f6f-4906-91fa-d2256fbf4866",
   "metadata": {},
   "source": [
    "## Load the dataset"
   ]
  },
  {
   "cell_type": "code",
   "execution_count": 4,
   "id": "f83e7cce-df0e-467c-876b-96068eaf09d9",
   "metadata": {},
   "outputs": [
    {
     "data": {
      "text/html": [
       "<div>\n",
       "<style scoped>\n",
       "    .dataframe tbody tr th:only-of-type {\n",
       "        vertical-align: middle;\n",
       "    }\n",
       "\n",
       "    .dataframe tbody tr th {\n",
       "        vertical-align: top;\n",
       "    }\n",
       "\n",
       "    .dataframe thead th {\n",
       "        text-align: right;\n",
       "    }\n",
       "</style>\n",
       "<table border=\"1\" class=\"dataframe\">\n",
       "  <thead>\n",
       "    <tr style=\"text-align: right;\">\n",
       "      <th></th>\n",
       "      <th>sepal_length</th>\n",
       "      <th>sepal_width</th>\n",
       "      <th>petal_length</th>\n",
       "      <th>petal_width</th>\n",
       "      <th>species</th>\n",
       "    </tr>\n",
       "  </thead>\n",
       "  <tbody>\n",
       "    <tr>\n",
       "      <th>0</th>\n",
       "      <td>5.1</td>\n",
       "      <td>3.5</td>\n",
       "      <td>1.4</td>\n",
       "      <td>0.2</td>\n",
       "      <td>setosa</td>\n",
       "    </tr>\n",
       "    <tr>\n",
       "      <th>1</th>\n",
       "      <td>4.9</td>\n",
       "      <td>3.0</td>\n",
       "      <td>1.4</td>\n",
       "      <td>0.2</td>\n",
       "      <td>setosa</td>\n",
       "    </tr>\n",
       "    <tr>\n",
       "      <th>2</th>\n",
       "      <td>4.7</td>\n",
       "      <td>3.2</td>\n",
       "      <td>1.3</td>\n",
       "      <td>0.2</td>\n",
       "      <td>setosa</td>\n",
       "    </tr>\n",
       "    <tr>\n",
       "      <th>3</th>\n",
       "      <td>4.6</td>\n",
       "      <td>3.1</td>\n",
       "      <td>1.5</td>\n",
       "      <td>0.2</td>\n",
       "      <td>setosa</td>\n",
       "    </tr>\n",
       "    <tr>\n",
       "      <th>4</th>\n",
       "      <td>5.0</td>\n",
       "      <td>3.6</td>\n",
       "      <td>1.4</td>\n",
       "      <td>0.2</td>\n",
       "      <td>setosa</td>\n",
       "    </tr>\n",
       "  </tbody>\n",
       "</table>\n",
       "</div>"
      ],
      "text/plain": [
       "   sepal_length  sepal_width  petal_length  petal_width species\n",
       "0           5.1          3.5           1.4          0.2  setosa\n",
       "1           4.9          3.0           1.4          0.2  setosa\n",
       "2           4.7          3.2           1.3          0.2  setosa\n",
       "3           4.6          3.1           1.5          0.2  setosa\n",
       "4           5.0          3.6           1.4          0.2  setosa"
      ]
     },
     "execution_count": 4,
     "metadata": {},
     "output_type": "execute_result"
    }
   ],
   "source": [
    "df=sns.load_dataset('iris')\n",
    "df.head()"
   ]
  },
  {
   "cell_type": "code",
   "execution_count": 6,
   "id": "9c5c1c89-69a9-460a-83f7-97e5359c5184",
   "metadata": {},
   "outputs": [],
   "source": [
    "# Seperate the target variable\n",
    "X=df[df.columns[1:-1]]   # read \"-1\" as \"the last one\"\n",
    "y=df[df.columns[-1]]"
   ]
  },
  {
   "cell_type": "code",
   "execution_count": 7,
   "id": "94e287e6-04d9-4cae-a7e9-b77ad2bf4579",
   "metadata": {},
   "outputs": [
    {
     "data": {
      "text/plain": [
       "(     sepal_width  petal_length  petal_width\n",
       " 0            3.5           1.4          0.2\n",
       " 1            3.0           1.4          0.2\n",
       " 2            3.2           1.3          0.2\n",
       " 3            3.1           1.5          0.2\n",
       " 4            3.6           1.4          0.2\n",
       " ..           ...           ...          ...\n",
       " 145          3.0           5.2          2.3\n",
       " 146          2.5           5.0          1.9\n",
       " 147          3.0           5.2          2.0\n",
       " 148          3.4           5.4          2.3\n",
       " 149          3.0           5.1          1.8\n",
       " \n",
       " [150 rows x 3 columns],\n",
       " 0         setosa\n",
       " 1         setosa\n",
       " 2         setosa\n",
       " 3         setosa\n",
       " 4         setosa\n",
       "          ...    \n",
       " 145    virginica\n",
       " 146    virginica\n",
       " 147    virginica\n",
       " 148    virginica\n",
       " 149    virginica\n",
       " Name: species, Length: 150, dtype: object)"
      ]
     },
     "execution_count": 7,
     "metadata": {},
     "output_type": "execute_result"
    }
   ],
   "source": [
    "X, y"
   ]
  },
  {
   "cell_type": "code",
   "execution_count": 8,
   "id": "79636ca9-cf97-4039-b3c6-8d01e1099f71",
   "metadata": {},
   "outputs": [
    {
     "data": {
      "text/plain": [
       "species\n",
       "setosa        50\n",
       "versicolor    50\n",
       "virginica     50\n",
       "Name: count, dtype: int64"
      ]
     },
     "execution_count": 8,
     "metadata": {},
     "output_type": "execute_result"
    }
   ],
   "source": [
    "# Show the number of instances per class\n",
    "y.value_counts()"
   ]
  },
  {
   "cell_type": "code",
   "execution_count": 9,
   "id": "a80bbe3d-5126-4330-9756-d944c9bd51dc",
   "metadata": {},
   "outputs": [],
   "source": [
    "# split the data\n",
    "from sklearn.model_selection import train_test_split\n",
    "X_train, X_test, y_train, y_test = train_test_split(X, y, test_size=0.3, random_state=42, stratify=y)"
   ]
  },
  {
   "cell_type": "code",
   "execution_count": 10,
   "id": "61e6f647-7ccf-48ce-8c1f-931092af4c78",
   "metadata": {},
   "outputs": [
    {
     "data": {
      "text/html": [
       "<div>\n",
       "<style scoped>\n",
       "    .dataframe tbody tr th:only-of-type {\n",
       "        vertical-align: middle;\n",
       "    }\n",
       "\n",
       "    .dataframe tbody tr th {\n",
       "        vertical-align: top;\n",
       "    }\n",
       "\n",
       "    .dataframe thead th {\n",
       "        text-align: right;\n",
       "    }\n",
       "</style>\n",
       "<table border=\"1\" class=\"dataframe\">\n",
       "  <thead>\n",
       "    <tr style=\"text-align: right;\">\n",
       "      <th></th>\n",
       "      <th>sepal_width</th>\n",
       "      <th>petal_length</th>\n",
       "      <th>petal_width</th>\n",
       "    </tr>\n",
       "  </thead>\n",
       "  <tbody>\n",
       "    <tr>\n",
       "      <th>98</th>\n",
       "      <td>2.5</td>\n",
       "      <td>3.0</td>\n",
       "      <td>1.1</td>\n",
       "    </tr>\n",
       "    <tr>\n",
       "      <th>68</th>\n",
       "      <td>2.2</td>\n",
       "      <td>4.5</td>\n",
       "      <td>1.5</td>\n",
       "    </tr>\n",
       "    <tr>\n",
       "      <th>19</th>\n",
       "      <td>3.8</td>\n",
       "      <td>1.5</td>\n",
       "      <td>0.3</td>\n",
       "    </tr>\n",
       "    <tr>\n",
       "      <th>143</th>\n",
       "      <td>3.2</td>\n",
       "      <td>5.9</td>\n",
       "      <td>2.3</td>\n",
       "    </tr>\n",
       "    <tr>\n",
       "      <th>99</th>\n",
       "      <td>2.8</td>\n",
       "      <td>4.1</td>\n",
       "      <td>1.3</td>\n",
       "    </tr>\n",
       "  </tbody>\n",
       "</table>\n",
       "</div>"
      ],
      "text/plain": [
       "     sepal_width  petal_length  petal_width\n",
       "98           2.5           3.0          1.1\n",
       "68           2.2           4.5          1.5\n",
       "19           3.8           1.5          0.3\n",
       "143          3.2           5.9          2.3\n",
       "99           2.8           4.1          1.3"
      ]
     },
     "execution_count": 10,
     "metadata": {},
     "output_type": "execute_result"
    }
   ],
   "source": [
    "#Check before standardization\n",
    "X_train.head()"
   ]
  },
  {
   "cell_type": "markdown",
   "id": "0eb2ac79-cc81-458d-a217-db2645ed6194",
   "metadata": {},
   "source": [
    "# PCA"
   ]
  },
  {
   "cell_type": "markdown",
   "id": "74469817-4d36-428a-8272-25c9722ec0b0",
   "metadata": {},
   "source": [
    "## Standardize the Data"
   ]
  },
  {
   "cell_type": "markdown",
   "id": "af3d85af-4e8c-4100-915e-4db87fc9ceb5",
   "metadata": {},
   "source": [
    "PCA is affected by scale: you should give each of the features in your data a similar scale (mean = 0 and variance = 1) before applying PCA. We will use StandardScaler to standardize our dataset’s features."
   ]
  },
  {
   "cell_type": "code",
   "execution_count": 11,
   "id": "e6de6f24-89dc-4892-aedd-16352fbb6806",
   "metadata": {},
   "outputs": [],
   "source": [
    "#Now lets apply 1-1 \"StandardScaler\" transformer\n",
    "#1) import the module\n",
    "from sklearn.preprocessing import StandardScaler\n",
    "\n",
    "#2) define the model\n",
    "scaler=StandardScaler()\n",
    "\n",
    "#3) fit the model\n",
    "scaler.fit(X_train)\n",
    "\n",
    "#4) transform the data\n",
    "X_train_ss = scaler.transform(X_train)\n",
    "\n",
    "# note 3 and 4 could be combined like this:\n",
    "# X_train_ss = SS.fit_transform(X_train)"
   ]
  },
  {
   "cell_type": "code",
   "execution_count": 12,
   "id": "64c028a5-6da9-429c-8815-ed3214451ff6",
   "metadata": {},
   "outputs": [
    {
     "data": {
      "text/plain": [
       "array([[-1.22024754, -0.4419858 , -0.13661044],\n",
       "       [-1.87955796,  0.40282929,  0.38029394],\n",
       "       [ 1.63676428, -1.2868009 , -1.17041921],\n",
       "       [ 0.31814344,  1.19132338,  1.41410271],\n",
       "       [-0.56093712,  0.17754527,  0.12184175],\n",
       "       [-0.12139684,  0.79707634,  1.41410271],\n",
       "       [ 0.0983733 , -1.2868009 , -1.4288714 ],\n",
       "       [ 1.63676428, -1.23047989, -1.29964531],\n",
       "       [-0.34116698, -1.3431219 , -1.29964531],\n",
       "       [-0.12139684,  1.19132338,  1.15565051],\n",
       "       [ 0.31814344,  0.74075533,  1.02642442],\n",
       "       [-0.12139684, -1.3431219 , -1.29964531],\n",
       "       [-0.12139684, -1.23047989, -1.29964531],\n",
       "       [-0.34116698,  0.40282929,  0.38029394],\n",
       "       [-1.44001768,  0.00858225, -0.13661044],\n",
       "       [ 0.31814344,  1.24764439,  0.76797223],\n",
       "       [ 0.75768372, -1.23047989, -1.04119311],\n",
       "       [ 0.31814344, -1.23047989, -1.29964531],\n",
       "       [ 0.53791358,  1.07868137,  1.6725549 ],\n",
       "       [ 0.31814344,  0.57179231,  0.76797223],\n",
       "       [ 0.75768372, -1.2868009 , -1.04119311],\n",
       "       [-0.78070726,  0.62811332,  0.76797223],\n",
       "       [-0.12139684,  1.58557043,  1.15565051],\n",
       "       [-0.56093712,  1.64189143,  1.02642442],\n",
       "       [-0.12139684,  0.23386627, -0.00738435],\n",
       "       [ 0.75768372, -1.3431219 , -1.17041921],\n",
       "       [ 1.41699414, -1.2868009 , -1.04119311],\n",
       "       [ 1.85653442, -1.39944291, -1.04119311],\n",
       "       [ 0.0983733 ,  0.62811332,  0.38029394],\n",
       "       [-1.22024754,  0.12122426,  0.12184175],\n",
       "       [ 2.95538512, -1.2868009 , -1.04119311],\n",
       "       [ 0.97745386, -1.3431219 , -1.17041921],\n",
       "       [-0.78070726,  0.17754527, -0.26583654],\n",
       "       [-0.34116698, -0.10405976,  0.12184175],\n",
       "       [-0.12139684, -1.3431219 , -1.4288714 ],\n",
       "       [-0.12139684, -1.3431219 , -1.17041921],\n",
       "       [ 0.0983733 ,  0.34650829,  0.25106784],\n",
       "       [-1.22024754,  0.68443432,  0.89719832],\n",
       "       [ 1.63676428,  1.47292841,  1.02642442],\n",
       "       [ 0.97745386, -1.3431219 , -1.29964531],\n",
       "       [-0.56093712,  1.02236036,  1.15565051],\n",
       "       [ 0.31814344, -1.3431219 , -1.29964531],\n",
       "       [-1.87955796,  0.68443432,  0.38029394],\n",
       "       [ 0.97745386, -1.39944291, -1.29964531],\n",
       "       [ 0.53791358,  1.24764439,  1.6725549 ],\n",
       "       [-1.87955796,  0.12122426, -0.26583654],\n",
       "       [ 0.75768372, -1.06151687, -1.29964531],\n",
       "       [-0.12139684,  1.30396539,  1.41410271],\n",
       "       [-0.56093712,  0.12122426,  0.12184175],\n",
       "       [-1.22024754,  0.68443432,  1.02642442],\n",
       "       [-0.78070726,  0.06490325, -0.00738435],\n",
       "       [-1.65978782, -1.39944291, -1.17041921],\n",
       "       [-1.44001768, -0.04773876, -0.26583654],\n",
       "       [ 0.0983733 ,  0.96603936,  0.76797223],\n",
       "       [-0.12139684,  0.4591503 ,  0.25106784],\n",
       "       [-0.34116698,  1.02236036,  0.76797223],\n",
       "       [ 0.75768372, -1.2868009 , -1.29964531],\n",
       "       [-0.34116698,  0.23386627,  0.12184175],\n",
       "       [ 1.197224  , -1.3431219 , -1.29964531],\n",
       "       [ 0.0983733 ,  0.51547131,  0.38029394],\n",
       "       [-0.56093712,  0.57179231,  0.25106784],\n",
       "       [-0.78070726,  0.06490325,  0.25106784],\n",
       "       [ 1.197224  ,  1.30396539,  1.6725549 ],\n",
       "       [-0.78070726,  0.74075533,  0.50952003],\n",
       "       [-0.34116698,  0.29018728,  0.12184175],\n",
       "       [ 0.75768372,  1.02236036,  1.5433288 ],\n",
       "       [-0.56093712,  0.62811332,  1.02642442],\n",
       "       [ 0.0983733 , -1.2868009 , -1.29964531],\n",
       "       [ 0.31814344,  1.07868137,  1.41410271],\n",
       "       [-0.56093712,  0.4591503 ,  0.38029394],\n",
       "       [-0.12139684,  0.17754527,  0.12184175],\n",
       "       [-1.0004774 ,  1.75453345,  1.41410271],\n",
       "       [ 2.2960747 , -1.2868009 , -1.4288714 ],\n",
       "       [ 0.31814344,  0.85339734,  1.41410271],\n",
       "       [-0.12139684,  0.74075533,  0.76797223],\n",
       "       [-1.65978782,  0.34650829,  0.12184175],\n",
       "       [ 0.0983733 , -1.23047989, -1.29964531],\n",
       "       [ 1.63676428,  1.64189143,  1.28487661],\n",
       "       [-0.12139684,  0.96603936,  1.15565051],\n",
       "       [ 1.63676428, -1.06151687, -1.04119311],\n",
       "       [-0.12139684, -1.51208492, -1.4288714 ],\n",
       "       [-0.56093712,  0.57179231,  0.76797223],\n",
       "       [-0.12139684,  1.13500238,  0.50952003],\n",
       "       [-0.56093712,  0.74075533,  1.5433288 ],\n",
       "       [ 1.85653442, -1.17415888, -1.04119311],\n",
       "       [-0.78070726,  0.74075533,  0.89719832],\n",
       "       [-2.31909824, -0.16038077, -0.26583654],\n",
       "       [ 0.53791358,  1.07868137,  1.15565051],\n",
       "       [-0.56093712,  1.30396539,  0.89719832],\n",
       "       [ 1.41699414, -1.2868009 , -1.29964531],\n",
       "       [-0.56093712,  0.51547131, -0.00738435],\n",
       "       [-1.0004774 ,  0.34650829, -0.00738435],\n",
       "       [ 0.31814344,  0.51547131,  0.25106784],\n",
       "       [-1.22024754,  0.62811332,  0.38029394],\n",
       "       [-0.12139684,  0.23386627,  0.38029394],\n",
       "       [ 0.97745386, -1.2868009 , -1.29964531],\n",
       "       [ 0.0983733 ,  0.90971835,  1.15565051],\n",
       "       [-1.0004774 ,  0.12122426, -0.00738435],\n",
       "       [-0.78070726,  0.74075533,  0.89719832],\n",
       "       [ 0.75768372, -1.23047989, -1.29964531],\n",
       "       [ 1.197224  , -1.3431219 , -1.4288714 ],\n",
       "       [-1.0004774 , -0.16038077, -0.26583654],\n",
       "       [ 2.51584484, -1.3431219 , -1.29964531],\n",
       "       [-0.78070726,  0.23386627,  0.12184175],\n",
       "       [ 0.0983733 , -1.2868009 , -1.29964531]])"
      ]
     },
     "execution_count": 12,
     "metadata": {},
     "output_type": "execute_result"
    }
   ],
   "source": [
    "\n",
    "X_train_ss"
   ]
  },
  {
   "cell_type": "code",
   "execution_count": null,
   "id": "40d8077c-f619-4c9f-9448-8ec12cf3c77d",
   "metadata": {},
   "outputs": [],
   "source": []
  }
 ],
 "metadata": {
  "kernelspec": {
   "display_name": "Python 3 (ipykernel)",
   "language": "python",
   "name": "python3"
  },
  "language_info": {
   "codemirror_mode": {
    "name": "ipython",
    "version": 3
   },
   "file_extension": ".py",
   "mimetype": "text/x-python",
   "name": "python",
   "nbconvert_exporter": "python",
   "pygments_lexer": "ipython3",
   "version": "3.12.1"
  }
 },
 "nbformat": 4,
 "nbformat_minor": 5
}
