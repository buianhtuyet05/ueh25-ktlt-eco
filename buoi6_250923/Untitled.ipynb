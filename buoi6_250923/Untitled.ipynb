{
 "cells": [
  {
   "cell_type": "markdown",
   "id": "2054dead-be0e-46ef-8720-44ffed3c47b6",
   "metadata": {},
   "source": [
    "# Tutorial 7a: Feature Construction"
   ]
  },
  {
   "cell_type": "markdown",
   "id": "4988771c-89d3-4367-bcb0-b1ab0b18914e",
   "metadata": {},
   "source": [
    "## transformers\n",
    "These tasks are done using transformers\n",
    "\n",
    "sklearn's \"transformer\" is used for this, the main methods being:\n",
    "\n",
    "transformer.fit()\n",
    "transformer.transform()\n",
    "transformer.fit_transform()\n",
    "Note that the analysis and fitting(training) is based only on the train dataset. After that, the learned transformations are applied to the test data."
   ]
  },
  {
   "cell_type": "code",
   "execution_count": 1,
   "id": "7abb58f5-69d5-4cf6-9b6a-9956584ab006",
   "metadata": {},
   "outputs": [],
   "source": [
    "import pandas as pd\n",
    "import matplotlib.pyplot as plt\n",
    "import seaborn as sns\n",
    "import numpy as np"
   ]
  },
  {
   "cell_type": "code",
   "execution_count": null,
   "id": "2cdda1f0-42dd-4da5-b5b7-5e7b3097fd39",
   "metadata": {},
   "outputs": [],
   "source": []
  }
 ],
 "metadata": {
  "kernelspec": {
   "display_name": "Python 3 (ipykernel)",
   "language": "python",
   "name": "python3"
  },
  "language_info": {
   "codemirror_mode": {
    "name": "ipython",
    "version": 3
   },
   "file_extension": ".py",
   "mimetype": "text/x-python",
   "name": "python",
   "nbconvert_exporter": "python",
   "pygments_lexer": "ipython3",
   "version": "3.12.1"
  }
 },
 "nbformat": 4,
 "nbformat_minor": 5
}
