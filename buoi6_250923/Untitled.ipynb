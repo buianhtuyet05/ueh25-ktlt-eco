{
 "cells": [
  {
   "cell_type": "markdown",
   "id": "60138248-75b0-484d-8121-d4d9a1af72c6",
   "metadata": {},
   "source": [
    "# Tutorial 7b: Data Imputation"
   ]
  },
  {
   "cell_type": "markdown",
   "id": "db07968c-d7c3-4b47-8798-a9e6bb5cee12",
   "metadata": {},
   "source": [
    "This covers:\n",
    "\n",
    "* The deletion approach\n",
    "\n",
    "  * Deleting the incomplete features\n",
    "  * Deleting the incomplete instances\n",
    "* pandas\n",
    "\n",
    "  * Simple imputation using pandas\n",
    "  * Interpolation imputation using pandas\n",
    "* sklearn\n",
    "\n",
    "  * Simple imputation using sklearn\n",
    "  * KNN-based imputation using skearn\n",
    "  * Iterative imputation using skearn\n",
    "* Applying the learned models to incomplete test data"
   ]
  },
  {
   "cell_type": "code",
   "execution_count": null,
   "id": "99ad6e20-9dc4-4cec-b838-5bb2ad95d67e",
   "metadata": {},
   "outputs": [],
   "source": []
  }
 ],
 "metadata": {
  "kernelspec": {
   "display_name": "Python 3 (ipykernel)",
   "language": "python",
   "name": "python3"
  },
  "language_info": {
   "codemirror_mode": {
    "name": "ipython",
    "version": 3
   },
   "file_extension": ".py",
   "mimetype": "text/x-python",
   "name": "python",
   "nbconvert_exporter": "python",
   "pygments_lexer": "ipython3",
   "version": "3.12.1"
  }
 },
 "nbformat": 4,
 "nbformat_minor": 5
}
