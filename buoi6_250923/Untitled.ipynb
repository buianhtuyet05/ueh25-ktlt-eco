{
 "cells": [
  {
   "cell_type": "markdown",
   "id": "2054dead-be0e-46ef-8720-44ffed3c47b6",
   "metadata": {},
   "source": [
    "# Tutorial 7a: Feature Construction"
   ]
  },
  {
   "cell_type": "markdown",
   "id": "4988771c-89d3-4367-bcb0-b1ab0b18914e",
   "metadata": {},
   "source": [
    "## transformers\n",
    "These tasks are done using transformers\n",
    "\n",
    "sklearn's \"transformer\" is used for this, the main methods being:\n",
    "\n",
    "transformer.fit()\n",
    "transformer.transform()\n",
    "transformer.fit_transform()\n",
    "Note that the analysis and fitting(training) is based only on the train dataset. After that, the learned transformations are applied to the test data."
   ]
  },
  {
   "cell_type": "code",
   "execution_count": 5,
   "id": "7abb58f5-69d5-4cf6-9b6a-9956584ab006",
   "metadata": {},
   "outputs": [],
   "source": [
    "import pandas as pd\n",
    "import matplotlib.pyplot as plt\n",
    "import seaborn as sns\n",
    "import numpy as np"
   ]
  },
  {
   "cell_type": "markdown",
   "id": "216fa9b7-0f6f-4906-91fa-d2256fbf4866",
   "metadata": {},
   "source": [
    "## Load the dataset"
   ]
  },
  {
   "cell_type": "code",
   "execution_count": 4,
   "id": "f83e7cce-df0e-467c-876b-96068eaf09d9",
   "metadata": {},
   "outputs": [
    {
     "data": {
      "text/html": [
       "<div>\n",
       "<style scoped>\n",
       "    .dataframe tbody tr th:only-of-type {\n",
       "        vertical-align: middle;\n",
       "    }\n",
       "\n",
       "    .dataframe tbody tr th {\n",
       "        vertical-align: top;\n",
       "    }\n",
       "\n",
       "    .dataframe thead th {\n",
       "        text-align: right;\n",
       "    }\n",
       "</style>\n",
       "<table border=\"1\" class=\"dataframe\">\n",
       "  <thead>\n",
       "    <tr style=\"text-align: right;\">\n",
       "      <th></th>\n",
       "      <th>sepal_length</th>\n",
       "      <th>sepal_width</th>\n",
       "      <th>petal_length</th>\n",
       "      <th>petal_width</th>\n",
       "      <th>species</th>\n",
       "    </tr>\n",
       "  </thead>\n",
       "  <tbody>\n",
       "    <tr>\n",
       "      <th>0</th>\n",
       "      <td>5.1</td>\n",
       "      <td>3.5</td>\n",
       "      <td>1.4</td>\n",
       "      <td>0.2</td>\n",
       "      <td>setosa</td>\n",
       "    </tr>\n",
       "    <tr>\n",
       "      <th>1</th>\n",
       "      <td>4.9</td>\n",
       "      <td>3.0</td>\n",
       "      <td>1.4</td>\n",
       "      <td>0.2</td>\n",
       "      <td>setosa</td>\n",
       "    </tr>\n",
       "    <tr>\n",
       "      <th>2</th>\n",
       "      <td>4.7</td>\n",
       "      <td>3.2</td>\n",
       "      <td>1.3</td>\n",
       "      <td>0.2</td>\n",
       "      <td>setosa</td>\n",
       "    </tr>\n",
       "    <tr>\n",
       "      <th>3</th>\n",
       "      <td>4.6</td>\n",
       "      <td>3.1</td>\n",
       "      <td>1.5</td>\n",
       "      <td>0.2</td>\n",
       "      <td>setosa</td>\n",
       "    </tr>\n",
       "    <tr>\n",
       "      <th>4</th>\n",
       "      <td>5.0</td>\n",
       "      <td>3.6</td>\n",
       "      <td>1.4</td>\n",
       "      <td>0.2</td>\n",
       "      <td>setosa</td>\n",
       "    </tr>\n",
       "  </tbody>\n",
       "</table>\n",
       "</div>"
      ],
      "text/plain": [
       "   sepal_length  sepal_width  petal_length  petal_width species\n",
       "0           5.1          3.5           1.4          0.2  setosa\n",
       "1           4.9          3.0           1.4          0.2  setosa\n",
       "2           4.7          3.2           1.3          0.2  setosa\n",
       "3           4.6          3.1           1.5          0.2  setosa\n",
       "4           5.0          3.6           1.4          0.2  setosa"
      ]
     },
     "execution_count": 4,
     "metadata": {},
     "output_type": "execute_result"
    }
   ],
   "source": [
    "df=sns.load_dataset('iris')\n",
    "df.head()"
   ]
  },
  {
   "cell_type": "code",
   "execution_count": 6,
   "id": "9c5c1c89-69a9-460a-83f7-97e5359c5184",
   "metadata": {},
   "outputs": [],
   "source": [
    "# Seperate the target variable\n",
    "X=df[df.columns[1:-1]]   # read \"-1\" as \"the last one\"\n",
    "y=df[df.columns[-1]]"
   ]
  },
  {
   "cell_type": "code",
   "execution_count": 7,
   "id": "94e287e6-04d9-4cae-a7e9-b77ad2bf4579",
   "metadata": {},
   "outputs": [
    {
     "data": {
      "text/plain": [
       "(     sepal_width  petal_length  petal_width\n",
       " 0            3.5           1.4          0.2\n",
       " 1            3.0           1.4          0.2\n",
       " 2            3.2           1.3          0.2\n",
       " 3            3.1           1.5          0.2\n",
       " 4            3.6           1.4          0.2\n",
       " ..           ...           ...          ...\n",
       " 145          3.0           5.2          2.3\n",
       " 146          2.5           5.0          1.9\n",
       " 147          3.0           5.2          2.0\n",
       " 148          3.4           5.4          2.3\n",
       " 149          3.0           5.1          1.8\n",
       " \n",
       " [150 rows x 3 columns],\n",
       " 0         setosa\n",
       " 1         setosa\n",
       " 2         setosa\n",
       " 3         setosa\n",
       " 4         setosa\n",
       "          ...    \n",
       " 145    virginica\n",
       " 146    virginica\n",
       " 147    virginica\n",
       " 148    virginica\n",
       " 149    virginica\n",
       " Name: species, Length: 150, dtype: object)"
      ]
     },
     "execution_count": 7,
     "metadata": {},
     "output_type": "execute_result"
    }
   ],
   "source": [
    "X, y"
   ]
  },
  {
   "cell_type": "code",
   "execution_count": 8,
   "id": "79636ca9-cf97-4039-b3c6-8d01e1099f71",
   "metadata": {},
   "outputs": [
    {
     "data": {
      "text/plain": [
       "species\n",
       "setosa        50\n",
       "versicolor    50\n",
       "virginica     50\n",
       "Name: count, dtype: int64"
      ]
     },
     "execution_count": 8,
     "metadata": {},
     "output_type": "execute_result"
    }
   ],
   "source": [
    "# Show the number of instances per class\n",
    "y.value_counts()"
   ]
  },
  {
   "cell_type": "code",
   "execution_count": 9,
   "id": "a80bbe3d-5126-4330-9756-d944c9bd51dc",
   "metadata": {},
   "outputs": [],
   "source": [
    "# split the data\n",
    "from sklearn.model_selection import train_test_split\n",
    "X_train, X_test, y_train, y_test = train_test_split(X, y, test_size=0.3, random_state=42, stratify=y)"
   ]
  },
  {
   "cell_type": "code",
   "execution_count": 10,
   "id": "61e6f647-7ccf-48ce-8c1f-931092af4c78",
   "metadata": {},
   "outputs": [
    {
     "data": {
      "text/html": [
       "<div>\n",
       "<style scoped>\n",
       "    .dataframe tbody tr th:only-of-type {\n",
       "        vertical-align: middle;\n",
       "    }\n",
       "\n",
       "    .dataframe tbody tr th {\n",
       "        vertical-align: top;\n",
       "    }\n",
       "\n",
       "    .dataframe thead th {\n",
       "        text-align: right;\n",
       "    }\n",
       "</style>\n",
       "<table border=\"1\" class=\"dataframe\">\n",
       "  <thead>\n",
       "    <tr style=\"text-align: right;\">\n",
       "      <th></th>\n",
       "      <th>sepal_width</th>\n",
       "      <th>petal_length</th>\n",
       "      <th>petal_width</th>\n",
       "    </tr>\n",
       "  </thead>\n",
       "  <tbody>\n",
       "    <tr>\n",
       "      <th>98</th>\n",
       "      <td>2.5</td>\n",
       "      <td>3.0</td>\n",
       "      <td>1.1</td>\n",
       "    </tr>\n",
       "    <tr>\n",
       "      <th>68</th>\n",
       "      <td>2.2</td>\n",
       "      <td>4.5</td>\n",
       "      <td>1.5</td>\n",
       "    </tr>\n",
       "    <tr>\n",
       "      <th>19</th>\n",
       "      <td>3.8</td>\n",
       "      <td>1.5</td>\n",
       "      <td>0.3</td>\n",
       "    </tr>\n",
       "    <tr>\n",
       "      <th>143</th>\n",
       "      <td>3.2</td>\n",
       "      <td>5.9</td>\n",
       "      <td>2.3</td>\n",
       "    </tr>\n",
       "    <tr>\n",
       "      <th>99</th>\n",
       "      <td>2.8</td>\n",
       "      <td>4.1</td>\n",
       "      <td>1.3</td>\n",
       "    </tr>\n",
       "  </tbody>\n",
       "</table>\n",
       "</div>"
      ],
      "text/plain": [
       "     sepal_width  petal_length  petal_width\n",
       "98           2.5           3.0          1.1\n",
       "68           2.2           4.5          1.5\n",
       "19           3.8           1.5          0.3\n",
       "143          3.2           5.9          2.3\n",
       "99           2.8           4.1          1.3"
      ]
     },
     "execution_count": 10,
     "metadata": {},
     "output_type": "execute_result"
    }
   ],
   "source": [
    "#Check before standardization\n",
    "X_train.head()"
   ]
  },
  {
   "cell_type": "markdown",
   "id": "0eb2ac79-cc81-458d-a217-db2645ed6194",
   "metadata": {},
   "source": [
    "# PCA"
   ]
  },
  {
   "cell_type": "markdown",
   "id": "74469817-4d36-428a-8272-25c9722ec0b0",
   "metadata": {},
   "source": [
    "## Standardize the Data"
   ]
  },
  {
   "cell_type": "markdown",
   "id": "af3d85af-4e8c-4100-915e-4db87fc9ceb5",
   "metadata": {},
   "source": [
    "PCA is affected by scale: you should give each of the features in your data a similar scale (mean = 0 and variance = 1) before applying PCA. We will use StandardScaler to standardize our dataset’s features."
   ]
  },
  {
   "cell_type": "code",
   "execution_count": 11,
   "id": "e6de6f24-89dc-4892-aedd-16352fbb6806",
   "metadata": {},
   "outputs": [],
   "source": [
    "#Now lets apply 1-1 \"StandardScaler\" transformer\n",
    "#1) import the module\n",
    "from sklearn.preprocessing import StandardScaler\n",
    "\n",
    "#2) define the model\n",
    "scaler=StandardScaler()\n",
    "\n",
    "#3) fit the model\n",
    "scaler.fit(X_train)\n",
    "\n",
    "#4) transform the data\n",
    "X_train_ss = scaler.transform(X_train)\n",
    "\n",
    "# note 3 and 4 could be combined like this:\n",
    "# X_train_ss = SS.fit_transform(X_train)"
   ]
  },
  {
   "cell_type": "code",
   "execution_count": 12,
   "id": "64c028a5-6da9-429c-8815-ed3214451ff6",
   "metadata": {},
   "outputs": [
    {
     "data": {
      "text/plain": [
       "array([[-1.22024754, -0.4419858 , -0.13661044],\n",
       "       [-1.87955796,  0.40282929,  0.38029394],\n",
       "       [ 1.63676428, -1.2868009 , -1.17041921],\n",
       "       [ 0.31814344,  1.19132338,  1.41410271],\n",
       "       [-0.56093712,  0.17754527,  0.12184175],\n",
       "       [-0.12139684,  0.79707634,  1.41410271],\n",
       "       [ 0.0983733 , -1.2868009 , -1.4288714 ],\n",
       "       [ 1.63676428, -1.23047989, -1.29964531],\n",
       "       [-0.34116698, -1.3431219 , -1.29964531],\n",
       "       [-0.12139684,  1.19132338,  1.15565051],\n",
       "       [ 0.31814344,  0.74075533,  1.02642442],\n",
       "       [-0.12139684, -1.3431219 , -1.29964531],\n",
       "       [-0.12139684, -1.23047989, -1.29964531],\n",
       "       [-0.34116698,  0.40282929,  0.38029394],\n",
       "       [-1.44001768,  0.00858225, -0.13661044],\n",
       "       [ 0.31814344,  1.24764439,  0.76797223],\n",
       "       [ 0.75768372, -1.23047989, -1.04119311],\n",
       "       [ 0.31814344, -1.23047989, -1.29964531],\n",
       "       [ 0.53791358,  1.07868137,  1.6725549 ],\n",
       "       [ 0.31814344,  0.57179231,  0.76797223],\n",
       "       [ 0.75768372, -1.2868009 , -1.04119311],\n",
       "       [-0.78070726,  0.62811332,  0.76797223],\n",
       "       [-0.12139684,  1.58557043,  1.15565051],\n",
       "       [-0.56093712,  1.64189143,  1.02642442],\n",
       "       [-0.12139684,  0.23386627, -0.00738435],\n",
       "       [ 0.75768372, -1.3431219 , -1.17041921],\n",
       "       [ 1.41699414, -1.2868009 , -1.04119311],\n",
       "       [ 1.85653442, -1.39944291, -1.04119311],\n",
       "       [ 0.0983733 ,  0.62811332,  0.38029394],\n",
       "       [-1.22024754,  0.12122426,  0.12184175],\n",
       "       [ 2.95538512, -1.2868009 , -1.04119311],\n",
       "       [ 0.97745386, -1.3431219 , -1.17041921],\n",
       "       [-0.78070726,  0.17754527, -0.26583654],\n",
       "       [-0.34116698, -0.10405976,  0.12184175],\n",
       "       [-0.12139684, -1.3431219 , -1.4288714 ],\n",
       "       [-0.12139684, -1.3431219 , -1.17041921],\n",
       "       [ 0.0983733 ,  0.34650829,  0.25106784],\n",
       "       [-1.22024754,  0.68443432,  0.89719832],\n",
       "       [ 1.63676428,  1.47292841,  1.02642442],\n",
       "       [ 0.97745386, -1.3431219 , -1.29964531],\n",
       "       [-0.56093712,  1.02236036,  1.15565051],\n",
       "       [ 0.31814344, -1.3431219 , -1.29964531],\n",
       "       [-1.87955796,  0.68443432,  0.38029394],\n",
       "       [ 0.97745386, -1.39944291, -1.29964531],\n",
       "       [ 0.53791358,  1.24764439,  1.6725549 ],\n",
       "       [-1.87955796,  0.12122426, -0.26583654],\n",
       "       [ 0.75768372, -1.06151687, -1.29964531],\n",
       "       [-0.12139684,  1.30396539,  1.41410271],\n",
       "       [-0.56093712,  0.12122426,  0.12184175],\n",
       "       [-1.22024754,  0.68443432,  1.02642442],\n",
       "       [-0.78070726,  0.06490325, -0.00738435],\n",
       "       [-1.65978782, -1.39944291, -1.17041921],\n",
       "       [-1.44001768, -0.04773876, -0.26583654],\n",
       "       [ 0.0983733 ,  0.96603936,  0.76797223],\n",
       "       [-0.12139684,  0.4591503 ,  0.25106784],\n",
       "       [-0.34116698,  1.02236036,  0.76797223],\n",
       "       [ 0.75768372, -1.2868009 , -1.29964531],\n",
       "       [-0.34116698,  0.23386627,  0.12184175],\n",
       "       [ 1.197224  , -1.3431219 , -1.29964531],\n",
       "       [ 0.0983733 ,  0.51547131,  0.38029394],\n",
       "       [-0.56093712,  0.57179231,  0.25106784],\n",
       "       [-0.78070726,  0.06490325,  0.25106784],\n",
       "       [ 1.197224  ,  1.30396539,  1.6725549 ],\n",
       "       [-0.78070726,  0.74075533,  0.50952003],\n",
       "       [-0.34116698,  0.29018728,  0.12184175],\n",
       "       [ 0.75768372,  1.02236036,  1.5433288 ],\n",
       "       [-0.56093712,  0.62811332,  1.02642442],\n",
       "       [ 0.0983733 , -1.2868009 , -1.29964531],\n",
       "       [ 0.31814344,  1.07868137,  1.41410271],\n",
       "       [-0.56093712,  0.4591503 ,  0.38029394],\n",
       "       [-0.12139684,  0.17754527,  0.12184175],\n",
       "       [-1.0004774 ,  1.75453345,  1.41410271],\n",
       "       [ 2.2960747 , -1.2868009 , -1.4288714 ],\n",
       "       [ 0.31814344,  0.85339734,  1.41410271],\n",
       "       [-0.12139684,  0.74075533,  0.76797223],\n",
       "       [-1.65978782,  0.34650829,  0.12184175],\n",
       "       [ 0.0983733 , -1.23047989, -1.29964531],\n",
       "       [ 1.63676428,  1.64189143,  1.28487661],\n",
       "       [-0.12139684,  0.96603936,  1.15565051],\n",
       "       [ 1.63676428, -1.06151687, -1.04119311],\n",
       "       [-0.12139684, -1.51208492, -1.4288714 ],\n",
       "       [-0.56093712,  0.57179231,  0.76797223],\n",
       "       [-0.12139684,  1.13500238,  0.50952003],\n",
       "       [-0.56093712,  0.74075533,  1.5433288 ],\n",
       "       [ 1.85653442, -1.17415888, -1.04119311],\n",
       "       [-0.78070726,  0.74075533,  0.89719832],\n",
       "       [-2.31909824, -0.16038077, -0.26583654],\n",
       "       [ 0.53791358,  1.07868137,  1.15565051],\n",
       "       [-0.56093712,  1.30396539,  0.89719832],\n",
       "       [ 1.41699414, -1.2868009 , -1.29964531],\n",
       "       [-0.56093712,  0.51547131, -0.00738435],\n",
       "       [-1.0004774 ,  0.34650829, -0.00738435],\n",
       "       [ 0.31814344,  0.51547131,  0.25106784],\n",
       "       [-1.22024754,  0.62811332,  0.38029394],\n",
       "       [-0.12139684,  0.23386627,  0.38029394],\n",
       "       [ 0.97745386, -1.2868009 , -1.29964531],\n",
       "       [ 0.0983733 ,  0.90971835,  1.15565051],\n",
       "       [-1.0004774 ,  0.12122426, -0.00738435],\n",
       "       [-0.78070726,  0.74075533,  0.89719832],\n",
       "       [ 0.75768372, -1.23047989, -1.29964531],\n",
       "       [ 1.197224  , -1.3431219 , -1.4288714 ],\n",
       "       [-1.0004774 , -0.16038077, -0.26583654],\n",
       "       [ 2.51584484, -1.3431219 , -1.29964531],\n",
       "       [-0.78070726,  0.23386627,  0.12184175],\n",
       "       [ 0.0983733 , -1.2868009 , -1.29964531]])"
      ]
     },
     "execution_count": 12,
     "metadata": {},
     "output_type": "execute_result"
    }
   ],
   "source": [
    "\n",
    "X_train_ss"
   ]
  },
  {
   "cell_type": "markdown",
   "id": "0a684c31-b7ab-4afe-8e4a-fb6382c3996b",
   "metadata": {},
   "source": [
    "## Run PCA"
   ]
  },
  {
   "cell_type": "code",
   "execution_count": 13,
   "id": "de5f754d-0ab5-40e6-9b2a-7fa5e691333e",
   "metadata": {},
   "outputs": [
    {
     "data": {
      "text/plain": [
       "array([[ 0.09953905, -1.27195338],\n",
       "       [ 1.24517682, -1.511778  ],\n",
       "       [-2.23995982,  0.82850939],\n",
       "       [ 1.56980436,  1.02026044],\n",
       "       [ 0.41457825, -0.43457392],\n",
       "       [ 1.48337778,  0.51976305],\n",
       "       [-1.80491446, -0.66531921],\n",
       "       [-2.2865126 ,  0.80241998],\n",
       "       [-1.58636569, -1.04325442],\n",
       "       [ 1.57485976,  0.53649337]])"
      ]
     },
     "execution_count": 13,
     "metadata": {},
     "output_type": "execute_result"
    }
   ],
   "source": [
    "#Now lets perfrom pca\n",
    "#Steps are similar to the scale transformer\n",
    "#1) import the module\n",
    "from sklearn.decomposition import PCA\n",
    "#2) define the model\n",
    "pca = PCA(n_components=2)   # n_components means the pca transformation constructs this many features\n",
    "#3) fit the model\n",
    "pca.fit(X_train_ss)\n",
    "#4) transform the data\n",
    "pca_train = pca.transform(X_train_ss)\n",
    "# 3 and 4 could be combined\n",
    "# pca_train = pca.fit_transform(X_train_ss)\n",
    "# print the output, which is a matrix of only two features\n",
    "pca_train[:10,:]\n",
    "# ALT: plt.scatter(pca_train[:,0],pca_train[:,1])"
   ]
  },
  {
   "cell_type": "markdown",
   "id": "2098316c-68f1-4641-b99b-db4511ee5dce",
   "metadata": {},
   "source": [
    "## Visualising the results"
   ]
  },
  {
   "cell_type": "markdown",
   "id": "2de1064c-40ef-4bee-9b47-2768606faeba",
   "metadata": {},
   "source": [
    "possible if it's 2d"
   ]
  },
  {
   "cell_type": "code",
   "execution_count": 14,
   "id": "4b507846-5f83-47a7-9693-31ffc52a3694",
   "metadata": {},
   "outputs": [
    {
     "data": {
      "image/png": "[encoded data removed]",
      "text/plain": [
       "<Figure size 640x480 with 1 Axes>"
      ]
     },
     "metadata": {},
     "output_type": "display_data"
    }
   ],
   "source": [
    "#format and visualise the transformed training data\n",
    "df_pca_train = pd.DataFrame(data = pca_train, columns = ['pc1', 'pc2'])\n",
    "df_pca_train['species']=y_train\n",
    "sns.scatterplot(x='pc1', y='pc2', hue=df_pca_train['species'], data=df_pca_train);"
   ]
  },
  {
   "cell_type": "markdown",
   "id": "390e87ca-5168-493f-93ed-30e33961c062",
   "metadata": {},
   "source": [
    "## Transform the test data"
   ]
  },
  {
   "cell_type": "markdown",
   "id": "1e3494c6-5354-49ca-86c3-b7566bcf7b07",
   "metadata": {},
   "source": [
    "note: Here we only apply the learned transformers to transform the test data, NO fit is used"
   ]
  },
  {
   "cell_type": "code",
   "execution_count": 15,
   "id": "25b750d3-0b83-4f41-98e2-45d56ce0ba8b",
   "metadata": {},
   "outputs": [],
   "source": [
    "#1- First apply the scaler that has been built based on the training data to scale the test data\n",
    "X_test_ss = scaler.transform(X_test)\n",
    "#2- Second apply the pca transformation that has been built based on the training data to transfer the scaled test data\n",
    "pca_test = pca.transform(X_test_ss)"
   ]
  },
  {
   "cell_type": "markdown",
   "id": "33944eec-b892-48a8-92be-173d8eab3c7e",
   "metadata": {},
   "source": [
    "## Classification"
   ]
  },
  {
   "cell_type": "code",
   "execution_count": 16,
   "id": "92bb0752-9bec-408e-a36d-cab8af84b5cd",
   "metadata": {},
   "outputs": [
    {
     "name": "stdout",
     "output_type": "stream",
     "text": [
      "Accuracy before transformation  = 0.91\n"
     ]
    }
   ],
   "source": [
    "\n",
    "# Performing classification based on the orignal data\n",
    "from sklearn.metrics import accuracy_score\n",
    "from sklearn.ensemble import RandomForestClassifier\n",
    "classifier = RandomForestClassifier(random_state=0)\n",
    "#classifier=SVC()\n",
    "classifier.fit(X_train, y_train)\n",
    "score = accuracy_score(classifier.predict(X_test), y_test)\n",
    "print('Accuracy before transformation  = {:.2f}'.format(score))"
   ]
  },
  {
   "cell_type": "code",
   "execution_count": 17,
   "id": "22cb85b2-746a-4d42-8be5-77af39d1c892",
   "metadata": {},
   "outputs": [
    {
     "name": "stdout",
     "output_type": "stream",
     "text": [
      "Accuracy after PCA transformation  = 0.93\n"
     ]
    }
   ],
   "source": [
    "# Performing classification using the pca-based transformed data\n",
    "classifier.fit(pca_train, y_train)\n",
    "score = accuracy_score(classifier.predict(pca_test), y_test)\n",
    "print('Accuracy after PCA transformation  = {:.2f}'.format(score))"
   ]
  },
  {
   "cell_type": "markdown",
   "id": "449fda35-feaf-4e21-8e54-62862ffbf95c",
   "metadata": {},
   "source": [
    "# ICA"
   ]
  },
  {
   "cell_type": "markdown",
   "id": "2fe48e99-83c6-4792-a8fa-041de7b83e74",
   "metadata": {},
   "source": [
    "Steps are very similar to the scaler and the PCA transformeres.\n",
    "\n",
    "There are several ICA approaches in fact. We will use sklearn's Fast ICA algorithm"
   ]
  },
  {
   "cell_type": "code",
   "execution_count": 18,
   "id": "3dee6a5f-2b14-406b-9e8f-6b1fcca24a17",
   "metadata": {},
   "outputs": [],
   "source": [
    "from sklearn.decomposition import FastICA\n",
    "ica = FastICA(n_components=2)\n",
    "ica_train = ica.fit_transform(X_train_ss)  # nb. we already did the scaling, above"
   ]
  },
  {
   "cell_type": "code",
   "execution_count": 19,
   "id": "48df5f8f-bba3-4361-919a-d91086ec8ffd",
   "metadata": {},
   "outputs": [
    {
     "data": {
      "image/png": "[encoded data removed]",
      "text/plain": [
       "<Figure size 640x480 with 1 Axes>"
      ]
     },
     "metadata": {},
     "output_type": "display_data"
    }
   ],
   "source": [
    "# Visualisation\n",
    "df_ica_train = pd.DataFrame(data = ica_train, columns = ['ic1', 'ic2'])\n",
    "df_ica_train['species']=y_train\n",
    "sns.scatterplot(x='ic1', y='ic2', hue=df_ica_train['species'], data=df_ica_train);"
   ]
  },
  {
   "cell_type": "code",
   "execution_count": 20,
   "id": "5a375638-29d7-4ec7-8dba-f7c300424360",
   "metadata": {},
   "outputs": [
    {
     "name": "stdout",
     "output_type": "stream",
     "text": [
      "Accuracy after ICA transformation  = 0.96\n"
     ]
    }
   ],
   "source": [
    "# Performing classification using the ica-based transformed data\n",
    "# Transform test data using ica\n",
    "classifier.fit(ica_train, y_train)\n",
    "ica_test = ica.transform(X_test_ss)\n",
    "score = accuracy_score(classifier.predict(ica_test), y_test)\n",
    "print('Accuracy after ICA transformation  = {:.2f}'.format(score))"
   ]
  },
  {
   "cell_type": "markdown",
   "id": "fbcdbccd-3499-4159-8627-026bee092d5f",
   "metadata": {},
   "source": [
    "## GP transformers"
   ]
  },
  {
   "cell_type": "code",
   "execution_count": null,
   "id": "b2a7444a-3db6-4ca1-92ab-181a5e4aca5e",
   "metadata": {},
   "outputs": [
    {
     "name": "stdout",
     "output_type": "stream",
     "text": [
      "Collecting gplearn\n",
      "  Downloading gplearn-0.4.2-py3-none-any.whl.metadata (4.3 kB)\n",
      "Requirement already satisfied: scikit-learn>=1.0.2 in /home/codespace/.local/lib/python3.12/site-packages (from gplearn) (1.7.0)\n",
      "Requirement already satisfied: joblib>=1.0.0 in /home/codespace/.local/lib/python3.12/site-packages (from gplearn) (1.5.1)\n",
      "Requirement already satisfied: numpy>=1.22.0 in /home/codespace/.local/lib/python3.12/site-packages (from scikit-learn>=1.0.2->gplearn) (2.3.1)\n",
      "Requirement already satisfied: scipy>=1.8.0 in /home/codespace/.local/lib/python3.12/site-packages (from scikit-learn>=1.0.2->gplearn) (1.16.0)\n",
      "Requirement already satisfied: threadpoolctl>=3.1.0 in /home/codespace/.local/lib/python3.12/site-packages (from scikit-learn>=1.0.2->gplearn) (3.6.0)\n",
      "Downloading gplearn-0.4.2-py3-none-any.whl (25 kB)\n"
     ]
    }
   ],
   "source": [
    "# Might need to install the package for genetic programming (gp)\n",
    "!pip install gplearn"
   ]
  },
  {
   "cell_type": "code",
   "execution_count": null,
   "id": "f4731208-4dd8-42e4-a590-486fb797ec40",
   "metadata": {},
   "outputs": [],
   "source": []
  }
 ],
 "metadata": {
  "kernelspec": {
   "display_name": "Python 3 (ipykernel)",
   "language": "python",
   "name": "python3"
  },
  "language_info": {
   "codemirror_mode": {
    "name": "ipython",
    "version": 3
   },
   "file_extension": ".py",
   "mimetype": "text/x-python",
   "name": "python",
   "nbconvert_exporter": "python",
   "pygments_lexer": "ipython3",
   "version": "3.12.1"
  }
 },
 "nbformat": 4,
 "nbformat_minor": 5
}
