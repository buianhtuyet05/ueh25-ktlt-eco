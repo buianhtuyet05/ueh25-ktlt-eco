{
 "cells": [
  {
   "cell_type": "markdown",
   "id": "7f22a726-ff0a-4148-819f-d045a868f7dc",
   "metadata": {},
   "source": [
    "## Overview about Libraries"
   ]
  },
  {
   "cell_type": "markdown",
   "id": "a80cc06b-4d33-4321-9133-4d88e1b3c3dc",
   "metadata": {},
   "source": [
    "A jupyter notebook with a first look at...\n",
    "\n",
    "* markdown\n",
    "* python\n",
    "* numpy\n",
    "* pandas\n",
    "* sklearn, maybe"
   ]
  },
  {
   "cell_type": "markdown",
   "id": "192e51bb-877e-4856-95e3-943284f8bd2c",
   "metadata": {},
   "source": [
    "### first: anaconda"
   ]
  },
  {
   "cell_type": "markdown",
   "id": "d0cb5f60-4777-4a2a-896f-6ffa7dc4acf3",
   "metadata": {},
   "source": [
    "Anaconda, while not essential, bundles up everything we need here."
   ]
  },
  {
   "cell_type": "markdown",
   "id": "dbb9fdfb-e296-4032-bfd1-9ea261c38503",
   "metadata": {},
   "source": [
    "https://docs.anaconda.com/anaconda"
   ]
  },
  {
   "cell_type": "markdown",
   "id": "2514b509-1a4f-4a2e-8c71-663e8fa3ca5d",
   "metadata": {},
   "source": [
    "### basic python"
   ]
  },
  {
   "cell_type": "code",
   "execution_count": 1,
   "id": "19e2a421-3e0e-4fa0-ac38-8c5ac8d2d5fd",
   "metadata": {},
   "outputs": [
    {
     "data": {
      "text/plain": [
       "float"
      ]
     },
     "execution_count": 1,
     "metadata": {},
     "output_type": "execute_result"
    }
   ],
   "source": [
    "x = 3.1\n",
    "type(x)"
   ]
  },
  {
   "cell_type": "code",
   "execution_count": 2,
   "id": "e17e302e-82e9-4b04-bd4a-ab44fc41eefa",
   "metadata": {},
   "outputs": [
    {
     "data": {
      "text/plain": [
       "int"
      ]
     },
     "execution_count": 2,
     "metadata": {},
     "output_type": "execute_result"
    }
   ],
   "source": [
    "y = 6\n",
    "\n",
    "type(y)"
   ]
  },
  {
   "cell_type": "code",
   "execution_count": 3,
   "id": "cfc677d1-800f-44db-be43-27d12e72e830",
   "metadata": {},
   "outputs": [
    {
     "data": {
      "text/plain": [
       "18.6"
      ]
     },
     "execution_count": 3,
     "metadata": {},
     "output_type": "execute_result"
    }
   ],
   "source": [
    "x*y"
   ]
  },
  {
   "cell_type": "code",
   "execution_count": null,
   "id": "3e132867-bfe0-4fce-838e-dac26e1f969a",
   "metadata": {},
   "outputs": [],
   "source": []
  }
 ],
 "metadata": {
  "kernelspec": {
   "display_name": "Python 3 (ipykernel)",
   "language": "python",
   "name": "python3"
  },
  "language_info": {
   "codemirror_mode": {
    "name": "ipython",
    "version": 3
   },
   "file_extension": ".py",
   "mimetype": "text/x-python",
   "name": "python",
   "nbconvert_exporter": "python",
   "pygments_lexer": "ipython3",
   "version": "3.12.1"
  }
 },
 "nbformat": 4,
 "nbformat_minor": 5
}
