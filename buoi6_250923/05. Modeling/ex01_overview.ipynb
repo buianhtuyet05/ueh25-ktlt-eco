{
 "cells": [
  {
   "cell_type": "markdown",
   "id": "7f22a726-ff0a-4148-819f-d045a868f7dc",
   "metadata": {},
   "source": [
    "## Overview about Libraries"
   ]
  },
  {
   "cell_type": "markdown",
   "id": "a80cc06b-4d33-4321-9133-4d88e1b3c3dc",
   "metadata": {},
   "source": [
    "A jupyter notebook with a first look at...\n",
    "\n",
    "* markdown\n",
    "* python\n",
    "* numpy\n",
    "* pandas\n",
    "* sklearn, maybe"
   ]
  },
  {
   "cell_type": "markdown",
   "id": "192e51bb-877e-4856-95e3-943284f8bd2c",
   "metadata": {},
   "source": [
    "### first: anaconda"
   ]
  },
  {
   "cell_type": "markdown",
   "id": "d0cb5f60-4777-4a2a-896f-6ffa7dc4acf3",
   "metadata": {},
   "source": [
    "Anaconda, while not essential, bundles up everything we need here."
   ]
  },
  {
   "cell_type": "markdown",
   "id": "dbb9fdfb-e296-4032-bfd1-9ea261c38503",
   "metadata": {},
   "source": [
    "https://docs.anaconda.com/anaconda"
   ]
  },
  {
   "cell_type": "markdown",
   "id": "2514b509-1a4f-4a2e-8c71-663e8fa3ca5d",
   "metadata": {},
   "source": [
    "### basic python"
   ]
  },
  {
   "cell_type": "code",
   "execution_count": 1,
   "id": "19e2a421-3e0e-4fa0-ac38-8c5ac8d2d5fd",
   "metadata": {},
   "outputs": [
    {
     "data": {
      "text/plain": [
       "float"
      ]
     },
     "execution_count": 1,
     "metadata": {},
     "output_type": "execute_result"
    }
   ],
   "source": [
    "x = 3.1\n",
    "type(x)"
   ]
  },
  {
   "cell_type": "code",
   "execution_count": 2,
   "id": "e17e302e-82e9-4b04-bd4a-ab44fc41eefa",
   "metadata": {},
   "outputs": [
    {
     "data": {
      "text/plain": [
       "int"
      ]
     },
     "execution_count": 2,
     "metadata": {},
     "output_type": "execute_result"
    }
   ],
   "source": [
    "y = 6\n",
    "\n",
    "type(y)"
   ]
  },
  {
   "cell_type": "code",
   "execution_count": 3,
   "id": "cfc677d1-800f-44db-be43-27d12e72e830",
   "metadata": {},
   "outputs": [
    {
     "data": {
      "text/plain": [
       "18.6"
      ]
     },
     "execution_count": 3,
     "metadata": {},
     "output_type": "execute_result"
    }
   ],
   "source": [
    "x*y"
   ]
  },
  {
   "cell_type": "code",
   "execution_count": 4,
   "id": "3e132867-bfe0-4fce-838e-dac26e1f969a",
   "metadata": {},
   "outputs": [
    {
     "data": {
      "text/plain": [
       "list"
      ]
     },
     "execution_count": 4,
     "metadata": {},
     "output_type": "execute_result"
    }
   ],
   "source": [
    "x = [14,5,6,6]\n",
    "type(x)"
   ]
  },
  {
   "cell_type": "code",
   "execution_count": 5,
   "id": "dd1d0ccf-48dd-4ec5-9d46-5df2c8c8ec2d",
   "metadata": {},
   "outputs": [
    {
     "name": "stdout",
     "output_type": "stream",
     "text": [
      "[14, 5]\n"
     ]
    }
   ],
   "source": [
    "print(x[:2])"
   ]
  },
  {
   "cell_type": "code",
   "execution_count": 6,
   "id": "3bba7de2-004f-4609-9f2e-492b55dd7119",
   "metadata": {},
   "outputs": [
    {
     "data": {
      "text/plain": [
       "[14, 5, 6, 6, 7]"
      ]
     },
     "execution_count": 6,
     "metadata": {},
     "output_type": "execute_result"
    }
   ],
   "source": [
    "x.append(7)\n",
    "x"
   ]
  },
  {
   "cell_type": "code",
   "execution_count": 7,
   "id": "5ddb7f83-a9a3-42b4-b244-477e54d1cc34",
   "metadata": {},
   "outputs": [
    {
     "data": {
      "text/plain": [
       "{5, 6, 7, 14}"
      ]
     },
     "execution_count": 7,
     "metadata": {},
     "output_type": "execute_result"
    }
   ],
   "source": [
    "\n",
    "set(x)"
   ]
  },
  {
   "cell_type": "code",
   "execution_count": 8,
   "id": "ddf6be03-e5e7-4029-b667-9c0682440c44",
   "metadata": {},
   "outputs": [
    {
     "name": "stdout",
     "output_type": "stream",
     "text": [
      "14\n",
      "5\n",
      "6\n",
      "6\n",
      "7\n"
     ]
    }
   ],
   "source": [
    "\n",
    "for z in x:\n",
    "    print(z)\n",
    "    # in python, the indentation matters!"
   ]
  },
  {
   "cell_type": "code",
   "execution_count": 9,
   "id": "0e779feb-78c3-4f33-95c5-81439145033f",
   "metadata": {},
   "outputs": [
    {
     "data": {
      "text/plain": [
       "{'a': [14, 5, 6, 6, 7], 'b': 6}"
      ]
     },
     "execution_count": 9,
     "metadata": {},
     "output_type": "execute_result"
    }
   ],
   "source": [
    "\n",
    "# a dictionary (like java's Map)\n",
    "mymap = {}\n",
    "mymap['a'] = x\n",
    "mymap['b'] = y\n",
    "mymap"
   ]
  },
  {
   "cell_type": "code",
   "execution_count": 10,
   "id": "7222889d-28e1-4da5-ae82-b3e820083c60",
   "metadata": {},
   "outputs": [
    {
     "name": "stdout",
     "output_type": "stream",
     "text": [
      "key:  a \t val:  [14, 5, 6, 6, 7]\n",
      "key:  b \t val:  6\n"
     ]
    }
   ],
   "source": [
    "\n",
    "for k,v in mymap.items():\n",
    "    print('key: ',k, '\\t val: ', v)"
   ]
  },
  {
   "cell_type": "markdown",
   "id": "ffb58c87-e5de-43a1-92e5-878490651ed6",
   "metadata": {},
   "source": [
    "### numpy and matplotlib"
   ]
  },
  {
   "cell_type": "markdown",
   "id": "0a289d73-6170-4d89-8573-2538c4614a63",
   "metadata": {},
   "source": [
    "numpy is mainly about arrays (vectors, matrices).\n",
    "\n",
    "(nb. this is handy 'boilerplate' for almost any notebook)"
   ]
  },
  {
   "cell_type": "code",
   "execution_count": null,
   "id": "11b92f85-0855-491c-a93c-4e579d57a049",
   "metadata": {},
   "outputs": [],
   "source": []
  }
 ],
 "metadata": {
  "kernelspec": {
   "display_name": "Python 3 (ipykernel)",
   "language": "python",
   "name": "python3"
  },
  "language_info": {
   "codemirror_mode": {
    "name": "ipython",
    "version": 3
   },
   "file_extension": ".py",
   "mimetype": "text/x-python",
   "name": "python",
   "nbconvert_exporter": "python",
   "pygments_lexer": "ipython3",
   "version": "3.12.1"
  }
 },
 "nbformat": 4,
 "nbformat_minor": 5
}
