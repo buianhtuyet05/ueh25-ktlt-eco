{
 "cells": [
  {
   "cell_type": "code",
   "execution_count": 1,
   "id": "026e13d4-321c-48fe-a632-7c0fd147edd6",
   "metadata": {},
   "outputs": [
    {
     "name": "stdout",
     "output_type": "stream",
     "text": [
      "cur_dir: /workspaces/ueh25-ktlt-eco/buoi6_250923 \n",
      " --> /workspaces/ueh25-ktlt-eco/buoi6_250923\n"
     ]
    }
   ],
   "source": [
    "# try to mount google colab\n",
    "import os\n",
    "try:\n",
    "  from google.colab import drive\n",
    "  drive.mount('/content/drive')\n",
    "  cur_dir = \"/content/drive/MyDrive/ws/prj/adv_ds_2310/Lab05_Models/ex01_iris_classification/preprocessing\"\n",
    "except:\n",
    "  cur_dir = \".\"\n",
    "  pass\n",
    "cur_dir = os.path.abspath(cur_dir)\n",
    "os.chdir(cur_dir)\n",
    "\n",
    "print(f'cur_dir: {cur_dir} \\n --> {os.path.abspath(\".\")}')"
   ]
  },
  {
   "cell_type": "markdown",
   "id": "07bb0713-4af7-4cb1-b082-961141e3788d",
   "metadata": {},
   "source": [
    "# Phân loại loài hoa Iris"
   ]
  },
  {
   "cell_type": "code",
   "execution_count": 6,
   "id": "beaba2d3-9a89-4e82-81ed-f4e4f6de5d1d",
   "metadata": {},
   "outputs": [],
   "source": [
    "from PIL import Image\n",
    "import matplotlib.pyplot as plt"
   ]
  },
  {
   "cell_type": "code",
   "execution_count": null,
   "id": "5c49b971-2113-4efd-af0a-91155ed643a8",
   "metadata": {},
   "outputs": [],
   "source": []
  }
 ],
 "metadata": {
  "kernelspec": {
   "display_name": "Python 3 (ipykernel)",
   "language": "python",
   "name": "python3"
  },
  "language_info": {
   "codemirror_mode": {
    "name": "ipython",
    "version": 3
   },
   "file_extension": ".py",
   "mimetype": "text/x-python",
   "name": "python",
   "nbconvert_exporter": "python",
   "pygments_lexer": "ipython3",
   "version": "3.12.1"
  }
 },
 "nbformat": 4,
 "nbformat_minor": 5
}
