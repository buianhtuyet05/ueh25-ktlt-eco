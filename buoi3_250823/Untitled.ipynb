{
 "cells": [
  {
   "cell_type": "markdown",
   "id": "100e2b57-55f2-45f0-8cf8-c86e8f269ddd",
   "metadata": {},
   "source": [
    "# Exploratory Data Analysis Understanding Your Data"
   ]
  },
  {
   "cell_type": "code",
   "execution_count": null,
   "id": "802f35c5-4a89-46ad-baff-a0b4d2e77660",
   "metadata": {},
   "outputs": [],
   "source": []
  }
 ],
 "metadata": {
  "kernelspec": {
   "display_name": "Python 3 (ipykernel)",
   "language": "python",
   "name": "python3"
  },
  "language_info": {
   "codemirror_mode": {
    "name": "ipython",
    "version": 3
   },
   "file_extension": ".py",
   "mimetype": "text/x-python",
   "name": "python",
   "nbconvert_exporter": "python",
   "pygments_lexer": "ipython3",
   "version": "3.12.1"
  }
 },
 "nbformat": 4,
 "nbformat_minor": 5
}
