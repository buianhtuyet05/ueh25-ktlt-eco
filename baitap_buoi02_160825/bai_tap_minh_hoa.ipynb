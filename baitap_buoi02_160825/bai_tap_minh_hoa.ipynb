{
 "cells": [
  {
   "cell_type": "markdown",
   "id": "3d184695-602d-42ce-836d-741298a5d924",
   "metadata": {},
   "source": [
    "# Thực hành 1"
   ]
  },
  {
   "cell_type": "markdown",
   "id": "4f4a1b76-57f8-4e3f-8a3c-ee7f71671834",
   "metadata": {},
   "source": [
    "## Bài 1"
   ]
  },
  {
   "cell_type": "markdown",
   "id": "2463526f-348d-4c76-8d9a-9574c54e4aa7",
   "metadata": {},
   "source": [
    "### Nội dung bài: \n",
    "\n",
    "1.1. Viết chương trình nhập số A và kiểm tra xem A có phải là số nguyên tố hay không?"
   ]
  },
  {
   "cell_type": "code",
   "execution_count": 13,
   "id": "5b67d4ec-7f88-43b3-8116-16e64ea3ef9d",
   "metadata": {},
   "outputs": [
    {
     "name": "stdin",
     "output_type": "stream",
     "text": [
      "Nhập vào số nguyên: 200\n"
     ]
    },
    {
     "name": "stdout",
     "output_type": "stream",
     "text": [
      "200 khong la so nguyen to\n"
     ]
    }
   ],
   "source": [
    "# Hàm kiểm tra số nguyên tố\n",
    "def ktsnt(n):\n",
    "    if n < 2:  # 0, 1 không là số nguyên tố\n",
    "        return False\n",
    "    for i in range(2, int(n**0.5) + 1):  # chỉ cần lặp đến căn bậc 2 của n (vì nếu n chia hết cho số nào > sqrt(n) thì cũng chia hết cho số < sqrt(n))\n",
    "        if n % i == 0:\n",
    "            return False # Nếu n chia hết cho i thì không phải số nguyên tố\n",
    "    return True # Nếu không tìm thấy ước số nào thì n là số nguyên tố\n",
    "\n",
    "# Nhập vào số nguyên cần kiểm tra\n",
    "a = int(input(\"Nhập vào số nguyên:\"))\n",
    "# Kiểm tra và in kết quả\n",
    "if ktsnt(a):\n",
    "    print(\"%d là so nguyen to\" % a)\n",
    "else:\n",
    "    print(\"%d khong la so nguyen to\" % a)"
   ]
  },
  {
   "cell_type": "markdown",
   "id": "745a028d-8f80-4b5a-9ebe-7b1b88ec7dd3",
   "metadata": {},
   "source": [
    "1.2. Nhập vào N, liệt kê tất cả các số nguyên tố nhỏ hơn N."
   ]
  },
  {
   "cell_type": "code",
   "execution_count": 19,
   "id": "6c4132ff-735c-468e-9889-82cdd1da5f71",
   "metadata": {},
   "outputs": [
    {
     "name": "stdout",
     "output_type": "stream",
     "text": [
      "2 \n",
      "3 \n",
      "5 \n",
      "7 \n",
      "11 \n",
      "13 \n",
      "17 \n",
      "19 \n",
      "23 \n",
      "29 \n",
      "31 \n",
      "37 \n",
      "41 \n",
      "43 \n",
      "47 \n",
      "53 \n",
      "59 \n",
      "61 \n",
      "67 \n",
      "71 \n",
      "73 \n",
      "79 \n",
      "83 \n",
      "89 \n",
      "97 \n",
      "101 \n",
      "103 \n",
      "107 \n",
      "109 \n",
      "113 \n",
      "127 \n",
      "131 \n",
      "137 \n",
      "139 \n",
      "149 \n",
      "151 \n",
      "157 \n",
      "163 \n",
      "167 \n",
      "173 \n",
      "179 \n",
      "181 \n",
      "191 \n",
      "193 \n",
      "197 \n",
      "199 \n"
     ]
    }
   ],
   "source": [
    "# hàm liệt kê các số nguyên tố nhỏ hơn N\n",
    "def lietkesnt(k):\n",
    "    if k <= 2:\n",
    "        print(\"không có số nguyên tố thỏa yêu cầu\")\n",
    "    else:\n",
    "        for b in range(2,k):\n",
    "            if ktsnt(b):\n",
    "                print(\"%d \" %b)\n",
    "n = 200\n",
    "lietkesnt(n)"
   ]
  },
  {
   "cell_type": "markdown",
   "id": "c8f539c3-cbc6-48d8-817f-f2eaa722e881",
   "metadata": {},
   "source": [
    "1.3. In ra M số nguyên tố đầu tiên"
   ]
  },
  {
   "cell_type": "code",
   "execution_count": 20,
   "id": "443dbc41-f094-4884-a56a-357acf754dab",
   "metadata": {},
   "outputs": [
    {
     "name": "stdout",
     "output_type": "stream",
     "text": [
      "2 \n",
      "3 \n",
      "5 \n",
      "7 \n",
      "11 \n",
      "13 \n",
      "17 \n",
      "19 \n",
      "23 \n",
      "29 \n"
     ]
    }
   ],
   "source": [
    "### hàm liệt kê M\n",
    "def lietkeMsnt(M):\n",
    "    bien_dem = 0 # đếm: từ 0 đến M-1 - Biến đếm số lượng số nguyên tố đã tìm được\n",
    "    t = 2 # 0 VÀ 1 không là số nguyên tố\n",
    "    while(bien_dem < M):\n",
    "       if ktsnt(t):  # Kiểm tra xem t có phải số nguyên tố không\n",
    "          print(\"%d \" %t) # In số nguyên tố ra màn hình\n",
    "          bien_dem +=1 # Tăng biến đếm lên 1\n",
    "       t+=1 # Tăng giá trị t để kiểm tra số tiếp theo\n",
    "M=10\n",
    "lietkeMsnt(M)"
   ]
  },
  {
   "cell_type": "markdown",
   "id": "e4e98d0f-1153-4d39-904e-8480df86fcbd",
   "metadata": {},
   "source": [
    "## Bài 2"
   ]
  },
  {
   "cell_type": "markdown",
   "id": "f7cdb0cf-2e54-470e-9b80-49ea19e172ed",
   "metadata": {},
   "source": [
    "## Nội dung bài:"
   ]
  },
  {
   "cell_type": "markdown",
   "id": "23f132a2-729c-4dd2-831f-61a172c41a76",
   "metadata": {},
   "source": [
    "2.1. Viết chương trình in ra tất cả số chẵn trong khoảng (M,N) . \n",
    "N, M nhập từ\n",
    "bàn phím."
   ]
  },
  {
   "cell_type": "code",
   "execution_count": 22,
   "id": "bce18fe1-def2-4878-a3b6-eb81e6f14210",
   "metadata": {},
   "outputs": [
    {
     "name": "stdin",
     "output_type": "stream",
     "text": [
      "Nhập số chẵn dưới:  34\n",
      "Nhập số chẵn trên:  58\n"
     ]
    },
    {
     "name": "stdout",
     "output_type": "stream",
     "text": [
      "36  38  40  42  44  46  48  50  52  54  56  "
     ]
    }
   ],
   "source": [
    "# Hàm in các số chẵn từ M đến N-1\n",
    "def insochan(M, N):\n",
    "    for i in range(M + 1, N):  # Lặp từ M+1 đến N-1\n",
    "        if i % 2 == 0:         # Kiểm tra nếu i là số chẵn\n",
    "            print(\"%d \" % i, end=' ')  # In số chẵn, cùng dòng\n",
    "\n",
    "# Nhập giới hạn dưới và trên\n",
    "M = int(input(\"Nhập số chẵn dưới: \"))\n",
    "N = int(input(\"Nhập số chẵn trên: \"))\n",
    "\n",
    "# Gọi hàm\n",
    "insochan(M, N)"
   ]
  },
  {
   "cell_type": "markdown",
   "id": "4f53d888-35b3-4614-b9e2-c11a08fca14f",
   "metadata": {},
   "source": [
    "2.2. Tìm tất cả các số chia hết cho 7 nhưng không phải bội số của\n",
    "5, nằm trong đoạn [99;999] (tính cả 99 và 999)"
   ]
  },
  {
   "cell_type": "code",
   "execution_count": 1,
   "id": "7b43181d-8dd1-4b7e-aa72-03fee0b08498",
   "metadata": {},
   "outputs": [
    {
     "name": "stdout",
     "output_type": "stream",
     "text": [
      "112 \n",
      "119 \n",
      "126 \n",
      "133 \n",
      "147 \n",
      "154 \n",
      "161 \n",
      "168 \n",
      "182 \n",
      "189 \n",
      "196 \n",
      "203 \n",
      "217 \n",
      "224 \n",
      "231 \n",
      "238 \n",
      "252 \n",
      "259 \n",
      "266 \n",
      "273 \n",
      "287 \n",
      "294 \n",
      "301 \n",
      "308 \n",
      "322 \n",
      "329 \n",
      "336 \n",
      "343 \n",
      "357 \n",
      "364 \n",
      "371 \n",
      "378 \n",
      "392 \n",
      "399 \n",
      "406 \n",
      "413 \n",
      "427 \n",
      "434 \n",
      "441 \n",
      "448 \n",
      "462 \n",
      "469 \n",
      "476 \n",
      "483 \n",
      "497 \n",
      "504 \n",
      "511 \n",
      "518 \n",
      "532 \n",
      "539 \n",
      "546 \n",
      "553 \n",
      "567 \n",
      "574 \n",
      "581 \n",
      "588 \n",
      "602 \n",
      "609 \n",
      "616 \n",
      "623 \n",
      "637 \n",
      "644 \n",
      "651 \n",
      "658 \n",
      "672 \n",
      "679 \n",
      "686 \n",
      "693 \n",
      "707 \n",
      "714 \n",
      "721 \n",
      "728 \n",
      "742 \n",
      "749 \n",
      "756 \n",
      "763 \n",
      "777 \n",
      "784 \n",
      "791 \n",
      "798 \n",
      "812 \n",
      "819 \n",
      "826 \n",
      "833 \n",
      "847 \n",
      "854 \n",
      "861 \n",
      "868 \n",
      "882 \n",
      "889 \n",
      "896 \n",
      "903 \n",
      "917 \n",
      "924 \n",
      "931 \n",
      "938 \n",
      "952 \n",
      "959 \n",
      "966 \n",
      "973 \n",
      "987 \n",
      "994 \n"
     ]
    }
   ],
   "source": [
    "# Hàm liệt kê các số từ M đến N thỏa điều kiện: chia hết cho 7 nhưng không chia hết cho 5\n",
    "def lietke1(M, N):\n",
    "    for i in range(M, N + 1):        # Lặp từ M đến N (bao gồm N)\n",
    "        if (i % 7 == 0) and (i % 5 != 0):  # Kiểm tra: i chia hết cho 7 và không chia hết cho 5\n",
    "            print(\"%d \" % i)         # In i ra màn hình, cách nhau bằng khoảng trắng\n",
    "\n",
    "# Gán giá trị cho M và N\n",
    "M = 99\n",
    "N = 999\n",
    "\n",
    "# Gọi hàm lietke1 để in các số thỏa điều kiện\n",
    "lietke1(M, N)"
   ]
  },
  {
   "cell_type": "markdown",
   "id": "00395039-a393-4636-9f4e-b8509b0e842b",
   "metadata": {},
   "source": [
    "2.3. Tìm số đầu tiên chia hết cho 9 và chia hết cho 7 nằm trong\n",
    "đoạn [M,N]"
   ]
  },
  {
   "cell_type": "code",
   "execution_count": 8,
   "id": "cfa6f664-b841-4f1c-9210-4541328c9c48",
   "metadata": {},
   "outputs": [
    {
     "name": "stdout",
     "output_type": "stream",
     "text": [
      "63 \n"
     ]
    }
   ],
   "source": [
    "# Hàm tìm số đầu tiên trong khoảng M đến N chia hết cho cả 9 và 7\n",
    "def lietke2(M, N):\n",
    "    q = -1  # Biến lưu số tìm được, -1 nghĩa là chưa tìm thấy\n",
    "    for i in range(M, N + 1):  # Lặp từ M đến N (bao gồm N)\n",
    "        if (i % 9 == 0) and (i % 7 == 0):  # Kiểm tra i chia hết cho cả 9 và 7\n",
    "            q = i  # Lưu số đầu tiên thỏa điều kiện\n",
    "            break  # Dừng vòng lặp ngay sau khi tìm thấy\n",
    "    return q  # Trả về số tìm được, hoặc -1 nếu không tìm thấy\n",
    "\n",
    "M = 1\n",
    "N = 900\n",
    "q = lietke2(M, N)  # Gọi hàm để tìm số thỏa điều kiện đầu tiên\n",
    "\n",
    "# Kiểm tra kết quả\n",
    "if q == -1:\n",
    "    print(\"không có số thỏa điều kiện\")  # Nếu không tìm được số nào\n",
    "else:\n",
    "    print(\"%d \" % q)  # Nếu tìm được, in số đó ra\n",
    "            "
   ]
  },
  {
   "cell_type": "markdown",
   "id": "486c0e0d-a46a-45f6-9f53-258eb93af556",
   "metadata": {},
   "source": [
    "Cách 2"
   ]
  },
  {
   "cell_type": "code",
   "execution_count": 11,
   "id": "8ea8fa99-04ac-4527-94b3-0c602be8c710",
   "metadata": {},
   "outputs": [
    {
     "name": "stdout",
     "output_type": "stream",
     "text": [
      "63\n"
     ]
    }
   ],
   "source": [
    "import math\n",
    "\n",
    "def boichungdautien(M, N):\n",
    "    lcm = 9 * 7  # 63 - Tìm bội chung nhỏ nhất của 9 và 7\n",
    "    # Tìm số chia hết cho 63 nhỏ nhất nhưng >= M\n",
    "    if M % lcm == 0:\n",
    "        first = M\n",
    "    else:\n",
    "        first = M + (lcm - M % lcm) # m%lcm: lấy phần dư khi M chia cho lcm; lcm - m%lcm: tính bao nhiêu phải cộng vào M để đạt bội số tiếp theo của lcm, ví dụ 63 - 37 = 26 -> phải cộng 26 vào 100 sẽ được 126 là bội số của 63\n",
    "    # Kiểm tra xem first có <= N không\n",
    "    if first <= N:\n",
    "        return first\n",
    "    else:\n",
    "        return -1  # không tìm thấy\n",
    "\n",
    "M = 1\n",
    "N = 900\n",
    "q = boichungdautien(M, N)\n",
    "if q == -1:\n",
    "    print(\"Không có số thỏa điều kiện\")\n",
    "else:\n",
    "    print(q)"
   ]
  },
  {
   "cell_type": "markdown",
   "id": "26d80b53-9656-4037-a351-f976c99cfb35",
   "metadata": {},
   "source": [
    "## Bài 3"
   ]
  },
  {
   "cell_type": "markdown",
   "id": "470acd14-d3c7-4296-bdd0-05d20ce111b0",
   "metadata": {},
   "source": [
    "### Nội dung bài"
   ]
  },
  {
   "cell_type": "markdown",
   "id": "f18f8080-5a3b-4840-a587-d955ff678d3c",
   "metadata": {},
   "source": [
    "Nhập một số nguyên, đếm xem số đó có bao nhiêu chữ số và tính\n",
    "tổng các chữ số."
   ]
  },
  {
   "cell_type": "code",
   "execution_count": 16,
   "id": "57ae9ba5-6768-452d-8679-ebc5ae3a11ed",
   "metadata": {},
   "outputs": [
    {
     "name": "stdin",
     "output_type": "stream",
     "text": [
      "Nhập n: 578\n"
     ]
    },
    {
     "name": "stdout",
     "output_type": "stream",
     "text": [
      "8\n",
      "7\n",
      "5\n",
      "số lượng chữ số: 3\n",
      "tổng các chữ số: 20\n"
     ]
    }
   ],
   "source": [
    "# Hàm tính tổng các chữ số và đếm số chữ số của một số nguyên n\n",
    "def tinh(n):\n",
    "    tong = 0 # Biến lưu tổng các chữ số\n",
    "    dem = 0 # Biến đếm số chữ số\n",
    "    while(n>0):  # Lặp cho đến khi n = 0 #Mục đích là Lấy từng chữ số của n từ cuối lên đầu. #ví dụ: nếu n = 1234 thì vòng lặp sẽ chạy 4 lần\n",
    "        sodu = n%10 # Lấy chữ số cuối cùng của n (số dư khi chia 10) #số dư lần 1 lấy sẽ là 4, tiếp theo là 3, 2, và 1\n",
    "        tong = tong + sodu # Cộng chữ số vào tổng #ban đầu tổng là 0, số dư 4 ->\n",
    "        dem = dem + 1     # Tăng số chữ số lên 1\n",
    "        n = n//10  # Loại bỏ chữ số cuối cùng của n (chia lấy phần nguyên)\n",
    "        print(sodu)\n",
    "    return tong, dem  # Trả về tổng và số chữ số\n",
    "a = int(input(\"Nhập n:\"))\n",
    "tong, số_chữ_số = tinh(a)\n",
    "print(\"số lượng chữ số: %d\" % số_chữ_số)\n",
    "print(\"tổng các chữ số: %d\" %tong)"
   ]
  },
  {
   "cell_type": "markdown",
   "id": "8011dd32-da44-4f0c-b94f-1f4d328cc4f3",
   "metadata": {},
   "source": [
    "## Bài 4"
   ]
  },
  {
   "cell_type": "markdown",
   "id": "63182eb7-e498-4750-ba58-a4716890fb81",
   "metadata": {},
   "source": [
    "### Nội dung bài"
   ]
  },
  {
   "cell_type": "markdown",
   "id": "8b01af94-0aa3-4c2d-a420-1be45ea43c74",
   "metadata": {},
   "source": [
    "Đệ quy - Tính giai thừa của một số nguyên dương n"
   ]
  },
  {
   "cell_type": "code",
   "execution_count": 1,
   "id": "6c851f01-612d-4d6b-94d8-5c8988be4c78",
   "metadata": {},
   "outputs": [
    {
     "name": "stdout",
     "output_type": "stream",
     "text": [
      "Giai thừa của 5 là 120\n"
     ]
    }
   ],
   "source": [
    "# Hàm tính giai thừa của một số n (sử dụng đệ quy)\n",
    "def giaithua(n):\n",
    "    if n == 1:              # Nếu n = 1 thì dừng đệ quy\n",
    "        return 1             # Trả về 1, vì 1! = 1\n",
    "    else:\n",
    "        return n * giaithua(n-1)  # Nếu n > 1, gọi lại hàm giaithua(n-1) và nhân với n; ví dụ 5! = 5*4!\n",
    "\n",
    "num = 5                     # Gán số cần tính giai thừa\n",
    "print(\"Giai thừa của\", num, \"là\", giaithua(num))  \n",
    "# In ra kết quả: \"Giai thừa của 5 là 120\"\n"
   ]
  },
  {
   "cell_type": "markdown",
   "id": "b3a3c172-dd4d-400a-9160-87e9064cd804",
   "metadata": {},
   "source": [
    "## Bài 5"
   ]
  },
  {
   "cell_type": "markdown",
   "id": "022c7e9f-6236-47d7-9bbf-212343c04504",
   "metadata": {},
   "source": [
    "### Nội dung bài"
   ]
  },
  {
   "cell_type": "markdown",
   "id": "e3bb43b5-e565-4a38-9cc1-12522cef7ec2",
   "metadata": {},
   "source": [
    "Đệ quy - Tính lũy thừa a^b"
   ]
  },
  {
   "cell_type": "code",
   "execution_count": 4,
   "id": "83481cb7-da46-4366-bb4e-60e41d92e9b0",
   "metadata": {},
   "outputs": [
    {
     "name": "stdout",
     "output_type": "stream",
     "text": [
      "2 ^ 3 = 8\n"
     ]
    }
   ],
   "source": [
    "# Hàm tính a^b (lũy thừa) dùng đệ quy\n",
    "def power(a, b): # định nghĩa hàm power với cơ số a và số mũ b\n",
    "    if b == 0:           # Nếu số mũ = 0\n",
    "        return 1         # a^0 = 1 theo định nghĩa\n",
    "    elif a == 0:         # Nếu cơ số = 0\n",
    "        return 0         # 0^b = 0 với b > 0\n",
    "    elif b == 1:         # Nếu số mũ = 1\n",
    "        return a         # a^1 = a\n",
    "    else:\n",
    "        return a * power(a, b-1)  # a^b = a * a^(b-1)\n",
    "\n",
    "# Khởi tạo cơ số và số mũ\n",
    "a = 2\n",
    "b = 3\n",
    "\n",
    "# In kết quả lũy thừa\n",
    "print(a, \"^\", b, \"=\", power(a, b))  # In: 2 ^ 3 = 8"
   ]
  },
  {
   "cell_type": "markdown",
   "id": "c5398d26-232b-413e-9f86-a5a08cb13c7e",
   "metadata": {},
   "source": [
    "# Thực hành 2"
   ]
  },
  {
   "cell_type": "markdown",
   "id": "f1b1258f-de49-48b7-b74c-ef7fc8318101",
   "metadata": {},
   "source": [
    "## Bài 1"
   ]
  },
  {
   "cell_type": "markdown",
   "id": "6cdeee10-15be-414a-adf2-992c5f386a03",
   "metadata": {},
   "source": [
    "### Nội dung bài"
   ]
  },
  {
   "cell_type": "markdown",
   "id": "77e39026-270a-4428-98ce-38802d254fb4",
   "metadata": {},
   "source": [
    "Viết hàm tìm độ dài của một chuỗi (không dùng hàm len())"
   ]
  },
  {
   "cell_type": "code",
   "execution_count": 1,
   "id": "5318d92e-c75b-4a82-8882-3814aa48f1aa",
   "metadata": {},
   "outputs": [
    {
     "name": "stdout",
     "output_type": "stream",
     "text": [
      "chiều dài chuỗi : 20\n",
      "check len() function: 20\n"
     ]
    }
   ],
   "source": [
    "def chieudaichuoi(str1):\n",
    "    # Khai báo hàm chieudaichuoi nhận 1 tham số str1 (một chuỗi cần đo độ dài)\n",
    "    count = 0\n",
    "    # Khởi tạo biến đếm count = 0. Biến này sẽ tăng dần mỗi khi duyệt qua 1 ký tự.\n",
    "\n",
    "    for char in str1:\n",
    "        # Vòng lặp for duyệt từng ký tự (char) trong chuỗi str1, từ trái sang phải\n",
    "        count += 1\n",
    "        # Mỗi lần gặp 1 ký tự, tăng biến đếm count lên 1\n",
    "\n",
    "    return count\n",
    "    # Trả về tổng số ký tự đã đếm được\n",
    "\n",
    "ss = 'hello world ... !!!!'\n",
    "# Tạo biến chuỗi ss. Lưu ý: khoảng trắng, dấu chấm, dấu chấm than đều là ký tự và sẽ được tính vào độ dài.\n",
    "\n",
    "print('chiều dài chuỗi : {}'.format(chieudaichuoi(ss)))\n",
    "# Gọi hàm chieudaichuoi(ss) để đếm thủ công và in ra theo định dạng:\n",
    "# \"chiều dài chuỗi : <giá trị>\"\n",
    "\n",
    "print('check len() function:', len(ss))\n",
    "# Dùng hàm tích hợp sẵn len() của Python để lấy độ dài chuỗi nhanh hơn và chính xác.\n",
    "# Mục đích: kiểm tra kết quả đếm"
   ]
  },
  {
   "cell_type": "markdown",
   "id": "902f0d60-6f73-4b59-98d4-a9de4321ac2a",
   "metadata": {},
   "source": [
    "## Bài 2"
   ]
  },
  {
   "cell_type": "markdown",
   "id": "203862fd-317c-48c3-b9e1-e623b6f1b896",
   "metadata": {},
   "source": [
    "### Nội dung bài"
   ]
  },
  {
   "cell_type": "markdown",
   "id": "ee3d8b6f-fde4-44ce-b7e3-308f15cdc749",
   "metadata": {},
   "source": [
    " Viết chương trình đếm số lượng các từ trong một chuỗi (giả sử các từ trong\n",
    "chuỗi cách nhau bởi một khoảng trắng)"
   ]
  },
  {
   "cell_type": "code",
   "execution_count": 3,
   "id": "bc4b7dd7-fc73-4555-907c-1408d5196883",
   "metadata": {},
   "outputs": [
    {
     "name": "stdout",
     "output_type": "stream",
     "text": [
      "input:  Tách chuỗi dùng split\n",
      "tách từ:  ['Tách', 'chuỗi', 'dùng', 'split']\n",
      " The number of words in string are:  4\n"
     ]
    }
   ],
   "source": [
    "# TH1: Dùng split\n",
    "test_string = \"Tách chuỗi dùng split\" # Khai báo một chuỗi test_string chứa các từ cách nhau bằng khoảng trắng\n",
    "print (\"input: \", test_string) # in ra chuỗi ban đầu để dễ so sánh\n",
    "temp = test_string.split() # hàm split() mặc định tách chuỗi theo khoảng trắng\n",
    "#kết quả trả về là 1 list các từ [\"Tách\", \"chuỗi\", \"dùng\", \"split\"]\n",
    "print (\"tách từ: \", temp) # in ra danh sách các từ sau khi tách\n",
    "res = len(temp) # Đếm số phần tử trong list (chính là số từ trong chuỗi ban đầu)\n",
    "print(\" The number of words in string are: \", str(res)) # In ra số lượng từ trong chuỗi\n"
   ]
  },
  {
   "cell_type": "code",
   "execution_count": 6,
   "id": "379ee4e0-7fe8-411d-89e8-709dce379c6c",
   "metadata": {},
   "outputs": [
    {
     "name": "stdout",
     "output_type": "stream",
     "text": [
      "The number of words in string are 5\n"
     ]
    }
   ],
   "source": [
    "# TH2: Không dùng split\n",
    "test_string = \"Tách chuỗi không dùng split\"\n",
    "# Khởi tạo chuỗi cần đếm số từ\n",
    "\n",
    "if len(test_string) == 0 or (test_string.isspace()):\n",
    "    # Nếu chuỗi rỗng (len = 0) hoặc chỉ toàn khoảng trắng (isspace() = True)\n",
    "    # thì không có từ nào trong chuỗi\n",
    "    print(\"The number of words in string are = \", 0)\n",
    "\n",
    "else:\n",
    "    total = 0\n",
    "    # Biến total dùng để đếm số từ\n",
    "\n",
    "    test_string = test_string + ' '\n",
    "    # Thêm một khoảng trắng vào cuối chuỗi để dễ kiểm tra ký tự cuối cùng\n",
    "    # (nếu không thêm thì từ cuối cùng sẽ bị bỏ qua vì không có ' ' sau nó)\n",
    "\n",
    "    for i in range(len(test_string) - 1):\n",
    "        # Duyệt từng ký tự trong chuỗi (trừ ký tự cuối cùng đã thêm)\n",
    "\n",
    "        if (test_string[i] != ' ' and test_string[i+1] == ' '):\n",
    "            # Điều kiện nhận diện một từ:\n",
    "            # - test_string[i] khác khoảng trắng (nghĩa là đang ở trong một từ)\n",
    "            # - test_string[i+1] là khoảng trắng (nghĩa là từ vừa kết thúc)\n",
    "            \n",
    "            total = total + 1\n",
    "            # Khi phát hiện kết thúc 1 từ, tăng biến đếm\n",
    "\n",
    "    print(\"The number of words in string are\", total)\n",
    "    # In ra tổng số từ trong chuỗi"
   ]
  },
  {
   "cell_type": "markdown",
   "id": "7f2055ce-aaa5-4dcf-a8cd-ab68fde602db",
   "metadata": {},
   "source": [
    "## Bài 3"
   ]
  },
  {
   "cell_type": "markdown",
   "id": "34c95acb-e71a-4a3e-ab10-46f8100b0bef",
   "metadata": {},
   "source": [
    "### Nội dung bài"
   ]
  },
  {
   "cell_type": "markdown",
   "id": "15495293-cd1c-4852-b443-948a4a503cf6",
   "metadata": {},
   "source": [
    "Viết hàm đếm số lượng nguyên âm (a,e,i,o,u), phụ âm có trong chuỗi"
   ]
  },
  {
   "cell_type": "code",
   "execution_count": 7,
   "id": "c0039090-c022-4d9a-bdfe-9c93d3492154",
   "metadata": {},
   "outputs": [
    {
     "name": "stdout",
     "output_type": "stream",
     "text": [
      "Độ dài chuỗi: 12\n",
      "Số nguyên âm: 2\n",
      "Số phụ âm: 5\n"
     ]
    }
   ],
   "source": [
    "#Cách 1:\n",
    "# Chuỗi cần kiểm tra\n",
    "test_string = \" !! fdafdaf \"\n",
    "\n",
    "# Các ký hiệu đặc biệt cần loại bỏ khi đếm\n",
    "valid_symbols = \"!@#$%^&*()_+=-{}[]<>/,.\" #valid_symbols chứa các ký hiệu đặc biệt không cần tính\n",
    "\n",
    "# Hàm đếm nguyên âm và phụ âm trong chuỗi\n",
    "def dem_nguyenam_phuam(string): # duyệt từng ký tự trong chuỗi\n",
    "    nguyenam = 0   # Biến đếm nguyên âm\n",
    "    phuam = 0      # Biến đếm phụ âm\n",
    "\n",
    "    for char in string:\n",
    "        # Loại bỏ khoảng trắng và ký hiệu đặc biệt\n",
    "        if char != ' ' and char not in valid_symbols:\n",
    "            # Nếu ký tự là nguyên âm (cả thường và hoa)\n",
    "            if char in \"aeiouAEIOU\":\n",
    "                nguyenam += 1\n",
    "            else:\n",
    "                phuam += 1  # Còn lại là phụ âm\n",
    "\n",
    "    return nguyenam, phuam\n",
    "\n",
    "# In ra độ dài chuỗi (bao gồm cả khoảng trắng và ký hiệu)\n",
    "print(\"Độ dài chuỗi:\", len(test_string))\n",
    "\n",
    "# Gọi hàm để lấy số nguyên âm và phụ âm\n",
    "v, c = dem_nguyenam_phuam(test_string)\n",
    "\n",
    "# In kết quả\n",
    "print(\"Số nguyên âm:\", v)\n",
    "print(\"Số phụ âm:\", c)"
   ]
  },
  {
   "cell_type": "code",
   "execution_count": 8,
   "id": "201764e2-8145-4c09-be53-54ddf13eefc7",
   "metadata": {},
   "outputs": [],
   "source": [
    "# Cách 2:\n",
    "def dem_nguyenam_phuam_2(string):\n",
    "    nguyenam = 0\n",
    "    phuam = 0\n",
    "    for i in string:\n",
    "        if i != ' ' and i not in valid_symbols:\n",
    "            if(i=='a' or i=='e' or i=='i' or i=='o' or i=='u' or i=='A' or i=='E' or i=='I' or i=='O' or i=='U'):\n",
    "                nguyenam = nguyenam+1\n",
    "            else:\n",
    "                phuam = phuam +1\n",
    "    return nguyenam, phuam"
   ]
  },
  {
   "cell_type": "markdown",
   "id": "8581178f-ea3b-435a-bad9-fe014e3c7ea8",
   "metadata": {},
   "source": [
    "# Thực hành 3"
   ]
  },
  {
   "cell_type": "markdown",
   "id": "ac61ed77-d11b-40ad-b9c3-92a2db138d0c",
   "metadata": {},
   "source": [
    "## Bài 1"
   ]
  },
  {
   "cell_type": "markdown",
   "id": "98122e6c-a1dd-4cd2-80ca-b3f1a6528d9f",
   "metadata": {},
   "source": [
    "### Nội dung bài"
   ]
  },
  {
   "cell_type": "markdown",
   "id": "d6e309e0-33ab-4979-9bf7-0048da7e1d57",
   "metadata": {},
   "source": [
    "Sắp xếp List dùng string_compare và integer_compare"
   ]
  },
  {
   "cell_type": "code",
   "execution_count": 10,
   "id": "284b66f5-619f-4231-9577-cbb3d269b8cd",
   "metadata": {},
   "outputs": [
    {
     "name": "stdout",
     "output_type": "stream",
     "text": [
      "Input: ['3', '27', '5', '123', '9', '1']\n",
      "StringSort: ['1', '123', '27', '3', '5', '9']\n",
      "INTSort: ['1', '3', '5', '9', '27', '123']\n"
     ]
    }
   ],
   "source": [
    "# Danh sách A gồm các CHUỖI chữ số (không phải số nguyên)\n",
    "A = ['3', '27', '5', '123', '9', '1']\n",
    "\n",
    "print(\"Input:\", A)\n",
    "# In ra dữ liệu đầu vào để đối chiếu kết quả\n",
    "\n",
    "# ----- Cách 1: sorted() mặc định với kiểu chuỗi -----\n",
    "StringSort = sorted(A)\n",
    "# sorted() mặc định so sánh theo thứ tự từ điển (lexicographical) của CHUỖI\n",
    "# Tức là so sánh từng ký tự theo mã Unicode: '1' < '2' < '3' ...\n",
    "# Vì vậy '123' sẽ đứng trước '27' (vì so sánh ký tự đầu '1' < '2')\n",
    "\n",
    "print(\"StringSort:\", StringSort)\n",
    "# Ví dụ kết quả: ['1', '123', '27', '3', '5', '9']\n",
    "\n",
    "\n",
    "# ----- Cách 2: sorted() với key chuyển sang số nguyên -----\n",
    "def myintSort(a):\n",
    "    # Hàm key: nhận chuỗi a và trả về giá trị SỐ để dùng làm khóa sắp xếp\n",
    "    return int(a)\n",
    "\n",
    "INTSort = sorted(A, key=myintSort)\n",
    "# Cơ chế: sorted sẽ gọi myintSort(x) để lấy \"khóa\" (key) của từng phần tử\n",
    "# rồi sắp xếp theo khóa đó. Do ta trả về int(a), việc sắp xếp sẽ theo giá trị SỐ.\n",
    "# Lưu ý: sorted luôn trả về danh sách phần tử GỐC (chuỗi), chỉ khóa là số.\n",
    "\n",
    "print(\"INTSort:\", INTSort)\n",
    "# Ví dụ kết quả: ['1', '3', '5', '9', '27', '123']\n",
    "\n",
    "# Ghi chú:\n",
    "# - sorted() tạo LIST MỚI; nếu muốn sắp xếp tại chỗ dùng A.sort().\n",
    "# - Có thể viết gọn: INTSort = sorted(A, key=int)  # vì int chính là hàm chuyển đổi.\n",
    "# - Nếu có phần tử không phải chữ số (vd: '12a'), int('12a') sẽ gây ValueError."
   ]
  },
  {
   "cell_type": "markdown",
   "id": "2200edee-e370-4131-9972-931d26959a36",
   "metadata": {},
   "source": [
    "## Bài 2"
   ]
  },
  {
   "cell_type": "markdown",
   "id": "173a95e5-b465-40a5-8b04-49797337117c",
   "metadata": {},
   "source": [
    "### Nội dung bài"
   ]
  },
  {
   "cell_type": "markdown",
   "id": "ddedf2ff-b979-47ac-9a1c-4e492b06d95d",
   "metadata": {},
   "source": [
    "Viết chương trình in list sau khi đã xóa số tại vị trí thứ 1, thứ 2, thứ 3, thứ 6\n",
    "trong [12,24,35,70,88,120,155]."
   ]
  },
  {
   "cell_type": "code",
   "execution_count": 11,
   "id": "a1bc7d6e-532e-401b-aac3-118a43ef2060",
   "metadata": {},
   "outputs": [
    {
     "name": "stdout",
     "output_type": "stream",
     "text": [
      "Input: [12, 24, 35, 70, 88, 120, 155]\n",
      "Sau khi Xoa: [12, 88, 120]\n"
     ]
    }
   ],
   "source": [
    "# Danh sách ban đầu\n",
    "A = [12, 24, 35, 70, 88, 120, 155]\n",
    "print(\"Input:\", A)\n",
    "\n",
    "# Các chỉ số (index) cần xóa trong danh sách A\n",
    "indexR = [1, 2, 3, 6]   # tức là xóa phần tử ở vị trí 1,2,3,6 (tính từ 0)\n",
    "\n",
    "# Dùng list comprehension kết hợp với enumerate\n",
    "# enumerate(A) trả về (index, value) cho từng phần tử trong A\n",
    "# chỉ giữ lại các phần tử có index không thuộc indexR\n",
    "B = [x for i, x in enumerate(A) if i not in indexR]\n",
    "\n",
    "print(\"Sau khi Xoa:\", B)"
   ]
  },
  {
   "cell_type": "markdown",
   "id": "29e00147-778f-45bf-834c-3d7d269eeb11",
   "metadata": {},
   "source": [
    "## Bài 3"
   ]
  },
  {
   "cell_type": "markdown",
   "id": "572863e9-1c46-4b2e-8138-528f3a96d1ef",
   "metadata": {},
   "source": [
    "### Nội dung bài"
   ]
  },
  {
   "cell_type": "markdown",
   "id": "33b4aff9-b76c-4950-9636-00a78e966c08",
   "metadata": {},
   "source": [
    "Xóa các phần tử trùng nhau trong list"
   ]
  },
  {
   "cell_type": "code",
   "execution_count": 12,
   "id": "50e82d10-cbf7-4015-9e61-9d667be96ca9",
   "metadata": {},
   "outputs": [
    {
     "name": "stdout",
     "output_type": "stream",
     "text": [
      "Input: [1, 1, 1, 2, 2, 2, 3, 1, 2, 5, 6, 7, 8, 5, 6, 7]\n",
      "Output_1: [1, 2, 3, 5, 6, 7, 8]\n",
      "Output_2: [1, 2, 3, 5, 6, 7, 8]\n",
      "Output_3: [1, 2, 3, 5, 6, 7, 8]\n",
      "Output_4: [1, 2, 3, 5, 6, 7, 8]\n"
     ]
    }
   ],
   "source": [
    "# Danh sách A có nhiều phần tử trùng lặp\n",
    "A = [1, 1, 1, 2, 2, 2, 3, 1, 2, 5, 6, 7, 8, 5, 6, 7]\n",
    "print(\"Input:\", A)\n",
    "\n",
    "# --- Cách 1: Dùng vòng lặp + list.append ---\n",
    "B = []\n",
    "[B.append(x) for x in A if x not in B]\n",
    "# Lần lượt duyệt từng phần tử trong A\n",
    "# Nếu phần tử đó chưa có trong B thì thêm vào\n",
    "print(\"Output_1:\", B)\n",
    "\n",
    "\n",
    "# --- Cách 2: Dùng List comprehension với enumerate ---\n",
    "newlist = [ii for n, ii in enumerate(A) if ii not in A[:n]]\n",
    "# enumerate(A) sinh ra cặp (chỉ số n, giá trị ii)\n",
    "# điều kiện: chỉ lấy phần tử ii nếu nó chưa từng xuất hiện trong A[0:n]\n",
    "# tức là chỉ lấy phần tử đầu tiên trong mỗi nhóm trùng lặp\n",
    "print(\"Output_2:\", newlist)\n",
    "\n",
    "\n",
    "# --- Cách 3: Dùng tập hợp (set) ---\n",
    "Newlist_set = list(set(A))\n",
    "# set(A) loại bỏ phần tử trùng lặp\n",
    "# nhưng set không giữ nguyên thứ tự ban đầu\n",
    "# chuyển lại về list để dễ dùng\n",
    "print(\"Output_3:\", Newlist_set)\n",
    "\n",
    "\n",
    "# --- Cách 4: Dùng từ điển ---\n",
    "mylist = list(dict.fromkeys(A))\n",
    "# dict.fromkeys(A) tạo dictionary với key là các phần tử trong A\n",
    "# key trong dict là duy nhất nên các phần tử trùng sẽ tự động bị loại bỏ\n",
    "# Python 3.7+ giữ nguyên thứ tự nên kết quả giống Cách 1\n",
    "print(\"Output_4:\", mylist)"
   ]
  },
  {
   "cell_type": "markdown",
   "id": "27368c01-db23-4065-828f-1d9c0c085d57",
   "metadata": {},
   "source": [
    "## Bài 4"
   ]
  },
  {
   "cell_type": "markdown",
   "id": "64fbef56-25c6-4d19-a97b-ac7d424e5996",
   "metadata": {},
   "source": [
    "### Nội dung bài"
   ]
  },
  {
   "cell_type": "code",
   "execution_count": 1,
   "id": "787d208e-7bed-4c35-96d6-82e9eb0d6945",
   "metadata": {},
   "outputs": [
    {
     "name": "stdout",
     "output_type": "stream",
     "text": [
      "1:4,2:4,3:2,4:1,5:2,\n",
      "\n",
      "[(1, 4), (2, 4), (3, 2), (4, 1), (5, 2)]\n",
      "1:4,2:4,3:2,4:1,5:2,\n",
      "\n",
      "{1: 4, 2: 4, 3: 2, 4: 1, 5: 2}\n",
      "Counter({1: 4, 2: 4, 3: 2, 5: 2, 4: 1})\n"
     ]
    }
   ],
   "source": [
    "A = [1,1,1,1,2,2,2,2,3,3,4,5,5]\n",
    "\n",
    "# --- Cách 1: Không dùng set và dictionary ---\n",
    "e = []   # danh sách lưu các phần tử duy nhất\n",
    "for i in range(len(A)):\n",
    "    if A[i] not in e:         # nếu phần tử chưa có trong e\n",
    "        e.append(A[i])        # thêm vào e\n",
    "        print(A[i], \":\", A.count(A[i]), sep=\"\", end=\",\")\n",
    "        # A.count(A[i]) đếm số lần xuất hiện trong A\n",
    "print(\"\\n\")\n",
    "\n",
    "\n",
    "# --- Cách 2: Dùng tập hợp (set) ---\n",
    "b = [(x, A.count(x)) for x in set(A)]\n",
    "# duyệt qua từng phần tử duy nhất trong set(A)\n",
    "# tạo list gồm tuple (giá trị, số lần xuất hiện)\n",
    "print(b)\n",
    "\n",
    "for i in range(len(b)):\n",
    "    print(b[i][0], \":\", b[i][1], sep=\"\", end=\",\")\n",
    "print(\"\\n\")\n",
    "\n",
    "\n",
    "# --- Cách 3: Dùng từ điển ---\n",
    "d = {x: A.count(x) for x in A}\n",
    "# tạo dict với key là phần tử, value là số lần xuất hiện\n",
    "print(d)\n",
    "\n",
    "\n",
    "# --- Cách 4: Dùng Counter từ collections ---\n",
    "import collections\n",
    "ctr = collections.Counter(A)\n",
    "# Counter tự động tạo dictionary với key là phần tử, value là số lần xuất hiện\n",
    "print(ctr)"
   ]
  },
  {
   "cell_type": "markdown",
   "id": "8b30f3b7-5c6a-47d4-90b7-c9c52c24f195",
   "metadata": {},
   "source": [
    "# Thực hành 4: Cấu trúc điều kiện"
   ]
  },
  {
   "cell_type": "markdown",
   "id": "2b90f4e0-c6ea-42a8-a4a1-3bd95e501dc8",
   "metadata": {},
   "source": [
    "## Bài 1"
   ]
  },
  {
   "cell_type": "markdown",
   "id": "d68222de-8033-40e7-8273-5bc97794f9a2",
   "metadata": {},
   "source": [
    "### Nội dung bài"
   ]
  },
  {
   "cell_type": "markdown",
   "id": "aad89bf5-d681-40ed-925a-dd91b0ea1274",
   "metadata": {},
   "source": [
    "Nhập một số bất kỳ. Hãy đọc giá trị của số nguyên đó nếu nó có giá trị từ 1\n",
    "đến 9, ngược lại thông báo không đọc được."
   ]
  },
  {
   "cell_type": "code",
   "execution_count": 2,
   "id": "8f07ac1d-671f-481c-a1dc-383563967b3b",
   "metadata": {},
   "outputs": [
    {
     "name": "stdin",
     "output_type": "stream",
     "text": [
      "Nhập số nguyên bất kỳ:  5\n"
     ]
    },
    {
     "name": "stdout",
     "output_type": "stream",
     "text": [
      "Số vừa nhập là: năm\n"
     ]
    }
   ],
   "source": [
    "# Nhập một số nguyên bất kỳ\n",
    "n = int(input(\"Nhập số nguyên bất kỳ: \"))\n",
    "\n",
    "# Dùng câu điều kiện để kiểm tra\n",
    "if 1 <= n <= 9:\n",
    "    # Tạo danh sách cách đọc số\n",
    "    so_doc = [\"một\", \"hai\", \"ba\", \"bốn\", \"năm\", \"sáu\", \"bảy\", \"tám\", \"chín\"]\n",
    "    print(\"Số vừa nhập là:\", so_doc[n-1])   # vì list bắt đầu từ 0 nên lấy n-1\n",
    "else:\n",
    "    print(\"Không đọc được số này!\")"
   ]
  },
  {
   "cell_type": "markdown",
   "id": "f1f0cae1-2c06-4162-9859-13251c0e3d1b",
   "metadata": {},
   "source": [
    "## Bài 2"
   ]
  },
  {
   "cell_type": "markdown",
   "id": "930e9618-181a-4db7-86df-4a7c789f518a",
   "metadata": {},
   "source": [
    "### Nội dung bài"
   ]
  },
  {
   "cell_type": "markdown",
   "id": "998976bf-b8ef-424f-9456-e0d8fcb7629f",
   "metadata": {},
   "source": [
    "Nhập một chữ cái. Nếu là chữ thường thì đổi sang chữ hoa, ngược lại đổi sang\n",
    "chữ thường."
   ]
  },
  {
   "cell_type": "code",
   "execution_count": 8,
   "id": "94d6a423-c6f8-4ace-a834-cd120a17d3af",
   "metadata": {},
   "outputs": [
    {
     "name": "stdin",
     "output_type": "stream",
     "text": [
      "Nhập một chữ cái bất kỳ:  T\n"
     ]
    },
    {
     "name": "stdout",
     "output_type": "stream",
     "text": [
      "Chữ sau khi đổi là: t\n"
     ]
    }
   ],
   "source": [
    "#Nhập một chữ cái bất kỳ\n",
    "n = input(\"Nhập một chữ cái bất kỳ: \")\n",
    "# Dùng câu điều kiện để kiểm tra\n",
    "if n.islower(): #nếu n là chữ thường\n",
    "   print(\"Chữ sau khi đổi là:\", n.upper()) #đổi sang chữ hoa\n",
    "elif n.isupper(): #nếu n là chữ hoa\n",
    "   print(\"Chữ sau khi đổi là:\", n.lower()) # đổi sang chữ thường\n",
    "else:\n",
    "   print(\"Không phải chữ cái!\")"
   ]
  },
  {
   "cell_type": "markdown",
   "id": "4eb57c83-94a9-4484-9b2f-6f5551699554",
   "metadata": {},
   "source": [
    "## Bài 3"
   ]
  },
  {
   "cell_type": "markdown",
   "id": "0b36f77d-308f-49f7-aef2-d5d5cc552aa4",
   "metadata": {},
   "source": [
    "### Nội dung bài"
   ]
  },
  {
   "cell_type": "markdown",
   "id": "845ce4a0-7656-4b6b-a004-1f40d942d85b",
   "metadata": {},
   "source": [
    "Giải phương trình bậc nhất ax + b = 0"
   ]
  },
  {
   "cell_type": "code",
   "execution_count": 9,
   "id": "766120ee-47c3-44f5-a9ce-f222009784cb",
   "metadata": {},
   "outputs": [
    {
     "name": "stdin",
     "output_type": "stream",
     "text": [
      "Nhập a:  6\n",
      "Nhập b:  8\n"
     ]
    },
    {
     "name": "stdout",
     "output_type": "stream",
     "text": [
      "Phương trình có nghiệm x = -1.3333333333333333\n"
     ]
    }
   ],
   "source": [
    "# Nhập hệ số a và b từ người dùng\n",
    "a = float(input(\"Nhập a: \"))  # Chuyển giá trị nhập vào thành số thực\n",
    "b = float(input(\"Nhập b: \"))  # Chuyển giá trị nhập vào thành số thực\n",
    "\n",
    "# Kiểm tra giá trị của a để xác định loại phương trình\n",
    "if a != 0:  \n",
    "    # Nếu a khác 0, phương trình có nghiệm duy nhất\n",
    "    x = -b / a  # Công thức nghiệm của phương trình bậc nhất\n",
    "    print(\"Phương trình có nghiệm x =\", x)\n",
    "else:\n",
    "    # Nếu a = 0, cần xét giá trị của b\n",
    "    if b == 0:\n",
    "        print(\"Phương trình có vô số nghiệm\")  # 0x + 0 = 0\n",
    "    else:\n",
    "        print(\"Phương trình vô nghiệm\")  # 0x + b = 0 mà b ≠ 0"
   ]
  },
  {
   "cell_type": "markdown",
   "id": "60de6a79-63ee-4f01-b246-ef488df34ab1",
   "metadata": {},
   "source": [
    "## Bài 4"
   ]
  },
  {
   "cell_type": "markdown",
   "id": "dc4ecd7b-d35e-4b80-b0ef-337da5b629c6",
   "metadata": {},
   "source": [
    "### Nội dung bài"
   ]
  },
  {
   "cell_type": "markdown",
   "id": "1e1bd401-a8e7-4a6a-978e-3f1a69739a8f",
   "metadata": {},
   "source": [
    "Giải phương trình bậc hai ax2 + bx + c = 0"
   ]
  },
  {
   "cell_type": "code",
   "execution_count": 14,
   "id": "17ff20fb-1372-4bbb-a6f5-73f4599c2639",
   "metadata": {},
   "outputs": [
    {
     "name": "stdin",
     "output_type": "stream",
     "text": [
      "Nhập a:  3\n",
      "Nhập b:  8\n",
      "Nhập c:  1\n"
     ]
    },
    {
     "name": "stdout",
     "output_type": "stream",
     "text": [
      "Phương trình có 2 nghiệm phân biệt: x1 = -0.13148290817867028 , x2 = -2.5351837584879964\n"
     ]
    }
   ],
   "source": [
    "import math #thư viện toán học để dùng được hàm sqrt(căn bậc 2)\n",
    "# nhập hệ số a,b,c\n",
    "a = float(input(\"Nhập a: \")) # chuyển giá trị nhập vào thành số thực\n",
    "b = float(input(\"Nhập b: \")) # chuyển giá trị nhập vào thành số thực\n",
    "c = float(input(\"Nhập c: \")) # chuyển giá trị nhập vào thành số thực\n",
    "# Bước 1: Kiểm tra a = 0, nếu a=0 thì pt thành pt bậc 1\n",
    "if a == 0:\n",
    "    if b !=0:\n",
    "        x = -c/b # nghiệm của phương trình bậc nhất bx + c=0\n",
    "        print(\"Phương trình bậc nhất, nghiệm x =\", x)\n",
    "    else:\n",
    "        if c == 0:\n",
    "            print(\"Phương trình có vô số nghiệm\") #0x+0=0\n",
    "        else:\n",
    "            print(\"Phương trình vô nghiệm\") #0x + c = 0 mà c ≠ 0\n",
    "else:\n",
    "    #Tính delta\n",
    "    delta = b**2 - 4*a*c # công thức tính delta của pt bậc 2\n",
    "    #kiểm tra các trường hợp theo giá trị delta\n",
    "    if delta > 0:\n",
    "        x1 = (-b + math.sqrt(delta))/ (2*a) # nghiệm thứ nhất\n",
    "        x2 = (-b - math.sqrt(delta))/ (2*a) # nghiệm thứ hai\n",
    "        print(\"Phương trình có 2 nghiệm phân biệt: x1 =\", x1, \", x2 =\", x2)\n",
    "    elif delta == 0:\n",
    "        x = -b /(2*a) # nghiệm kép\n",
    "        print(\"Phương trình có nghiệm kép: x =\", x)\n",
    "    else:\n",
    "        print(\"Phương trình vô nghiệm!\")  #delta <0hông có nghiệm thực\n"
   ]
  },
  {
   "cell_type": "markdown",
   "id": "307a80fb-403d-4163-8e9d-fd472d9866c0",
   "metadata": {},
   "source": [
    "## Bài 5"
   ]
  },
  {
   "cell_type": "markdown",
   "id": "97368305-9006-4502-a103-1ee905484e04",
   "metadata": {},
   "source": [
    "### Nội dung bài"
   ]
  },
  {
   "cell_type": "markdown",
   "id": "aa641b9e-bc0f-4a06-a972-ac1483723877",
   "metadata": {},
   "source": [
    " Nhập 4 số nguyên a, b, c và d. Tìm số có giá trị nhỏ nhất (min)."
   ]
  },
  {
   "cell_type": "code",
   "execution_count": 1,
   "id": "e04ad480-a092-443b-bdab-3a9b0828d376",
   "metadata": {},
   "outputs": [
    {
     "name": "stdin",
     "output_type": "stream",
     "text": [
      "Nhập số nguyên a:  5\n",
      "Nhập số nguyên b:  6\n",
      "Nhập số nguyên c:  9\n",
      "Nhập số nguyên d:  3\n"
     ]
    },
    {
     "name": "stdout",
     "output_type": "stream",
     "text": [
      "Số nhỏ nhất là: 3\n"
     ]
    }
   ],
   "source": [
    "# Nhập 4 số nguyên\n",
    "a = int(input(\"Nhập số nguyên a: \"))  # Chuyển giá trị nhập vào thành số nguyên\n",
    "b = int(input(\"Nhập số nguyên b: \"))\n",
    "c = int(input(\"Nhập số nguyên c: \"))\n",
    "d = int(input(\"Nhập số nguyên d: \"))\n",
    "\n",
    "# Cách 1: dùng hàm min có sẵn của Python\n",
    "min_value = min(a, b, c, d)  # Hàm min trả về giá trị nhỏ nhất trong các tham số\n",
    "print(\"Số nhỏ nhất là:\", min_value)\n",
    "\n",
    "# Cách 2: dùng so sánh từng bước (nếu không dùng hàm min)\n",
    "# min_value = a  # Giả sử a là nhỏ nhất ban đầu\n",
    "# if b < min_value:\n",
    "#     min_value = b\n",
    "# if c < min_value:\n",
    "#     min_value = c\n",
    "# if d < min_value:\n",
    "#     min_value = d\n",
    "# print(\"Số nhỏ nhất là:\", min_value)"
   ]
  },
  {
   "cell_type": "markdown",
   "id": "cb231724-2f1f-47d5-a6f7-8d2fe19b6391",
   "metadata": {},
   "source": [
    "## Bài 6"
   ]
  },
  {
   "cell_type": "markdown",
   "id": "f3608bb7-0467-4745-a4da-24c49b57c489",
   "metadata": {},
   "source": [
    "### Nội dung bài"
   ]
  },
  {
   "cell_type": "markdown",
   "id": "ad2e4c5c-dadc-4a8f-815b-be4185fef3c1",
   "metadata": {},
   "source": [
    " Nhập 4 số nguyên a, b, c và d. Hãy sắp xếp giá trị của 4 số nguyên này theo thứ tự tăng\n",
    "dần"
   ]
  },
  {
   "cell_type": "code",
   "execution_count": 3,
   "id": "9f3c8237-f1d6-4edf-83a7-403551b19051",
   "metadata": {},
   "outputs": [
    {
     "name": "stdin",
     "output_type": "stream",
     "text": [
      "Nhập số nguyên a:  5\n",
      "Nhập số nguyên b:  4\n",
      "Nhập số nguyên c:  6\n",
      "Nhập số nguyên d:  2\n"
     ]
    },
    {
     "name": "stdout",
     "output_type": "stream",
     "text": [
      " Các số được sắp xếp theo thứ tự tăng dần là:  [2, 4, 5, 6]\n"
     ]
    }
   ],
   "source": [
    "# Nhập 4 số nguyên a,b,c,d\n",
    "a = int(input(\"Nhập số nguyên a: \")) #nhập số nguyên a\n",
    "b = int(input(\"Nhập số nguyên b: \"))\n",
    "c = int(input(\"Nhập số nguyên c: \"))\n",
    "d = int(input(\"Nhập số nguyên d: \"))\n",
    "#đưa các số vào 1 danh sách (list)\n",
    "numbers = [a,b,c,d]\n",
    "# sắp xếp danh sách theo thứ tự tăng dần\n",
    "numbers.sort() #hàm sort() sắp xếp trực tiếp trên danh sách\n",
    "#In kết quả\n",
    "print(\" Các số được sắp xếp theo thứ tự tăng dần là: \", numbers)"
   ]
  },
  {
   "cell_type": "markdown",
   "id": "7a5f5a25-4d3d-49ed-be18-bd4b82e7f8bf",
   "metadata": {},
   "source": [
    "## Bài 7"
   ]
  },
  {
   "cell_type": "markdown",
   "id": "af132b37-e5b8-4e10-b029-ccef1747f035",
   "metadata": {},
   "source": [
    "### Nội dung bài"
   ]
  },
  {
   "cell_type": "markdown",
   "id": "a47a046b-f642-46f4-8899-1f977a27fcdd",
   "metadata": {},
   "source": [
    "Tính tiền đi taxi từ số km nhập vào. \n",
    "\n",
    "Biết:\n",
    "\n",
    "• 1 km đầu giá 15000đ\n",
    "\n",
    "• Từ km thứ 2 đến km thứ 5 giá 13500đ\n",
    "\n",
    "• Từ km thứ 6 trở đi giá 11000\n",
    "\n",
    "• Nếu trên 120km được giảm 10% tổng tiền."
   ]
  },
  {
   "cell_type": "code",
   "execution_count": 6,
   "id": "90fea14b-eb52-45ee-b039-255d0dbf8302",
   "metadata": {},
   "outputs": [
    {
     "name": "stdin",
     "output_type": "stream",
     "text": [
      "Số km bạn đã đi taxi là:  130\n"
     ]
    },
    {
     "name": "stdout",
     "output_type": "stream",
     "text": [
      "Số tiền bạn phải trả là:  1299600 đồng\n"
     ]
    }
   ],
   "source": [
    "# Nhập số km đi taxi\n",
    "km = float(input(\"Số km bạn đã đi taxi là: \"))\n",
    "# khởi tạo biến tiền\n",
    "money = 0\n",
    "# xét các trường hợp theo số km\n",
    "if km <= 1: # nếu đi <= 1km thì giá tiền là 15.000đ\n",
    "    money = 15000\n",
    "elif km <= 5: # 1<= km <=5\n",
    "    money = 15000 + (km - 1)*13500\n",
    "elif km <= 120: #nếu đi từ 6km đến 120 km\n",
    "    money = 15000 + 4*13500 + (km-5)*11000\n",
    "else:\n",
    "    money = (15000 + 4*13500 + (km - 5)*11000)*0.9 # do giảm 10%\n",
    "# in kết quả\n",
    "print(\"Số tiền bạn phải trả là: \", int(money), \"đồng\")"
   ]
  },
  {
   "cell_type": "markdown",
   "id": "3596c332-0af2-489e-807a-f089b01e960a",
   "metadata": {},
   "source": [
    "## Bài 8"
   ]
  },
  {
   "cell_type": "markdown",
   "id": "39329673-873b-4b32-a29c-a59ada339247",
   "metadata": {},
   "source": [
    "### Nội dung bài"
   ]
  },
  {
   "cell_type": "markdown",
   "id": "88792078-75ba-4e72-a331-fc82018e01ff",
   "metadata": {},
   "source": [
    " Nhập vào tháng và năm. Cho biết tháng đó có bao nhiêu ngày."
   ]
  },
  {
   "cell_type": "code",
   "execution_count": 14,
   "id": "1fc88496-6436-4447-98ba-83b9ba017930",
   "metadata": {},
   "outputs": [
    {
     "name": "stdin",
     "output_type": "stream",
     "text": [
      "Nhập tháng (1-12)):  2\n",
      "Nhập năm:  2020\n"
     ]
    },
    {
     "name": "stdout",
     "output_type": "stream",
     "text": [
      "Tháng 2 năm 2020 có 29 ngày.\n"
     ]
    }
   ],
   "source": [
    "# Nhập tháng và năm\n",
    "month = int(input(\"Nhập tháng (1-12)): \"))\n",
    "year = int(input(\"Nhập năm: \"))\n",
    "# kiểm tra năm nhuận\n",
    "# - Chia hết cho 400 thì là năm nhất\n",
    "# - Chia hết cho 4 nhưng không chia hết cho 100\n",
    "is_leap = (year % 400 == 0) or ((year % 4 == 0) and (year %100 != 0))\n",
    "# Xác định số ngày theo tháng\n",
    "if month in [1, 3, 5, 7, 8, 10, 12]:\n",
    "    days = 31\n",
    "elif month in [4, 6, 9, 11]:\n",
    "    days = 30\n",
    "elif month == 2:\n",
    "     if is_leap:\n",
    "         days = 29\n",
    "     else:\n",
    "         days = 28\n",
    "else:\n",
    "    days = 0 #trường hợp nhập tháng không hợp lệ)\n",
    "#in kết quả\n",
    "if days != 0:\n",
    "   print(f\"Tháng {month} năm {year} có {days} ngày.\")\n",
    "else:\n",
    "   print(\"Tháng không hợp lệ! Vui lòng nhập từ 1 đến 12. \")"
   ]
  },
  {
   "cell_type": "markdown",
   "id": "4eeebe3e-c15e-4c78-96e6-d0787b8e8744",
   "metadata": {},
   "source": [
    "## Bài 9"
   ]
  },
  {
   "cell_type": "markdown",
   "id": "8757eba6-b8d8-45a9-8bab-2965a91f3920",
   "metadata": {},
   "source": [
    "### Nội dung bài"
   ]
  },
  {
   "cell_type": "markdown",
   "id": "9e58be25-dd28-4e6d-93eb-a4da3314e78b",
   "metadata": {},
   "source": [
    "Nhập độ dài 3 cạnh 1 tam giác. Kiểm tra đó có phải là tam giác không và là tam giác gì?"
   ]
  },
  {
   "cell_type": "code",
   "execution_count": 2,
   "id": "dfaa7481-d970-4acf-af4f-0cf6f27c4302",
   "metadata": {},
   "outputs": [
    {
     "name": "stdin",
     "output_type": "stream",
     "text": [
      "Độ dài cạnh a là:  6.7\n",
      "Độ dài cạnh b là:  4.8\n",
      "Nhập cạnh c:  3.5\n"
     ]
    },
    {
     "name": "stdout",
     "output_type": "stream",
     "text": [
      "Đây là 1 tam giác.\n",
      "Tam giác thường.\n"
     ]
    }
   ],
   "source": [
    "# Nhập độ dài 3 cạnh 1 tam giác\n",
    "a = float(input(\"Độ dài cạnh a là: \"))\n",
    "b = float(input(\"Độ dài cạnh b là: \"))\n",
    "c = float(input(\"Nhập cạnh c: \"))\n",
    "\n",
    "# Kiểm tra có phải là tam giác không (định lý tam giác: tổng 2 cạnh > cạnh còn lại)\n",
    "if a + b > c and a + c > b and b + c > a:\n",
    "    print(\"Đây là 1 tam giác.\")\n",
    "\n",
    "    # Phân loại tam giác\n",
    "    if a == b == c:\n",
    "        print(\"Tam giác đều.\")\n",
    "    elif a == b or a == c or b == c:\n",
    "        # Tam giác cân\n",
    "        if abs(a**2 + b**2 - c**2) < 1e-9 or abs(a**2 + c**2 - b**2) < 1e-9 or abs(b**2 + c**2 - a**2) < 1e-9:\n",
    "            print(\"Tam giác vuông cân.\")  # vừa vuông vừa cân\n",
    "        else:\n",
    "            print(\"Tam giác cân.\")\n",
    "    elif abs(a**2 + b**2 - c**2) < 1e-9 or abs(a**2 + c**2 - b**2) < 1e-9 or abs(b**2 + c**2 - a**2) < 1e-9:\n",
    "        print(\"Tam giác vuông.\")\n",
    "    else:\n",
    "        print(\"Tam giác thường.\")\n",
    "else:\n",
    "    print(\"Ba cạnh này không tạo thành tam giác.\")"
   ]
  },
  {
   "cell_type": "markdown",
   "id": "d74b8f44-fef2-412b-91de-bcf043ff7f2a",
   "metadata": {},
   "source": [
    "# Thực hành 5: Cấu trúc lặp"
   ]
  },
  {
   "cell_type": "markdown",
   "id": "55a4df09-1970-4cfd-a4dc-3e82ac955c3e",
   "metadata": {},
   "source": [
    "# Bài 1"
   ]
  },
  {
   "cell_type": "markdown",
   "id": "b05b5e0d-b867-47b2-b674-ba902bdefa2a",
   "metadata": {},
   "source": [
    "### Nội dung bài"
   ]
  },
  {
   "cell_type": "markdown",
   "id": "55083097-181b-4a72-aa5b-72da73d9a83d",
   "metadata": {},
   "source": [
    "Nhập một số nguyên dương n (n > 0). \n",
    "\n",
    "Hãy cho biết:\n",
    "\n",
    "• Có phải là số đối xứng? Ví dụ: 121, 12321, …\n",
    "\n",
    "• Có phải là số chính phương? Ví dụ: 4, 9, 16, …\n",
    "\n",
    "• Có phải là số nguyên tố? Ví dụ: 2, 3, 5, 7, …\n",
    "\n",
    "• Chữ số lớn nhất và nhỏ nhất?\n",
    "\n",
    "• Các chữ số có tăng dần hay giảm dần không?"
   ]
  },
  {
   "cell_type": "code",
   "execution_count": 1,
   "id": "8a174f67-f777-42ed-996b-f04d2233d314",
   "metadata": {},
   "outputs": [
    {
     "name": "stdin",
     "output_type": "stream",
     "text": [
      "Nhập số nguyên dương n (>0):  5\n"
     ]
    },
    {
     "name": "stdout",
     "output_type": "stream",
     "text": [
      "Số 5:\n",
      "1. Đối xứng? Có\n",
      "2. Chính phương? Không\n",
      "3. Nguyên tố? Có\n",
      "4. Chữ số lớn nhất: 5, nhỏ nhất: 5\n",
      "5. Các chữ số tăng dần\n"
     ]
    }
   ],
   "source": [
    "import math\n",
    "\n",
    "# Nhập số nguyên dương n\n",
    "n = int(input(\"Nhập số nguyên dương n (>0): \"))\n",
    "\n",
    "# 1. Kiểm tra số đối xứng\n",
    "def la_doi_xung(x):\n",
    "    # Chuyển số sang chuỗi, so sánh với chuỗi đảo ngược\n",
    "    return str(x) == str(x)[::-1]\n",
    "\n",
    "# 2. Kiểm tra số chính phương\n",
    "def la_chinh_phuong(x):\n",
    "    can = int(math.sqrt(x))   # Lấy căn bậc 2 (ép về int để bỏ phần thập phân)\n",
    "    return can * can == x     # Nếu bình phương lại bằng số ban đầu => chính phương\n",
    "\n",
    "# 3. Kiểm tra số nguyên tố\n",
    "def la_nguyen_to(x):\n",
    "    if x < 2:                 # Số < 2 không phải số nguyên tố\n",
    "        return False\n",
    "    for i in range(2, int(math.sqrt(x)) + 1):  # Duyệt từ 2 đến √x\n",
    "        if x % i == 0:        # Nếu chia hết thì không phải nguyên tố\n",
    "            return False\n",
    "    return True               # Nếu không chia hết cho số nào thì là nguyên tố\n",
    "\n",
    "# 4. Tìm chữ số lớn nhất và nhỏ nhất\n",
    "chu_so = [int(c) for c in str(n)]  # Tách từng chữ số thành list\n",
    "max_digit = max(chu_so)            # Chữ số lớn nhất\n",
    "min_digit = min(chu_so)            # Chữ số nhỏ nhất\n",
    "\n",
    "# 5. Kiểm tra tăng dần hoặc giảm dần\n",
    "def kiem_tra_tang_giam(cs):\n",
    "    # all() kiểm tra toàn bộ dãy có thỏa mãn điều kiện hay không\n",
    "    tang = all(cs[i] <= cs[i+1] for i in range(len(cs)-1))  # Mỗi số ≤ số sau\n",
    "    giam = all(cs[i] >= cs[i+1] for i in range(len(cs)-1))  # Mỗi số ≥ số sau\n",
    "    return tang, giam\n",
    "\n",
    "tang, giam = kiem_tra_tang_giam(chu_so)\n",
    "\n",
    "# --- Xuất kết quả ---\n",
    "print(f\"Số {n}:\")\n",
    "print(\"1. Đối xứng?\" , \"Có\" if la_doi_xung(n) else \"Không\")  \n",
    "# Ví dụ: 121 → \"121\" == \"121\" đảo ngược → Có\n",
    "\n",
    "print(\"2. Chính phương?\" , \"Có\" if la_chinh_phuong(n) else \"Không\")  \n",
    "# Ví dụ: 49 → sqrt(49)=7 → 7*7=49 → Có\n",
    "\n",
    "print(\"3. Nguyên tố?\" , \"Có\" if la_nguyen_to(n) else \"Không\")  \n",
    "# Ví dụ: 37 → không chia hết cho số nào từ 2 → √37 → Có\n",
    "\n",
    "print(f\"4. Chữ số lớn nhất: {max_digit}, nhỏ nhất: {min_digit}\")  \n",
    "# Ví dụ: 12321 → lớn nhất = 3, nhỏ nhất = 1\n",
    "\n",
    "if tang:\n",
    "    print(\"5. Các chữ số tăng dần\")  \n",
    "    # Ví dụ: 123 → tăng dần\n",
    "elif giam:\n",
    "    print(\"5. Các chữ số giảm dần\")  \n",
    "    # Ví dụ: 987 → giảm dần\n",
    "else:\n",
    "    print(\"5. Các chữ số không tăng/giảm hoàn toàn\")  \n",
    "    # Ví dụ: 121 → không tăng, cũng không giảm"
   ]
  },
  {
   "cell_type": "markdown",
   "id": "fcd0b3ee-f0d3-4e1e-8e81-e9014361c027",
   "metadata": {},
   "source": [
    "## Bài 2"
   ]
  },
  {
   "cell_type": "markdown",
   "id": "bc693cef-1199-41d3-87e1-f8ed2db97e8f",
   "metadata": {},
   "source": [
    "### Nội dung bài"
   ]
  },
  {
   "cell_type": "markdown",
   "id": "118c8349-631a-4639-8e33-5f6a6f116367",
   "metadata": {},
   "source": [
    "Nhập một số nguyên dương n. Tính: \n",
    "\n",
    "a. S = 1 + 2 + … + n \n",
    "\n",
    "b. S = 12 + 22 + … + n2 \n",
    "\n",
    "c. S = 1 + 1/2 + … + 1/n \n",
    "\n",
    "d. S = 1*2*…*n = n! e. S = 1! + 2! + … + n!"
   ]
  },
  {
   "cell_type": "code",
   "execution_count": 2,
   "id": "84904cf5-2f07-47b4-89f8-272c43fbf3df",
   "metadata": {},
   "outputs": [
    {
     "name": "stdin",
     "output_type": "stream",
     "text": [
      "Nhập số nguyên dương n:  20\n"
     ]
    },
    {
     "name": "stdout",
     "output_type": "stream",
     "text": [
      "a) S = 1 + 2 + ... + 20 = 210\n",
      "b) S = 1^2 + 2^2 + ... + 20^2 = 2870\n",
      "c) S = 1 + 1/2 + ... + 1/20 = 3.597739657143682\n",
      "d) 20! = 2432902008176640000\n",
      "e) S = 1! + 2! + ... + 20! = 2561327494111820313\n"
     ]
    }
   ],
   "source": [
    "import math\n",
    "\n",
    "# Nhập n (yêu cầu n > 0)\n",
    "n = int(input(\"Nhập số nguyên dương n: \"))\n",
    "\n",
    "# (Tuỳ chọn) kiểm tra hợp lệ\n",
    "if n <= 0:\n",
    "    raise ValueError(\"n phải là số nguyên dương (> 0)\")\n",
    "\n",
    "# a) S = 1 + 2 + … + n\n",
    "# Dùng công thức tổng cấp số cộng: n(n+1)/2 (nhanh, chính xác, không cần vòng lặp)\n",
    "S_a = n * (n + 1) // 2   # dùng // vì kết quả là số nguyên\n",
    "\n",
    "# b) S = 1^2 + 2^2 + … + n^2\n",
    "# Dùng công thức tổng bình phương: n(n+1)(2n+1)/6\n",
    "S_b = n * (n + 1) * (2 * n + 1) // 6\n",
    "\n",
    "# c) S = 1 + 1/2 + … + 1/n (tổng điều hoà)\n",
    "# Dùng vòng lặp để cộng dồn số thực (float)\n",
    "S_c = 0.0\n",
    "for i in range(1, n + 1):\n",
    "    S_c += 1.0 / i  # ép kiểu float để có kết quả số thực\n",
    "\n",
    "# d) S = 1*2*…*n = n!\n",
    "# Có thể dùng math.factorial hoặc tự tính bằng vòng lặp\n",
    "# Ở đây tự tính để minh hoạ:\n",
    "fact = 1\n",
    "for i in range(2, n + 1):\n",
    "    fact *= i\n",
    "S_d = fact  # chính là n!\n",
    "\n",
    "# e) S = 1! + 2! + … + n!\n",
    "# Tối ưu: không tính lại từ đầu mỗi giai thừa.\n",
    "# Ta giữ biến 'running_fact' chứa k! và cập nhật running_fact *= (k+1)\n",
    "running_fact = 1  # 1! = 1\n",
    "S_e = 0\n",
    "for k in range(1, n + 1):\n",
    "    if k == 1:\n",
    "        running_fact = 1   # 1! = 1\n",
    "    else:\n",
    "        running_fact *= k  # từ (k-1)! -> k! bằng cách nhân thêm k\n",
    "    S_e += running_fact\n",
    "\n",
    "# ---- In kết quả ----\n",
    "print(f\"a) S = 1 + 2 + ... + {n} = {S_a}\")             # tổng 1..n\n",
    "print(f\"b) S = 1^2 + 2^2 + ... + {n}^2 = {S_b}\")       # tổng bình phương\n",
    "print(f\"c) S = 1 + 1/2 + ... + 1/{n} = {S_c}\")         # tổng điều hoà (float)\n",
    "print(f\"d) {n}! = {S_d}\")                              # giai thừa n\n",
    "print(f\"e) S = 1! + 2! + ... + {n}! = {S_e}\")          # tổng các giai thừa"
   ]
  },
  {
   "cell_type": "markdown",
   "id": "b2089824-0ce4-4325-96fd-a9f34f915f9a",
   "metadata": {},
   "source": [
    "## Bài 3"
   ]
  },
  {
   "cell_type": "markdown",
   "id": "290d00a2-deeb-4bed-85ce-ce691b67fb1a",
   "metadata": {},
   "source": [
    "### Nội dung bài"
   ]
  },
  {
   "cell_type": "markdown",
   "id": "e0acdddf-8352-42de-a323-6ff92087aa9b",
   "metadata": {},
   "source": [
    "Nhập 3 số nguyên a, b và n với a, b < n. Tính tổng các số nguyên dương nhỏ hơn n chia\n",
    "hết cho a nhưng không chia hết cho b."
   ]
  },
  {
   "cell_type": "code",
   "execution_count": 3,
   "id": "bcb5f629-75a6-4338-af42-92834484550e",
   "metadata": {},
   "outputs": [
    {
     "name": "stdin",
     "output_type": "stream",
     "text": [
      "Nhập số nguyên a:  5\n",
      "Nhập số nguyên b:  -6\n",
      "Nhập số nguyên n:  200\n"
     ]
    },
    {
     "name": "stdout",
     "output_type": "stream",
     "text": [
      "Tổng cần tìm là: 3270\n"
     ]
    }
   ],
   "source": [
    "#Nhập 3 số nguyên a,b,c\n",
    "a = int(input(\"Nhập số nguyên a: \"))\n",
    "b = int(input(\"Nhập số nguyên b: \"))\n",
    "n = int(input(\"Nhập số nguyên n: \"))\n",
    "# khởi tạo tổng\n",
    "tong = 0\n",
    "# Duyệt tất cả số nguyên dương nhỏ hơn n\n",
    "for i in range(1, n):\n",
    "    # Kiểm tra i có chia hết cho a không\n",
    "    if i % a == 0:\n",
    "        # Kiểm tra thêm: i không chia hết cho b\n",
    "        if i % b != 0:\n",
    "            # Nếu thỏa mãn cả hai điều kiện thì cộng vào tổng\n",
    "            tong += i\n",
    "# In kết quả\n",
    "print(\"Tổng cần tìm là:\", tong)"
   ]
  },
  {
   "cell_type": "markdown",
   "id": "9512257e-c157-42f0-86bc-eed09cd7a60e",
   "metadata": {},
   "source": [
    "## Bài 4"
   ]
  },
  {
   "cell_type": "markdown",
   "id": "aaab74c7-059d-40dc-b0be-e2e4b415612e",
   "metadata": {},
   "source": [
    "### Nội dung bài"
   ]
  },
  {
   "cell_type": "markdown",
   "id": "46f5a500-6292-4d8d-977d-fdcb780986e8",
   "metadata": {},
   "source": [
    "Tính tổng các số nguyên tố nhỏ hơn n (0 < n < 50)"
   ]
  },
  {
   "cell_type": "code",
   "execution_count": 4,
   "id": "2be0313f-fb72-4098-ac89-d012d961244b",
   "metadata": {},
   "outputs": [
    {
     "name": "stdin",
     "output_type": "stream",
     "text": [
      "Nhập n (0 < n < 50):  48\n"
     ]
    },
    {
     "name": "stdout",
     "output_type": "stream",
     "text": [
      "Tổng các số nguyên tố nhỏ hơn 48 là: 328\n"
     ]
    }
   ],
   "source": [
    "# Hàm kiểm tra số nguyên tố\n",
    "def is_prime(x):\n",
    "    if x < 2:\n",
    "        return False\n",
    "    for i in range(2, int(x**0.5) + 1):  # chỉ cần kiểm tra đến căn bậc 2\n",
    "        if x % i == 0:\n",
    "            return False #vì nếu x có ước số lớn hơn căn bậc hai của x thì sẽ có thêm 1 ước số nhỏ hơn căn bậc hai của x\n",
    "    return True\n",
    "\n",
    "# Nhập n\n",
    "n = int(input(\"Nhập n (0 < n < 50): \"))\n",
    "\n",
    "# Tính tổng các số nguyên tố nhỏ hơn n\n",
    "tong = 0\n",
    "for i in range(2, n):\n",
    "    if is_prime(i):   # kiểm tra i có phải số nguyên tố\n",
    "        tong += i     # nếu đúng thì cộng vào tổng\n",
    "\n",
    "print(\"Tổng các số nguyên tố nhỏ hơn\", n, \"là:\", tong)\n"
   ]
  },
  {
   "cell_type": "markdown",
   "id": "f477f72a-b803-46dd-b771-1c6f22e6bf39",
   "metadata": {},
   "source": [
    "## Bài 5"
   ]
  },
  {
   "cell_type": "markdown",
   "id": "36f3f40a-0f6a-4aa3-941f-90ffa9af7f60",
   "metadata": {},
   "source": [
    "### Nội dung bài"
   ]
  },
  {
   "cell_type": "markdown",
   "id": "d8dce99e-dce9-4176-8ac0-d63b7e147f13",
   "metadata": {},
   "source": [
    "Nhập một số nguyên dương n. Xuất ra số ngược lại.\n",
    "Ví dụ: Nhập 1706 -> Xuất 6071."
   ]
  },
  {
   "cell_type": "code",
   "execution_count": 5,
   "id": "608b41a7-c74d-454e-8afc-e8cc6dd4ca2b",
   "metadata": {},
   "outputs": [
    {
     "name": "stdin",
     "output_type": "stream",
     "text": [
      "Nhập số nguyên dương n:  58903\n"
     ]
    },
    {
     "name": "stdout",
     "output_type": "stream",
     "text": [
      "Số ngược lại là: 30985\n"
     ]
    }
   ],
   "source": [
    "# Cách 1: Dùng toán chia lấy dư\n",
    "n = int(input(\"Nhập số nguyên dương n: \"))\n",
    "\n",
    "reverse = 0\n",
    "while n > 0:\n",
    "    digit = n % 10          # lấy chữ số cuối\n",
    "    reverse = reverse * 10 + digit  # ghép vào số đảo ngược\n",
    "    n //= 10                # bỏ chữ số cuối đi\n",
    "\n",
    "print(\"Số ngược lại là:\", reverse)"
   ]
  },
  {
   "cell_type": "code",
   "execution_count": 7,
   "id": "7d77830b-1fb0-4126-8356-3e8a97baad3c",
   "metadata": {},
   "outputs": [
    {
     "name": "stdin",
     "output_type": "stream",
     "text": [
      "Nhập số nguyên dương n:  12000\n"
     ]
    },
    {
     "name": "stdout",
     "output_type": "stream",
     "text": [
      "Số ngược lại là: 21\n"
     ]
    }
   ],
   "source": [
    "# Cách 2: Dùng chuỗi (string)\n",
    "n = int(input(\"Nhập số nguyên dương n: \"))\n",
    "\n",
    "reverse = int(str(n)[::-1])   # đảo chuỗi rồi đổi lại thành số\n",
    "\n",
    "print(\"Số ngược lại là:\", reverse)"
   ]
  },
  {
   "cell_type": "markdown",
   "id": "60c93396-9a0a-4a55-899f-c0edda7e1508",
   "metadata": {},
   "source": [
    "## Bài 6"
   ]
  },
  {
   "cell_type": "markdown",
   "id": "71b891e5-6700-42f7-8b3e-639e32547e02",
   "metadata": {},
   "source": [
    "### Nội dung bài"
   ]
  },
  {
   "cell_type": "markdown",
   "id": "009d5fe8-3c4f-49e4-b1d8-f9b2d240650a",
   "metadata": {},
   "source": [
    "Tìm và in lên màn hình tất cả các số nguyên trong phạm vi từ 10 đến 99 sao\n",
    "cho tích của 2 chữ số bằng 2 lần tổng của 2 chữ số đó."
   ]
  },
  {
   "cell_type": "code",
   "execution_count": 8,
   "id": "feabf5a1-9e4e-43d3-bb7c-8802d554384f",
   "metadata": {},
   "outputs": [
    {
     "name": "stdout",
     "output_type": "stream",
     "text": [
      "Các số thỏa điều kiện là:\n",
      "36 44 63 "
     ]
    }
   ],
   "source": [
    "print(\"Các số thỏa điều kiện là:\")\n",
    "\n",
    "for n in range(10, 100):\n",
    "    a = n // 10    # chữ số hàng chục\n",
    "    b = n % 10     # chữ số hàng đơn vị\n",
    "    if a * b == 2 * (a + b):\n",
    "        print(n, end=\" \")"
   ]
  },
  {
   "cell_type": "markdown",
   "id": "e0e89256-fe70-41f2-9649-0bb2a8f181b6",
   "metadata": {},
   "source": [
    "## Bài 7"
   ]
  },
  {
   "cell_type": "markdown",
   "id": "02fec9da-09dc-4358-acdc-f75b6b195268",
   "metadata": {},
   "source": [
    "### Nội dung bài"
   ]
  },
  {
   "cell_type": "markdown",
   "id": "b3aef81c-695a-4371-8b58-f3342755b6c7",
   "metadata": {},
   "source": [
    "Tìm ước số chung lớn nhất của 2 số nguyên dương a và b nhập từ bàn phím."
   ]
  },
  {
   "cell_type": "code",
   "execution_count": 1,
   "id": "05f3f763-eaa5-4342-8807-8402babfa6d6",
   "metadata": {},
   "outputs": [
    {
     "name": "stdin",
     "output_type": "stream",
     "text": [
      "Nhập a:  7\n",
      "Nhập b:  9\n"
     ]
    },
    {
     "name": "stdout",
     "output_type": "stream",
     "text": [
      "Uóc số chung lớn nhất là:  1\n"
     ]
    }
   ],
   "source": [
    "# Cách 1: Dùng vòng lặp\n",
    "# Nhập 2 số nguyên dương a,b\n",
    "a = int(input(\"Nhập a: \"))\n",
    "b = int(input(\"Nhập b: \"))\n",
    "# Tìm ước số chung lớn nhất\n",
    "_max = 1\n",
    "for i in range (1, min(a,b)+1):\n",
    "    if a % i ==0 and b%i == 0:\n",
    "        _max = i\n",
    "print(\"Uóc số chung lớn nhất là: \", _max)"
   ]
  },
  {
   "cell_type": "code",
   "execution_count": 2,
   "id": "4ed7a556-8780-4f1f-9ac0-875ec11c0e1d",
   "metadata": {},
   "outputs": [
    {
     "name": "stdin",
     "output_type": "stream",
     "text": [
      "Nhập số nguyên dương a:  9\n",
      "Nhập số nguyên dương b:  2\n"
     ]
    },
    {
     "name": "stdout",
     "output_type": "stream",
     "text": [
      "Ước số chung lớn nhất là: 1\n"
     ]
    }
   ],
   "source": [
    "# Cách 2: Dùng euclid\n",
    "a = int(input(\"Nhập số nguyên dương a: \"))\n",
    "b = int(input(\"Nhập số nguyên dương b: \"))\n",
    "\n",
    "def gcd(a, b):\n",
    "    while b != 0:\n",
    "        a, b = b, a % b   # cập nhật a = b, b = a % b\n",
    "    return a\n",
    "\n",
    "print(\"Ước số chung lớn nhất là:\", gcd(a, b))"
   ]
  },
  {
   "cell_type": "markdown",
   "id": "baa497a2-787f-4d2e-9f65-e17b4e9d6f07",
   "metadata": {},
   "source": [
    "## Bài 8"
   ]
  },
  {
   "cell_type": "markdown",
   "id": "68854b7b-6075-43d0-92a0-e83a276f7b3f",
   "metadata": {},
   "source": [
    "### Nội dung bài"
   ]
  },
  {
   "cell_type": "markdown",
   "id": "35aa64c7-7760-4af4-9afd-48c472aa88da",
   "metadata": {},
   "source": [
    "Nhập n. In n số đầu tiên trong dãy Fibonacy.\n",
    "\n",
    "a0 = a1 = 1\n",
    "\n",
    "an = an – 1 + an – 2"
   ]
  },
  {
   "cell_type": "code",
   "execution_count": 5,
   "id": "1f877331-f84c-4b83-89b5-6c30579da488",
   "metadata": {},
   "outputs": [
    {
     "name": "stdin",
     "output_type": "stream",
     "text": [
      "Nhập n:  3\n"
     ]
    },
    {
     "name": "stdout",
     "output_type": "stream",
     "text": [
      "Dãy Fibonacci: 1 1 2 "
     ]
    }
   ],
   "source": [
    "n = int(input(\"Nhập n: \"))\n",
    "\n",
    "a0, a1 = 1, 1   # hai số đầu tiên\n",
    "print(\"Dãy Fibonacci:\", end=\" \")\n",
    "\n",
    "if n == 1:\n",
    "    print(a0)\n",
    "elif n == 2:\n",
    "    print(a0, a1)\n",
    "else:\n",
    "    print(a0, a1, end=\" \")\n",
    "    for i in range(2, n):\n",
    "        an = a0 + a1       # công thức truy hồi\n",
    "        print(an, end=\" \")\n",
    "        a0, a1 = a1, an    # cập nhật 2 số trước"
   ]
  },
  {
   "cell_type": "markdown",
   "id": "2c5313fc-4348-480c-ba19-57f22038b15e",
   "metadata": {},
   "source": [
    "# Thực hành 6: Ma trận 2 chiều"
   ]
  },
  {
   "cell_type": "markdown",
   "id": "de579dba-8d9a-43fd-90d6-19cbff8f37a9",
   "metadata": {},
   "source": [
    "## Bài 1: Nhập xuất mảng 2 chiều"
   ]
  },
  {
   "cell_type": "markdown",
   "id": "b6c208fc-c8b6-46f6-b68b-3c4c8a4063cb",
   "metadata": {},
   "source": [
    "### Nội dung bài"
   ]
  },
  {
   "cell_type": "markdown",
   "id": "24a81799-ea2e-473c-9fe7-325133447022",
   "metadata": {},
   "source": [
    "Cho ma trận A chứa các số nguyên có n dòng và m cột (1 ≤ n, m ≤ 100). Hãy viết\n",
    "chương trình nhập mảng A và xuất ra màn hình."
   ]
  },
  {
   "cell_type": "code",
   "execution_count": 3,
   "id": "5f5c28c4-9112-4f9a-abe5-eea15d7d6820",
   "metadata": {},
   "outputs": [
    {
     "name": "stdin",
     "output_type": "stream",
     "text": [
      " 2 3\n",
      " 1 2 3\n",
      " 4 5 6\n"
     ]
    },
    {
     "name": "stdout",
     "output_type": "stream",
     "text": [
      "Array A:\n",
      "1 2 3 \n",
      "4 5 6 \n"
     ]
    }
   ],
   "source": [
    "# Nhập số hàng (n) và số cột (m)\n",
    "n, m = map(int, input().split())   # ví dụ nhập: 2 3\n",
    "\n",
    "# Khởi tạo ma trận A rỗng\n",
    "A = []\n",
    "\n",
    "# Nhập từng dòng của ma trận\n",
    "for i in range(n):\n",
    "    row = list(map(int, input().split()))  # nhập một dòng (vd: 1 2 3)\n",
    "    A.append(row)  # thêm dòng vào ma trận\n",
    "\n",
    "# Xuất ma trận ra màn hình\n",
    "print(\"Array A:\")\n",
    "for i in range(n):\n",
    "    for j in range(m):\n",
    "        print(A[i][j], end=\" \")  # in từng phần tử trên cùng một dòng\n",
    "    print()  # xuống dòng sau khi in xong 1 dòng"
   ]
  },
  {
   "cell_type": "markdown",
   "id": "6089e757-c5b7-40f3-accd-f22554039af4",
   "metadata": {},
   "source": [
    "## Bài 2: Tính trung bình cộng mảng 2 chiều"
   ]
  },
  {
   "cell_type": "markdown",
   "id": "8d0f93e1-f5f2-413d-8367-4d05423bb432",
   "metadata": {},
   "source": [
    "### Nội dung bài"
   ]
  },
  {
   "cell_type": "code",
   "execution_count": 4,
   "id": "eea770f0-4400-44b0-8fa5-f90ca5efd838",
   "metadata": {},
   "outputs": [
    {
     "name": "stdin",
     "output_type": "stream",
     "text": [
      " 3 4\n",
      " 1.5 -3.2 4.8 9.1\n",
      " -1.8 3.9 2.7 4.5\n",
      " 3.3 9.6 -2.8 -4.9\n"
     ]
    },
    {
     "name": "stdout",
     "output_type": "stream",
     "text": [
      "Trung binh cong cac so duong: 4.925.\n"
     ]
    }
   ],
   "source": [
    "# Nhập số dòng n và số cột m\n",
    "n, m = map(int, input().split())  # ví dụ: 3 4\n",
    "\n",
    "# Khởi tạo biến để tính tổng và đếm số dương\n",
    "tong = 0\n",
    "dem = 0\n",
    "\n",
    "# Nhập ma trận\n",
    "for i in range(n):\n",
    "    row = list(map(float, input().split()))  # nhập 1 dòng số thực\n",
    "    for x in row:\n",
    "        if x > 0:        # nếu số dương\n",
    "            tong += x    # cộng vào tổng\n",
    "            dem += 1     # tăng bộ đếm\n",
    "\n",
    "# Tính trung bình cộng\n",
    "if dem > 0:\n",
    "    tbc = tong / dem\n",
    "    print(f\"Trung binh cong cac so duong: {tbc:.3f}.\")  # in 3 chữ số thập phân\n",
    "else:\n",
    "    print(\"Khong co so duong trong ma tran.\")\n"
   ]
  },
  {
   "cell_type": "markdown",
   "id": "d2116374-2ce6-470a-83c3-bde94dae711b",
   "metadata": {},
   "source": [
    "## Bài 3: Ma trận toàn chẵn"
   ]
  },
  {
   "cell_type": "markdown",
   "id": "20ae80df-7951-4439-9620-b7ffece8b518",
   "metadata": {},
   "source": [
    "### Nội dung bài"
   ]
  },
  {
   "cell_type": "markdown",
   "id": "a547665b-0179-40b9-8a83-9f85eeb99a5c",
   "metadata": {},
   "source": [
    "Cho ma trận A chứa các số nguyên có n dòng và m cột (1 ≤ n, m ≤ 100). Hãy kiểm\n",
    "tra xem ma trận có toàn chẵn không?"
   ]
  },
  {
   "cell_type": "code",
   "execution_count": 1,
   "id": "556c69b4-94ff-41c0-b777-4aa987ca3be9",
   "metadata": {},
   "outputs": [
    {
     "name": "stdin",
     "output_type": "stream",
     "text": [
      " 2 3\n",
      " 2 4 6\n",
      " 8 10 12\n"
     ]
    },
    {
     "name": "stdout",
     "output_type": "stream",
     "text": [
      "Mang A toan chan!\n"
     ]
    }
   ],
   "source": [
    "# Nhập số dòng và số cột\n",
    "n, m = map(int, input().split())\n",
    "\n",
    "# Biến cờ để kiểm tra\n",
    "toan_chan = True  \n",
    "\n",
    "# Nhập ma trận và kiểm tra\n",
    "for i in range(n):\n",
    "    row = list(map(int, input().split()))\n",
    "    for x in row:\n",
    "        if x % 2 != 0:     # nếu gặp số lẻ\n",
    "            toan_chan = False\n",
    "\n",
    "# Xuất kết quả\n",
    "if toan_chan:\n",
    "    print(\"Mang A toan chan!\")\n",
    "else:\n",
    "    print(\"Mang A khong toan chan!\")"
   ]
  },
  {
   "cell_type": "markdown",
   "id": "cae43343-beee-40f9-bbd3-4fda0583ad4b",
   "metadata": {},
   "source": [
    "## Bài 4: Dòng nhiều nguyên âm nhất"
   ]
  },
  {
   "cell_type": "markdown",
   "id": "4ac75dbd-7cff-4716-b42a-4b1a17e6274f",
   "metadata": {},
   "source": [
    "### Nội dung bài"
   ]
  },
  {
   "cell_type": "markdown",
   "id": "6780b863-6410-4adc-8c2c-00e0ac9829c8",
   "metadata": {},
   "source": [
    "Cho ma trận A chứa các ký tự có n dòng và m cột (1 ≤ n, m ≤ 100). Hãy tìm dòng\n",
    "có chứa nhiều ký tự nguyên âm nhất. Biết các ký tự A, E, O, I, U là nguyên âm."
   ]
  },
  {
   "cell_type": "code",
   "execution_count": 2,
   "id": "1a025865-d1a6-4eda-bd07-512f166ed088",
   "metadata": {},
   "outputs": [
    {
     "name": "stdin",
     "output_type": "stream",
     "text": [
      " 3 3\n",
      " A c e\n",
      " d b g\n",
      " U i E\n"
     ]
    },
    {
     "name": "stdout",
     "output_type": "stream",
     "text": [
      "Dong co nhieu nguyen am nhat la dong 3 voi 3 nguyen am.\n"
     ]
    }
   ],
   "source": [
    "# Nhập số dòng và số cột\n",
    "n, m = map(int, input().split())\n",
    "\n",
    "# Tập hợp các nguyên âm (bao gồm chữ thường và hoa)\n",
    "nguyen_am = set(\"AEIOUaeiou\")\n",
    "\n",
    "# Biến để lưu kết quả\n",
    "max_count = -1\n",
    "dong_max = -1\n",
    "\n",
    "# Duyệt từng dòng của ma trận\n",
    "for i in range(n):\n",
    "    row = input().split()   # nhập m ký tự, cách nhau bởi khoảng trắng\n",
    "    count = sum(1 for ch in row if ch in nguyen_am)  # đếm nguyên âm\n",
    "    if count > max_count:   # nếu dòng này có nhiều nguyên âm hơn\n",
    "        max_count = count\n",
    "        dong_max = i + 1    # lưu số thứ tự dòng (tính từ 1)\n",
    "\n",
    "# In kết quả\n",
    "print(f\"Dong co nhieu nguyen am nhat la dong {dong_max} voi {max_count} nguyen am.\")"
   ]
  },
  {
   "cell_type": "markdown",
   "id": "26045c40-d50d-498a-ae9e-4f4d53662fbe",
   "metadata": {},
   "source": [
    "## Bài 5: Cột có nhiều nguyên tố nhất"
   ]
  },
  {
   "cell_type": "markdown",
   "id": "14ed4ad4-504b-439c-879f-fd37b4343721",
   "metadata": {},
   "source": [
    "### Nội dung bài"
   ]
  },
  {
   "cell_type": "markdown",
   "id": "6d4c11e7-201b-42f6-8e97-7b9414347a33",
   "metadata": {},
   "source": [
    "Cho ma trận A chứa các số nguyên có n dòng và m cột (1 ≤ n, m ≤ 100). Hãy liệt\n",
    "kê các cột có chứa nhiều số nguyên tố nhất."
   ]
  },
  {
   "cell_type": "code",
   "execution_count": 7,
   "id": "e1e85388-9b80-40c7-bfd9-e15744c83e44",
   "metadata": {},
   "outputs": [
    {
     "name": "stdin",
     "output_type": "stream",
     "text": [
      " 5 4\n",
      " 19 4 6 13\n",
      " 8 6 3 2\n",
      " 7 5 7 8\n",
      " 11 2 7 6\n",
      " 3 9 2 15\n"
     ]
    },
    {
     "name": "stdout",
     "output_type": "stream",
     "text": [
      "Cac cot nhieu nguyen to nhat: 0 2\n"
     ]
    }
   ],
   "source": [
    "import math\n",
    "\n",
    "# Hàm kiểm tra số nguyên tố\n",
    "def is_prime(x):\n",
    "    if x < 2:\n",
    "        return False\n",
    "    for i in range(2, int(math.isqrt(x)) + 1):\n",
    "        if x % i == 0:\n",
    "            return False\n",
    "    return True\n",
    "\n",
    "# Nhập số dòng và số cột\n",
    "n, m = map(int, input().split())\n",
    "\n",
    "# Khởi tạo ma trận\n",
    "A = []\n",
    "for _ in range(n):\n",
    "    row = list(map(int, input().split()))\n",
    "    A.append(row)\n",
    "\n",
    "# Đếm số nguyên tố theo từng cột\n",
    "counts = [0] * m\n",
    "for j in range(m):           # duyệt cột\n",
    "    for i in range(n):       # duyệt dòng\n",
    "        if is_prime(A[i][j]):\n",
    "            counts[j] += 1\n",
    "\n",
    "# Tìm số lượng\n",
    "max_count = max(counts)\n",
    "\n",
    "# Liệt kê các cột có số nguyên tố nhiều nhất\n",
    "result = [str(j) for j in range(m) if counts[j] == max_count]\n",
    "\n",
    "# Xuất kết quả\n",
    "print(\"Cac cot nhieu nguyen to nhat:\", \" \".join(result))"
   ]
  },
  {
   "cell_type": "markdown",
   "id": "d08bd373-b3a6-4a01-8301-5d6089a605a6",
   "metadata": {},
   "source": [
    "# Thực hành 7: Ma trận vuông"
   ]
  },
  {
   "cell_type": "markdown",
   "id": "221124f4-7e53-4e05-ace4-d1f5b2db7cc0",
   "metadata": {},
   "source": [
    "## Bài 1: In chéo chính, phụ"
   ]
  },
  {
   "cell_type": "markdown",
   "id": "2415cc25-6d86-42ce-a9d4-86a75916eeb7",
   "metadata": {},
   "source": [
    "### Nội dung bài"
   ]
  },
  {
   "cell_type": "markdown",
   "id": "a5d4af35-a7c2-4c10-83f9-2c869e3fb644",
   "metadata": {},
   "source": [
    "Cho ma trận vuông A cấp n chứa các số nguyên (1 ≤ n ≤ 100). Hãy viết hàm liệt kê\n",
    "các phần tử nằm trên đường chéo chính và chéo phụ của ma trận vuông A."
   ]
  },
  {
   "cell_type": "code",
   "execution_count": 8,
   "id": "ce3bbeee-6083-42b0-a915-b6ad403b1d27",
   "metadata": {},
   "outputs": [
    {
     "name": "stdin",
     "output_type": "stream",
     "text": [
      " 5\n",
      " 5 5 5 0 0\n",
      " 0 5 0 1 1\n",
      " 0 5 0 0 0\n",
      " 0 0 0 2 3\n",
      " 1 1 1 4 7\n"
     ]
    },
    {
     "name": "stdout",
     "output_type": "stream",
     "text": [
      "Cac phan tu tren cheo chinh: 5 5 0 2 7\n",
      "Cac phan tu tren cheo phu: 0 1 0 0 1\n"
     ]
    }
   ],
   "source": [
    "# Nhập kích thước ma trận vuông\n",
    "n = int(input())\n",
    "\n",
    "# Nhập ma trận\n",
    "A = []\n",
    "for _ in range(n):\n",
    "    row = list(map(int, input().split()))\n",
    "    A.append(row)\n",
    "\n",
    "# Lấy các phần tử trên đường chéo chính\n",
    "cheo_chinh = [A[i][i] for i in range(n)]\n",
    "\n",
    "# Lấy các phần tử trên đường chéo phụ\n",
    "cheo_phu = [A[i][n - 1 - i] for i in range(n)]\n",
    "\n",
    "# In kết quả\n",
    "print(\"Cac phan tu tren cheo chinh:\", \" \".join(map(str, cheo_chinh)))\n",
    "print(\"Cac phan tu tren cheo phu:\", \" \".join(map(str, cheo_phu)))"
   ]
  },
  {
   "cell_type": "markdown",
   "id": "23a8f630-a09d-40f6-a357-24ed86ca0faf",
   "metadata": {},
   "source": [
    "## Bài 2: In tam giác trên chéo chính, phụ"
   ]
  },
  {
   "cell_type": "markdown",
   "id": "57e268a0-813c-4295-8466-0f3b274b843b",
   "metadata": {},
   "source": [
    "### Nội dung bài"
   ]
  },
  {
   "cell_type": "markdown",
   "id": "3d8b22b0-75c2-464f-b9b4-9a4f93e96fa3",
   "metadata": {},
   "source": [
    "Cho ma trận vuông A cấp n chứa các số thực (1 ≤ n ≤ 100). Hãy viết hàm liệt kê các phần\n",
    "tử nằm trong tam giác trên của đường chéo chính, phụ của ma trận vuông A (không tính\n",
    "nằm trên đường chéo chính, phụ)."
   ]
  },
  {
   "cell_type": "code",
   "execution_count": 9,
   "id": "f839a850-a995-4d25-be66-ed6b9d258448",
   "metadata": {},
   "outputs": [
    {
     "name": "stdin",
     "output_type": "stream",
     "text": [
      " 5\n",
      " 5 5 5 0 0\n",
      " 0 5 0 1 1\n",
      " 0 5 0 0 0\n",
      " 0 0 0 2 3\n",
      " 1 1 1 4 7\n"
     ]
    },
    {
     "name": "stdout",
     "output_type": "stream",
     "text": [
      "Tam giac tren cheo chinh: 5 5 0 0 0 1 1 0 0 3\n",
      "Tam giac tren cheo phu: 5 5 5 0 0 5 0 0 5 0\n"
     ]
    }
   ],
   "source": [
    "# Nhập kích thước ma trận vuông\n",
    "n = int(input())\n",
    "\n",
    "# Nhập ma trận\n",
    "A = []\n",
    "for _ in range(n):\n",
    "    row = list(map(int, input().split()))\n",
    "    A.append(row)\n",
    "\n",
    "# Tam giác trên chéo chính: các phần tử (i, j) với j > i\n",
    "tg_cheo_chinh = [A[i][j] for i in range(n) for j in range(i+1, n)]\n",
    "\n",
    "# Tam giác trên chéo phụ: các phần tử (i, j) với j < n-1-i\n",
    "tg_cheo_phu = [A[i][j] for i in range(n) for j in range(n-1-i)]\n",
    "\n",
    "# In kết quả\n",
    "print(\"Tam giac tren cheo chinh:\", \" \".join(map(str, tg_cheo_chinh)))\n",
    "print(\"Tam giac tren cheo phu:\", \" \".join(map(str, tg_cheo_phu)))\n"
   ]
  },
  {
   "cell_type": "markdown",
   "id": "143d5f23-8fbf-4a45-b8f5-0330bab01fed",
   "metadata": {},
   "source": [
    "## Bài 3: Đếm loại số tam giác trên chéo chính"
   ]
  },
  {
   "cell_type": "markdown",
   "id": "96b5473e-84c9-4570-bef4-a479b48943eb",
   "metadata": {},
   "source": [
    "### Nội dung bài"
   ]
  },
  {
   "cell_type": "markdown",
   "id": "80bcba8d-9564-436f-936b-7c870cbdf715",
   "metadata": {},
   "source": [
    "Cho ma trận vuông A cấp n chứa các số thực (1 ≤ n ≤ 100). Hãy viết hàm liệt kê các phần\n",
    "tử nằm trong tam giác trên của đường chéo chính, phụ của ma trận vuông A (không tính\n",
    "nằm trên đường chéo chính, phụ)."
   ]
  },
  {
   "cell_type": "code",
   "execution_count": 13,
   "id": "ca517839-3898-448d-b450-a2d8811b229a",
   "metadata": {},
   "outputs": [],
   "source": [
    "def solve():\n",
    "    n = int(input())\n",
    "    A = [list(map(int, input().split())) for _ in range(n)]\n",
    "\n",
    "    # ------------------ TAM GIÁC TRÊN CHÉO CHÍNH ------------------\n",
    "    am, duong, khong = 0, 0, 0\n",
    "    for i in range(n):\n",
    "        for j in range(i + 1, n):  # j > i\n",
    "            val = A[i][j]\n",
    "            if val < 0:\n",
    "                am += 1\n",
    "            elif val > 0:\n",
    "                duong += 1\n",
    "            else:\n",
    "                khong += 1\n",
    "\n",
    "    print(\"Trong nua tam giac tren cheo chinh:\")\n",
    "    print(f\"+ {am} so am\")\n",
    "    print(f\"+ {duong} so duong\")\n",
    "    print(f\"+ {khong} so khong\")\n"
   ]
  },
  {
   "cell_type": "code",
   "execution_count": 15,
   "id": "9040c882-505a-4dcc-bb86-b4f9653df5a6",
   "metadata": {},
   "outputs": [
    {
     "name": "stdin",
     "output_type": "stream",
     "text": [
      " 5\n",
      " -5 5 0 0 0\n",
      " 0 5 0 1 1\n",
      " 0 5 0 0 0\n",
      " 0 0 0 2 3\n",
      " 1 1 1 4 7\n"
     ]
    },
    {
     "name": "stdout",
     "output_type": "stream",
     "text": [
      "Trong nua tam giac tren cheo chinh:\n",
      "+ 0 so am\n",
      "+ 4 so duong\n",
      "+ 6 so khong\n"
     ]
    }
   ],
   "source": [
    "solve()"
   ]
  },
  {
   "cell_type": "code",
   "execution_count": 16,
   "id": "87c5258c-6edd-4afd-82c1-c8a9e2382714",
   "metadata": {},
   "outputs": [
    {
     "ename": "SyntaxError",
     "evalue": "invalid syntax (4274426749.py, line 2)",
     "output_type": "error",
     "traceback": [
      "  \u001b[36mCell\u001b[39m\u001b[36m \u001b[39m\u001b[32mIn[16]\u001b[39m\u001b[32m, line 2\u001b[39m\n\u001b[31m    \u001b[39m\u001b[31m-5 5 0 0 0\u001b[39m\n       ^\n\u001b[31mSyntaxError\u001b[39m\u001b[31m:\u001b[39m invalid syntax\n"
     ]
    }
   ],
   "source": [
    "5\n",
    "-5 5 0 0 0\n",
    "0 5 0 1 1\n",
    "0 5 0 0 0\n",
    "0 0 0 2 3\n",
    "1 1 1 4 7\n"
   ]
  },
  {
   "cell_type": "code",
   "execution_count": 1,
   "id": "d8950817-5b38-4441-a994-3be0a1e4f762",
   "metadata": {},
   "outputs": [
    {
     "name": "stdin",
     "output_type": "stream",
     "text": [
      "Nhập n (cấp của ma trận):  5\n",
      " -5 5 0 0 0\n",
      " 0 5 0 1 1\n",
      " 0 5 0 0 0\n",
      " 0 0 0 2 3\n",
      " 1 1 1 4 7\n"
     ]
    },
    {
     "name": "stdout",
     "output_type": "stream",
     "text": [
      "Trong nửa tam giác trên chéo chính và phụ:\n",
      "+ 1 số âm\n",
      "+ 7 số dương\n",
      "+ 12 số không\n"
     ]
    }
   ],
   "source": [
    "# Nhập kích thước ma trận\n",
    "n = int(input(\"Nhập n (cấp của ma trận): \"))\n",
    "\n",
    "# Nhập ma trận A\n",
    "A = []\n",
    "for _ in range(n):\n",
    "    row = list(map(float, input().split()))\n",
    "    A.append(row)\n",
    "\n",
    "# Biến đếm\n",
    "count_am = 0\n",
    "count_duong = 0\n",
    "count_khong = 0\n",
    "\n",
    "# --- DUYỆT NỬA TAM GIÁC TRÊN CHÉO CHÍNH ---\n",
    "# điều kiện: j > i\n",
    "for i in range(n):\n",
    "    for j in range(i + 1, n):\n",
    "        val = A[i][j]\n",
    "        if val < 0:\n",
    "            count_am += 1\n",
    "        elif val > 0:\n",
    "            count_duong += 1\n",
    "        else:\n",
    "            count_khong += 1\n",
    "\n",
    "# --- DUYỆT NỬA TAM GIÁC TRÊN CHÉO PHỤ ---\n",
    "# điều kiện: j < n-1-i\n",
    "for i in range(n):\n",
    "    for j in range(0, n - 1 - i):\n",
    "        val = A[i][j]\n",
    "        if val < 0:\n",
    "            count_am += 1\n",
    "        elif val > 0:\n",
    "            count_duong += 1\n",
    "        else:\n",
    "            count_khong += 1\n",
    "\n",
    "# --- In kết quả ---\n",
    "print(\"Trong nửa tam giác trên chéo chính và phụ:\")\n",
    "print(f\"+ {count_am} số âm\")\n",
    "print(f\"+ {count_duong} số dương\")\n",
    "print(f\"+ {count_khong} số không\")\n"
   ]
  },
  {
   "cell_type": "code",
   "execution_count": 3,
   "id": "aa2a5e67-bad9-432c-8411-6df8cd8d239a",
   "metadata": {},
   "outputs": [
    {
     "name": "stdin",
     "output_type": "stream",
     "text": [
      "Nhập n (cấp của ma trận):  5\n",
      " -5 5 0 0 0\n",
      " 0 5 0 1 1\n",
      " 0 5 0 0 0\n",
      " 0 0 0 2 3\n",
      " 1 1 1 4 7\n"
     ]
    },
    {
     "name": "stdout",
     "output_type": "stream",
     "text": [
      "Trong nửa tam giác trên chéo chính và phụ:\n",
      "+ 1 số âm\n",
      "+ 6 số dương\n",
      "+ 9 số không\n"
     ]
    }
   ],
   "source": [
    "# Bài: Cho ma trận vuông A cấp n.\n",
    "# Liệt kê các phần tử nằm trong tam giác trên của chéo chính và chéo phụ (không tính trùng, không tính trên chéo).\n",
    "\n",
    "n = int(input(\"Nhập n (cấp của ma trận): \"))\n",
    "A = []\n",
    "\n",
    "# Nhập ma trận\n",
    "for i in range(n):\n",
    "    row = list(map(int, input().split()))\n",
    "    A.append(row)\n",
    "\n",
    "# Biến đếm\n",
    "dem_am = dem_duong = dem_khong = 0\n",
    "\n",
    "# Ma trận đánh dấu tránh đếm trùng\n",
    "mark = [[0]*n for _ in range(n)]\n",
    "\n",
    "# Duyệt tam giác trên chéo chính (j > i)\n",
    "for i in range(n):\n",
    "    for j in range(i+1, n):\n",
    "        if mark[i][j] == 0:   # nếu chưa đếm\n",
    "            if A[i][j] < 0:\n",
    "                dem_am += 1\n",
    "            elif A[i][j] > 0:\n",
    "                dem_duong += 1\n",
    "            else:\n",
    "                dem_khong += 1\n",
    "            mark[i][j] = 1    # đánh dấu\n",
    "\n",
    "# Duyệt tam giác trên chéo phụ (j < n-1-i)\n",
    "for i in range(n):\n",
    "    for j in range(0, n-1-i):\n",
    "        if mark[i][j] == 0:   # nếu chưa đếm\n",
    "            if A[i][j] < 0:\n",
    "                dem_am += 1\n",
    "            elif A[i][j] > 0:\n",
    "                dem_duong += 1\n",
    "            else:\n",
    "                dem_khong += 1\n",
    "            mark[i][j] = 1    # đánh dấu\n",
    "\n",
    "# Xuất kết quả\n",
    "print(\"Trong nửa tam giác trên chéo chính và phụ:\")\n",
    "print(\"+\", dem_am, \"số âm\")\n",
    "print(\"+\", dem_duong, \"số dương\")\n",
    "print(\"+\", dem_khong, \"số không\")"
   ]
  },
  {
   "cell_type": "code",
   "execution_count": 4,
   "id": "dcd433cc-61ee-4189-ab5d-87dc9307a113",
   "metadata": {},
   "outputs": [
    {
     "name": "stdin",
     "output_type": "stream",
     "text": [
      "Nhập n (cấp của ma trận):  5\n",
      " -5 5 0 0 0\n",
      " 0 5 0 1 1\n",
      " 0 5 0 0 0\n",
      " 0 0 0 2 3\n",
      " 1 1 1 4 7\n"
     ]
    },
    {
     "name": "stdout",
     "output_type": "stream",
     "text": [
      "\n",
      "Ma trận ban đầu:\n",
      "-5 5 0 0 0\n",
      "0 5 0 1 1\n",
      "0 5 0 0 0\n",
      "0 0 0 2 3\n",
      "1 1 1 4 7\n",
      "\n",
      "Đánh dấu X (nửa tam giác trên chéo chính và phụ):\n",
      "X X X X X \n",
      "X X X X X \n",
      "X X . X X \n",
      "X . . . X \n",
      ". . . . . \n",
      "\n",
      "Kết quả đếm:\n",
      "+ 1 số âm\n",
      "+ 6 số dương\n",
      "+ 9 số không\n"
     ]
    }
   ],
   "source": [
    "n = int(input(\"Nhập n (cấp của ma trận): \"))\n",
    "\n",
    "# Nhập ma trận\n",
    "A = []\n",
    "for i in range(n):\n",
    "    row = list(map(int, input().split()))\n",
    "    A.append(row)\n",
    "\n",
    "# In ma trận\n",
    "print(\"\\nMa trận ban đầu:\")\n",
    "for row in A:\n",
    "    print(*row)\n",
    "\n",
    "dem_am = dem_duong = dem_khong = 0\n",
    "\n",
    "print(\"\\nĐánh dấu X (nửa tam giác trên chéo chính và phụ):\")\n",
    "for i in range(n):\n",
    "    for j in range(n):\n",
    "        if j > i or j < n - 1 - i:   # thuộc nửa tam giác trên\n",
    "            print(\"X\", end=\" \")\n",
    "\n",
    "            # Đếm loại số\n",
    "            if A[i][j] < 0:\n",
    "                dem_am += 1\n",
    "            elif A[i][j] > 0:\n",
    "                dem_duong += 1\n",
    "            else:\n",
    "                dem_khong += 1\n",
    "        else:\n",
    "            print(\".\", end=\" \")\n",
    "    print()\n",
    "\n",
    "print(\"\\nKết quả đếm:\")\n",
    "print(\"+\", dem_am, \"số âm\")\n",
    "print(\"+\", dem_duong, \"số dương\")\n",
    "print(\"+\", dem_khong, \"số không\")"
   ]
  },
  {
   "cell_type": "markdown",
   "id": "571ed43c-55cb-4841-a9e0-c85f78ee342a",
   "metadata": {},
   "source": [
    "## Bài 4"
   ]
  },
  {
   "cell_type": "markdown",
   "id": "7d5b430b-5d55-4453-937d-a3ec11ed6be3",
   "metadata": {},
   "source": [
    "### Nội dung bài"
   ]
  },
  {
   "cell_type": "markdown",
   "id": "0457e368-4065-4190-b60a-1eda49894764",
   "metadata": {},
   "source": [
    "Cho ma trận vuông A cấp n chứa các số nguyên (1 ≤ n ≤ 100). Hãy viết hàm liệt kê các\n",
    "phần tử nằm trên các đường song song với chéo chính, phụ của ma trận vuông A theo\n",
    "hình bên dưới."
   ]
  },
  {
   "cell_type": "code",
   "execution_count": 5,
   "id": "ba34a600-f586-4164-9df2-e475f2eca37d",
   "metadata": {},
   "outputs": [
    {
     "name": "stdin",
     "output_type": "stream",
     "text": [
      " 5\n",
      " 1 2 3 4 5\n",
      " 6 7 8 9 10\n",
      " 11 12 13 14 15\n",
      " 16 17 18 19 20\n",
      " 21 22 23 24 25\n"
     ]
    },
    {
     "name": "stdout",
     "output_type": "stream",
     "text": [
      "Các đường song song chéo chính:\n",
      "[21]\n",
      "[16, 22]\n",
      "[11, 17, 23]\n",
      "[6, 12, 18, 24]\n",
      "[1, 7, 13, 19, 25]\n",
      "[2, 8, 14, 20]\n",
      "[3, 9, 15]\n",
      "[4, 10]\n",
      "[5]\n",
      "Các đường song song chéo phụ:\n",
      "[1]\n",
      "[2, 6]\n",
      "[3, 7, 11]\n",
      "[4, 8, 12, 16]\n",
      "[5, 9, 13, 17, 21]\n",
      "[10, 14, 18, 22]\n",
      "[15, 19, 23]\n",
      "[20, 24]\n",
      "[25]\n"
     ]
    }
   ],
   "source": [
    "n = int(input())\n",
    "A = [list(map(int, input().split())) for _ in range(n)]\n",
    "\n",
    "# Các đường song song chéo chính\n",
    "print(\"Các đường song song chéo chính:\")\n",
    "for d in range(-(n-1), n):  # d = j - i\n",
    "    duong = []\n",
    "    for i in range(n):\n",
    "        j = i + d\n",
    "        if 0 <= j < n:\n",
    "            duong.append(A[i][j])\n",
    "    if duong:\n",
    "        print(duong)\n",
    "\n",
    "# Các đường song song chéo phụ\n",
    "print(\"Các đường song song chéo phụ:\")\n",
    "for s in range(2*n - 1):  # s = i + j\n",
    "    duong = []\n",
    "    for i in range(n):\n",
    "        j = s - i\n",
    "        if 0 <= j < n:\n",
    "            duong.append(A[i][j])\n",
    "    if duong:\n",
    "        print(duong)"
   ]
  },
  {
   "cell_type": "markdown",
   "id": "0eecc7d9-6b18-4d38-ad58-693589329c84",
   "metadata": {},
   "source": [
    "## Bài 5: In các cột, dòng theo hình"
   ]
  },
  {
   "cell_type": "markdown",
   "id": "7c51420b-2ea7-4afe-802d-5c582e6ef9cc",
   "metadata": {},
   "source": [
    "### Nội dung bài"
   ]
  },
  {
   "cell_type": "markdown",
   "id": "311e3900-3729-4a2e-96e3-2a58a66c7850",
   "metadata": {},
   "source": [
    "Cho ma trận vuông A cấp n chứa các số nguyên (1 ≤ n ≤ 100). Hãy viết hàm liệt kê các\n",
    "phần tử nằm trên các cột (dòng) theo như hình bên dưới."
   ]
  },
  {
   "cell_type": "code",
   "execution_count": 6,
   "id": "c5f4be9f-94e3-4373-b8d4-02508ddee991",
   "metadata": {},
   "outputs": [
    {
     "name": "stdin",
     "output_type": "stream",
     "text": [
      " 5\n",
      " 1 2 3 4 5\n",
      " 6 7 8 9 10\n",
      " 11 12 13 14 15\n",
      " 16 17 18 19 20\n",
      " 21 22 23 24 25\n"
     ]
    },
    {
     "name": "stdout",
     "output_type": "stream",
     "text": [
      "Các dòng:\n",
      "[1, 2, 3, 4, 5]\n",
      "[6, 7, 8, 9, 10]\n",
      "[11, 12, 13, 14, 15]\n",
      "[16, 17, 18, 19, 20]\n",
      "[21, 22, 23, 24, 25]\n",
      "Các cột:\n",
      "[1, 6, 11, 16, 21]\n",
      "[2, 7, 12, 17, 22]\n",
      "[3, 8, 13, 18, 23]\n",
      "[4, 9, 14, 19, 24]\n",
      "[5, 10, 15, 20, 25]\n"
     ]
    }
   ],
   "source": [
    "n = int(input())                       # Nhập số nguyên n (kích thước ma trận n x n)\n",
    "\n",
    "A = [list(map(int, input().split()))   # Tạo list 2D A để lưu ma trận\n",
    "     for _ in range(n)]                # Lặp n lần, mỗi lần đọc 1 dòng gồm n số nguyên\n",
    "\n",
    "print(\"Các dòng:\")                     # Thông báo in ra các dòng\n",
    "for i in range(n):                     # Duyệt từng dòng i (từ 0 đến n-1)\n",
    "    print(A[i])                        # In ra dòng i (chính là list A[i])\n",
    "\n",
    "print(\"Các cột:\")                      # Thông báo in ra các cột\n",
    "for j in range(n):                     # Duyệt từng cột j (từ 0 đến n-1)\n",
    "    cot = []                           # Tạo list rỗng để lưu các phần tử của cột j\n",
    "    for i in range(n):                 # Duyệt từng dòng i (từ 0 đến n-1)\n",
    "        cot.append(A[i][j])            # Thêm phần tử ở dòng i, cột j vào list cột\n",
    "    print(cot)                         # In ra cột j sau khi đã gom đủ phần tử\n"
   ]
  },
  {
   "cell_type": "markdown",
   "id": "0d79d08e-1e48-46af-9f9b-42a461f427d1",
   "metadata": {},
   "source": [
    "# Các cấu trúc dữ liệu cơ sở trong Python (List, Tuple, Set, Dictionary)"
   ]
  },
  {
   "cell_type": "markdown",
   "id": "34ec6056-db06-462c-90a8-05d9812999f3",
   "metadata": {},
   "source": [
    "## Bài 1: Tần số xuất hiện của từ"
   ]
  },
  {
   "cell_type": "markdown",
   "id": "93950e1e-9482-45da-9885-a16d1c3db963",
   "metadata": {},
   "source": [
    "### Nội dung bài"
   ]
  },
  {
   "cell_type": "markdown",
   "id": "4ae43c7a-19e0-4c3a-9966-30ccc0577add",
   "metadata": {},
   "source": [
    "Cho một danh sách có n câu (1 ≤ n ≤ 100) với mỗi từ cách nhau bởi khoảng trắng, dấu phẩy, chấm phẩy, dấu ngang\n",
    "và dấu hỏi. Hãy đếm số lần xuất hiện của các từ và in ra theo thứ tự xuất hiện và thứ tự chữ cái."
   ]
  },
  {
   "cell_type": "code",
   "execution_count": 1,
   "id": "a9fbf31a-8bdc-402c-a19f-dd3d46a653c7",
   "metadata": {},
   "outputs": [
    {
     "name": "stdin",
     "output_type": "stream",
     "text": [
      " 2\n",
      " Hôm nay, trời đẹp quá!\n",
      " Hôm qua, trời mưa phải không?\n"
     ]
    },
    {
     "name": "stdout",
     "output_type": "stream",
     "text": [
      "hôm: 2\n",
      "nay: 1\n",
      "trời: 2\n",
      "đẹp: 1\n",
      "quá: 1\n",
      "qua: 1\n",
      "mưa: 1\n",
      "phải: 1\n",
      "không: 1\n"
     ]
    }
   ],
   "source": [
    "import re                           # Dùng regex để tách từ\n",
    "\n",
    "n = int(input())                    # Nhập số câu\n",
    "words = []                          # Danh sách chứa tất cả từ\n",
    "\n",
    "for _ in range(n):                  \n",
    "    line = input().lower()          # Đọc 1 câu, chuyển về chữ thường\n",
    "    # Tách từ theo regex: \\w+ (lấy chuỗi chữ/số liền nhau)\n",
    "    # Ví dụ: \"Hôm nay, trời đẹp quá!\" -> ['hôm', 'nay', 'trời', 'đẹp', 'quá']\n",
    "    tokens = re.findall(r'\\w+', line)\n",
    "    words.extend(tokens)            # Thêm vào danh sách chung\n",
    "\n",
    "counts = {}                         # Từ điển đếm số lần xuất hiện\n",
    "\n",
    "for w in words:\n",
    "    if w not in counts:             # Nếu từ lần đầu xuất hiện\n",
    "        counts[w] = 1\n",
    "    else:                           # Nếu đã có trong từ điển thì cộng thêm 1\n",
    "        counts[w] += 1\n",
    "\n",
    "# In kết quả: duyệt theo thứ tự xuất hiện ban đầu,\n",
    "# nếu cùng lúc thì sắp xếp theo thứ tự từ điển (sorted)\n",
    "for w in sorted(counts.keys(), key=lambda x: (words.index(x), x)):\n",
    "    print(f\"{w}: {counts[w]}\")"
   ]
  },
  {
   "cell_type": "markdown",
   "id": "cae4d38e-7bff-4efd-b4a5-af072519dafb",
   "metadata": {},
   "source": [
    "## Bài 2: Đảo từ"
   ]
  },
  {
   "cell_type": "markdown",
   "id": "5ebc4ad7-1236-46af-9535-46aaf1546d94",
   "metadata": {},
   "source": [
    "### Nội dung bài"
   ]
  },
  {
   "cell_type": "markdown",
   "id": "0aec3383-92b2-4ece-a40f-fc9ffd03b265",
   "metadata": {},
   "source": [
    "Cho n chuỗi s gồm các từ cách nhau bởi khoảng trắng. Hãy đảo các từ có trong chuỗi."
   ]
  },
  {
   "cell_type": "code",
   "execution_count": 3,
   "id": "b1f361e4-d530-4c79-b104-2713d92be897",
   "metadata": {},
   "outputs": [
    {
     "name": "stdin",
     "output_type": "stream",
     "text": [
      " 1\n",
      " Cá ăn kiến\n"
     ]
    },
    {
     "name": "stdout",
     "output_type": "stream",
     "text": [
      "kiến ăn Cá\n"
     ]
    }
   ],
   "source": [
    "n = int(input())               # Nhập số dòng (số chuỗi cần xử lý)\n",
    "\n",
    "for _ in range(n):             # Lặp n lần để xử lý từng chuỗi\n",
    "    s = input().strip()        # Đọc chuỗi và bỏ khoảng trắng đầu/cuối\n",
    "    words = s.split()          # Tách chuỗi thành list từ (dựa vào khoảng trắng)\n",
    "    words.reverse()            # Đảo ngược list\n",
    "    result = \" \".join(words)   # Ghép lại thành chuỗi bằng khoảng trắng\n",
    "    print(result)              # In kết quả"
   ]
  },
  {
   "cell_type": "markdown",
   "id": "ba95e845-abdf-42dc-b5eb-41b2ae5d6425",
   "metadata": {},
   "source": [
    "## Bài 3: Phần tử quan trọng "
   ]
  },
  {
   "cell_type": "markdown",
   "id": "0f720b5f-b123-42a4-9cee-cc6557945acc",
   "metadata": {},
   "source": [
    "### Nội dung bài"
   ]
  },
  {
   "cell_type": "code",
   "execution_count": 5,
   "id": "f4a30d23-0682-4899-855b-263c78312652",
   "metadata": {},
   "outputs": [
    {
     "name": "stdin",
     "output_type": "stream",
     "text": [
      " 7\n",
      " 2 2 1 1 1 2 2\n"
     ]
    },
    {
     "name": "stdout",
     "output_type": "stream",
     "text": [
      "2\n"
     ]
    }
   ],
   "source": [
    "n = int(input())                  # Nhập số lượng phần tử\n",
    "nums = list(map(int, input().split()))   # Nhập mảng số nguyên\n",
    "\n",
    "# Boyer-Moore Majority Vote\n",
    "candidate = None                  # Ứng viên cho phần tử quan trọng\n",
    "count = 0                         # Biến đếm\n",
    "\n",
    "for num in nums:                  # Duyệt qua từng phần tử\n",
    "    if count == 0:                # Nếu count = 0, chọn num làm ứng viên\n",
    "        candidate = num\n",
    "    if num == candidate:          # Nếu num = ứng viên → tăng count\n",
    "        count += 1\n",
    "    else:                         # Ngược lại → giảm count\n",
    "        count -= 1\n",
    "\n",
    "print(candidate)                  # In ra kết quả (luôn tồn tại theo đề)"
   ]
  },
  {
   "cell_type": "markdown",
   "id": "392be75c-5b61-481d-97fd-1077441758e2",
   "metadata": {},
   "source": [
    "## Bài 4: Số hạnh phúc"
   ]
  },
  {
   "cell_type": "markdown",
   "id": "7eb601e9-38dd-4e8c-8ddf-c4602490287e",
   "metadata": {},
   "source": [
    "### Nội dung bài"
   ]
  },
  {
   "cell_type": "markdown",
   "id": "ea75e1aa-61db-461e-acd2-6a9c69d1dc98",
   "metadata": {},
   "source": [
    "Xác định số n có phải là số hạnh phúc không, biết số hạnh phúc là số được xác định theo quy trình:\n",
    "+ Bắt đầu bằng bất kỳ số nguyên dương nào, thay số đó bằng tổng bình phương các chữ số của nó.\n",
    "+ Lặp lại quy trình cho đến khi số bằng 1 (điểm dừng) hoặc lặp lại vô tận không bao gồm 1.\n",
    "+ Những con số mà quá trình này kết thúc bằng 1 là hạnh phúc.\n",
    "Trả về True nếu n là số hạnh phúc và False nếu không."
   ]
  },
  {
   "cell_type": "code",
   "execution_count": 7,
   "id": "93d4881a-d94d-4a16-9c4b-1a1dd5454e30",
   "metadata": {},
   "outputs": [
    {
     "name": "stdout",
     "output_type": "stream",
     "text": [
      "True\n",
      "False\n"
     ]
    }
   ],
   "source": [
    "def isHappy(n: int) -> bool:\n",
    "    seen = set()                        # Tập hợp để lưu các số đã gặp (tránh vòng lặp vô tận)\n",
    "\n",
    "    while n != 1 and n not in seen:     # Dừng khi n = 1 (hạnh phúc) hoặc n lặp lại (không hạnh phúc)\n",
    "        seen.add(n)                     # Lưu n hiện tại vào tập hợp\n",
    "        n = sum(int(digit)**2 for digit in str(n))  # Tính tổng bình phương các chữ số\n",
    "\n",
    "    return n == 1                       # Nếu kết thúc bằng 1 thì True, ngược lại False\n",
    "\n",
    "\n",
    "# -------------------------\n",
    "# Ví dụ chạy\n",
    "print(isHappy(19))   # True vì 19 -> 82 -> 68 -> 100 -> 1\n",
    "print(isHappy(2))    # False vì sẽ rơi vào vòng lặp"
   ]
  },
  {
   "cell_type": "markdown",
   "id": "09bd4bad-ccc1-4566-8994-c4676324a9d2",
   "metadata": {},
   "source": [
    "## Bài 5: Chuỗi đẳng cấu"
   ]
  },
  {
   "cell_type": "markdown",
   "id": "6a2e184f-cfd5-4797-b29e-ab10c056ffa5",
   "metadata": {},
   "source": [
    "### Nội dung bài"
   ]
  },
  {
   "cell_type": "markdown",
   "id": "10952f45-9a64-4890-93a6-4231347ae8b3",
   "metadata": {},
   "source": [
    "Cho hai chuỗi s và t, hãy xác định xem chúng có đẳng cấu hay không.\n",
    "\n",
    "Hai chuỗi s và t là đẳng cấu nếu các ký tự trong s có thể thay thế được để thu được t.\n",
    "\n",
    "Tất cả các lần xuất hiện của một ký tự phải được thay thế bằng một ký tự khác mà vẫn giữ nguyên thứ tự các ký tự.\n",
    "\n",
    "Không có hai ký tự nào có thể ánh xạ tới cùng một ký tự, nhưng một ký tự có thể ánh xạ tới chính nó.\n",
    "\n",
    "Ràng buộc:\n",
    "1 <= s.length <= 5 * 104\n",
    "t.length == s.length\n",
    "s và t chứa các ký tự hợp lệ."
   ]
  },
  {
   "cell_type": "code",
   "execution_count": 8,
   "id": "e425a265-6467-4146-b81e-bc6aededb3c5",
   "metadata": {},
   "outputs": [
    {
     "name": "stdout",
     "output_type": "stream",
     "text": [
      "True\n",
      "False\n",
      "True\n"
     ]
    }
   ],
   "source": [
    "def isIsomorphic(s: str, t: str) -> bool:\n",
    "    map_s_to_t = {}\n",
    "    map_t_to_s = {}\n",
    "\n",
    "    for ch_s, ch_t in zip(s, t):\n",
    "        # Kiểm tra ánh xạ từ s -> t\n",
    "        if ch_s in map_s_to_t:\n",
    "            if map_s_to_t[ch_s] != ch_t:\n",
    "                return False\n",
    "        else:\n",
    "            map_s_to_t[ch_s] = ch_t\n",
    "\n",
    "        # Kiểm tra ánh xạ từ t -> s\n",
    "        if ch_t in map_t_to_s:\n",
    "            if map_t_to_s[ch_t] != ch_s:\n",
    "                return False\n",
    "        else:\n",
    "            map_t_to_s[ch_t] = ch_s\n",
    "\n",
    "    return True\n",
    "\n",
    "\n",
    "# -------------------------\n",
    "# Ví dụ chạy\n",
    "print(isIsomorphic(\"egg\", \"add\"))   # True (e->a, g->d)\n",
    "print(isIsomorphic(\"foo\", \"bar\"))   # False\n",
    "print(isIsomorphic(\"paper\", \"title\")) # True (p->t, a->i, e->l, r->e)"
   ]
  },
  {
   "cell_type": "markdown",
   "id": "28849987-13d1-4cc5-b666-5a1aec6aaf78",
   "metadata": {},
   "source": [
    "# Kết thúc"
   ]
  },
  {
   "cell_type": "code",
   "execution_count": 12,
   "id": "7272f0f6-63fa-4480-b1e8-44a0c5f0f2a9",
   "metadata": {},
   "outputs": [
    {
     "name": "stdout",
     "output_type": "stream",
     "text": [
      "[NbConvertApp] Converting notebook bai_tap_minh_hoa.ipynb to html\n",
      "[NbConvertApp] Writing 590143 bytes to bai_tap_minh_hoa.html\n"
     ]
    }
   ],
   "source": [
    "!jupyter nbconvert bai_tap_minh_hoa.ipynb --to html"
   ]
  },
  {
   "cell_type": "code",
   "execution_count": null,
   "id": "17c343d0-f066-4bf8-8806-db4716a602e5",
   "metadata": {},
   "outputs": [],
   "source": []
  }
 ],
 "metadata": {
  "kernelspec": {
   "display_name": "Python 3 (ipykernel)",
   "language": "python",
   "name": "python3"
  },
  "language_info": {
   "codemirror_mode": {
    "name": "ipython",
    "version": 3
   },
   "file_extension": ".py",
   "mimetype": "text/x-python",
   "name": "python",
   "nbconvert_exporter": "python",
   "pygments_lexer": "ipython3",
   "version": "3.12.1"
  }
 },
 "nbformat": 4,
 "nbformat_minor": 5
}
