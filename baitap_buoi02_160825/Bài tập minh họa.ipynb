{
 "cells": [
  {
   "cell_type": "markdown",
   "id": "3d184695-602d-42ce-836d-741298a5d924",
   "metadata": {},
   "source": [
    "# Thực hành 1"
   ]
  },
  {
   "cell_type": "markdown",
   "id": "4f4a1b76-57f8-4e3f-8a3c-ee7f71671834",
   "metadata": {},
   "source": [
    "## Bài 1"
   ]
  },
  {
   "cell_type": "markdown",
   "id": "2463526f-348d-4c76-8d9a-9574c54e4aa7",
   "metadata": {},
   "source": [
    "### Nội dung bài: \n",
    "\n",
    "1.1. Viết chương trình nhập số A và kiểm tra xem A có phải là số nguyên tố hay không?"
   ]
  },
  {
   "cell_type": "code",
   "execution_count": 13,
   "id": "5b67d4ec-7f88-43b3-8116-16e64ea3ef9d",
   "metadata": {},
   "outputs": [
    {
     "name": "stdin",
     "output_type": "stream",
     "text": [
      "Nhập vào số nguyên: 200\n"
     ]
    },
    {
     "name": "stdout",
     "output_type": "stream",
     "text": [
      "200 khong la so nguyen to\n"
     ]
    }
   ],
   "source": [
    "# Hàm kiểm tra số nguyên tố\n",
    "def ktsnt(n):\n",
    "    if n < 2:  # 0, 1 không là số nguyên tố\n",
    "        return False\n",
    "    for i in range(2, int(n**0.5) + 1):  # chỉ cần lặp đến căn bậc 2 của n (vì nếu n chia hết cho số nào > sqrt(n) thì cũng chia hết cho số < sqrt(n))\n",
    "        if n % i == 0:\n",
    "            return False # Nếu n chia hết cho i thì không phải số nguyên tố\n",
    "    return True # Nếu không tìm thấy ước số nào thì n là số nguyên tố\n",
    "\n",
    "# Nhập vào số nguyên cần kiểm tra\n",
    "a = int(input(\"Nhập vào số nguyên:\"))\n",
    "# Kiểm tra và in kết quả\n",
    "if ktsnt(a):\n",
    "    print(\"%d là so nguyen to\" % a)\n",
    "else:\n",
    "    print(\"%d khong la so nguyen to\" % a)"
   ]
  },
  {
   "cell_type": "markdown",
   "id": "745a028d-8f80-4b5a-9ebe-7b1b88ec7dd3",
   "metadata": {},
   "source": [
    "1.2. Nhập vào N, liệt kê tất cả các số nguyên tố nhỏ hơn N."
   ]
  },
  {
   "cell_type": "code",
   "execution_count": 19,
   "id": "6c4132ff-735c-468e-9889-82cdd1da5f71",
   "metadata": {},
   "outputs": [
    {
     "name": "stdout",
     "output_type": "stream",
     "text": [
      "2 \n",
      "3 \n",
      "5 \n",
      "7 \n",
      "11 \n",
      "13 \n",
      "17 \n",
      "19 \n",
      "23 \n",
      "29 \n",
      "31 \n",
      "37 \n",
      "41 \n",
      "43 \n",
      "47 \n",
      "53 \n",
      "59 \n",
      "61 \n",
      "67 \n",
      "71 \n",
      "73 \n",
      "79 \n",
      "83 \n",
      "89 \n",
      "97 \n",
      "101 \n",
      "103 \n",
      "107 \n",
      "109 \n",
      "113 \n",
      "127 \n",
      "131 \n",
      "137 \n",
      "139 \n",
      "149 \n",
      "151 \n",
      "157 \n",
      "163 \n",
      "167 \n",
      "173 \n",
      "179 \n",
      "181 \n",
      "191 \n",
      "193 \n",
      "197 \n",
      "199 \n"
     ]
    }
   ],
   "source": [
    "# hàm liệt kê các số nguyên tố nhỏ hơn N\n",
    "def lietkesnt(k):\n",
    "    if k <= 2:\n",
    "        print(\"không có số nguyên tố thỏa yêu cầu\")\n",
    "    else:\n",
    "        for b in range(2,k):\n",
    "            if ktsnt(b):\n",
    "                print(\"%d \" %b)\n",
    "n = 200\n",
    "lietkesnt(n)"
   ]
  },
  {
   "cell_type": "markdown",
   "id": "c8f539c3-cbc6-48d8-817f-f2eaa722e881",
   "metadata": {},
   "source": [
    "1.3. In ra M số nguyên tố đầu tiên"
   ]
  },
  {
   "cell_type": "code",
   "execution_count": 20,
   "id": "443dbc41-f094-4884-a56a-357acf754dab",
   "metadata": {},
   "outputs": [
    {
     "name": "stdout",
     "output_type": "stream",
     "text": [
      "2 \n",
      "3 \n",
      "5 \n",
      "7 \n",
      "11 \n",
      "13 \n",
      "17 \n",
      "19 \n",
      "23 \n",
      "29 \n"
     ]
    }
   ],
   "source": [
    "### hàm liệt kê M\n",
    "def lietkeMsnt(M):\n",
    "    bien_dem = 0 # đếm: từ 0 đến M-1 - Biến đếm số lượng số nguyên tố đã tìm được\n",
    "    t = 2 # 0 VÀ 1 không là số nguyên tố\n",
    "    while(bien_dem < M):\n",
    "       if ktsnt(t):  # Kiểm tra xem t có phải số nguyên tố không\n",
    "          print(\"%d \" %t) # In số nguyên tố ra màn hình\n",
    "          bien_dem +=1 # Tăng biến đếm lên 1\n",
    "       t+=1 # Tăng giá trị t để kiểm tra số tiếp theo\n",
    "M=10\n",
    "lietkeMsnt(M)"
   ]
  },
  {
   "cell_type": "markdown",
   "id": "e4e98d0f-1153-4d39-904e-8480df86fcbd",
   "metadata": {},
   "source": [
    "## Bài 2"
   ]
  },
  {
   "cell_type": "markdown",
   "id": "f7cdb0cf-2e54-470e-9b80-49ea19e172ed",
   "metadata": {},
   "source": [
    "## Nội dung bài:"
   ]
  },
  {
   "cell_type": "markdown",
   "id": "23f132a2-729c-4dd2-831f-61a172c41a76",
   "metadata": {},
   "source": [
    "2.1. Viết chương trình in ra tất cả số chẵn trong khoảng (M,N) . \n",
    "N, M nhập từ\n",
    "bàn phím."
   ]
  },
  {
   "cell_type": "code",
   "execution_count": 22,
   "id": "bce18fe1-def2-4878-a3b6-eb81e6f14210",
   "metadata": {},
   "outputs": [
    {
     "name": "stdin",
     "output_type": "stream",
     "text": [
      "Nhập số chẵn dưới:  34\n",
      "Nhập số chẵn trên:  58\n"
     ]
    },
    {
     "name": "stdout",
     "output_type": "stream",
     "text": [
      "36  38  40  42  44  46  48  50  52  54  56  "
     ]
    }
   ],
   "source": [
    "# Hàm in các số chẵn từ M đến N-1\n",
    "def insochan(M, N):\n",
    "    for i in range(M + 1, N):  # Lặp từ M+1 đến N-1\n",
    "        if i % 2 == 0:         # Kiểm tra nếu i là số chẵn\n",
    "            print(\"%d \" % i, end=' ')  # In số chẵn, cùng dòng\n",
    "\n",
    "# Nhập giới hạn dưới và trên\n",
    "M = int(input(\"Nhập số chẵn dưới: \"))\n",
    "N = int(input(\"Nhập số chẵn trên: \"))\n",
    "\n",
    "# Gọi hàm\n",
    "insochan(M, N)"
   ]
  },
  {
   "cell_type": "markdown",
   "id": "4f53d888-35b3-4614-b9e2-c11a08fca14f",
   "metadata": {},
   "source": [
    "2.2. Tìm tất cả các số chia hết cho 7 nhưng không phải bội số của\n",
    "5, nằm trong đoạn [99;999] (tính cả 99 và 999)"
   ]
  },
  {
   "cell_type": "code",
   "execution_count": 1,
   "id": "7b43181d-8dd1-4b7e-aa72-03fee0b08498",
   "metadata": {},
   "outputs": [
    {
     "name": "stdout",
     "output_type": "stream",
     "text": [
      "112 \n",
      "119 \n",
      "126 \n",
      "133 \n",
      "147 \n",
      "154 \n",
      "161 \n",
      "168 \n",
      "182 \n",
      "189 \n",
      "196 \n",
      "203 \n",
      "217 \n",
      "224 \n",
      "231 \n",
      "238 \n",
      "252 \n",
      "259 \n",
      "266 \n",
      "273 \n",
      "287 \n",
      "294 \n",
      "301 \n",
      "308 \n",
      "322 \n",
      "329 \n",
      "336 \n",
      "343 \n",
      "357 \n",
      "364 \n",
      "371 \n",
      "378 \n",
      "392 \n",
      "399 \n",
      "406 \n",
      "413 \n",
      "427 \n",
      "434 \n",
      "441 \n",
      "448 \n",
      "462 \n",
      "469 \n",
      "476 \n",
      "483 \n",
      "497 \n",
      "504 \n",
      "511 \n",
      "518 \n",
      "532 \n",
      "539 \n",
      "546 \n",
      "553 \n",
      "567 \n",
      "574 \n",
      "581 \n",
      "588 \n",
      "602 \n",
      "609 \n",
      "616 \n",
      "623 \n",
      "637 \n",
      "644 \n",
      "651 \n",
      "658 \n",
      "672 \n",
      "679 \n",
      "686 \n",
      "693 \n",
      "707 \n",
      "714 \n",
      "721 \n",
      "728 \n",
      "742 \n",
      "749 \n",
      "756 \n",
      "763 \n",
      "777 \n",
      "784 \n",
      "791 \n",
      "798 \n",
      "812 \n",
      "819 \n",
      "826 \n",
      "833 \n",
      "847 \n",
      "854 \n",
      "861 \n",
      "868 \n",
      "882 \n",
      "889 \n",
      "896 \n",
      "903 \n",
      "917 \n",
      "924 \n",
      "931 \n",
      "938 \n",
      "952 \n",
      "959 \n",
      "966 \n",
      "973 \n",
      "987 \n",
      "994 \n"
     ]
    }
   ],
   "source": [
    "# Hàm liệt kê các số từ M đến N thỏa điều kiện: chia hết cho 7 nhưng không chia hết cho 5\n",
    "def lietke1(M, N):\n",
    "    for i in range(M, N + 1):        # Lặp từ M đến N (bao gồm N)\n",
    "        if (i % 7 == 0) and (i % 5 != 0):  # Kiểm tra: i chia hết cho 7 và không chia hết cho 5\n",
    "            print(\"%d \" % i)         # In i ra màn hình, cách nhau bằng khoảng trắng\n",
    "\n",
    "# Gán giá trị cho M và N\n",
    "M = 99\n",
    "N = 999\n",
    "\n",
    "# Gọi hàm lietke1 để in các số thỏa điều kiện\n",
    "lietke1(M, N)"
   ]
  },
  {
   "cell_type": "markdown",
   "id": "00395039-a393-4636-9f4e-b8509b0e842b",
   "metadata": {},
   "source": [
    "2.3. Tìm số đầu tiên chia hết cho 9 và chia hết cho 7 nằm trong\n",
    "đoạn [M,N]"
   ]
  },
  {
   "cell_type": "code",
   "execution_count": 8,
   "id": "cfa6f664-b841-4f1c-9210-4541328c9c48",
   "metadata": {},
   "outputs": [
    {
     "name": "stdout",
     "output_type": "stream",
     "text": [
      "63 \n"
     ]
    }
   ],
   "source": [
    "# Hàm tìm số đầu tiên trong khoảng M đến N chia hết cho cả 9 và 7\n",
    "def lietke2(M, N):\n",
    "    q = -1  # Biến lưu số tìm được, -1 nghĩa là chưa tìm thấy\n",
    "    for i in range(M, N + 1):  # Lặp từ M đến N (bao gồm N)\n",
    "        if (i % 9 == 0) and (i % 7 == 0):  # Kiểm tra i chia hết cho cả 9 và 7\n",
    "            q = i  # Lưu số đầu tiên thỏa điều kiện\n",
    "            break  # Dừng vòng lặp ngay sau khi tìm thấy\n",
    "    return q  # Trả về số tìm được, hoặc -1 nếu không tìm thấy\n",
    "\n",
    "M = 1\n",
    "N = 900\n",
    "q = lietke2(M, N)  # Gọi hàm để tìm số thỏa điều kiện đầu tiên\n",
    "\n",
    "# Kiểm tra kết quả\n",
    "if q == -1:\n",
    "    print(\"không có số thỏa điều kiện\")  # Nếu không tìm được số nào\n",
    "else:\n",
    "    print(\"%d \" % q)  # Nếu tìm được, in số đó ra\n",
    "            "
   ]
  },
  {
   "cell_type": "markdown",
   "id": "486c0e0d-a46a-45f6-9f53-258eb93af556",
   "metadata": {},
   "source": [
    "Cách 2"
   ]
  },
  {
   "cell_type": "code",
   "execution_count": 11,
   "id": "8ea8fa99-04ac-4527-94b3-0c602be8c710",
   "metadata": {},
   "outputs": [
    {
     "name": "stdout",
     "output_type": "stream",
     "text": [
      "63\n"
     ]
    }
   ],
   "source": [
    "import math\n",
    "\n",
    "def boichungdautien(M, N):\n",
    "    lcm = 9 * 7  # 63 - Tìm bội chung nhỏ nhất của 9 và 7\n",
    "    # Tìm số chia hết cho 63 nhỏ nhất nhưng >= M\n",
    "    if M % lcm == 0:\n",
    "        first = M\n",
    "    else:\n",
    "        first = M + (lcm - M % lcm) # m%lcm: lấy phần dư khi M chia cho lcm; lcm - m%lcm: tính bao nhiêu phải cộng vào M để đạt bội số tiếp theo của lcm, ví dụ 63 - 37 = 26 -> phải cộng 26 vào 100 sẽ được 126 là bội số của 63\n",
    "    # Kiểm tra xem first có <= N không\n",
    "    if first <= N:\n",
    "        return first\n",
    "    else:\n",
    "        return -1  # không tìm thấy\n",
    "\n",
    "M = 1\n",
    "N = 900\n",
    "q = boichungdautien(M, N)\n",
    "if q == -1:\n",
    "    print(\"Không có số thỏa điều kiện\")\n",
    "else:\n",
    "    print(q)"
   ]
  },
  {
   "cell_type": "markdown",
   "id": "26d80b53-9656-4037-a351-f976c99cfb35",
   "metadata": {},
   "source": [
    "## Bài 3"
   ]
  },
  {
   "cell_type": "markdown",
   "id": "470acd14-d3c7-4296-bdd0-05d20ce111b0",
   "metadata": {},
   "source": [
    "### Nội dung bài"
   ]
  },
  {
   "cell_type": "markdown",
   "id": "f18f8080-5a3b-4840-a587-d955ff678d3c",
   "metadata": {},
   "source": [
    "Nhập một số nguyên, đếm xem số đó có bao nhiêu chữ số và tính\n",
    "tổng các chữ số."
   ]
  },
  {
   "cell_type": "code",
   "execution_count": 16,
   "id": "57ae9ba5-6768-452d-8679-ebc5ae3a11ed",
   "metadata": {},
   "outputs": [
    {
     "name": "stdin",
     "output_type": "stream",
     "text": [
      "Nhập n: 578\n"
     ]
    },
    {
     "name": "stdout",
     "output_type": "stream",
     "text": [
      "8\n",
      "7\n",
      "5\n",
      "số lượng chữ số: 3\n",
      "tổng các chữ số: 20\n"
     ]
    }
   ],
   "source": [
    "# Hàm tính tổng các chữ số và đếm số chữ số của một số nguyên n\n",
    "def tinh(n):\n",
    "    tong = 0 # Biến lưu tổng các chữ số\n",
    "    dem = 0 # Biến đếm số chữ số\n",
    "    while(n>0):  # Lặp cho đến khi n = 0 #Mục đích là Lấy từng chữ số của n từ cuối lên đầu. #ví dụ: nếu n = 1234 thì vòng lặp sẽ chạy 4 lần\n",
    "        sodu = n%10 # Lấy chữ số cuối cùng của n (số dư khi chia 10) #số dư lần 1 lấy sẽ là 4, tiếp theo là 3, 2, và 1\n",
    "        tong = tong + sodu # Cộng chữ số vào tổng #ban đầu tổng là 0, số dư 4 ->\n",
    "        dem = dem + 1     # Tăng số chữ số lên 1\n",
    "        n = n//10  # Loại bỏ chữ số cuối cùng của n (chia lấy phần nguyên)\n",
    "        print(sodu)\n",
    "    return tong, dem  # Trả về tổng và số chữ số\n",
    "a = int(input(\"Nhập n:\"))\n",
    "tong, số_chữ_số = tinh(a)\n",
    "print(\"số lượng chữ số: %d\" % số_chữ_số)\n",
    "print(\"tổng các chữ số: %d\" %tong)"
   ]
  },
  {
   "cell_type": "markdown",
   "id": "8011dd32-da44-4f0c-b94f-1f4d328cc4f3",
   "metadata": {},
   "source": [
    "## Bài 4"
   ]
  },
  {
   "cell_type": "markdown",
   "id": "63182eb7-e498-4750-ba58-a4716890fb81",
   "metadata": {},
   "source": [
    "### Nội dung bài"
   ]
  },
  {
   "cell_type": "markdown",
   "id": "8b01af94-0aa3-4c2d-a420-1be45ea43c74",
   "metadata": {},
   "source": [
    "Đệ quy - Tính giai thừa của một số nguyên dương n"
   ]
  },
  {
   "cell_type": "code",
   "execution_count": 1,
   "id": "6c851f01-612d-4d6b-94d8-5c8988be4c78",
   "metadata": {},
   "outputs": [
    {
     "name": "stdout",
     "output_type": "stream",
     "text": [
      "Giai thừa của 5 là 120\n"
     ]
    }
   ],
   "source": [
    "# Hàm tính giai thừa của một số n (sử dụng đệ quy)\n",
    "def giaithua(n):\n",
    "    if n == 1:              # Nếu n = 1 thì dừng đệ quy\n",
    "        return 1             # Trả về 1, vì 1! = 1\n",
    "    else:\n",
    "        return n * giaithua(n-1)  # Nếu n > 1, gọi lại hàm giaithua(n-1) và nhân với n; ví dụ 5! = 5*4!\n",
    "\n",
    "num = 5                     # Gán số cần tính giai thừa\n",
    "print(\"Giai thừa của\", num, \"là\", giaithua(num))  \n",
    "# In ra kết quả: \"Giai thừa của 5 là 120\"\n"
   ]
  },
  {
   "cell_type": "markdown",
   "id": "b3a3c172-dd4d-400a-9160-87e9064cd804",
   "metadata": {},
   "source": [
    "## Bài 5"
   ]
  },
  {
   "cell_type": "markdown",
   "id": "022c7e9f-6236-47d7-9bbf-212343c04504",
   "metadata": {},
   "source": [
    "### Nội dung bài"
   ]
  },
  {
   "cell_type": "markdown",
   "id": "e3bb43b5-e565-4a38-9cc1-12522cef7ec2",
   "metadata": {},
   "source": [
    "Đệ quy - Tính lũy thừa a^b"
   ]
  },
  {
   "cell_type": "code",
   "execution_count": 4,
   "id": "83481cb7-da46-4366-bb4e-60e41d92e9b0",
   "metadata": {},
   "outputs": [
    {
     "name": "stdout",
     "output_type": "stream",
     "text": [
      "2 ^ 3 = 8\n"
     ]
    }
   ],
   "source": [
    "# Hàm tính a^b (lũy thừa) dùng đệ quy\n",
    "def power(a, b): # định nghĩa hàm power với cơ số a và số mũ b\n",
    "    if b == 0:           # Nếu số mũ = 0\n",
    "        return 1         # a^0 = 1 theo định nghĩa\n",
    "    elif a == 0:         # Nếu cơ số = 0\n",
    "        return 0         # 0^b = 0 với b > 0\n",
    "    elif b == 1:         # Nếu số mũ = 1\n",
    "        return a         # a^1 = a\n",
    "    else:\n",
    "        return a * power(a, b-1)  # a^b = a * a^(b-1)\n",
    "\n",
    "# Khởi tạo cơ số và số mũ\n",
    "a = 2\n",
    "b = 3\n",
    "\n",
    "# In kết quả lũy thừa\n",
    "print(a, \"^\", b, \"=\", power(a, b))  # In: 2 ^ 3 = 8"
   ]
  },
  {
   "cell_type": "markdown",
   "id": "c5398d26-232b-413e-9f86-a5a08cb13c7e",
   "metadata": {},
   "source": [
    "# Thực hành 2"
   ]
  },
  {
   "cell_type": "markdown",
   "id": "f1b1258f-de49-48b7-b74c-ef7fc8318101",
   "metadata": {},
   "source": [
    "## Bài 1"
   ]
  },
  {
   "cell_type": "markdown",
   "id": "6cdeee10-15be-414a-adf2-992c5f386a03",
   "metadata": {},
   "source": [
    "### Nội dung bài"
   ]
  },
  {
   "cell_type": "markdown",
   "id": "77e39026-270a-4428-98ce-38802d254fb4",
   "metadata": {},
   "source": [
    "Viết hàm tìm độ dài của một chuỗi (không dùng hàm len())"
   ]
  },
  {
   "cell_type": "code",
   "execution_count": 1,
   "id": "5318d92e-c75b-4a82-8882-3814aa48f1aa",
   "metadata": {},
   "outputs": [
    {
     "name": "stdout",
     "output_type": "stream",
     "text": [
      "chiều dài chuỗi : 20\n",
      "check len() function: 20\n"
     ]
    }
   ],
   "source": [
    "def chieudaichuoi(str1):\n",
    "    # Khai báo hàm chieudaichuoi nhận 1 tham số str1 (một chuỗi cần đo độ dài)\n",
    "    count = 0\n",
    "    # Khởi tạo biến đếm count = 0. Biến này sẽ tăng dần mỗi khi duyệt qua 1 ký tự.\n",
    "\n",
    "    for char in str1:\n",
    "        # Vòng lặp for duyệt từng ký tự (char) trong chuỗi str1, từ trái sang phải\n",
    "        count += 1\n",
    "        # Mỗi lần gặp 1 ký tự, tăng biến đếm count lên 1\n",
    "\n",
    "    return count\n",
    "    # Trả về tổng số ký tự đã đếm được\n",
    "\n",
    "ss = 'hello world ... !!!!'\n",
    "# Tạo biến chuỗi ss. Lưu ý: khoảng trắng, dấu chấm, dấu chấm than đều là ký tự và sẽ được tính vào độ dài.\n",
    "\n",
    "print('chiều dài chuỗi : {}'.format(chieudaichuoi(ss)))\n",
    "# Gọi hàm chieudaichuoi(ss) để đếm thủ công và in ra theo định dạng:\n",
    "# \"chiều dài chuỗi : <giá trị>\"\n",
    "\n",
    "print('check len() function:', len(ss))\n",
    "# Dùng hàm tích hợp sẵn len() của Python để lấy độ dài chuỗi nhanh hơn và chính xác.\n",
    "# Mục đích: kiểm tra kết quả đếm"
   ]
  },
  {
   "cell_type": "markdown",
   "id": "902f0d60-6f73-4b59-98d4-a9de4321ac2a",
   "metadata": {},
   "source": [
    "## Bài 2"
   ]
  },
  {
   "cell_type": "markdown",
   "id": "203862fd-317c-48c3-b9e1-e623b6f1b896",
   "metadata": {},
   "source": [
    "### Nội dung bài"
   ]
  },
  {
   "cell_type": "markdown",
   "id": "ee3d8b6f-fde4-44ce-b7e3-308f15cdc749",
   "metadata": {},
   "source": [
    " Viết chương trình đếm số lượng các từ trong một chuỗi (giả sử các từ trong\n",
    "chuỗi cách nhau bởi một khoảng trắng)"
   ]
  },
  {
   "cell_type": "code",
   "execution_count": 3,
   "id": "bc4b7dd7-fc73-4555-907c-1408d5196883",
   "metadata": {},
   "outputs": [
    {
     "name": "stdout",
     "output_type": "stream",
     "text": [
      "input:  Tách chuỗi dùng split\n",
      "tách từ:  ['Tách', 'chuỗi', 'dùng', 'split']\n",
      " The number of words in string are:  4\n"
     ]
    }
   ],
   "source": [
    "# TH1: Dùng split\n",
    "test_string = \"Tách chuỗi dùng split\" # Khai báo một chuỗi test_string chứa các từ cách nhau bằng khoảng trắng\n",
    "print (\"input: \", test_string) # in ra chuỗi ban đầu để dễ so sánh\n",
    "temp = test_string.split() # hàm split() mặc định tách chuỗi theo khoảng trắng\n",
    "#kết quả trả về là 1 list các từ [\"Tách\", \"chuỗi\", \"dùng\", \"split\"]\n",
    "print (\"tách từ: \", temp) # in ra danh sách các từ sau khi tách\n",
    "res = len(temp) # Đếm số phần tử trong list (chính là số từ trong chuỗi ban đầu)\n",
    "print(\" The number of words in string are: \", str(res)) # In ra số lượng từ trong chuỗi\n"
   ]
  },
  {
   "cell_type": "code",
   "execution_count": 6,
   "id": "379ee4e0-7fe8-411d-89e8-709dce379c6c",
   "metadata": {},
   "outputs": [
    {
     "name": "stdout",
     "output_type": "stream",
     "text": [
      "The number of words in string are 5\n"
     ]
    }
   ],
   "source": [
    "# TH2: Không dùng split\n",
    "test_string = \"Tách chuỗi không dùng split\"\n",
    "# Khởi tạo chuỗi cần đếm số từ\n",
    "\n",
    "if len(test_string) == 0 or (test_string.isspace()):\n",
    "    # Nếu chuỗi rỗng (len = 0) hoặc chỉ toàn khoảng trắng (isspace() = True)\n",
    "    # thì không có từ nào trong chuỗi\n",
    "    print(\"The number of words in string are = \", 0)\n",
    "\n",
    "else:\n",
    "    total = 0\n",
    "    # Biến total dùng để đếm số từ\n",
    "\n",
    "    test_string = test_string + ' '\n",
    "    # Thêm một khoảng trắng vào cuối chuỗi để dễ kiểm tra ký tự cuối cùng\n",
    "    # (nếu không thêm thì từ cuối cùng sẽ bị bỏ qua vì không có ' ' sau nó)\n",
    "\n",
    "    for i in range(len(test_string) - 1):\n",
    "        # Duyệt từng ký tự trong chuỗi (trừ ký tự cuối cùng đã thêm)\n",
    "\n",
    "        if (test_string[i] != ' ' and test_string[i+1] == ' '):\n",
    "            # Điều kiện nhận diện một từ:\n",
    "            # - test_string[i] khác khoảng trắng (nghĩa là đang ở trong một từ)\n",
    "            # - test_string[i+1] là khoảng trắng (nghĩa là từ vừa kết thúc)\n",
    "            \n",
    "            total = total + 1\n",
    "            # Khi phát hiện kết thúc 1 từ, tăng biến đếm\n",
    "\n",
    "    print(\"The number of words in string are\", total)\n",
    "    # In ra tổng số từ trong chuỗi"
   ]
  },
  {
   "cell_type": "markdown",
   "id": "7f2055ce-aaa5-4dcf-a8cd-ab68fde602db",
   "metadata": {},
   "source": [
    "## Bài 3"
   ]
  },
  {
   "cell_type": "markdown",
   "id": "34c95acb-e71a-4a3e-ab10-46f8100b0bef",
   "metadata": {},
   "source": [
    "### Nội dung bài"
   ]
  },
  {
   "cell_type": "markdown",
   "id": "15495293-cd1c-4852-b443-948a4a503cf6",
   "metadata": {},
   "source": [
    "Viết hàm đếm số lượng nguyên âm (a,e,i,o,u), phụ âm có trong chuỗi"
   ]
  },
  {
   "cell_type": "code",
   "execution_count": 7,
   "id": "c0039090-c022-4d9a-bdfe-9c93d3492154",
   "metadata": {},
   "outputs": [
    {
     "name": "stdout",
     "output_type": "stream",
     "text": [
      "Độ dài chuỗi: 12\n",
      "Số nguyên âm: 2\n",
      "Số phụ âm: 5\n"
     ]
    }
   ],
   "source": [
    "#Cách 1:\n",
    "# Chuỗi cần kiểm tra\n",
    "test_string = \" !! fdafdaf \"\n",
    "\n",
    "# Các ký hiệu đặc biệt cần loại bỏ khi đếm\n",
    "valid_symbols = \"!@#$%^&*()_+=-{}[]<>/,.\" #valid_symbols chứa các ký hiệu đặc biệt không cần tính\n",
    "\n",
    "# Hàm đếm nguyên âm và phụ âm trong chuỗi\n",
    "def dem_nguyenam_phuam(string): # duyệt từng ký tự trong chuỗi\n",
    "    nguyenam = 0   # Biến đếm nguyên âm\n",
    "    phuam = 0      # Biến đếm phụ âm\n",
    "\n",
    "    for char in string:\n",
    "        # Loại bỏ khoảng trắng và ký hiệu đặc biệt\n",
    "        if char != ' ' and char not in valid_symbols:\n",
    "            # Nếu ký tự là nguyên âm (cả thường và hoa)\n",
    "            if char in \"aeiouAEIOU\":\n",
    "                nguyenam += 1\n",
    "            else:\n",
    "                phuam += 1  # Còn lại là phụ âm\n",
    "\n",
    "    return nguyenam, phuam\n",
    "\n",
    "# In ra độ dài chuỗi (bao gồm cả khoảng trắng và ký hiệu)\n",
    "print(\"Độ dài chuỗi:\", len(test_string))\n",
    "\n",
    "# Gọi hàm để lấy số nguyên âm và phụ âm\n",
    "v, c = dem_nguyenam_phuam(test_string)\n",
    "\n",
    "# In kết quả\n",
    "print(\"Số nguyên âm:\", v)\n",
    "print(\"Số phụ âm:\", c)"
   ]
  },
  {
   "cell_type": "code",
   "execution_count": 8,
   "id": "201764e2-8145-4c09-be53-54ddf13eefc7",
   "metadata": {},
   "outputs": [],
   "source": [
    "# Cách 2:\n",
    "def dem_nguyenam_phuam_2(string):\n",
    "    nguyenam = 0\n",
    "    phuam = 0\n",
    "    for i in string:\n",
    "        if i != ' ' and i not in valid_symbols:\n",
    "            if(i=='a' or i=='e' or i=='i' or i=='o' or i=='u' or i=='A' or i=='E' or i=='I' or i=='O' or i=='U'):\n",
    "                nguyenam = nguyenam+1\n",
    "            else:\n",
    "                phuam = phuam +1\n",
    "    return nguyenam, phuam"
   ]
  },
  {
   "cell_type": "markdown",
   "id": "8581178f-ea3b-435a-bad9-fe014e3c7ea8",
   "metadata": {},
   "source": [
    "# Thực hành 3"
   ]
  },
  {
   "cell_type": "markdown",
   "id": "ac61ed77-d11b-40ad-b9c3-92a2db138d0c",
   "metadata": {},
   "source": [
    "## Bài 1"
   ]
  },
  {
   "cell_type": "markdown",
   "id": "98122e6c-a1dd-4cd2-80ca-b3f1a6528d9f",
   "metadata": {},
   "source": [
    "### Nội dung bài"
   ]
  },
  {
   "cell_type": "markdown",
   "id": "d6e309e0-33ab-4979-9bf7-0048da7e1d57",
   "metadata": {},
   "source": [
    "Sắp xếp List dùng string_compare và integer_compare"
   ]
  },
  {
   "cell_type": "code",
   "execution_count": 10,
   "id": "284b66f5-619f-4231-9577-cbb3d269b8cd",
   "metadata": {},
   "outputs": [
    {
     "name": "stdout",
     "output_type": "stream",
     "text": [
      "Input: ['3', '27', '5', '123', '9', '1']\n",
      "StringSort: ['1', '123', '27', '3', '5', '9']\n",
      "INTSort: ['1', '3', '5', '9', '27', '123']\n"
     ]
    }
   ],
   "source": [
    "# Danh sách A gồm các CHUỖI chữ số (không phải số nguyên)\n",
    "A = ['3', '27', '5', '123', '9', '1']\n",
    "\n",
    "print(\"Input:\", A)\n",
    "# In ra dữ liệu đầu vào để đối chiếu kết quả\n",
    "\n",
    "# ----- Cách 1: sorted() mặc định với kiểu chuỗi -----\n",
    "StringSort = sorted(A)\n",
    "# sorted() mặc định so sánh theo thứ tự từ điển (lexicographical) của CHUỖI\n",
    "# Tức là so sánh từng ký tự theo mã Unicode: '1' < '2' < '3' ...\n",
    "# Vì vậy '123' sẽ đứng trước '27' (vì so sánh ký tự đầu '1' < '2')\n",
    "\n",
    "print(\"StringSort:\", StringSort)\n",
    "# Ví dụ kết quả: ['1', '123', '27', '3', '5', '9']\n",
    "\n",
    "\n",
    "# ----- Cách 2: sorted() với key chuyển sang số nguyên -----\n",
    "def myintSort(a):\n",
    "    # Hàm key: nhận chuỗi a và trả về giá trị SỐ để dùng làm khóa sắp xếp\n",
    "    return int(a)\n",
    "\n",
    "INTSort = sorted(A, key=myintSort)\n",
    "# Cơ chế: sorted sẽ gọi myintSort(x) để lấy \"khóa\" (key) của từng phần tử\n",
    "# rồi sắp xếp theo khóa đó. Do ta trả về int(a), việc sắp xếp sẽ theo giá trị SỐ.\n",
    "# Lưu ý: sorted luôn trả về danh sách phần tử GỐC (chuỗi), chỉ khóa là số.\n",
    "\n",
    "print(\"INTSort:\", INTSort)\n",
    "# Ví dụ kết quả: ['1', '3', '5', '9', '27', '123']\n",
    "\n",
    "# Ghi chú:\n",
    "# - sorted() tạo LIST MỚI; nếu muốn sắp xếp tại chỗ dùng A.sort().\n",
    "# - Có thể viết gọn: INTSort = sorted(A, key=int)  # vì int chính là hàm chuyển đổi.\n",
    "# - Nếu có phần tử không phải chữ số (vd: '12a'), int('12a') sẽ gây ValueError."
   ]
  },
  {
   "cell_type": "markdown",
   "id": "2200edee-e370-4131-9972-931d26959a36",
   "metadata": {},
   "source": [
    "## Bài 2"
   ]
  },
  {
   "cell_type": "markdown",
   "id": "173a95e5-b465-40a5-8b04-49797337117c",
   "metadata": {},
   "source": [
    "### Nội dung bài"
   ]
  },
  {
   "cell_type": "markdown",
   "id": "ddedf2ff-b979-47ac-9a1c-4e492b06d95d",
   "metadata": {},
   "source": [
    "Viết chương trình in list sau khi đã xóa số tại vị trí thứ 1, thứ 2, thứ 3, thứ 6\n",
    "trong [12,24,35,70,88,120,155]."
   ]
  },
  {
   "cell_type": "code",
   "execution_count": 11,
   "id": "a1bc7d6e-532e-401b-aac3-118a43ef2060",
   "metadata": {},
   "outputs": [
    {
     "name": "stdout",
     "output_type": "stream",
     "text": [
      "Input: [12, 24, 35, 70, 88, 120, 155]\n",
      "Sau khi Xoa: [12, 88, 120]\n"
     ]
    }
   ],
   "source": [
    "# Danh sách ban đầu\n",
    "A = [12, 24, 35, 70, 88, 120, 155]\n",
    "print(\"Input:\", A)\n",
    "\n",
    "# Các chỉ số (index) cần xóa trong danh sách A\n",
    "indexR = [1, 2, 3, 6]   # tức là xóa phần tử ở vị trí 1,2,3,6 (tính từ 0)\n",
    "\n",
    "# Dùng list comprehension kết hợp với enumerate\n",
    "# enumerate(A) trả về (index, value) cho từng phần tử trong A\n",
    "# chỉ giữ lại các phần tử có index không thuộc indexR\n",
    "B = [x for i, x in enumerate(A) if i not in indexR]\n",
    "\n",
    "print(\"Sau khi Xoa:\", B)"
   ]
  },
  {
   "cell_type": "markdown",
   "id": "29e00147-778f-45bf-834c-3d7d269eeb11",
   "metadata": {},
   "source": [
    "## Bài 3"
   ]
  },
  {
   "cell_type": "markdown",
   "id": "572863e9-1c46-4b2e-8138-528f3a96d1ef",
   "metadata": {},
   "source": [
    "### Nội dung bài"
   ]
  },
  {
   "cell_type": "markdown",
   "id": "33b4aff9-b76c-4950-9636-00a78e966c08",
   "metadata": {},
   "source": [
    "Xóa các phần tử trùng nhau trong list"
   ]
  },
  {
   "cell_type": "code",
   "execution_count": 12,
   "id": "50e82d10-cbf7-4015-9e61-9d667be96ca9",
   "metadata": {},
   "outputs": [
    {
     "name": "stdout",
     "output_type": "stream",
     "text": [
      "Input: [1, 1, 1, 2, 2, 2, 3, 1, 2, 5, 6, 7, 8, 5, 6, 7]\n",
      "Output_1: [1, 2, 3, 5, 6, 7, 8]\n",
      "Output_2: [1, 2, 3, 5, 6, 7, 8]\n",
      "Output_3: [1, 2, 3, 5, 6, 7, 8]\n",
      "Output_4: [1, 2, 3, 5, 6, 7, 8]\n"
     ]
    }
   ],
   "source": [
    "# Danh sách A có nhiều phần tử trùng lặp\n",
    "A = [1, 1, 1, 2, 2, 2, 3, 1, 2, 5, 6, 7, 8, 5, 6, 7]\n",
    "print(\"Input:\", A)\n",
    "\n",
    "# --- Cách 1: Dùng vòng lặp + list.append ---\n",
    "B = []\n",
    "[B.append(x) for x in A if x not in B]\n",
    "# Lần lượt duyệt từng phần tử trong A\n",
    "# Nếu phần tử đó chưa có trong B thì thêm vào\n",
    "print(\"Output_1:\", B)\n",
    "\n",
    "\n",
    "# --- Cách 2: Dùng List comprehension với enumerate ---\n",
    "newlist = [ii for n, ii in enumerate(A) if ii not in A[:n]]\n",
    "# enumerate(A) sinh ra cặp (chỉ số n, giá trị ii)\n",
    "# điều kiện: chỉ lấy phần tử ii nếu nó chưa từng xuất hiện trong A[0:n]\n",
    "# tức là chỉ lấy phần tử đầu tiên trong mỗi nhóm trùng lặp\n",
    "print(\"Output_2:\", newlist)\n",
    "\n",
    "\n",
    "# --- Cách 3: Dùng tập hợp (set) ---\n",
    "Newlist_set = list(set(A))\n",
    "# set(A) loại bỏ phần tử trùng lặp\n",
    "# nhưng set không giữ nguyên thứ tự ban đầu\n",
    "# chuyển lại về list để dễ dùng\n",
    "print(\"Output_3:\", Newlist_set)\n",
    "\n",
    "\n",
    "# --- Cách 4: Dùng từ điển ---\n",
    "mylist = list(dict.fromkeys(A))\n",
    "# dict.fromkeys(A) tạo dictionary với key là các phần tử trong A\n",
    "# key trong dict là duy nhất nên các phần tử trùng sẽ tự động bị loại bỏ\n",
    "# Python 3.7+ giữ nguyên thứ tự nên kết quả giống Cách 1\n",
    "print(\"Output_4:\", mylist)"
   ]
  },
  {
   "cell_type": "markdown",
   "id": "27368c01-db23-4065-828f-1d9c0c085d57",
   "metadata": {},
   "source": [
    "## Bài 4"
   ]
  },
  {
   "cell_type": "markdown",
   "id": "64fbef56-25c6-4d19-a97b-ac7d424e5996",
   "metadata": {},
   "source": [
    "### Nội dung bài"
   ]
  },
  {
   "cell_type": "code",
   "execution_count": 1,
   "id": "787d208e-7bed-4c35-96d6-82e9eb0d6945",
   "metadata": {},
   "outputs": [
    {
     "name": "stdout",
     "output_type": "stream",
     "text": [
      "1:4,2:4,3:2,4:1,5:2,\n",
      "\n",
      "[(1, 4), (2, 4), (3, 2), (4, 1), (5, 2)]\n",
      "1:4,2:4,3:2,4:1,5:2,\n",
      "\n",
      "{1: 4, 2: 4, 3: 2, 4: 1, 5: 2}\n",
      "Counter({1: 4, 2: 4, 3: 2, 5: 2, 4: 1})\n"
     ]
    }
   ],
   "source": [
    "A = [1,1,1,1,2,2,2,2,3,3,4,5,5]\n",
    "\n",
    "# --- Cách 1: Không dùng set và dictionary ---\n",
    "e = []   # danh sách lưu các phần tử duy nhất\n",
    "for i in range(len(A)):\n",
    "    if A[i] not in e:         # nếu phần tử chưa có trong e\n",
    "        e.append(A[i])        # thêm vào e\n",
    "        print(A[i], \":\", A.count(A[i]), sep=\"\", end=\",\")\n",
    "        # A.count(A[i]) đếm số lần xuất hiện trong A\n",
    "print(\"\\n\")\n",
    "\n",
    "\n",
    "# --- Cách 2: Dùng tập hợp (set) ---\n",
    "b = [(x, A.count(x)) for x in set(A)]\n",
    "# duyệt qua từng phần tử duy nhất trong set(A)\n",
    "# tạo list gồm tuple (giá trị, số lần xuất hiện)\n",
    "print(b)\n",
    "\n",
    "for i in range(len(b)):\n",
    "    print(b[i][0], \":\", b[i][1], sep=\"\", end=\",\")\n",
    "print(\"\\n\")\n",
    "\n",
    "\n",
    "# --- Cách 3: Dùng từ điển ---\n",
    "d = {x: A.count(x) for x in A}\n",
    "# tạo dict với key là phần tử, value là số lần xuất hiện\n",
    "print(d)\n",
    "\n",
    "\n",
    "# --- Cách 4: Dùng Counter từ collections ---\n",
    "import collections\n",
    "ctr = collections.Counter(A)\n",
    "# Counter tự động tạo dictionary với key là phần tử, value là số lần xuất hiện\n",
    "print(ctr)"
   ]
  },
  {
   "cell_type": "markdown",
   "id": "8b30f3b7-5c6a-47d4-90b7-c9c52c24f195",
   "metadata": {},
   "source": [
    "# Thực hành 4: Cấu trúc điều kiện"
   ]
  },
  {
   "cell_type": "markdown",
   "id": "2b90f4e0-c6ea-42a8-a4a1-3bd95e501dc8",
   "metadata": {},
   "source": [
    "## Bài 1"
   ]
  },
  {
   "cell_type": "markdown",
   "id": "d68222de-8033-40e7-8273-5bc97794f9a2",
   "metadata": {},
   "source": [
    "### Nội dung bài"
   ]
  },
  {
   "cell_type": "markdown",
   "id": "aad89bf5-d681-40ed-925a-dd91b0ea1274",
   "metadata": {},
   "source": [
    "Nhập một số bất kỳ. Hãy đọc giá trị của số nguyên đó nếu nó có giá trị từ 1\n",
    "đến 9, ngược lại thông báo không đọc được."
   ]
  },
  {
   "cell_type": "code",
   "execution_count": 2,
   "id": "8f07ac1d-671f-481c-a1dc-383563967b3b",
   "metadata": {},
   "outputs": [
    {
     "name": "stdin",
     "output_type": "stream",
     "text": [
      "Nhập số nguyên bất kỳ:  5\n"
     ]
    },
    {
     "name": "stdout",
     "output_type": "stream",
     "text": [
      "Số vừa nhập là: năm\n"
     ]
    }
   ],
   "source": [
    "# Nhập một số nguyên bất kỳ\n",
    "n = int(input(\"Nhập số nguyên bất kỳ: \"))\n",
    "\n",
    "# Dùng câu điều kiện để kiểm tra\n",
    "if 1 <= n <= 9:\n",
    "    # Tạo danh sách cách đọc số\n",
    "    so_doc = [\"một\", \"hai\", \"ba\", \"bốn\", \"năm\", \"sáu\", \"bảy\", \"tám\", \"chín\"]\n",
    "    print(\"Số vừa nhập là:\", so_doc[n-1])   # vì list bắt đầu từ 0 nên lấy n-1\n",
    "else:\n",
    "    print(\"Không đọc được số này!\")"
   ]
  },
  {
   "cell_type": "markdown",
   "id": "f1f0cae1-2c06-4162-9859-13251c0e3d1b",
   "metadata": {},
   "source": [
    "## Bài 2"
   ]
  },
  {
   "cell_type": "markdown",
   "id": "930e9618-181a-4db7-86df-4a7c789f518a",
   "metadata": {},
   "source": [
    "### Nội dung bài"
   ]
  },
  {
   "cell_type": "markdown",
   "id": "998976bf-b8ef-424f-9456-e0d8fcb7629f",
   "metadata": {},
   "source": [
    "Nhập một chữ cái. Nếu là chữ thường thì đổi sang chữ hoa, ngược lại đổi sang\n",
    "chữ thường."
   ]
  },
  {
   "cell_type": "code",
   "execution_count": 8,
   "id": "94d6a423-c6f8-4ace-a834-cd120a17d3af",
   "metadata": {},
   "outputs": [
    {
     "name": "stdin",
     "output_type": "stream",
     "text": [
      "Nhập một chữ cái bất kỳ:  T\n"
     ]
    },
    {
     "name": "stdout",
     "output_type": "stream",
     "text": [
      "Chữ sau khi đổi là: t\n"
     ]
    }
   ],
   "source": [
    "#Nhập một chữ cái bất kỳ\n",
    "n = input(\"Nhập một chữ cái bất kỳ: \")\n",
    "# Dùng câu điều kiện để kiểm tra\n",
    "if n.islower(): #nếu n là chữ thường\n",
    "   print(\"Chữ sau khi đổi là:\", n.upper()) #đổi sang chữ hoa\n",
    "elif n.isupper(): #nếu n là chữ hoa\n",
    "   print(\"Chữ sau khi đổi là:\", n.lower()) # đổi sang chữ thường\n",
    "else:\n",
    "   print(\"Không phải chữ cái!\")"
   ]
  },
  {
   "cell_type": "markdown",
   "id": "4eb57c83-94a9-4484-9b2f-6f5551699554",
   "metadata": {},
   "source": [
    "## Bài 3"
   ]
  },
  {
   "cell_type": "markdown",
   "id": "0b36f77d-308f-49f7-aef2-d5d5cc552aa4",
   "metadata": {},
   "source": [
    "### Nội dung bài"
   ]
  },
  {
   "cell_type": "markdown",
   "id": "845ce4a0-7656-4b6b-a004-1f40d942d85b",
   "metadata": {},
   "source": [
    "Giải phương trình bậc nhất ax + b = 0"
   ]
  },
  {
   "cell_type": "code",
   "execution_count": 9,
   "id": "766120ee-47c3-44f5-a9ce-f222009784cb",
   "metadata": {},
   "outputs": [
    {
     "name": "stdin",
     "output_type": "stream",
     "text": [
      "Nhập a:  6\n",
      "Nhập b:  8\n"
     ]
    },
    {
     "name": "stdout",
     "output_type": "stream",
     "text": [
      "Phương trình có nghiệm x = -1.3333333333333333\n"
     ]
    }
   ],
   "source": [
    "# Nhập hệ số a và b từ người dùng\n",
    "a = float(input(\"Nhập a: \"))  # Chuyển giá trị nhập vào thành số thực\n",
    "b = float(input(\"Nhập b: \"))  # Chuyển giá trị nhập vào thành số thực\n",
    "\n",
    "# Kiểm tra giá trị của a để xác định loại phương trình\n",
    "if a != 0:  \n",
    "    # Nếu a khác 0, phương trình có nghiệm duy nhất\n",
    "    x = -b / a  # Công thức nghiệm của phương trình bậc nhất\n",
    "    print(\"Phương trình có nghiệm x =\", x)\n",
    "else:\n",
    "    # Nếu a = 0, cần xét giá trị của b\n",
    "    if b == 0:\n",
    "        print(\"Phương trình có vô số nghiệm\")  # 0x + 0 = 0\n",
    "    else:\n",
    "        print(\"Phương trình vô nghiệm\")  # 0x + b = 0 mà b ≠ 0"
   ]
  },
  {
   "cell_type": "markdown",
   "id": "60de6a79-63ee-4f01-b246-ef488df34ab1",
   "metadata": {},
   "source": [
    "## Bài 4"
   ]
  },
  {
   "cell_type": "markdown",
   "id": "dc4ecd7b-d35e-4b80-b0ef-337da5b629c6",
   "metadata": {},
   "source": [
    "### Nội dung bài"
   ]
  },
  {
   "cell_type": "markdown",
   "id": "1e1bd401-a8e7-4a6a-978e-3f1a69739a8f",
   "metadata": {},
   "source": [
    "Giải phương trình bậc hai ax2 + bx + c = 0"
   ]
  },
  {
   "cell_type": "code",
   "execution_count": 14,
   "id": "17ff20fb-1372-4bbb-a6f5-73f4599c2639",
   "metadata": {},
   "outputs": [
    {
     "name": "stdin",
     "output_type": "stream",
     "text": [
      "Nhập a:  3\n",
      "Nhập b:  8\n",
      "Nhập c:  1\n"
     ]
    },
    {
     "name": "stdout",
     "output_type": "stream",
     "text": [
      "Phương trình có 2 nghiệm phân biệt: x1 = -0.13148290817867028 , x2 = -2.5351837584879964\n"
     ]
    }
   ],
   "source": [
    "import math #thư viện toán học để dùng được hàm sqrt(căn bậc 2)\n",
    "# nhập hệ số a,b,c\n",
    "a = float(input(\"Nhập a: \")) # chuyển giá trị nhập vào thành số thực\n",
    "b = float(input(\"Nhập b: \")) # chuyển giá trị nhập vào thành số thực\n",
    "c = float(input(\"Nhập c: \")) # chuyển giá trị nhập vào thành số thực\n",
    "# Bước 1: Kiểm tra a = 0, nếu a=0 thì pt thành pt bậc 1\n",
    "if a == 0:\n",
    "    if b !=0:\n",
    "        x = -c/b # nghiệm của phương trình bậc nhất bx + c=0\n",
    "        print(\"Phương trình bậc nhất, nghiệm x =\", x)\n",
    "    else:\n",
    "        if c == 0:\n",
    "            print(\"Phương trình có vô số nghiệm\") #0x+0=0\n",
    "        else:\n",
    "            print(\"Phương trình vô nghiệm\") #0x + c = 0 mà c ≠ 0\n",
    "else:\n",
    "    #Tính delta\n",
    "    delta = b**2 - 4*a*c # công thức tính delta của pt bậc 2\n",
    "    #kiểm tra các trường hợp theo giá trị delta\n",
    "    if delta > 0:\n",
    "        x1 = (-b + math.sqrt(delta))/ (2*a) # nghiệm thứ nhất\n",
    "        x2 = (-b - math.sqrt(delta))/ (2*a) # nghiệm thứ hai\n",
    "        print(\"Phương trình có 2 nghiệm phân biệt: x1 =\", x1, \", x2 =\", x2)\n",
    "    elif delta == 0:\n",
    "        x = -b /(2*a) # nghiệm kép\n",
    "        print(\"Phương trình có nghiệm kép: x =\", x)\n",
    "    else:\n",
    "        print(\"Phương trình vô nghiệm!\")  #delta <0hông có nghiệm thực\n"
   ]
  },
  {
   "cell_type": "markdown",
   "id": "307a80fb-403d-4163-8e9d-fd472d9866c0",
   "metadata": {},
   "source": [
    "## Bài 5"
   ]
  },
  {
   "cell_type": "markdown",
   "id": "97368305-9006-4502-a103-1ee905484e04",
   "metadata": {},
   "source": [
    "### Nội dung bài"
   ]
  },
  {
   "cell_type": "markdown",
   "id": "aa641b9e-bc0f-4a06-a972-ac1483723877",
   "metadata": {},
   "source": [
    " Nhập 4 số nguyên a, b, c và d. Tìm số có giá trị nhỏ nhất (min)."
   ]
  },
  {
   "cell_type": "code",
   "execution_count": 1,
   "id": "e04ad480-a092-443b-bdab-3a9b0828d376",
   "metadata": {},
   "outputs": [
    {
     "name": "stdin",
     "output_type": "stream",
     "text": [
      "Nhập số nguyên a:  5\n",
      "Nhập số nguyên b:  6\n",
      "Nhập số nguyên c:  9\n",
      "Nhập số nguyên d:  3\n"
     ]
    },
    {
     "name": "stdout",
     "output_type": "stream",
     "text": [
      "Số nhỏ nhất là: 3\n"
     ]
    }
   ],
   "source": [
    "# Nhập 4 số nguyên\n",
    "a = int(input(\"Nhập số nguyên a: \"))  # Chuyển giá trị nhập vào thành số nguyên\n",
    "b = int(input(\"Nhập số nguyên b: \"))\n",
    "c = int(input(\"Nhập số nguyên c: \"))\n",
    "d = int(input(\"Nhập số nguyên d: \"))\n",
    "\n",
    "# Cách 1: dùng hàm min có sẵn của Python\n",
    "min_value = min(a, b, c, d)  # Hàm min trả về giá trị nhỏ nhất trong các tham số\n",
    "print(\"Số nhỏ nhất là:\", min_value)\n",
    "\n",
    "# Cách 2: dùng so sánh từng bước (nếu không dùng hàm min)\n",
    "# min_value = a  # Giả sử a là nhỏ nhất ban đầu\n",
    "# if b < min_value:\n",
    "#     min_value = b\n",
    "# if c < min_value:\n",
    "#     min_value = c\n",
    "# if d < min_value:\n",
    "#     min_value = d\n",
    "# print(\"Số nhỏ nhất là:\", min_value)"
   ]
  },
  {
   "cell_type": "markdown",
   "id": "cb231724-2f1f-47d5-a6f7-8d2fe19b6391",
   "metadata": {},
   "source": [
    "## Bài 6"
   ]
  },
  {
   "cell_type": "markdown",
   "id": "f3608bb7-0467-4745-a4da-24c49b57c489",
   "metadata": {},
   "source": [
    "### Nội dung bài"
   ]
  },
  {
   "cell_type": "markdown",
   "id": "ad2e4c5c-dadc-4a8f-815b-be4185fef3c1",
   "metadata": {},
   "source": [
    " Nhập 4 số nguyên a, b, c và d. Hãy sắp xếp giá trị của 4 số nguyên này theo thứ tự tăng\n",
    "dần"
   ]
  },
  {
   "cell_type": "code",
   "execution_count": 3,
   "id": "9f3c8237-f1d6-4edf-83a7-403551b19051",
   "metadata": {},
   "outputs": [
    {
     "name": "stdin",
     "output_type": "stream",
     "text": [
      "Nhập số nguyên a:  5\n",
      "Nhập số nguyên b:  4\n",
      "Nhập số nguyên c:  6\n",
      "Nhập số nguyên d:  2\n"
     ]
    },
    {
     "name": "stdout",
     "output_type": "stream",
     "text": [
      " Các số được sắp xếp theo thứ tự tăng dần là:  [2, 4, 5, 6]\n"
     ]
    }
   ],
   "source": [
    "# Nhập 4 số nguyên a,b,c,d\n",
    "a = int(input(\"Nhập số nguyên a: \")) #nhập số nguyên a\n",
    "b = int(input(\"Nhập số nguyên b: \"))\n",
    "c = int(input(\"Nhập số nguyên c: \"))\n",
    "d = int(input(\"Nhập số nguyên d: \"))\n",
    "#đưa các số vào 1 danh sách (list)\n",
    "numbers = [a,b,c,d]\n",
    "# sắp xếp danh sách theo thứ tự tăng dần\n",
    "numbers.sort() #hàm sort() sắp xếp trực tiếp trên danh sách\n",
    "#In kết quả\n",
    "print(\" Các số được sắp xếp theo thứ tự tăng dần là: \", numbers)"
   ]
  },
  {
   "cell_type": "markdown",
   "id": "7a5f5a25-4d3d-49ed-be18-bd4b82e7f8bf",
   "metadata": {},
   "source": [
    "## Bài 7"
   ]
  },
  {
   "cell_type": "markdown",
   "id": "af132b37-e5b8-4e10-b029-ccef1747f035",
   "metadata": {},
   "source": [
    "### Nội dung bài"
   ]
  },
  {
   "cell_type": "markdown",
   "id": "a47a046b-f642-46f4-8899-1f977a27fcdd",
   "metadata": {},
   "source": [
    "Tính tiền đi taxi từ số km nhập vào. \n",
    "\n",
    "Biết:\n",
    "\n",
    "• 1 km đầu giá 15000đ\n",
    "\n",
    "• Từ km thứ 2 đến km thứ 5 giá 13500đ\n",
    "\n",
    "• Từ km thứ 6 trở đi giá 11000\n",
    "\n",
    "• Nếu trên 120km được giảm 10% tổng tiền."
   ]
  },
  {
   "cell_type": "code",
   "execution_count": 6,
   "id": "90fea14b-eb52-45ee-b039-255d0dbf8302",
   "metadata": {},
   "outputs": [
    {
     "name": "stdin",
     "output_type": "stream",
     "text": [
      "Số km bạn đã đi taxi là:  130\n"
     ]
    },
    {
     "name": "stdout",
     "output_type": "stream",
     "text": [
      "Số tiền bạn phải trả là:  1299600 đồng\n"
     ]
    }
   ],
   "source": [
    "# Nhập số km đi taxi\n",
    "km = float(input(\"Số km bạn đã đi taxi là: \"))\n",
    "# khởi tạo biến tiền\n",
    "money = 0\n",
    "# xét các trường hợp theo số km\n",
    "if km <= 1: # nếu đi <= 1km thì giá tiền là 15.000đ\n",
    "    money = 15000\n",
    "elif km <= 5: # 1<= km <=5\n",
    "    money = 15000 + (km - 1)*13500\n",
    "elif km <= 120: #nếu đi từ 6km đến 120 km\n",
    "    money = 15000 + 4*13500 + (km-5)*11000\n",
    "else:\n",
    "    money = (15000 + 4*13500 + (km - 5)*11000)*0.9 # do giảm 10%\n",
    "# in kết quả\n",
    "print(\"Số tiền bạn phải trả là: \", int(money), \"đồng\")"
   ]
  },
  {
   "cell_type": "markdown",
   "id": "3596c332-0af2-489e-807a-f089b01e960a",
   "metadata": {},
   "source": [
    "## Bài 8"
   ]
  },
  {
   "cell_type": "markdown",
   "id": "39329673-873b-4b32-a29c-a59ada339247",
   "metadata": {},
   "source": [
    "### Nội dung bài"
   ]
  },
  {
   "cell_type": "markdown",
   "id": "88792078-75ba-4e72-a331-fc82018e01ff",
   "metadata": {},
   "source": [
    " Nhập vào tháng và năm. Cho biết tháng đó có bao nhiêu ngày."
   ]
  },
  {
   "cell_type": "code",
   "execution_count": 14,
   "id": "1fc88496-6436-4447-98ba-83b9ba017930",
   "metadata": {},
   "outputs": [
    {
     "name": "stdin",
     "output_type": "stream",
     "text": [
      "Nhập tháng (1-12)):  2\n",
      "Nhập năm:  2020\n"
     ]
    },
    {
     "name": "stdout",
     "output_type": "stream",
     "text": [
      "Tháng 2 năm 2020 có 29 ngày.\n"
     ]
    }
   ],
   "source": [
    "# Nhập tháng và năm\n",
    "month = int(input(\"Nhập tháng (1-12)): \"))\n",
    "year = int(input(\"Nhập năm: \"))\n",
    "# kiểm tra năm nhuận\n",
    "# - Chia hết cho 400 thì là năm nhất\n",
    "# - Chia hết cho 4 nhưng không chia hết cho 100\n",
    "is_leap = (year % 400 == 0) or ((year % 4 == 0) and (year %100 != 0))\n",
    "# Xác định số ngày theo tháng\n",
    "if month in [1, 3, 5, 7, 8, 10, 12]:\n",
    "    days = 31\n",
    "elif month in [4, 6, 9, 11]:\n",
    "    days = 30\n",
    "elif month == 2:\n",
    "     if is_leap:\n",
    "         days = 29\n",
    "     else:\n",
    "         days = 28\n",
    "else:\n",
    "    days = 0 #trường hợp nhập tháng không hợp lệ)\n",
    "#in kết quả\n",
    "if days != 0:\n",
    "   print(f\"Tháng {month} năm {year} có {days} ngày.\")\n",
    "else:\n",
    "   print(\"Tháng không hợp lệ! Vui lòng nhập từ 1 đến 12. \")"
   ]
  },
  {
   "cell_type": "markdown",
   "id": "4eeebe3e-c15e-4c78-96e6-d0787b8e8744",
   "metadata": {},
   "source": [
    "## Bài 9"
   ]
  },
  {
   "cell_type": "markdown",
   "id": "8757eba6-b8d8-45a9-8bab-2965a91f3920",
   "metadata": {},
   "source": [
    "### Nội dung bài"
   ]
  },
  {
   "cell_type": "markdown",
   "id": "9e58be25-dd28-4e6d-93eb-a4da3314e78b",
   "metadata": {},
   "source": [
    "Nhập độ dài 3 cạnh 1 tam giác. Kiểm tra đó có phải là tam giác không và là tam giác gì?"
   ]
  },
  {
   "cell_type": "code",
   "execution_count": null,
   "id": "dfaa7481-d970-4acf-af4f-0cf6f27c4302",
   "metadata": {},
   "outputs": [],
   "source": [
    "# Nhập độ dài 3 cạnh 1 tam giác\n",
    "a = float(input(\"Độ dài cạnh a là: \"))\n",
    "b = float(input(\"Độ dài cạnh b là: \"))\n",
    "c = float(i"
   ]
  }
 ],
 "metadata": {
  "kernelspec": {
   "display_name": "Python 3 (ipykernel)",
   "language": "python",
   "name": "python3"
  },
  "language_info": {
   "codemirror_mode": {
    "name": "ipython",
    "version": 3
   },
   "file_extension": ".py",
   "mimetype": "text/x-python",
   "name": "python",
   "nbconvert_exporter": "python",
   "pygments_lexer": "ipython3",
   "version": "3.12.1"
  }
 },
 "nbformat": 4,
 "nbformat_minor": 5
}
