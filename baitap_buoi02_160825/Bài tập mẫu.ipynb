{
 "cells": [
  {
   "cell_type": "markdown",
   "id": "d29ed555-e4ca-4bbb-8a40-670595704db8",
   "metadata": {},
   "source": [
    "# Bài tập mẫu - CÁC THÀNH PHẦN CƠ BẢN CỦA PYTHON"
   ]
  },
  {
   "cell_type": "markdown",
   "id": "05a9f81c-a0c1-49f1-9670-fa8e1df81c11",
   "metadata": {},
   "source": [
    "## Bài 1: In chuỗi"
   ]
  },
  {
   "cell_type": "markdown",
   "id": "3933ce19-c93c-478b-ad5e-368d24df82ae",
   "metadata": {},
   "source": [
    "Viết chương trình in ra 2 dòng chữ sau ra màn hình Console: "
   ]
  },
  {
   "cell_type": "markdown",
   "id": "c72a4131-5557-4caf-8e84-c8d8a277c008",
   "metadata": {},
   "source": [
    "\"Whoever is happy will make others happy too\n",
    "--Anne Frank\""
   ]
  },
  {
   "cell_type": "code",
   "execution_count": 2,
   "id": "aab6ef3e-9708-42ac-88ae-221f58dd724a",
   "metadata": {},
   "outputs": [
    {
     "name": "stdout",
     "output_type": "stream",
     "text": [
      "Whoever is happy will make others happy too\n",
      "--Anne Frank\n"
     ]
    }
   ],
   "source": [
    "print(\"Whoever is happy will make others happy too\");\n",
    "print(\"--Anne Frank\");"
   ]
  },
  {
   "cell_type": "markdown",
   "id": "b3d6e6e3-1e69-494f-b863-83e9ea759313",
   "metadata": {},
   "source": [
    "## Bài 2: Biểu thức tính toán"
   ]
  },
  {
   "cell_type": "markdown",
   "id": "c31cd218-088d-4fec-818c-46095dd697b7",
   "metadata": {},
   "source": [
    "Viết chương trình nhập vào hai số nguyên a và b. \n",
    "\n",
    "Hãy tính toán kết quả của các biểu thức sau A+B, AB, A*B, A/B (chia lấy nguyên), A%B (chia lấy dư), A / B (chia lẻ) (làm tròn 2 số lẻ).\n",
    "\n",
    "Khi in ra, kết quả có dạng “A [+,-,*,/,%] B = C”. A được căn lề trái 5, + (bình thường), B căn lề phải 5,\n",
    "dấu = bình thường, C căn lề phải 5."
   ]
  },
  {
   "cell_type": "code",
   "execution_count": 3,
   "id": "fd0522cd-8290-4c6d-8059-b3b8f22ae475",
   "metadata": {},
   "outputs": [
    {
     "name": "stdin",
     "output_type": "stream",
     "text": [
      "Moi ban nhap so a:  5\n",
      "Moi ban nhap so b:  7\n"
     ]
    },
    {
     "name": "stdout",
     "output_type": "stream",
     "text": [
      "Cac ket qua tinh toan: \n",
      "5     +     7 =    12\n",
      "5     -     7 =    -2\n",
      "5     *     7 =    35\n",
      "5     /     7 =     0\n",
      "5     /     7 =     5\n",
      "5     /     7 =  0.71\n"
     ]
    }
   ],
   "source": [
    "# Nhập dữ liệu\n",
    "a = int(input(\"Moi ban nhap so a: \"))\n",
    "b = int(input(\"Moi ban nhap so b: \"))\n",
    "# Xử lý\n",
    "kqCong = a + b\n",
    "kqTru = a - b\n",
    "kqNhan = a * b\n",
    "kqChiaNguyen = a // b\n",
    "kqDu= a % b\n",
    "kqChiaThuc = a / b\n",
    "# Xuất dữ liệu\n",
    "print(\"Cac ket qua tinh toan: \")\n",
    "print(\"%-5d + %5d = %5d\"%(a, b, kqCong))\n",
    "print(\"%-5d - %5d = %5d\"%(a, b, kqTru))\n",
    "print(\"%-5d * %5d = %5d\"%(a, b, kqNhan))\n",
    "print(\"%-5d / %5d = %5d\"%(a, b, kqChiaNguyen))\n",
    "print(\"%-5d / %5d = %5d\"%(a, b, kqDu))\n",
    "print(\"%-5d / %5d = %5.2f\"%(a, b, kqChiaThuc))"
   ]
  },
  {
   "cell_type": "markdown",
   "id": "858528fc-472d-4598-a81f-39395273dbe1",
   "metadata": {},
   "source": [
    "## Bài 3: Biểu thức so sánh"
   ]
  },
  {
   "cell_type": "markdown",
   "id": "c59feb53-1afa-469c-a35e-aa1d916472b2",
   "metadata": {},
   "source": [
    "Viết chương trình nhập vào hai số thực a và b. \n",
    "\n",
    "Hãy viết chương trình ước lượng các biểu thức so sánh\n",
    "A>B, A<B, A>=B, A<=B, A==B, A!=B. \n",
    "\n",
    "Số thực được định dạng có hai số lẻ, có dấu phân cách hàng\n",
    "ngàn."
   ]
  },
  {
   "cell_type": "code",
   "execution_count": 4,
   "id": "8a45a9da-9226-478a-b066-761a37990612",
   "metadata": {},
   "outputs": [
    {
     "name": "stdin",
     "output_type": "stream",
     "text": [
      "Moi ban nhap so a:  8\n",
      "Moi ban nhap so b:  9\n"
     ]
    },
    {
     "name": "stdout",
     "output_type": "stream",
     "text": [
      "Ket qua so sanh hai so thuc 8.00 va 9.00:\n",
      "8.00     <     9.00:     True\n",
      "8.00     <=     9.00:     True\n",
      "8.00     >     9.00:    False\n",
      "8.00     >=     9.00:    False\n",
      "8.00     ==     9.00:    False\n",
      "8.00     !=     9.00:     True\n"
     ]
    }
   ],
   "source": [
    "# Nhập dữ liệu\n",
    "a = float(input(\"Moi ban nhap so a: \"))\n",
    "b = float(input(\"Moi ban nhap so b: \"))\n",
    "# Xử lý\n",
    "laNhoHon = (a < b)\n",
    "laNhoHonBang = (a <= b)\n",
    "laLonHon = (a > b)\n",
    "laLonHonBang = (a >= b)\n",
    "laBang = (a == b)\n",
    "laKhacNhau = (a != b)\n",
    "# Xuất dữ liệu\n",
    "print(\"Ket qua so sanh hai so thuc %.2f va %.2f:\"%(a, b))\n",
    "print(\"%-8.2f < %8.2f: %8s\"%(a, b, laNhoHon))\n",
    "print(\"%-8.2f <= %8.2f: %8s\"%(a, b, laNhoHonBang))\n",
    "print(\"%-8.2f > %8.2f: %8s\"%(a, b, laLonHon))\n",
    "print(\"%-8.2f >= %8.2f: %8s\"%(a, b, laLonHonBang))\n",
    "print(\"%-8.2f == %8.2f: %8s\"%(a, b, laBang))\n",
    "print(\"%-8.2f != %8.2f: %8s\"%(a, b, laKhacNhau))"
   ]
  },
  {
   "cell_type": "markdown",
   "id": "846f5183-17c4-4897-8c02-3aa8a1fbecb6",
   "metadata": {},
   "source": [
    "## Bài 4: Tính giá trị hàm số"
   ]
  },
  {
   "cell_type": "markdown",
   "id": "13928cbe-573f-4cc7-ac0a-c3a4a7f2eb95",
   "metadata": {},
   "source": [
    "Hãy viết chương trình nhập vào số thực x và tính giá trị biểu thức:"
   ]
  },
  {
   "cell_type": "markdown",
   "id": "6558b40a-26ea-47cd-9591-0eef0821e3ea",
   "metadata": {},
   "source": [
    "$$\n",
    "f(x) = x + \\frac{x^5}{5!} + \\frac{\\sqrt{|x|}}{x^{3/2}}\n",
    "$$"
   ]
  },
  {
   "cell_type": "markdown",
   "id": "8af73468-afb6-4dae-8618-bd7933845a7c",
   "metadata": {},
   "source": [
    "Moi ban nhap vao gia tri cua bien so x: 2.3\n",
    "Gia tri cua ham so f(2.30) = 3.27."
   ]
  },
  {
   "cell_type": "code",
   "execution_count": 5,
   "id": "18fb093a-5eea-4180-ae68-7778f19747fb",
   "metadata": {},
   "outputs": [
    {
     "name": "stdin",
     "output_type": "stream",
     "text": [
      "Moi ban nhap vao gia tri cua bien so x:  28\n"
     ]
    },
    {
     "name": "stdout",
     "output_type": "stream",
     "text": [
      "Gia tri cua ham so f(28.00) = 143447.77.\n"
     ]
    }
   ],
   "source": [
    "# Nạp thư viện\n",
    "import math\n",
    "# Nhập dữ liệu\n",
    "x = float(input(\"Moi ban nhap vao gia tri cua bien so x: \"))\n",
    "# Xử lý\n",
    "fx = x + math.pow(x, 5) / (1 * 2 * 3 * 4 * 5) + \\\n",
    "math.sqrt(abs(x)) / math.pow(x, 3.0 / 2)\n",
    "# Xuất dữ liệu\n",
    "print(\"Gia tri cua ham so f(%.2f) = %.2f.\"%(x, fx))"
   ]
  },
  {
   "cell_type": "markdown",
   "id": "2c25a2da-0a95-4f7e-8c63-c5a3f407943f",
   "metadata": {},
   "source": [
    "## Bài 5: Tổng chữ số"
   ]
  },
  {
   "cell_type": "markdown",
   "id": "b0e5c132-024f-419a-9772-510f13cf867a",
   "metadata": {},
   "source": [
    "Moi ban nhap so nguyen n (co bon chu so): 1234\n",
    "1234 = 1 + 2 + 3 + 4 = 10."
   ]
  },
  {
   "cell_type": "code",
   "execution_count": 6,
   "id": "800c1281-dff8-499a-9357-3d7214497ffe",
   "metadata": {},
   "outputs": [
    {
     "name": "stdin",
     "output_type": "stream",
     "text": [
      "Moi ban nhap vao gia tri cua bien so x:  28\n"
     ]
    },
    {
     "name": "stdout",
     "output_type": "stream",
     "text": [
      "Gia tri cua ham so f(28.00) = 143447.77.\n"
     ]
    }
   ],
   "source": [
    "# Nạp thư viện\n",
    "import math\n",
    "# Nhập dữ liệu\n",
    "x = float(input(\"Moi ban nhap vao gia tri cua bien so x: \"))\n",
    "# Xử lý\n",
    "fx = x + math.pow(x, 5) / (1 * 2 * 3 * 4 * 5) + \\\n",
    "math.sqrt(abs(x)) / math.pow(x, 3.0 / 2)\n",
    "# Xuất dữ liệu\n",
    "print(\"Gia tri cua ham so f(%.2f) = %.2f.\"%(x, fx))"
   ]
  },
  {
   "cell_type": "markdown",
   "id": "67cdd5a7-f105-4080-8e60-1ce7b7b4e39a",
   "metadata": {},
   "source": [
    "# Bài tập thực hành"
   ]
  },
  {
   "cell_type": "markdown",
   "id": "85625b77-d612-44c9-ba96-ee1877a3f1ae",
   "metadata": {},
   "source": [
    "## Bài 1: In nhãn"
   ]
  },
  {
   "cell_type": "markdown",
   "id": "59ff6b73-5933-49cb-8762-72b5031c469f",
   "metadata": {},
   "source": [
    "**************************\n",
    "* Truong: Dai Hoc UEH *\n",
    "* Khoa: CNTT *\n",
    "* Ho ten: *\n",
    "************************** "
   ]
  },
  {
   "cell_type": "code",
   "execution_count": 1,
   "id": "5a0f14e2-37e3-460a-ad10-579eede8700a",
   "metadata": {},
   "outputs": [
    {
     "name": "stdout",
     "output_type": "stream",
     "text": [
      "**************************\n",
      "* Truong: Dai Hoc UEH     *\n",
      "* Khoa: CNTT              *\n",
      "* Ho ten:                 *\n",
      "**************************\n"
     ]
    }
   ],
   "source": [
    "# In ra dòng viền trên cùng\n",
    "print(\"**************************\")\n",
    "\n",
    "# In ra nội dung bên trong với dấu * ở hai bên\n",
    "print(\"* Truong: Dai Hoc UEH     *\")   # tên trường\n",
    "print(\"* Khoa: CNTT              *\")   # tên khoa\n",
    "print(\"* Ho ten:                 *\")   # họ tên (chưa điền)\n",
    "\n",
    "# In ra dòng viền dưới cùng\n",
    "print(\"**************************\")"
   ]
  },
  {
   "cell_type": "markdown",
   "id": "c1ea2d97-bb3c-4d55-831d-2a82fc3b7757",
   "metadata": {},
   "source": [
    "## Bài 2: Tính diện tích và chu hình tròn"
   ]
  },
  {
   "cell_type": "markdown",
   "id": "338fd08e-84ef-4cc6-9d08-39a097daa50c",
   "metadata": {},
   "source": [
    "Nhập vào bán kính R của một hình tròn. Hãy tính diện tích và chu vi hình tròn đó theo công thức:𝑆 = 3.14𝑥𝑅2, 𝑃 = 2𝑥3.14𝑥𝑅. In kết quả với 1 số lẻ thập phân."
   ]
  },
  {
   "cell_type": "code",
   "execution_count": 6,
   "id": "d467a3dd-ae8d-4d24-b801-e036367f7918",
   "metadata": {},
   "outputs": [
    {
     "name": "stdin",
     "output_type": "stream",
     "text": [
      "Mời bạn nhập bán kính R 23\n"
     ]
    },
    {
     "name": "stdout",
     "output_type": "stream",
     "text": [
      "Diện tích hình tròn: 1661.1\n",
      "Chu vi hình tròn: 144.4\n"
     ]
    }
   ],
   "source": [
    "import math\n",
    "R = float(input(\"Mời bạn nhập bán kính R\"))\n",
    "dientich = (3.14*(R**2))\n",
    "chuvi = (2*3.14*R)\n",
    "print(\"Diện tích hình tròn: {:.1f}\".format(dientich))\n",
    "print(\"Chu vi hình tròn: {:.1f}\".format(chuvi))"
   ]
  },
  {
   "cell_type": "markdown",
   "id": "79022df4-8cdd-443d-9a9c-4c4fddc74a78",
   "metadata": {},
   "source": [
    "## Bài 3: Đổi sang giây"
   ]
  },
  {
   "cell_type": "markdown",
   "id": "fcadccad-7438-4fda-b9c7-ba4a0609d5e1",
   "metadata": {},
   "source": [
    "Một thiết bị hoạt động được h giờ, m phút và s giây. Hãy viết chương trình chuyển thời gian đó sang\n",
    "tổng số giây."
   ]
  },
  {
   "cell_type": "code",
   "execution_count": 7,
   "id": "d8d86482-3a01-42be-a785-14c4b77089ff",
   "metadata": {},
   "outputs": [
    {
     "name": "stdin",
     "output_type": "stream",
     "text": [
      "Nhập số giờ:  4\n",
      "Nhập số phút:  6\n",
      "Nhập số giây:  8\n"
     ]
    },
    {
     "name": "stdout",
     "output_type": "stream",
     "text": [
      "Tổng số giây là: 14768\n"
     ]
    }
   ],
   "source": [
    "# Nhập vào số giờ, phút và giây\n",
    "h = int(input(\"Nhập số giờ: \"))\n",
    "m = int(input(\"Nhập số phút: \"))\n",
    "s = int(input(\"Nhập số giây: \"))\n",
    "\n",
    "# Công thức đổi tất cả về giây\n",
    "# 1 giờ = 3600 giây, 1 phút = 60 giây\n",
    "tong_giay = h * 3600 + m * 60 + s\n",
    "\n",
    "# In kết quả\n",
    "print(\"Tổng số giây là:\", tong_giay)\n"
   ]
  },
  {
   "cell_type": "markdown",
   "id": "c7f49edb-7db9-4fb4-a6d4-71e776636e4e",
   "metadata": {},
   "source": [
    "## Bài 4: Đổi sang giờ phút giây"
   ]
  },
  {
   "cell_type": "markdown",
   "id": "040a3ee2-e619-49a0-918c-c589547be318",
   "metadata": {},
   "source": [
    "Một thiết bị hoạt động được t giây. Hãy viết chương trình chuyển số giây đó dưới dạng số giờ, số phút\n",
    "và số giây."
   ]
  },
  {
   "cell_type": "code",
   "execution_count": 1,
   "id": "3b760f88-676e-400a-9767-e15840718484",
   "metadata": {},
   "outputs": [
    {
     "name": "stdin",
     "output_type": "stream",
     "text": [
      "Nhập số giây:  2586\n"
     ]
    },
    {
     "name": "stdout",
     "output_type": "stream",
     "text": [
      "Thời gian: 0 giờ 43 phút 6 giây\n"
     ]
    }
   ],
   "source": [
    "# Nhập vào tổng số giây\n",
    "t = int(input(\"Nhập số giây: \"))\n",
    "\n",
    "# Đổi giây thành giờ, phút, giây\n",
    "h = t // 3600               # Số giờ (lấy phần nguyên khi chia 3600)\n",
    "m = (t % 3600) // 60        # Số phút (phần dư sau khi chia cho 3600, chia tiếp cho 60)\n",
    "s = t % 60                  # Số giây còn lại (lấy phần dư sau khi chia cho 60)\n",
    "\n",
    "# In kết quả\n",
    "print(\"Thời gian:\", h, \"giờ\", m, \"phút\", s, \"giây\")"
   ]
  },
  {
   "cell_type": "markdown",
   "id": "e60a97f7-dcd1-4dce-8beb-418574ab2a8a",
   "metadata": {},
   "source": [
    "## Bài 5: Tính diện tích tam giác"
   ]
  },
  {
   "cell_type": "markdown",
   "id": "8a03215d-9b89-478b-9c90-41631d994259",
   "metadata": {},
   "source": [
    "Cho 3 số thực a, b, c là độ dài 3 cạnh của một tam giác. Hãy tính diện tích tam giác này theo công thức\n",
    "Heron: 𝑆 = √𝑝(𝑝 − 𝑎)(𝑝 − 𝑏)(𝑝 − 𝑐) với 𝑝 =\n",
    "(𝑎+𝑏+𝑐)/2\n",
    ". In kết quả với 2 số lẻ thập phân.\n"
   ]
  },
  {
   "cell_type": "code",
   "execution_count": 2,
   "id": "094bad55-a855-4c6c-8496-bb6f9efd24b1",
   "metadata": {},
   "outputs": [
    {
     "name": "stdin",
     "output_type": "stream",
     "text": [
      "Nhập độ dài cạnh a:  5\n",
      "Nhập độ dài cạnh b:  3\n",
      "Nhập độ dài cạnh c:  4\n"
     ]
    },
    {
     "name": "stdout",
     "output_type": "stream",
     "text": [
      "Diện tích tam giác là: 6.00\n"
     ]
    }
   ],
   "source": [
    "import math\n",
    "# Nhập 3 số a,b,c\n",
    "a = float(input(\"Nhập độ dài cạnh a: \"))\n",
    "b = float(input(\"Nhập độ dài cạnh b: \"))\n",
    "c = float(input(\"Nhập độ dài cạnh c: \"))\n",
    "# Kiểm tra xem có phải tam giác không\n",
    "if a + b > c and a + c > b and b + c > a:\n",
    "    p = (a+b+c)/2 #tính nửa chu vi\n",
    "    s = math.sqrt(p*(p-a)*(p-b)*(p-c)) # áp dụng công thức heron\n",
    "    print (\"Diện tích tam giác là: %.2f\" % s)\n",
    "else:\n",
    "    print(\"Ba cạnh đã nhập không tạo thành tam giác\")"
   ]
  },
  {
   "cell_type": "markdown",
   "id": "50120461-1cca-435a-98e7-5619315f9822",
   "metadata": {},
   "source": [
    "## Bài 6: Hàm mũ"
   ]
  },
  {
   "cell_type": "markdown",
   "id": "4e4b2f6d-4922-4530-a98f-fe54aefdcf18",
   "metadata": {},
   "source": [
    "Nhập số thực a và số nguyên n. Hãy tính a^n."
   ]
  },
  {
   "cell_type": "code",
   "execution_count": 3,
   "id": "0cf27131-e1a0-4e43-900e-9636870c3677",
   "metadata": {},
   "outputs": [
    {
     "name": "stdin",
     "output_type": "stream",
     "text": [
      "Nhập số thực a:  4\n",
      "Nhập số nguyên n:  5\n"
     ]
    },
    {
     "name": "stdout",
     "output_type": "stream",
     "text": [
      "1024.0\n"
     ]
    }
   ],
   "source": [
    "# Nhập số thực a, số nguyên n\n",
    "a = float(input(\"Nhập số thực a: \"))\n",
    "n = int(input(\"Nhập số nguyên n: \"))\n",
    "# tính a^n\n",
    "print(a**n)"
   ]
  },
  {
   "cell_type": "markdown",
   "id": "d611f246-673e-41fc-b54f-d9a4876f110b",
   "metadata": {},
   "source": [
    "## Bài 7: Đảo số"
   ]
  },
  {
   "cell_type": "markdown",
   "id": "cf9eea5e-e729-4f7a-bdbb-2ad20c462dbc",
   "metadata": {},
   "source": [
    "Cho số nguyên x có 4 chữ số. Hãy tìm số y là số đảo của số x, tức là số có các chữ số viết theo thứ tự\n",
    "ngược lại của x."
   ]
  },
  {
   "cell_type": "code",
   "execution_count": 4,
   "id": "6dce7431-f0db-465c-b22f-b0069f88dcf3",
   "metadata": {},
   "outputs": [
    {
     "name": "stdin",
     "output_type": "stream",
     "text": [
      "Nhập số nguyên x (4 chữ số):  4568\n"
     ]
    },
    {
     "name": "stdout",
     "output_type": "stream",
     "text": [
      "Số đảo của 4568 là 8654\n"
     ]
    }
   ],
   "source": [
    "# Cách 1\n",
    "# Nhập số nguyên có 4 chữ số\n",
    "x = int(input(\"Nhập số nguyên x (4 chữ số): \"))\n",
    "\n",
    "# Đảo ngược bằng cách chuyển sang chuỗi rồi đảo lại\n",
    "y = int(str(x)[::-1])\n",
    "\n",
    "# In kết quả\n",
    "print(\"Số đảo của\", x, \"là\", y)"
   ]
  },
  {
   "cell_type": "code",
   "execution_count": 5,
   "id": "d29b18c9-6e9d-4c36-8507-cd506583d590",
   "metadata": {},
   "outputs": [
    {
     "name": "stdin",
     "output_type": "stream",
     "text": [
      "Nhập số nguyên x (4 chữ số):  8210\n"
     ]
    },
    {
     "name": "stdout",
     "output_type": "stream",
     "text": [
      "Số đảo của 8210 là 128\n"
     ]
    }
   ],
   "source": [
    "# Cách 2\n",
    "# Nhập số nguyên có 4 chữ số\n",
    "x = int(input(\"Nhập số nguyên x (4 chữ số): \"))\n",
    "\n",
    "# Tách từng chữ số\n",
    "a = x % 10         # chữ số hàng đơn vị\n",
    "b = (x // 10) % 10 # chữ số hàng chục\n",
    "c = (x // 100) % 10 # chữ số hàng trăm\n",
    "d = x // 1000      # chữ số hàng nghìn\n",
    "\n",
    "# Ghép số đảo\n",
    "y = a*1000 + b*100 + c*10 + d\n",
    "\n",
    "# In kết quả\n",
    "print(\"Số đảo của\", x, \"là\", y)"
   ]
  },
  {
   "cell_type": "markdown",
   "id": "9a643094-842a-4466-a961-a8acd2dc424f",
   "metadata": {},
   "source": [
    "## Bài 8: Độ sang Radian"
   ]
  },
  {
   "cell_type": "markdown",
   "id": "d30d2dbd-a209-48fc-9ad0-f7bbce456733",
   "metadata": {},
   "source": [
    "Tìm công thức và viết chương trình chuyển một góc từ độ sang radian."
   ]
  },
  {
   "cell_type": "code",
   "execution_count": 6,
   "id": "eb74a31a-ddff-4da8-bb8f-8b9dafa45368",
   "metadata": {},
   "outputs": [
    {
     "name": "stdin",
     "output_type": "stream",
     "text": [
      "Nhập góc (độ):  48\n"
     ]
    },
    {
     "name": "stdout",
     "output_type": "stream",
     "text": [
      "Góc 48.0 độ = 0.8378 radian\n"
     ]
    }
   ],
   "source": [
    "import math  # dùng để lấy giá trị của pi\n",
    "\n",
    "# Nhập góc tính theo độ\n",
    "degree = float(input(\"Nhập góc (độ): \"))\n",
    "\n",
    "# Công thức đổi sang radian\n",
    "radian = degree * math.pi / 180\n",
    "\n",
    "# In kết quả (làm tròn 4 chữ số thập phân cho đẹp)\n",
    "print(\"Góc\", degree, \"độ =\", round(radian, 4), \"radian\")"
   ]
  },
  {
   "cell_type": "markdown",
   "id": "45318f43-c0a5-4fb9-9b68-249740cc4359",
   "metadata": {},
   "source": [
    "## Bài 9: Hàm số 1"
   ]
  },
  {
   "cell_type": "markdown",
   "id": "401b68da-c5e6-421f-9ae5-eb3de1414078",
   "metadata": {},
   "source": [
    "Nhập vào số thực x, tính và in ra các giá trị y1, y (làm tròn 2 số lẻ):"
   ]
  },
  {
   "cell_type": "code",
   "execution_count": 8,
   "id": "b76167ff-d5c3-46ef-a23e-9db97c5eb11e",
   "metadata": {},
   "outputs": [
    {
     "name": "stdin",
     "output_type": "stream",
     "text": [
      "Nhập x:  -1\n"
     ]
    },
    {
     "name": "stdout",
     "output_type": "stream",
     "text": [
      "y1: không xác định (vì x < 0 làm sqrt(x) không phải số thực)\n",
      "y2 = 1.68\n"
     ]
    }
   ],
   "source": [
    "import math  # dùng hằng số pi, hàm sin, cos, exp, sqrt\n",
    "\n",
    "# Nhập số thực x\n",
    "x = float(input(\"Nhập x: \"))\n",
    "\n",
    "# --- Tính y1 ---\n",
    "# Chú ý: y1 có căn sqrt(x) nên CHỈ hợp lệ khi x >= 0 (để căn bậc hai là số thực)\n",
    "if x >= 0:\n",
    "    y1 = 4 * (x**2 + 10*x*math.sqrt(x) + 3*x + 1)\n",
    "else:\n",
    "    y1 = None  # đánh dấu không tính được trong tập số thực\n",
    "\n",
    "# --- Tính y2 ---\n",
    "# Tử số: sin(pi*x^2) + sqrt(x^2 + 1)  (biểu thức dưới căn luôn >= 1 nên an toàn)\n",
    "num = math.sin(math.pi * x**2) + math.sqrt(x**2 + 1)\n",
    "\n",
    "# Mẫu số: e^(2x) + cos((pi/4)*x)\n",
    "den = math.exp(2*x) + math.cos((math.pi/4) * x)\n",
    "\n",
    "# Tránh chia cho 0 (trường hợp mẫu số rất gần 0)\n",
    "if abs(den) < 1e-12:\n",
    "    y2 = None\n",
    "else:\n",
    "    y2 = num / den\n",
    "\n",
    "# --- In kết quả, làm tròn 2 chữ số thập phân ---\n",
    "if y1 is None:\n",
    "    print(\"y1: không xác định (vì x < 0 làm sqrt(x) không phải số thực)\")\n",
    "else:\n",
    "    print(f\"y1 = {y1:.2f}\")\n",
    "\n",
    "if y2 is None:\n",
    "    print(\"y2: không xác định (mẫu số bằng 0 hoặc quá nhỏ)\")\n",
    "else:\n",
    "    print(f\"y2 = {y2:.2f}\")"
   ]
  },
  {
   "cell_type": "markdown",
   "id": "f98ef9a1-d3c9-431c-b8ea-3a007811cd94",
   "metadata": {},
   "source": [
    "## Bài 10: Khoảng cách"
   ]
  },
  {
   "cell_type": "markdown",
   "id": "82767617-e33f-4c50-b495-655c407cf3e6",
   "metadata": {},
   "source": [
    "Tính khoảng cách giữa 2 điểm A(𝑥1, 𝑦1) và B(𝑥2, 𝑦2)"
   ]
  },
  {
   "cell_type": "code",
   "execution_count": 2,
   "id": "0ab58b1c-5c3b-4337-a8de-6105a182cd88",
   "metadata": {},
   "outputs": [
    {
     "name": "stdin",
     "output_type": "stream",
     "text": [
      "Nhập tọa độ điểm A (x1 y1):  2 0\n",
      "Nhập tọa độ điểm B (x2 y2):  1 3\n"
     ]
    },
    {
     "name": "stdout",
     "output_type": "stream",
     "text": [
      "Khoảng cách AB = 3.16\n"
     ]
    }
   ],
   "source": [
    "import math\n",
    "\n",
    "# Nhập tọa độ hai điểm\n",
    "x1, y1 = map(float, input(\"Nhập tọa độ điểm A (x1 y1): \").split())\n",
    "x2, y2 = map(float, input(\"Nhập tọa độ điểm B (x2 y2): \").split())\n",
    "\n",
    "# Tính khoảng cách\n",
    "d = math.sqrt((x2 - x1)**2 + (y2 - y1)**2)\n",
    "\n",
    "# In kết quả với 2 chữ số thập phân\n",
    "print(f\"Khoảng cách AB = {d:.2f}\")"
   ]
  },
  {
   "cell_type": "markdown",
   "id": "f5cc6c10-63db-411e-9fc4-832822fa44d7",
   "metadata": {},
   "source": [
    "# Bài tập mẫu - CẤU TRÚC ĐIỀU KIỆN"
   ]
  },
  {
   "cell_type": "markdown",
   "id": "ed2ef3ea-72a6-4fa7-81ba-92aed83949e3",
   "metadata": {},
   "source": [
    "## Bài 1: Tìm giá trị lớn nhất"
   ]
  },
  {
   "cell_type": "markdown",
   "id": "90bca3b5-7672-4b25-8bea-773aabf14a48",
   "metadata": {},
   "source": [
    "Viết chương trình nhập vào 3 số nguyên a, b, c. Tìm giá trị lớn nhất của 3 số đó."
   ]
  },
  {
   "cell_type": "code",
   "execution_count": 5,
   "id": "c8b0375e-46e7-4460-afd6-38901486bed4",
   "metadata": {},
   "outputs": [
    {
     "name": "stdin",
     "output_type": "stream",
     "text": [
      "Nhập số nguyên a:  4\n",
      "Nhập số nguyên b:  5\n",
      "Nhập số nguyên c:  6\n"
     ]
    },
    {
     "name": "stdout",
     "output_type": "stream",
     "text": [
      "Max(4, 5, 6) = 6\n"
     ]
    }
   ],
   "source": [
    "# Nhập 3 số nguyên a,b,c\n",
    "a = int(input(\"Nhập số nguyên a: \"))\n",
    "b = int(input(\"Nhập số nguyên b: \"))\n",
    "c = int(input(\"Nhập số nguyên c: \"))\n",
    "# max a,b,c\n",
    "def max_fn(a,b):\n",
    "    return a if a > b else b\n",
    "    pass # max_fn\n",
    "vmax = max_fn(a,b)\n",
    "vmax = max_fn(vmax, c)\n",
    "#output\n",
    "print(\"Max(%d, %d, %d) = %d\"%(a,b,c,vmax))"
   ]
  },
  {
   "cell_type": "markdown",
   "id": "894247b1-1aed-4f30-a77d-b0c578791158",
   "metadata": {},
   "source": [
    "## Bài 2: Sắp xếp"
   ]
  },
  {
   "cell_type": "markdown",
   "id": "d4115f3e-a2e9-4eb1-aafb-78d0b4f76a91",
   "metadata": {},
   "source": [
    "Cho ba số nguyên a, b, c. Hãy sắp xếp ba số nguyên theo thứ tự tăng dần. "
   ]
  },
  {
   "cell_type": "code",
   "execution_count": 11,
   "id": "71e1d54c-a988-4f5c-b721-b86c521ef411",
   "metadata": {},
   "outputs": [
    {
     "name": "stdin",
     "output_type": "stream",
     "text": [
      "Nhập số nguyên a:  2\n",
      "Nhập số nguyên b:  1\n",
      "Nhập số nguyên c:  4\n"
     ]
    },
    {
     "name": "stdout",
     "output_type": "stream",
     "text": [
      "1 2 4\n"
     ]
    }
   ],
   "source": [
    "# Nhập 3 số nguyên a,b,c\n",
    "a = int(input(\"Nhập số nguyên a: \"))\n",
    "b = int(input(\"Nhập số nguyên b: \"))\n",
    "c = int(input(\"Nhập số nguyên c: \"))\n",
    "# Sắp xếp bằng cách hoán đổi\n",
    "if a > b:\n",
    "    a, b = b, a\n",
    "if a > c:\n",
    "    a, c = c, a\n",
    "if b > c:\n",
    "    b, c = c, b\n",
    "\n",
    "# Xuất kết quả\n",
    "print(a, b, c)\n"
   ]
  },
  {
   "cell_type": "markdown",
   "id": "8f8ed8e3-12ab-41cd-96af-8361b03f0fb1",
   "metadata": {},
   "source": [
    "## Bài 3: Giải phương trình bậc 1"
   ]
  },
  {
   "cell_type": "markdown",
   "id": "e83751ac-854e-42df-91c7-571edd3bdeec",
   "metadata": {},
   "source": [
    "Nhập 2 số thực a, b. Tìm nghiệm của phương trình bậc 1: ax + b = 0"
   ]
  },
  {
   "cell_type": "code",
   "execution_count": 13,
   "id": "d58f6483-067d-4d75-bd9c-59abeee50ef9",
   "metadata": {},
   "outputs": [
    {
     "name": "stdin",
     "output_type": "stream",
     "text": [
      " 2\n",
      " 3\n"
     ]
    },
    {
     "name": "stdout",
     "output_type": "stream",
     "text": [
      "2.00x + 3.00 = 0: x = -1.50\n"
     ]
    }
   ],
   "source": [
    "# Input a, b with ax + b = 0\n",
    "a = float(input())\n",
    "b = int(input())\n",
    "# Process\n",
    "def solv1deg(a, b):\n",
    "   \"\"\"\n",
    "   Solve Equation ax + b = 0\n",
    "   \"\"\"\n",
    "   nsol, x = None, None\n",
    "   if a == 0:\n",
    "      if b == 0:\n",
    "         nsol = -1\n",
    "      else:\n",
    "         nsol = 0\n",
    "   else:\n",
    "      nsol = 1\n",
    "      x = -b / a\n",
    "   return nsol, x\n",
    "   pass # solv1deg\n",
    "nsol, x = solv1deg(a, b)\n",
    "# output\n",
    "if nsol == -1:\n",
    "   print(\"%.2fx + %.2f = 0: unlimited solutions\"%(a, b))\n",
    "elif nsol == 0:\n",
    "   print(\"%.2fx + %.2f = 0: no solution\"%(a, b))\n",
    "else:\n",
    "   print(\"%.2fx + %.2f = 0: x = %.2f\"%(a, b, x))"
   ]
  },
  {
   "cell_type": "markdown",
   "id": "461cf78a-83ab-49f8-9ec6-b4a0c9fa418f",
   "metadata": {},
   "source": [
    "## Bài 4: Tìm số ngày của năm (dùng rẽ nhánh)"
   ]
  },
  {
   "cell_type": "markdown",
   "id": "63e86e13-a2be-4aa3-9e6c-e73455c957c9",
   "metadata": {},
   "source": [
    "Nhập vào số năm n, cho biết năm n có bao nhiêu ngày. Biết rằng năm nhuần là năm chia hết cho 400\n",
    "hay chia hết cho 4 nhưng không chia hết cho 100. Ví dụ: năm 2004, 2008, 2012 là năm nhuần và có số\n",
    "ngày là 366, năm 1945 không phải là năm nhuần và có số ngày là 365."
   ]
  },
  {
   "cell_type": "code",
   "execution_count": 1,
   "id": "3a0fc6ee-7f2c-462d-a972-274627f5efd0",
   "metadata": {},
   "outputs": [
    {
     "name": "stdin",
     "output_type": "stream",
     "text": [
      "Nhập năm:  2014\n"
     ]
    },
    {
     "name": "stdout",
     "output_type": "stream",
     "text": [
      "365\n"
     ]
    }
   ],
   "source": [
    "# Input\n",
    "y = int(input(\"Nhập năm: \"))\n",
    "\n",
    "# Process\n",
    "def isleap(y):\n",
    "    ans = False\n",
    "    if y % 400 == 0 or (y % 4 == 0 and y % 100 != 0):\n",
    "        ans = True\n",
    "    return ans\n",
    "# IsLeap\n",
    "\n",
    "def daysyear(y):\n",
    "    ans = 365\n",
    "    if isleap(y):\n",
    "        ans = 366\n",
    "    return ans\n",
    "# daysyear\n",
    "\n",
    "ans = daysyear(y)\n",
    "\n",
    "# Output\n",
    "print(\"%d\" % (ans))"
   ]
  },
  {
   "cell_type": "markdown",
   "id": "252529c6-cefd-4d23-b4cd-37f1b25240d7",
   "metadata": {},
   "source": [
    "## Bài 5: Tính toán"
   ]
  },
  {
   "cell_type": "markdown",
   "id": "94712881-a246-46f9-8f66-41c9d2bc5710",
   "metadata": {},
   "source": [
    "Viết chương trình nhập vào 2 số thực và một phép toán (+, -, *, /). Cho biết kết quả của phép toán với 2\n",
    "số đã nhập."
   ]
  },
  {
   "cell_type": "code",
   "execution_count": 2,
   "id": "56ea3750-0687-4b78-b828-99f62ebfa111",
   "metadata": {},
   "outputs": [
    {
     "name": "stdin",
     "output_type": "stream",
     "text": [
      "Nhập số thứ nhất:  3\n",
      "Nhập số thứ hai:  4\n",
      "Nhập phép toán (+, -, *, /):  *\n"
     ]
    },
    {
     "name": "stdout",
     "output_type": "stream",
     "text": [
      "Kết quả: 12.0\n"
     ]
    }
   ],
   "source": [
    "# Nhập dữ liệu\n",
    "a = float(input(\"Nhập số thứ nhất: \"))\n",
    "b = float(input(\"Nhập số thứ hai: \"))\n",
    "op = input(\"Nhập phép toán (+, -, *, /): \")\n",
    "\n",
    "# Xử lý\n",
    "if op == \"+\":\n",
    "    ans = a + b\n",
    "elif op == \"-\":\n",
    "    ans = a - b\n",
    "elif op == \"*\":\n",
    "    ans = a * b\n",
    "elif op == \"/\":\n",
    "    if b != 0:\n",
    "        ans = a / b\n",
    "    else:\n",
    "        ans = \"Lỗi: Không thể chia cho 0\"\n",
    "else:\n",
    "    ans = \"Phép toán không hợp lệ!\"\n",
    "\n",
    "# Xuất kết quả\n",
    "print(\"Kết quả:\", ans)"
   ]
  },
  {
   "cell_type": "markdown",
   "id": "fb594079-9edf-42e9-804c-c3d89a909b28",
   "metadata": {},
   "source": [
    "## Bài 6: Tính tiền điện tiêu thụ trong hộ gia đình"
   ]
  },
  {
   "cell_type": "markdown",
   "id": "13d650fc-fb76-441e-961d-1f0118731784",
   "metadata": {},
   "source": [
    "Cứ mỗi tháng nhân viên đi ghi chỉ số điện tiêu thụ của từng hộ gia đình bao gồm thông tin chỉ số điện\n",
    "cũ, chỉ số điện mới. Biết bảng giá định mức sử dụng điện của hộ gia đình trên tháng:\n",
    "\n",
    "* Cho kWh từ 0 - 100: 1242(đồng/kWh)\n",
    "* Cho kWh từ 101 - 150: 1304 (đồng/kWh)\n",
    "* Cho kWh từ 151 - 200: 1651 (đồng/kWh)\n",
    "* Cho kWh từ 201 - 300: 1788 (đồng/kWh)\n",
    "* Cho kWh từ 301 - 400:  191"
   ]
  },
  {
   "cell_type": "code",
   "execution_count": 1,
   "id": "2ef8200a-63db-491c-9a3a-bfa538aaa32e",
   "metadata": {},
   "outputs": [
    {
     "name": "stdin",
     "output_type": "stream",
     "text": [
      "Nhập chỉ số điện cũ (kWh):  234\n",
      "Nhập chỉ số điện mới (kWh):  236\n"
     ]
    },
    {
     "name": "stdout",
     "output_type": "stream",
     "text": [
      "Số điện tiêu thụ: 2 kWh\n",
      "Tiền điện (chưa VAT): 2,484 đồng\n",
      "Tổng tiền phải trả (có VAT): 2,732 đồng\n"
     ]
    }
   ],
   "source": [
    "# Hàm tính tiền điện theo bậc thang\n",
    "def tinh_tien_dien(kwh):\n",
    "    bac = [100, 50, 50, 100, 100, float(\"inf\")]  # số kWh cho từng bậc\n",
    "    gia = [1242, 1304, 1651, 1788, 1912, 1962]   # giá ứng với từng bậc\n",
    "    \n",
    "    tien = 0\n",
    "    for i in range(len(bac)):\n",
    "        if kwh > 0:\n",
    "            so_kwh = min(kwh, bac[i])   # số kWh dùng trong bậc này\n",
    "            tien += so_kwh * gia[i]\n",
    "            kwh -= so_kwh\n",
    "        else:\n",
    "            break\n",
    "    return tien\n",
    "\n",
    "# --- Chương trình chính ---\n",
    "# Nhập chỉ số điện\n",
    "chi_so_cu = int(input(\"Nhập chỉ số điện cũ (kWh): \"))\n",
    "chi_so_moi = int(input(\"Nhập chỉ số điện mới (kWh): \"))\n",
    "\n",
    "# Tính số kWh tiêu thụ\n",
    "kwh = chi_so_moi - chi_so_cu\n",
    "\n",
    "if kwh < 0:\n",
    "    print(\"Lỗi: Chỉ số điện mới phải lớn hơn hoặc bằng chỉ số điện cũ.\")\n",
    "else:\n",
    "    # Tính tiền điện chưa VAT\n",
    "    tien_dien = tinh_tien_dien(kwh)\n",
    "    # Cộng thêm 10% VAT\n",
    "    tong_tien = tien_dien * 1.1\n",
    "    \n",
    "    # Xuất kết quả\n",
    "    print(f\"Số điện tiêu thụ: {kwh} kWh\")\n",
    "    print(f\"Tiền điện (chưa VAT): {tien_dien:,.0f} đồng\")\n",
    "    print(f\"Tổng tiền phải trả (có VAT): {tong_tien:,.0f} đồng\")\n"
   ]
  },
  {
   "cell_type": "markdown",
   "id": "8536b0bc-01d9-48c7-970a-ee4abbc97a05",
   "metadata": {},
   "source": [
    "## Bài 7: Ngày trước"
   ]
  },
  {
   "cell_type": "markdown",
   "id": "69b8913d-239a-4112-984f-afa8062479a0",
   "metadata": {},
   "source": [
    "Nhập vào ngày, tháng, năm. Hỏi ngày trước đó là ngày nào?"
   ]
  },
  {
   "cell_type": "code",
   "execution_count": 3,
   "id": "f79e33a2-7288-40b0-bd19-17ed7894373c",
   "metadata": {},
   "outputs": [
    {
     "name": "stdin",
     "output_type": "stream",
     "text": [
      "Nhập ngày:  1\n",
      "Nhập tháng:  3\n",
      "Nhập năm:  2025\n"
     ]
    },
    {
     "name": "stdout",
     "output_type": "stream",
     "text": [
      "Previous day of 1/3/2025 is 28/2/2025.\n"
     ]
    }
   ],
   "source": [
    "def is_leap_year(year):\n",
    "    return (year % 400 == 0) or (year % 4 == 0 and year % 100 != 0)\n",
    "\n",
    "def previous_day(d, m, y):\n",
    "    # số ngày của từng tháng\n",
    "    days_in_month = [31, 28 + is_leap_year(y), 31, 30, 31, 30,\n",
    "                     31, 31, 30, 31, 30, 31]\n",
    "\n",
    "    if d > 1:\n",
    "        return d - 1, m, y\n",
    "    else:  # d == 1\n",
    "        if m == 1:  # ngày 1/1 -> ngày 31/12 năm trước\n",
    "            return 31, 12, y - 1\n",
    "        else:  # ngày đầu tháng khác\n",
    "            return days_in_month[m - 2], m - 1, y\n",
    "\n",
    "# --- Chương trình chính ---\n",
    "d = int(input(\"Nhập ngày: \"))\n",
    "m = int(input(\"Nhập tháng: \"))\n",
    "y = int(input(\"Nhập năm: \"))\n",
    "\n",
    "pd, pm, py = previous_day(d, m, y)\n",
    "print(f\"Previous day of {d}/{m}/{y} is {pd}/{pm}/{py}.\")"
   ]
  },
  {
   "cell_type": "markdown",
   "id": "d3f64d16-e3e4-400e-ab95-320396a91210",
   "metadata": {},
   "source": [
    "## Bài 8: Kiểm tra tam giác"
   ]
  },
  {
   "cell_type": "markdown",
   "id": "50e53211-1449-4ebf-80c3-07c73a1c0218",
   "metadata": {},
   "source": [
    "Nhập vào ba cạnh a, b, c của một tam giác. Hãy kiểm tra xem a, b, c có tạo thành một tam giác không?\n",
    "Biết a, b, c tạo thành một tam giác khi tổng hai cạnh bất kỳ lớn hơn cạnh còn lại."
   ]
  },
  {
   "cell_type": "code",
   "execution_count": 6,
   "id": "be7dc695-efbe-4306-8a3e-4ccfbc32c834",
   "metadata": {},
   "outputs": [
    {
     "name": "stdin",
     "output_type": "stream",
     "text": [
      "Nhập a:  3\n",
      "Nhập b:  4\n",
      "Nhập c:  5\n"
     ]
    },
    {
     "name": "stdout",
     "output_type": "stream",
     "text": [
      "Ba cạnh trên tạo thành 1 tam giác\n"
     ]
    }
   ],
   "source": [
    "# Nhập a,b,c\n",
    "a = float(input(\"Nhập a: \"))\n",
    "b = float(input(\"Nhập b: \"))\n",
    "c = float(input(\"Nhập c: \"))\n",
    "# Kiểm tra tam giác\n",
    "if a + b > c and a + c > b and b + c > a :\n",
    "   print(\"Ba cạnh trên tạo thành 1 tam giác\")\n",
    "else:\n",
    "   print(\"Đây không phải 1 tam giác\")"
   ]
  },
  {
   "cell_type": "markdown",
   "id": "72a31d0b-4ce3-40f9-8a32-ebc59697710f",
   "metadata": {},
   "source": [
    "# Bài tập thực hành"
   ]
  },
  {
   "cell_type": "markdown",
   "id": "83a7feb8-90c9-4167-a21c-8037514b0dc3",
   "metadata": {},
   "source": [
    "## Bài 1: Tìm giá trị lớn nhất, nhỏ nhất của 5 số"
   ]
  },
  {
   "cell_type": "markdown",
   "id": "3daa45d6-38d6-4f89-b37b-64ac6cd13090",
   "metadata": {},
   "source": [
    "Nhập vào giá trị a, b, c, d, e. Hãy tìm giá trị lớn nhất và nhỏ nhất của 5 số a, b, c, d, e. "
   ]
  },
  {
   "cell_type": "code",
   "execution_count": 7,
   "id": "1184a949-c231-4ac6-ac5d-ff85773caae2",
   "metadata": {},
   "outputs": [
    {
     "name": "stdin",
     "output_type": "stream",
     "text": [
      "Nhập số a:  2\n",
      "Nhập số b:  4\n",
      "Nhập số c:  6\n",
      "Nhập số d:  2.1\n",
      "Nhập số e:  3.5\n"
     ]
    },
    {
     "name": "stdout",
     "output_type": "stream",
     "text": [
      "Giá trị lớn nhất là: 6.0\n",
      "Giá trị nhỏ nhất là: 2.0\n"
     ]
    }
   ],
   "source": [
    "# Nhập vào 5 số\n",
    "a = float(input(\"Nhập số a: \"))\n",
    "b = float(input(\"Nhập số b: \"))\n",
    "c = float(input(\"Nhập số c: \"))\n",
    "d = float(input(\"Nhập số d: \"))\n",
    "e = float(input(\"Nhập số e: \"))\n",
    "\n",
    "# Tìm max và min\n",
    "lon_nhat = max(a, b, c, d, e)\n",
    "nho_nhat = min(a, b, c, d, e)\n",
    "\n",
    "# Xuất kết quả\n",
    "print(\"Giá trị lớn nhất là:\", lon_nhat)\n",
    "print(\"Giá trị nhỏ nhất là:\", nho_nhat)"
   ]
  },
  {
   "cell_type": "markdown",
   "id": "cf1f46a6-74ad-42ab-8fba-3b9d138373bb",
   "metadata": {},
   "source": [
    "## Bài 2: Giải phương trình bậc 2"
   ]
  },
  {
   "cell_type": "markdown",
   "id": "04fd0a8f-e779-49f7-8661-46b396793471",
   "metadata": {},
   "source": [
    "Nhập 3 số thực a, b, c. Hãy tìm nghiệm của phương trình bậc 2: 𝑎𝑥^2+𝑏𝑥+𝑐=0"
   ]
  },
  {
   "cell_type": "code",
   "execution_count": 8,
   "id": "64e82052-941b-4d0f-a753-f2df16baf61a",
   "metadata": {},
   "outputs": [
    {
     "name": "stdin",
     "output_type": "stream",
     "text": [
      "Nhập a:  2.5\n",
      "Nhập b:  6.4\n",
      "Nhập c:  3.8\n"
     ]
    },
    {
     "name": "stdout",
     "output_type": "stream",
     "text": [
      "Phương trình có 2 nghiệm phân biệt:\n",
      "x1 = -0.9359069893182944\n",
      "x2 = -1.6240930106817058\n"
     ]
    }
   ],
   "source": [
    "import math\n",
    "\n",
    "# Nhập hệ số\n",
    "a = float(input(\"Nhập a: \"))\n",
    "b = float(input(\"Nhập b: \"))\n",
    "c = float(input(\"Nhập c: \"))\n",
    "\n",
    "# Giải phương trình\n",
    "if a == 0:\n",
    "    if b == 0:\n",
    "        if c == 0:\n",
    "            print(\"Phương trình có vô số nghiệm\")\n",
    "        else:\n",
    "            print(\"Phương trình vô nghiệm\")\n",
    "    else:\n",
    "        x = -c / b\n",
    "        print(\"Phương trình có 1 nghiệm: x =\", x)\n",
    "else:\n",
    "    delta = b**2 - 4*a*c\n",
    "    if delta < 0:\n",
    "        print(\"Phương trình vô nghiệm\")\n",
    "    elif delta == 0:\n",
    "        x = -b / (2*a)\n",
    "        print(\"Phương trình có nghiệm kép: x =\", x)\n",
    "    else:\n",
    "        x1 = (-b + math.sqrt(delta)) / (2*a)\n",
    "        x2 = (-b - math.sqrt(delta)) / (2*a)\n",
    "        print(\"Phương trình có 2 nghiệm phân biệt:\")\n",
    "        print(\"x1 =\", x1)\n",
    "        print(\"x2 =\", x2)"
   ]
  },
  {
   "cell_type": "markdown",
   "id": "4ad1e5b2-ab78-4c3d-9bb9-a085109818f8",
   "metadata": {},
   "source": [
    "## Bài 3: Tìm số ngày của tháng (dùng rẽ nhánh)"
   ]
  },
  {
   "cell_type": "code",
   "execution_count": 9,
   "id": "d0bf3c99-042f-4495-b979-061e7177424c",
   "metadata": {},
   "outputs": [
    {
     "name": "stdin",
     "output_type": "stream",
     "text": [
      "Nhập tháng:  2\n",
      "Nhập năm:  2030\n"
     ]
    },
    {
     "name": "stdout",
     "output_type": "stream",
     "text": [
      "Tháng 2 năm 2030 có 28 ngày\n"
     ]
    }
   ],
   "source": [
    "# Nhập dữ liệu\n",
    "thang = int(input(\"Nhập tháng: \"))\n",
    "nam = int(input(\"Nhập năm: \"))\n",
    "\n",
    "# Xác định số ngày\n",
    "if thang in [1, 3, 5, 7, 8, 10, 12]:\n",
    "    print(\"Tháng\", thang, \"năm\", nam, \"có 31 ngày\")\n",
    "elif thang in [4, 6, 9, 11]:\n",
    "    print(\"Tháng\", thang, \"năm\", nam, \"có 30 ngày\")\n",
    "elif thang == 2:\n",
    "    # Kiểm tra năm nhuận\n",
    "    if (nam % 400 == 0) or (nam % 4 == 0 and nam % 100 != 0):\n",
    "        print(\"Tháng 2 năm\", nam, \"có 29 ngày\")\n",
    "    else:\n",
    "        print(\"Tháng 2 năm\", nam, \"có 28 ngày\")\n",
    "else:\n",
    "    print(\"Tháng không hợp lệ!\")\n"
   ]
  },
  {
   "cell_type": "markdown",
   "id": "bf80819a-0b31-4c3b-9a5c-a7ce2c029102",
   "metadata": {},
   "source": [
    "## Bài 4: Chữ số lớn nhất"
   ]
  },
  {
   "cell_type": "code",
   "execution_count": 10,
   "id": "6529b858-f875-46ee-b68b-9c6913ad1566",
   "metadata": {},
   "outputs": [
    {
     "name": "stdin",
     "output_type": "stream",
     "text": [
      "Nhập số nguyên n (4 chữ số):  2048\n"
     ]
    },
    {
     "name": "stdout",
     "output_type": "stream",
     "text": [
      "Chữ số lớn nhất của 2048 là: 8\n"
     ]
    }
   ],
   "source": [
    "# Nhập số nguyên có 4 chữ số\n",
    "n = int(input(\"Nhập số nguyên n (4 chữ số): \"))\n",
    "\n",
    "# Tách các chữ số\n",
    "d1 = n // 1000            # chữ số hàng nghìn\n",
    "d2 = (n // 100) % 10      # chữ số hàng trăm\n",
    "d3 = (n // 10) % 10       # chữ số hàng chục\n",
    "d4 = n % 10               # chữ số hàng đơn vị\n",
    "\n",
    "# Tìm chữ số lớn nhất\n",
    "max_digit = max(d1, d2, d3, d4)\n",
    "\n",
    "print(\"Chữ số lớn nhất của\", n, \"là:\", max_digit)"
   ]
  },
  {
   "cell_type": "markdown",
   "id": "1e4fe62a-e8d1-4053-98f1-4e8f453d70ad",
   "metadata": {},
   "source": [
    "## Bài 5: Điểm trung bình"
   ]
  },
  {
   "cell_type": "markdown",
   "id": "b201e324-3069-457b-9cf1-e84c34846052",
   "metadata": {},
   "source": [
    "Viết chương trình nhập vào 3 điểm: Toán, Lý, Hóa. Tính điểm trung bình và phân loại học sinh như sau:\n",
    "DTB = (Toán * 2 + Lý * 3 + Hóa) / 6. Tiêu chuẩn xếp loại: Nếu 8 ≤ DTB ≤ 10 thì xếp loại “Giỏi”, Nếu\n",
    "6.5 ≤ DTB < 8 thì xếp loại “Khá”, Nếu 5≤ DTB < 6.5 thì xếp loại “Trung bình”, Nếu DTB < 5 thì xếp\n",
    "loại “Yếu”. (Good, Pretty, Average, Weak)."
   ]
  },
  {
   "cell_type": "code",
   "execution_count": 11,
   "id": "e05e3aac-3d26-4e42-87cf-15bbc7c694ac",
   "metadata": {},
   "outputs": [
    {
     "name": "stdin",
     "output_type": "stream",
     "text": [
      "Nhập điểm Toán:  9.8\n",
      "Nhập điểm Lý:  3.4\n",
      "Nhập điểm Hóa:  6.7\n"
     ]
    },
    {
     "name": "stdout",
     "output_type": "stream",
     "text": [
      "Average point = 6.08, rating Average.\n"
     ]
    }
   ],
   "source": [
    "# Nhập điểm\n",
    "math = float(input(\"Nhập điểm Toán: \"))\n",
    "physics = float(input(\"Nhập điểm Lý: \"))\n",
    "chemistry = float(input(\"Nhập điểm Hóa: \"))\n",
    "\n",
    "# Tính điểm trung bình\n",
    "avg = (math * 2 + physics * 3 + chemistry) / 6\n",
    "\n",
    "# Phân loại\n",
    "if 8 <= avg <= 10:\n",
    "    rating = \"Good\"\n",
    "elif 6.5 <= avg < 8:\n",
    "    rating = \"Pretty\"\n",
    "elif 5 <= avg < 6.5:\n",
    "    rating = \"Average\"\n",
    "else:\n",
    "    rating = \"Weak\"\n",
    "\n",
    "# Xuất kết quả (làm tròn 2 chữ số thập phân)\n",
    "print(f\"Average point = {avg:.2f}, rating {rating}.\")"
   ]
  },
  {
   "cell_type": "markdown",
   "id": "e9e0ff9d-30e7-46af-a773-cb17f3dd81e0",
   "metadata": {},
   "source": [
    "## Bài 6: Tính tiền nước tiêu thụ trong hộ gia đình"
   ]
  },
  {
   "cell_type": "markdown",
   "id": "f64f7f58-1c82-473e-85c1-ddceb85c927e",
   "metadata": {},
   "source": [
    "Cứ mỗi tháng nhân viên nước đi ghi chỉ số nước của từng hộ gia đình bao gồm thông tin chỉ số nước cũ,\n",
    "chỉ số nước mới và số người tiêu thụ (đã đăng ký). Biết bảng giá định mức sử dụng nước của từng người\n",
    "trên tháng:"
   ]
  },
  {
   "cell_type": "markdown",
   "id": "45fefe0a-8804-4327-9d02-cedfe11f298d",
   "metadata": {},
   "source": [
    "4 m3 đầu tiên: 4.400 đ/m3\n",
    "\n",
    "2 m3 kế tiếp: 8.300 đ/m3\n",
    "\n",
    "những m3 tiếp theo: 10.500 đ/m3\n",
    "\n",
    "Tổng số tiền mà hộ phải trả cho bên bán nước là số tiền tính được theo số m3 tiêu thụ trên tổng số người\n",
    "đăng ký trong hộ công với tiền thuế giá trị gia tăng là 5% và phí bảo vệ môi trường là10%. Hãy tính số\n",
    "tiền nước tiêu thụ của một hộ gia đình."
   ]
  },
  {
   "cell_type": "code",
   "execution_count": 12,
   "id": "8a845cf4-1c23-48c6-8db9-bcd3a1286c6f",
   "metadata": {},
   "outputs": [
    {
     "name": "stdin",
     "output_type": "stream",
     "text": [
      "Nhập chỉ số nước cũ:  244\n",
      "Nhập chỉ số nước mới:  404\n",
      "Nhập số người trong hộ:  7\n"
     ]
    },
    {
     "name": "stdout",
     "output_type": "stream",
     "text": [
      "Payment for 160 m^3 in month is 1,898,880 đ.\n"
     ]
    }
   ],
   "source": [
    "# Nhập dữ liệu\n",
    "old_index = int(input(\"Nhập chỉ số nước cũ: \"))\n",
    "new_index = int(input(\"Nhập chỉ số nước mới: \"))\n",
    "people = int(input(\"Nhập số người trong hộ: \"))\n",
    "\n",
    "# Số m3 tiêu thụ\n",
    "consumed = new_index - old_index\n",
    "limit = people * 4  # Định mức\n",
    "\n",
    "payment = 0\n",
    "# Nếu trong định mức\n",
    "if consumed <= limit:\n",
    "    if consumed <= 4:\n",
    "        payment = consumed * 4400\n",
    "    elif consumed <= 6:\n",
    "        payment = 4 * 4400 + (consumed - 4) * 8300\n",
    "    else:\n",
    "        payment = 4 * 4400 + 2 * 8300 + (consumed - 6) * 10500\n",
    "else:\n",
    "    # Vượt định mức\n",
    "    payment = 4 * 4400 + 2 * 8300 + (consumed - 6) * 10500\n",
    "\n",
    "# Thêm thuế và phí\n",
    "total_payment = payment * 1.15\n",
    "\n",
    "print(f\"Payment for {consumed} m^3 in month is {total_payment:,.0f} đ.\")"
   ]
  },
  {
   "cell_type": "markdown",
   "id": "e510889e-52d8-428f-974a-2be17c63d8c1",
   "metadata": {},
   "source": [
    "## Bài 7: Ngày sau"
   ]
  },
  {
   "cell_type": "code",
   "execution_count": 1,
   "id": "36bec0f6-9c7c-48f7-b65b-086384e2b59b",
   "metadata": {},
   "outputs": [
    {
     "name": "stdin",
     "output_type": "stream",
     "text": [
      "Nhập ngày:  23\n",
      "Nhập tháng:  6\n",
      "Nhập năm:  2017\n"
     ]
    },
    {
     "name": "stdout",
     "output_type": "stream",
     "text": [
      "Ngày kế tiếp là: 24/6/2017\n"
     ]
    }
   ],
   "source": [
    "# Yêu cầu người dùng nhập ngày, tháng, năm\n",
    "day = int(input(\"Nhập ngày: \"))\n",
    "month = int(input(\"Nhập tháng: \"))\n",
    "year = int(input(\"Nhập năm: \"))\n",
    "\n",
    "# Hàm kiểm tra năm nhuận\n",
    "def is_leap_year(year):\n",
    "    # Một năm là năm nhuận nếu nó chia hết cho 400\n",
    "    # hoặc chia hết cho 4 nhưng không chia hết cho 100\n",
    "    return (year % 400 == 0) or (year % 4 == 0 and year % 100 != 0)\n",
    "\n",
    "# Hàm lấy số ngày trong tháng\n",
    "def get_days_in_month(month, year):\n",
    "    # Các tháng có 31 ngày\n",
    "    if month in [1, 3, 5, 7, 8, 10, 12]:\n",
    "        return 31\n",
    "    # Các tháng có 30 ngày\n",
    "    elif month in [4, 6, 9, 11]:\n",
    "        return 30\n",
    "    # Tháng 2 có 29 ngày nếu là năm nhuận, ngược lại là 28\n",
    "    elif month == 2:\n",
    "        return 29 if is_leap_year(year) else 28\n",
    "    # Trường hợp tháng không hợp lệ\n",
    "    else:\n",
    "        return 0\n",
    "\n",
    "# Lấy số ngày tối đa của tháng hiện tại\n",
    "max_days = get_days_in_month(month, year)\n",
    "\n",
    "# Kiểm tra xem ngày nhập vào có hợp lệ không\n",
    "if max_days == 0 or day > max_days or day <= 0:\n",
    "    print(\"Ngày tháng năm không hợp lệ.\")\n",
    "else:\n",
    "    # Nếu ngày hiện tại chưa phải là cuối tháng\n",
    "    if day < max_days:\n",
    "        day += 1\n",
    "    # Nếu ngày hiện tại là cuối tháng\n",
    "    else:\n",
    "        day = 1  # Đặt lại ngày là 1\n",
    "        # Nếu là tháng 12\n",
    "        if month == 12:\n",
    "            month = 1    # Tháng tiếp theo là tháng 1\n",
    "            year += 1    # Năm tiếp theo\n",
    "        # Nếu không phải là tháng 12\n",
    "        else:\n",
    "            month += 1   # Tăng tháng lên 1\n",
    "\n",
    "    # In kết quả ngày tiếp theo\n",
    "    print(\"Ngày kế tiếp là: {}/{}/{}\".format(day, month, year))"
   ]
  },
  {
   "cell_type": "markdown",
   "id": "4eed9832-4d82-40f3-bf29-5b7dc41842e5",
   "metadata": {},
   "source": [
    "## Bài 8: Tính chất số 1"
   ]
  },
  {
   "cell_type": "markdown",
   "id": "b3b13473-3061-4344-ba0e-7c5f819a61f1",
   "metadata": {},
   "source": [
    "Cho số tự nhiên n nhỏ hơn 1000. Hỏi \n",
    "\n",
    "(a) số tự nhiên n có bao nhiêu chữ số? \n",
    "\n",
    "(b) Tính tổng các chữ số\n",
    "của n? \n",
    "\n",
    "(c) Tìm chữ số cuối của n? \n",
    "\n",
    "(d) Tìm chữ số đầu của n?"
   ]
  },
  {
   "cell_type": "code",
   "execution_count": null,
   "id": "42fcb053-1ed2-41b1-8269-496d4c103cb4",
   "metadata": {},
   "outputs": [],
   "source": [
    "#nhập một số nguyên n nhỏ hơn 1000\n",
    "try:\n",
    "    n = int(input(\"Nhập một số nguyên n (< 1000): \"))\n",
    "    \n",
    "    # Kiểm tra n có hợp lệ không\n",
    "    if n >= 1000 or n < 0:\n",
    "        print(\"Vui lòng nhập một số nguyên dương nhỏ hơn 1000.\")\n",
    "    else:\n",
    "        # a) Đếm số chữ số của n\n",
    "        # Chuyển số n thành chuỗi để dùng hàm len()\n",
    "        str_n = str(n)\n",
    "        so_chu_so = len(str_n)\n",
    "        \n",
    "        # b) Tính tổng các chữ số của n\n",
    "        tong_chu_so = sum(int(digit) for digit in str_n)\n",
    "        \n",
    "        # c) Tìm chữ số cuối cùng của n\n",
    "        # Lấy phần dư khi chia cho 10\n",
    "        chu_so_cuoi = n % 10\n",
    "        \n",
    "        # d) Tìm chữ số đầu tiên của n\n",
    "        # Dùng vòng lặp chia liên tục cho 10 đến khi n còn 1 chữ số\n",
    "        if n == 0:\n",
    "            chu_so_dau = 0\n",
    "        else:\n",
    "            temp_n = n\n",
    "            while temp_n >= 10:\n",
    "                temp_n //= 10\n",
    "            chu_so_dau = temp_n\n",
    "\n",
    "        # In kết quả\n",
    "        print(f\"Số {n} có {so_chu_so} chữ số.\")\n",
    "        print(f\"Tổng các chữ số là: {tong_chu_so}.\")\n",
    "        print(f\"Chữ số cuối cùng là: {chu_so_cuoi}.\")\n",
    "        print(f\"Chữ số đầu tiên là: {chu_so_dau}.\")\n",
    "\n",
    "except ValueError:\n",
    "    print(\"Đầu vào không hợp lệ. Vui lòng nhập một số nguyên.\")"
   ]
  }
 ],
 "metadata": {
  "kernelspec": {
   "display_name": "Python 3 (ipykernel)",
   "language": "python",
   "name": "python3"
  },
  "language_info": {
   "codemirror_mode": {
    "name": "ipython",
    "version": 3
   },
   "file_extension": ".py",
   "mimetype": "text/x-python",
   "name": "python",
   "nbconvert_exporter": "python",
   "pygments_lexer": "ipython3",
   "version": "3.12.1"
  }
 },
 "nbformat": 4,
 "nbformat_minor": 5
}
