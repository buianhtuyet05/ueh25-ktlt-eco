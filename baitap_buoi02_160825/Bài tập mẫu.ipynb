{
 "cells": [
  {
   "cell_type": "markdown",
   "id": "05a9f81c-a0c1-49f1-9670-fa8e1df81c11",
   "metadata": {},
   "source": [
    "# Bài 1: In chuỗi"
   ]
  },
  {
   "cell_type": "markdown",
   "id": "3933ce19-c93c-478b-ad5e-368d24df82ae",
   "metadata": {},
   "source": [
    "Viết chương trình in ra 2 dòng chữ sau ra màn hình Console: "
   ]
  },
  {
   "cell_type": "markdown",
   "id": "c72a4131-5557-4caf-8e84-c8d8a277c008",
   "metadata": {},
   "source": [
    "\"Whoever is happy will make others happy too\n",
    "--Anne Frank\""
   ]
  },
  {
   "cell_type": "code",
   "execution_count": 2,
   "id": "aab6ef3e-9708-42ac-88ae-221f58dd724a",
   "metadata": {},
   "outputs": [
    {
     "name": "stdout",
     "output_type": "stream",
     "text": [
      "Whoever is happy will make others happy too\n",
      "--Anne Frank\n"
     ]
    }
   ],
   "source": [
    "print(\"Whoever is happy will make others happy too\");\n",
    "print(\"--Anne Frank\");"
   ]
  },
  {
   "cell_type": "markdown",
   "id": "b3d6e6e3-1e69-494f-b863-83e9ea759313",
   "metadata": {},
   "source": [
    "# Bài 2: Biểu thức tính toán"
   ]
  },
  {
   "cell_type": "markdown",
   "id": "c31cd218-088d-4fec-818c-46095dd697b7",
   "metadata": {},
   "source": [
    "Viết chương trình nhập vào hai số nguyên a và b. \n",
    "\n",
    "Hãy tính toán kết quả của các biểu thức sau A+B, AB, A*B, A/B (chia lấy nguyên), A%B (chia lấy dư), A / B (chia lẻ) (làm tròn 2 số lẻ).\n",
    "\n",
    "Khi in ra, kết quả có dạng “A [+,-,*,/,%] B = C”. A được căn lề trái 5, + (bình thường), B căn lề phải 5,\n",
    "dấu = bình thường, C căn lề phải 5."
   ]
  },
  {
   "cell_type": "code",
   "execution_count": 3,
   "id": "fd0522cd-8290-4c6d-8059-b3b8f22ae475",
   "metadata": {},
   "outputs": [
    {
     "name": "stdin",
     "output_type": "stream",
     "text": [
      "Moi ban nhap so a:  5\n",
      "Moi ban nhap so b:  7\n"
     ]
    },
    {
     "name": "stdout",
     "output_type": "stream",
     "text": [
      "Cac ket qua tinh toan: \n",
      "5     +     7 =    12\n",
      "5     -     7 =    -2\n",
      "5     *     7 =    35\n",
      "5     /     7 =     0\n",
      "5     /     7 =     5\n",
      "5     /     7 =  0.71\n"
     ]
    }
   ],
   "source": [
    "# Nhập dữ liệu\n",
    "a = int(input(\"Moi ban nhap so a: \"))\n",
    "b = int(input(\"Moi ban nhap so b: \"))\n",
    "# Xử lý\n",
    "kqCong = a + b\n",
    "kqTru = a - b\n",
    "kqNhan = a * b\n",
    "kqChiaNguyen = a // b\n",
    "kqDu= a % b\n",
    "kqChiaThuc = a / b\n",
    "# Xuất dữ liệu\n",
    "print(\"Cac ket qua tinh toan: \")\n",
    "print(\"%-5d + %5d = %5d\"%(a, b, kqCong))\n",
    "print(\"%-5d - %5d = %5d\"%(a, b, kqTru))\n",
    "print(\"%-5d * %5d = %5d\"%(a, b, kqNhan))\n",
    "print(\"%-5d / %5d = %5d\"%(a, b, kqChiaNguyen))\n",
    "print(\"%-5d / %5d = %5d\"%(a, b, kqDu))\n",
    "print(\"%-5d / %5d = %5.2f\"%(a, b, kqChiaThuc))"
   ]
  },
  {
   "cell_type": "markdown",
   "id": "858528fc-472d-4598-a81f-39395273dbe1",
   "metadata": {},
   "source": [
    "# Bài 3: Biểu thức so sánh"
   ]
  },
  {
   "cell_type": "markdown",
   "id": "c59feb53-1afa-469c-a35e-aa1d916472b2",
   "metadata": {},
   "source": [
    "Viết chương trình nhập vào hai số thực a và b. \n",
    "\n",
    "Hãy viết chương trình ước lượng các biểu thức so sánh\n",
    "A>B, A<B, A>=B, A<=B, A==B, A!=B. \n",
    "\n",
    "Số thực được định dạng có hai số lẻ, có dấu phân cách hàng\n",
    "ngàn."
   ]
  },
  {
   "cell_type": "code",
   "execution_count": 4,
   "id": "8a45a9da-9226-478a-b066-761a37990612",
   "metadata": {},
   "outputs": [
    {
     "name": "stdin",
     "output_type": "stream",
     "text": [
      "Moi ban nhap so a:  8\n",
      "Moi ban nhap so b:  9\n"
     ]
    },
    {
     "name": "stdout",
     "output_type": "stream",
     "text": [
      "Ket qua so sanh hai so thuc 8.00 va 9.00:\n",
      "8.00     <     9.00:     True\n",
      "8.00     <=     9.00:     True\n",
      "8.00     >     9.00:    False\n",
      "8.00     >=     9.00:    False\n",
      "8.00     ==     9.00:    False\n",
      "8.00     !=     9.00:     True\n"
     ]
    }
   ],
   "source": [
    "# Nhập dữ liệu\n",
    "a = float(input(\"Moi ban nhap so a: \"))\n",
    "b = float(input(\"Moi ban nhap so b: \"))\n",
    "# Xử lý\n",
    "laNhoHon = (a < b)\n",
    "laNhoHonBang = (a <= b)\n",
    "laLonHon = (a > b)\n",
    "laLonHonBang = (a >= b)\n",
    "laBang = (a == b)\n",
    "laKhacNhau = (a != b)\n",
    "# Xuất dữ liệu\n",
    "print(\"Ket qua so sanh hai so thuc %.2f va %.2f:\"%(a, b))\n",
    "print(\"%-8.2f < %8.2f: %8s\"%(a, b, laNhoHon))\n",
    "print(\"%-8.2f <= %8.2f: %8s\"%(a, b, laNhoHonBang))\n",
    "print(\"%-8.2f > %8.2f: %8s\"%(a, b, laLonHon))\n",
    "print(\"%-8.2f >= %8.2f: %8s\"%(a, b, laLonHonBang))\n",
    "print(\"%-8.2f == %8.2f: %8s\"%(a, b, laBang))\n",
    "print(\"%-8.2f != %8.2f: %8s\"%(a, b, laKhacNhau))"
   ]
  },
  {
   "cell_type": "markdown",
   "id": "846f5183-17c4-4897-8c02-3aa8a1fbecb6",
   "metadata": {},
   "source": [
    "# Bài 4: Tính giá trị hàm số"
   ]
  },
  {
   "cell_type": "markdown",
   "id": "13928cbe-573f-4cc7-ac0a-c3a4a7f2eb95",
   "metadata": {},
   "source": [
    "Hãy viết chương trình nhập vào số thực x và tính giá trị biểu thức:"
   ]
  },
  {
   "cell_type": "markdown",
   "id": "6558b40a-26ea-47cd-9591-0eef0821e3ea",
   "metadata": {},
   "source": [
    "$$\n",
    "f(x) = x + \\frac{x^5}{5!} + \\frac{\\sqrt{|x|}}{x^{3/2}}\n",
    "$$"
   ]
  },
  {
   "cell_type": "markdown",
   "id": "8af73468-afb6-4dae-8618-bd7933845a7c",
   "metadata": {},
   "source": [
    "Moi ban nhap vao gia tri cua bien so x: 2.3\n",
    "Gia tri cua ham so f(2.30) = 3.27."
   ]
  },
  {
   "cell_type": "code",
   "execution_count": 5,
   "id": "18fb093a-5eea-4180-ae68-7778f19747fb",
   "metadata": {},
   "outputs": [
    {
     "name": "stdin",
     "output_type": "stream",
     "text": [
      "Moi ban nhap vao gia tri cua bien so x:  28\n"
     ]
    },
    {
     "name": "stdout",
     "output_type": "stream",
     "text": [
      "Gia tri cua ham so f(28.00) = 143447.77.\n"
     ]
    }
   ],
   "source": [
    "# Nạp thư viện\n",
    "import math\n",
    "# Nhập dữ liệu\n",
    "x = float(input(\"Moi ban nhap vao gia tri cua bien so x: \"))\n",
    "# Xử lý\n",
    "fx = x + math.pow(x, 5) / (1 * 2 * 3 * 4 * 5) + \\\n",
    "math.sqrt(abs(x)) / math.pow(x, 3.0 / 2)\n",
    "# Xuất dữ liệu\n",
    "print(\"Gia tri cua ham so f(%.2f) = %.2f.\"%(x, fx))"
   ]
  },
  {
   "cell_type": "markdown",
   "id": "2c25a2da-0a95-4f7e-8c63-c5a3f407943f",
   "metadata": {},
   "source": [
    "# Bài 5: Tổng chữ số"
   ]
  },
  {
   "cell_type": "markdown",
   "id": "b0e5c132-024f-419a-9772-510f13cf867a",
   "metadata": {},
   "source": [
    "Moi ban nhap so nguyen n (co bon chu so): 1234\n",
    "1234 = 1 + 2 + 3 + 4 = 10."
   ]
  },
  {
   "cell_type": "code",
   "execution_count": 6,
   "id": "800c1281-dff8-499a-9357-3d7214497ffe",
   "metadata": {},
   "outputs": [
    {
     "name": "stdin",
     "output_type": "stream",
     "text": [
      "Moi ban nhap vao gia tri cua bien so x:  28\n"
     ]
    },
    {
     "name": "stdout",
     "output_type": "stream",
     "text": [
      "Gia tri cua ham so f(28.00) = 143447.77.\n"
     ]
    }
   ],
   "source": [
    "# Nạp thư viện\n",
    "import math\n",
    "# Nhập dữ liệu\n",
    "x = float(input(\"Moi ban nhap vao gia tri cua bien so x: \"))\n",
    "# Xử lý\n",
    "fx = x + math.pow(x, 5) / (1 * 2 * 3 * 4 * 5) + \\\n",
    "math.sqrt(abs(x)) / math.pow(x, 3.0 / 2)\n",
    "# Xuất dữ liệu\n",
    "print(\"Gia tri cua ham so f(%.2f) = %.2f.\"%(x, fx))"
   ]
  },
  {
   "cell_type": "code",
   "execution_count": null,
   "id": "ee15474f-0cc8-4e69-9074-e5e8ba6ad6f6",
   "metadata": {},
   "outputs": [],
   "source": []
  }
 ],
 "metadata": {
  "kernelspec": {
   "display_name": "Python 3 (ipykernel)",
   "language": "python",
   "name": "python3"
  },
  "language_info": {
   "codemirror_mode": {
    "name": "ipython",
    "version": 3
   },
   "file_extension": ".py",
   "mimetype": "text/x-python",
   "name": "python",
   "nbconvert_exporter": "python",
   "pygments_lexer": "ipython3",
   "version": "3.12.1"
  }
 },
 "nbformat": 4,
 "nbformat_minor": 5
}
